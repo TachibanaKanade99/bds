{
 "cells": [
  {
   "cell_type": "code",
   "execution_count": 37,
   "id": "supposed-helicopter",
   "metadata": {
    "scrolled": false
   },
   "outputs": [
    {
     "name": "stdout",
     "output_type": "stream",
     "text": [
      "    area  price         street          ward    district\n",
      "0   80.0   1.60  Trần Văn Giàu  Phạm Văn Hai  Bình Chánh\n",
      "1   80.0   1.35  Trần Văn Giàu  Phạm Văn Hai  Bình Chánh\n",
      "2   95.0   2.25  Trần Văn Giàu  Phạm Văn Hai  Bình Chánh\n",
      "3  130.0   1.95  Trần Văn Giàu  Phạm Văn Hai  Bình Chánh\n",
      "4  500.0   3.75  Trần Văn Giàu  Phạm Văn Hai  Bình Chánh\n",
      "Data length:  123\n"
     ]
    },
    {
     "data": {
      "image/png": "[encoded data removed]",
      "text/plain": [
       "<Figure size 432x288 with 1 Axes>"
      ]
     },
     "metadata": {
      "needs_background": "light"
     },
     "output_type": "display_data"
    },
    {
     "name": "stdout",
     "output_type": "stream",
     "text": [
      "Linear Regression training model score:  0.6737723204151351\n"
     ]
    }
   ],
   "source": [
    "import psycopg2\n",
    "import pandas as pd\n",
    "import numpy as np\n",
    "import matplotlib.pyplot as plt\n",
    "from sklearn.model_selection import train_test_split\n",
    "from sklearn import linear_model\n",
    "\n",
    "def getData():\n",
    "    street = 'Trần Văn Giàu'\n",
    "    ward = 'Phạm Văn Hai'\n",
    "    district = 'Bình Chánh'\n",
    "    \n",
    "    conn = psycopg2.connect(database=\"real_estate_data\", user=\"postgres\", password=\"361975Warcraft\")\n",
    "    # cur = conn.cursor()\n",
    "    query = \"\"\"\n",
    "        SELECT area, price, street, ward, district\n",
    "        FROM bds_realestatedata \n",
    "        WHERE\n",
    "            post_type = 'Bán đất' AND\n",
    "            area IS NOT NULL AND\n",
    "            price IS NOT NULL AND\n",
    "            street = '{street}' AND\n",
    "            ward = '{ward}' AND\n",
    "            district = '{district}';\n",
    "    \"\"\".format(street=street, ward=ward, district=district)\n",
    "    # cur.execute(query)\n",
    "    # data = cur.fetchall()\n",
    "    data = pd.read_sql_query(query, con=conn)\n",
    "    return data\n",
    "\n",
    "data = getData()\n",
    "print(data.head())\n",
    "print(\"Data length: \", len(data))\n",
    "\n",
    "# convert to array:\n",
    "# area = np.array(data['area'])\n",
    "# price = np.array(data['price'])\n",
    "# plt.scatter(area, price, marker='o')\n",
    "# plt.show()\n",
    "\n",
    "if data is not None:\n",
    "    # Selection few attributes\n",
    "    attributes = list(\n",
    "        [\n",
    "            'area',\n",
    "        ]\n",
    "    )\n",
    "    \n",
    "    # Vector attributes of lands\n",
    "    X = data[attributes]\n",
    "    # Vector price of land\n",
    "    Y = data['price']\n",
    "    \n",
    "    # Convert into arr:\n",
    "    X = np.array(X)\n",
    "    Y = np.array(Y)\n",
    "    \n",
    "    # plt.plot(Y)\n",
    "    # plt.show()\n",
    "    \n",
    "    # Split data to training test and testing test\n",
    "    # training data : testing data = 80 : 20\n",
    "    X_train, X_test, Y_train, Y_test = train_test_split(X, Y, test_size=0.2)\n",
    "\n",
    "# Linear Regression Model:\n",
    "def linearRegressionModel(X_train, Y_train, X_test, Y_test):\n",
    "    model = linear_model.LinearRegression()\n",
    "\n",
    "    # Training process\n",
    "    model.fit(X_train, Y_train)\n",
    "    \n",
    "    # Evaluating the model\n",
    "    yfit = model.predict(X_test)\n",
    "    plt.scatter(X_train, Y_train, marker='o')\n",
    "    plt.plot(X_test, yfit)\n",
    "    plt.show()\n",
    "    \n",
    "    score_trained = model.score(X_test, Y_test)\n",
    "\n",
    "    return score_trained\n",
    "\n",
    "# Lasso Model:\n",
    "def lassoRegressionModel(X_train, Y_train, X_test, Y_test):\n",
    "    model = linear_model.Lasso(alpha=1.0)\n",
    "\n",
    "    # Training process:\n",
    "    model.fit(X_train, Y_train)\n",
    "\n",
    "    # Evaluation the model:\n",
    "    score_trained = model.score(X_test, Y_test)\n",
    "    \n",
    "    return score_trained\n",
    "\n",
    "print(\"Linear Regression training model score: \", linearRegressionModel(X_train, Y_train, X_test, Y_test))\n",
    "# print(\"Lasso Regression training model score: \", lassoRegressionModel(X_train, Y_train, X_test, Y_test))"
   ]
  },
  {
   "cell_type": "code",
   "execution_count": 41,
   "id": "relevant-drill",
   "metadata": {},
   "outputs": [
    {
     "name": "stdout",
     "output_type": "stream",
     "text": [
      "   area  price       street ward district\n",
      "0  80.0   5.10  Quang Trung   10   Gò Vấp\n",
      "1  24.0   2.90  Quang Trung   10   Gò Vấp\n",
      "2  82.0   5.00  Quang Trung   10   Gò Vấp\n",
      "3  30.0   3.20  Quang Trung   10   Gò Vấp\n",
      "4  25.0   2.75  Quang Trung   10   Gò Vấp\n",
      "Data length:  77\n"
     ]
    },
    {
     "data": {
      "image/png": "[encoded data removed]",
      "text/plain": [
       "<Figure size 432x288 with 1 Axes>"
      ]
     },
     "metadata": {
      "needs_background": "light"
     },
     "output_type": "display_data"
    },
    {
     "name": "stdout",
     "output_type": "stream",
     "text": [
      "Linear Regression training model score:  0.6606288062088039\n"
     ]
    }
   ],
   "source": [
    "import psycopg2\n",
    "import pandas as pd\n",
    "import numpy as np\n",
    "import matplotlib.pyplot as plt\n",
    "from sklearn.model_selection import train_test_split\n",
    "from sklearn import linear_model\n",
    "\n",
    "def getData():\n",
    "    street = 'Quang Trung'\n",
    "    ward = '10'\n",
    "    district = 'Gò Vấp'\n",
    "    \n",
    "    conn = psycopg2.connect(database=\"real_estate_data\", user=\"postgres\", password=\"361975Warcraft\")\n",
    "    # cur = conn.cursor()\n",
    "    query = \"\"\"\n",
    "        SELECT area, price, street, ward, district\n",
    "        FROM bds_realestatedata \n",
    "        WHERE\n",
    "            post_type = 'Bán nhà riêng' AND\n",
    "            area IS NOT NULL AND\n",
    "            price IS NOT NULL AND\n",
    "            street = '{street}' AND\n",
    "            ward = '{ward}' AND\n",
    "            district = '{district}';\n",
    "    \"\"\".format(street=street, ward=ward, district=district)\n",
    "    # cur.execute(query)\n",
    "    # data = cur.fetchall()\n",
    "    data = pd.read_sql_query(query, con=conn)\n",
    "    return data\n",
    "\n",
    "data = getData()\n",
    "print(data.head())\n",
    "print(\"Data length: \", len(data))\n",
    "\n",
    "# convert to array:\n",
    "# area = np.array(data['area'])\n",
    "# price = np.array(data['price'])\n",
    "# plt.scatter(area, price, marker='o')\n",
    "# plt.show()\n",
    "\n",
    "if data is not None:\n",
    "    # Selection few attributes\n",
    "    attributes = list(\n",
    "        [\n",
    "            'area',\n",
    "        ]\n",
    "    )\n",
    "    \n",
    "    # Vector attributes of lands\n",
    "    X = data[attributes]\n",
    "    # Vector price of land\n",
    "    Y = data['price']\n",
    "    \n",
    "    # Convert into arr:\n",
    "    X = np.array(X)\n",
    "    Y = np.array(Y)\n",
    "    \n",
    "    # plt.plot(Y)\n",
    "    # plt.show()\n",
    "    \n",
    "    # Split data to training test and testing test\n",
    "    # training data : testing data = 80 : 20\n",
    "    X_train, X_test, Y_train, Y_test = train_test_split(X, Y, test_size=0.2)\n",
    "\n",
    "# Linear Regression Model:\n",
    "def linearRegressionModel(X_train, Y_train, X_test, Y_test):\n",
    "    model = linear_model.LinearRegression()\n",
    "\n",
    "    # Training process\n",
    "    model.fit(X_train, Y_train)\n",
    "    \n",
    "    # Evaluating the model\n",
    "    yfit = model.predict(X_test)\n",
    "    plt.scatter(X_train, Y_train, marker='o')\n",
    "    plt.plot(X_test, yfit)\n",
    "    plt.show()\n",
    "    \n",
    "    score_trained = model.score(X_test, Y_test)\n",
    "\n",
    "    return score_trained\n",
    "\n",
    "# Lasso Model:\n",
    "def lassoRegressionModel(X_train, Y_train, X_test, Y_test):\n",
    "    model = linear_model.Lasso(alpha=1.0)\n",
    "\n",
    "    # Training process:\n",
    "    model.fit(X_train, Y_train)\n",
    "\n",
    "    # Evaluation the model:\n",
    "    score_trained = model.score(X_test, Y_test)\n",
    "    \n",
    "    return score_trained\n",
    "\n",
    "print(\"Linear Regression training model score: \", linearRegressionModel(X_train, Y_train, X_test, Y_test))\n",
    "# print(\"Lasso Regression training model score: \", lassoRegressionModel(X_train, Y_train, X_test, Y_test))"
   ]
  },
  {
   "cell_type": "code",
   "execution_count": null,
   "id": "scientific-whale",
   "metadata": {},
   "outputs": [],
   "source": []
  },
  {
   "cell_type": "code",
   "execution_count": null,
   "id": "norman-wheel",
   "metadata": {},
   "outputs": [],
   "source": []
  }
 ],
 "metadata": {
  "kernelspec": {
   "display_name": "Python 3",
   "language": "python",
   "name": "python3"
  },
  "language_info": {
   "codemirror_mode": {
    "name": "ipython",
    "version": 3
   },
   "file_extension": ".py",
   "mimetype": "text/x-python",
   "name": "python",
   "nbconvert_exporter": "python",
   "pygments_lexer": "ipython3",
   "version": "3.8.5"
  }
 },
 "nbformat": 4,
 "nbformat_minor": 5
}
