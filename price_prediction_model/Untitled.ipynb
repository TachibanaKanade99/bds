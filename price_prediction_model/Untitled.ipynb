{
 "cells": [
  {
   "cell_type": "code",
   "execution_count": 87,
   "id": "supposed-helicopter",
   "metadata": {
    "scrolled": false
   },
   "outputs": [
    {
     "name": "stdout",
     "output_type": "stream",
     "text": [
      "Model coefficient:  [[0.00142116]]\n",
      "Model intercept  [2.56321035]\n"
     ]
    },
    {
     "data": {
      "image/png": "[encoded data removed]",
      "text/plain": [
       "<Figure size 432x288 with 1 Axes>"
      ]
     },
     "metadata": {
      "needs_background": "light"
     },
     "output_type": "display_data"
    },
    {
     "name": "stdout",
     "output_type": "stream",
     "text": [
      "Root Mean Square Error:  2.0055024218308093\n",
      "\n",
      "\n",
      "After using polynomial regression with degree = 2: \n",
      "Model coefficient:  [[ 0.00000000e+00  4.97671980e-02 -4.50829386e-05]]\n",
      "Model intercept  [-1.63461191]\n"
     ]
    },
    {
     "data": {
      "image/png": "[encoded data removed]",
      "text/plain": [
       "<Figure size 432x288 with 1 Axes>"
      ]
     },
     "metadata": {
      "needs_background": "light"
     },
     "output_type": "display_data"
    },
    {
     "name": "stdout",
     "output_type": "stream",
     "text": [
      "Root Mean Square Error:  1.3676086351410741\n"
     ]
    }
   ],
   "source": [
    "from numpy.lib import polynomial\n",
    "import psycopg2\n",
    "import pandas as pd\n",
    "import numpy as np\n",
    "import matplotlib.pyplot as plt\n",
    "from sklearn.model_selection import train_test_split\n",
    "from sklearn import linear_model\n",
    "from sklearn.metrics import mean_squared_error\n",
    "from sklearn.preprocessing import PolynomialFeatures\n",
    "\n",
    "def getData(post_type, street, ward, district):\n",
    "    \n",
    "    conn = psycopg2.connect(database=\"real_estate_data\", user=\"postgres\", password=\"361975Warcraft\")\n",
    "    # cur = conn.cursor()\n",
    "    query = \"\"\"\n",
    "        SELECT area, price, street, ward, district\n",
    "        FROM bds_realestatedata \n",
    "        WHERE\n",
    "            post_type = '{}' AND\n",
    "            area IS NOT NULL AND\n",
    "            price IS NOT NULL AND\n",
    "            street = '{}' AND\n",
    "            ward = '{}' AND\n",
    "            district = '{}';\n",
    "    \"\"\".format(post_type, street, ward, district)\n",
    "    \n",
    "    # cur.execute(query)\n",
    "    # data = cur.fetchall()\n",
    "    data = pd.read_sql_query(query, con=conn)\n",
    "\n",
    "    return prepareData(data)\n",
    "#     return data\n",
    "\n",
    "def prepareData(data):\n",
    "\n",
    "#     data.drop_duplicates(subset='area', keep='first', inplace=True)\n",
    "\n",
    "    # use percentiles to remove outliers:\n",
    "    area_upper_bound = data['area'].quantile(0.95)\n",
    "    area_lower_bound = data['area'].quantile(0.05)\n",
    "    price_upper_bound = data['price'].quantile(0.95)\n",
    "    price_lower_bound = data['price'].quantile(0.05)\n",
    "\n",
    "    data = data[\n",
    "        (data['area'] < area_upper_bound) &\n",
    "        (data['area'] > area_lower_bound) &\n",
    "        (data['price'] < price_upper_bound) &\n",
    "        (data['price'] > price_lower_bound)\n",
    "    ]\n",
    "\n",
    "    # Use log transformation to scale data:\n",
    "\n",
    "#     log_transform_area = (data['area']+1).transform(np.log)\n",
    "#     log_transform_price = (data['price']+1).transform(np.log)\n",
    "#     log_transform_data = pd.DataFrame({'area': log_transform_area, 'price': log_transform_price, 'street': data['street'], 'ward': data['ward'], 'district': data['district']})\n",
    "\n",
    "#     print(\"--------------------------------------------------------\")\n",
    "#     print(log_transform_data.head())\n",
    "#     print(\"--------------------------------------------------------\")\n",
    "#     print(\"Log Transformation Data length: \", len(log_transform_data))\n",
    "\n",
    "#     return log_transform_data\n",
    "    return data\n",
    "\n",
    "def convertData(data):\n",
    "    # Selection few attributes\n",
    "    attributes = ['area',]\n",
    "    predict_val = ['price']\n",
    "    \n",
    "    # Vector attributes of lands\n",
    "    X = data[attributes]\n",
    "    # Vector price of land\n",
    "    Y = data[predict_val]\n",
    "    \n",
    "    # Convert into arr:\n",
    "    X = np.array(X)\n",
    "    Y = np.array(Y)\n",
    "    \n",
    "    # Split data to training test and testing test\n",
    "#     training data : testing data = 80 : 20\n",
    "#     X_train, X_test, Y_train, Y_test = train_test_split(X, Y, test_size=0.2)\n",
    "    \n",
    "#     return X_train, X_test, Y_train, Y_test\n",
    "    return X, Y\n",
    "\n",
    "# Linear Regression Model:\n",
    "def linearRegressionModel(X, Y):\n",
    "    model = linear_model.LinearRegression()\n",
    "\n",
    "    # Training process\n",
    "    model.fit(X, Y)\n",
    "    \n",
    "    # return model coefficient, intercept:\n",
    "    return model\n",
    "\n",
    "# Polynomial Regression:\n",
    "def polynomialRegression(X, Y, degree):\n",
    "    polynomial_features = PolynomialFeatures(degree=degree)\n",
    "    X_poly = polynomial_features.fit_transform(X)\n",
    "\n",
    "    # calc linear regression again:\n",
    "    poly_model = linearRegressionModel(X_poly, Y)\n",
    "    return poly_model, X_poly\n",
    "\n",
    "# Data:\n",
    "post_type = 'Bán đất'\n",
    "street = 'Vĩnh Lộc'\n",
    "ward = 'Vĩnh Lộc B'\n",
    "district = 'Bình Chánh'\n",
    "\n",
    "data = getData(post_type, street, ward, district)\n",
    "X, Y = convertData(data)\n",
    "\n",
    "model = linearRegressionModel(X, Y)\n",
    "model_coef = model.coef_\n",
    "model_intercept = model.intercept_\n",
    "Y_pred = model.predict(X)\n",
    "\n",
    "\"\"\" \n",
    "y = ax1 + b\n",
    "[a] is coefficient\n",
    "b is intercept\n",
    "\"\"\"\n",
    "\n",
    "print(\"Model coefficient: \", model_coef)\n",
    "print(\"Model intercept \", model_intercept)\n",
    "# print(\"Model: y = {coef}x + {intercept}\".format(coef=model_coef[0], intercept=model_intercept))\n",
    "\n",
    "# Plot model:\n",
    "plt.scatter(X, Y)\n",
    "# plt.plot(X, model_coef*X + model_intercept, color='y')\n",
    "plt.plot(X, Y_pred, color='y')\n",
    "plt.show()\n",
    "\n",
    "# Find root mean square error of model between Y_predict and Y\n",
    "rmse = np.sqrt(mean_squared_error(Y, Y_pred))\n",
    "print(\"Root Mean Square Error: \", rmse)\n",
    "\n",
    "# Call polynomial regression\n",
    "degree = 2\n",
    "poly_model, X_poly = polynomialRegression(X, Y, degree)\n",
    "poly_model_coef = poly_model.coef_\n",
    "poly_model_intercept = poly_model.intercept_\n",
    "Y_poly_pred = poly_model.predict(X_poly)\n",
    "\n",
    "print(\"\\n\\nAfter using polynomial regression with degree = {}: \".format(degree))\n",
    "\n",
    "print(\"Model coefficient: \", poly_model_coef)\n",
    "print(\"Model intercept \", poly_model_intercept)\n",
    "# print(\"Model: y = {} + {}x + {}x^2 + {}\".format(model_coef[0], model_coef[1], model_coef[2], model_intercept))\n",
    "\n",
    "# Plot model:\n",
    "plt.scatter(X, Y)\n",
    "# plt.plot(X, model_coef[0] + model_coef[1]*X + model_coef[2]*pow(X, 2) + model_intercept, color='g')\n",
    "plt.plot(X, Y_poly_pred, color='g')\n",
    "plt.show()\n",
    "\n",
    "# Find root mean square error of model between Y_predict and Y\n",
    "rmse = np.sqrt(mean_squared_error(Y, Y_poly_pred))\n",
    "print(\"Root Mean Square Error: \", rmse)"
   ]
  },
  {
   "cell_type": "code",
   "execution_count": null,
   "id": "possible-carolina",
   "metadata": {},
   "outputs": [],
   "source": []
  }
 ],
 "metadata": {
  "kernelspec": {
   "display_name": "Python 3",
   "language": "python",
   "name": "python3"
  },
  "language_info": {
   "codemirror_mode": {
    "name": "ipython",
    "version": 3
   },
   "file_extension": ".py",
   "mimetype": "text/x-python",
   "name": "python",
   "nbconvert_exporter": "python",
   "pygments_lexer": "ipython3",
   "version": "3.8.5"
  }
 },
 "nbformat": 4,
 "nbformat_minor": 5
}
