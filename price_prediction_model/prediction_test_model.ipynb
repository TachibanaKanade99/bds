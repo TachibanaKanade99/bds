{
 "cells": [
  {
   "cell_type": "code",
   "execution_count": 380,
   "id": "muslim-louisville",
   "metadata": {},
   "outputs": [],
   "source": [
    "from matplotlib import pyplot as plt\n",
    "import numpy as np\n",
    "import pandas as pd\n",
    "from sklearn.model_selection import train_test_split\n",
    "from sklearn.preprocessing import PowerTransformer, QuantileTransformer, FunctionTransformer, RobustScaler, StandardScaler\n",
    "from sklearn.metrics import mean_squared_error\n",
    "from sklearn.model_selection import cross_val_score\n",
    "\n",
    "from models.prepareData import getData, convertData, calcMinimumMaximum\n",
    "from models.models import linearRegressionModel, PolynomialFeatures, polynomialRegression"
   ]
  },
  {
   "cell_type": "code",
   "execution_count": 381,
   "id": "clean-thinking",
   "metadata": {},
   "outputs": [],
   "source": [
    "# data = getData('Bán căn hộ chung cư', 'Nguyễn Hữu Thọ', 'Phước Kiển', 'Nhà Bè')\n",
    "# data = getData('Bán căn hộ chung cư', 'Nguyễn Hữu Cảnh', '22', 'Bình Thạnh')\n",
    "# data = getData('Bán đất', 'Trần Văn Giàu', 'Lê Minh Xuân', 'Bình Chánh')\n",
    "# data = getData('Bán đất', 'Vườn Lài', 'An Phú Đông', '12')\n",
    "# data = getData('Bán nhà riêng', 'Quốc Lộ 13', 'Hiệp Bình Phước', 'Thủ Đức')\n",
    "# data = getData('Bán nhà riêng', 'Phạm Văn Chiêu', '9', 'Gò Vấp')\n",
    "# data = getData('Bán nhà riêng', 'Nguyễn Văn Quá', 'Đông Hưng Thuận', '12')\n",
    "# data = getData('Bán nhà riêng', 'Quốc Lộ 13', 'Hiệp Bình Phước', 'Thủ Đức')\n",
    "data = getData('Bán đất', 'Nguyễn Thị Rành', 'Nhuận Đức', 'Củ Chi')"
   ]
  },
  {
   "cell_type": "code",
   "execution_count": 382,
   "id": "raising-mentor",
   "metadata": {},
   "outputs": [],
   "source": [
    "post_type = data['post_type'].iloc[0]\n",
    "street = data['street'].iloc[0]\n",
    "ward = data['ward'].iloc[0]\n",
    "district = data['district'].iloc[0]"
   ]
  },
  {
   "cell_type": "code",
   "execution_count": 383,
   "id": "mounted-european",
   "metadata": {},
   "outputs": [
    {
     "name": "stdout",
     "output_type": "stream",
     "text": [
      "Data length:  190\n"
     ]
    }
   ],
   "source": [
    "print(\"Data length: \", len(data))"
   ]
  },
  {
   "cell_type": "code",
   "execution_count": 384,
   "id": "patient-valentine",
   "metadata": {},
   "outputs": [
    {
     "data": {
      "image/png": "[encoded data removed]",
      "text/plain": [
       "<Figure size 432x288 with 1 Axes>"
      ]
     },
     "metadata": {
      "needs_background": "light"
     },
     "output_type": "display_data"
    }
   ],
   "source": [
    "plt.scatter(data['area'], data['price'])\n",
    "plt.show()"
   ]
  },
  {
   "cell_type": "code",
   "execution_count": 385,
   "id": "excellent-lightweight",
   "metadata": {},
   "outputs": [],
   "source": [
    "# preprocess data:\n",
    "\n",
    "# sort data in post_date order to drop old data has same area:\n",
    "# data = data.sort_values(by=['posted_date'])\n",
    "\n",
    "# Drop duplicates:    \n",
    "# data = data.drop_duplicates(subset='area', keep='last', inplace=False)\n",
    "\n",
    "# Instead of drop duplicates try calc and use its mean value:\n",
    "data = data.groupby(['area'], as_index=False).mean()\n",
    "\n",
    "# sort data in area order:\n",
    "data = data.sort_values(by=['area'])"
   ]
  },
  {
   "cell_type": "code",
   "execution_count": 386,
   "id": "soviet-interview",
   "metadata": {
    "scrolled": true
   },
   "outputs": [
    {
     "data": {
      "text/html": [
       "<div>\n",
       "<style scoped>\n",
       "    .dataframe tbody tr th:only-of-type {\n",
       "        vertical-align: middle;\n",
       "    }\n",
       "\n",
       "    .dataframe tbody tr th {\n",
       "        vertical-align: top;\n",
       "    }\n",
       "\n",
       "    .dataframe thead th {\n",
       "        text-align: right;\n",
       "    }\n",
       "</style>\n",
       "<table border=\"1\" class=\"dataframe\">\n",
       "  <thead>\n",
       "    <tr style=\"text-align: right;\">\n",
       "      <th></th>\n",
       "      <th>area</th>\n",
       "      <th>price</th>\n",
       "    </tr>\n",
       "  </thead>\n",
       "  <tbody>\n",
       "    <tr>\n",
       "      <th>0</th>\n",
       "      <td>125.0</td>\n",
       "      <td>1.3900</td>\n",
       "    </tr>\n",
       "    <tr>\n",
       "      <th>1</th>\n",
       "      <td>150.0</td>\n",
       "      <td>1.0000</td>\n",
       "    </tr>\n",
       "    <tr>\n",
       "      <th>2</th>\n",
       "      <td>207.0</td>\n",
       "      <td>2.5000</td>\n",
       "    </tr>\n",
       "    <tr>\n",
       "      <th>3</th>\n",
       "      <td>355.0</td>\n",
       "      <td>0.7350</td>\n",
       "    </tr>\n",
       "    <tr>\n",
       "      <th>4</th>\n",
       "      <td>408.0</td>\n",
       "      <td>3.2000</td>\n",
       "    </tr>\n",
       "    <tr>\n",
       "      <th>...</th>\n",
       "      <td>...</td>\n",
       "      <td>...</td>\n",
       "    </tr>\n",
       "    <tr>\n",
       "      <th>82</th>\n",
       "      <td>6178.0</td>\n",
       "      <td>8.4800</td>\n",
       "    </tr>\n",
       "    <tr>\n",
       "      <th>83</th>\n",
       "      <td>6300.0</td>\n",
       "      <td>6.1000</td>\n",
       "    </tr>\n",
       "    <tr>\n",
       "      <th>84</th>\n",
       "      <td>6350.0</td>\n",
       "      <td>2.0000</td>\n",
       "    </tr>\n",
       "    <tr>\n",
       "      <th>85</th>\n",
       "      <td>11000.0</td>\n",
       "      <td>20.3500</td>\n",
       "    </tr>\n",
       "    <tr>\n",
       "      <th>86</th>\n",
       "      <td>12856.0</td>\n",
       "      <td>46.2816</td>\n",
       "    </tr>\n",
       "  </tbody>\n",
       "</table>\n",
       "<p>87 rows × 2 columns</p>\n",
       "</div>"
      ],
      "text/plain": [
       "       area    price\n",
       "0     125.0   1.3900\n",
       "1     150.0   1.0000\n",
       "2     207.0   2.5000\n",
       "3     355.0   0.7350\n",
       "4     408.0   3.2000\n",
       "..      ...      ...\n",
       "82   6178.0   8.4800\n",
       "83   6300.0   6.1000\n",
       "84   6350.0   2.0000\n",
       "85  11000.0  20.3500\n",
       "86  12856.0  46.2816\n",
       "\n",
       "[87 rows x 2 columns]"
      ]
     },
     "execution_count": 386,
     "metadata": {},
     "output_type": "execute_result"
    }
   ],
   "source": [
    "data"
   ]
  },
  {
   "cell_type": "code",
   "execution_count": 387,
   "id": "equal-grade",
   "metadata": {},
   "outputs": [],
   "source": [
    "area_mean = np.mean(data['area'])\n",
    "area_std = np.std(data['area'])\n",
    "\n",
    "price_mean = np.mean(data['price'])\n",
    "price_std = np.std(data['price'])\n",
    "\n",
    "data = data[~(data['area'] < 10)]\n",
    "data = data[~(data['price'] > 200)]\n",
    "\n",
    "data = data[~( (data['area'] < area_mean) & (data['price'] > price_mean) )]\n",
    "data = data[~( (data['area'] > area_mean) & (data['price'] < price_mean - price_std) )]"
   ]
  },
  {
   "cell_type": "code",
   "execution_count": 388,
   "id": "given-oakland",
   "metadata": {},
   "outputs": [],
   "source": [
    "data['area'] = (data['area']).transform(np.log1p)\n",
    "data['price'] = (data['price']).transform(np.log1p)"
   ]
  },
  {
   "cell_type": "code",
   "execution_count": 389,
   "id": "animated-regulation",
   "metadata": {},
   "outputs": [
    {
     "name": "stdout",
     "output_type": "stream",
     "text": [
      "Data length:  82\n"
     ]
    }
   ],
   "source": [
    "print(\"Data length: \", len(data))"
   ]
  },
  {
   "cell_type": "code",
   "execution_count": 390,
   "id": "legitimate-median",
   "metadata": {},
   "outputs": [],
   "source": [
    "# # remove outliers using box-plot:\n",
    "# while True:\n",
    "#     area_minimum, area_maximum = calcMinimumMaximum(data['area'])\n",
    "#     if (data['area'] > area_minimum).all() and (data['area'] < area_maximum).all():\n",
    "#         break\n",
    "#     else:\n",
    "#         data = data[(data['area'] > area_minimum) & (data['area'] < area_maximum)]\n",
    "\n",
    "# while True:\n",
    "#     price_minimum, price_maximum = calcMinimumMaximum(data['price'])\n",
    "#     if (data['price'] > price_minimum).all() and (data['price'] < price_maximum).all():\n",
    "#         break\n",
    "#     else:\n",
    "#         data = data[(data['price'] > price_minimum) & (data['price'] < price_maximum)]"
   ]
  },
  {
   "cell_type": "code",
   "execution_count": 391,
   "id": "median-nicholas",
   "metadata": {},
   "outputs": [
    {
     "name": "stdout",
     "output_type": "stream",
     "text": [
      "Data length:  82\n"
     ]
    }
   ],
   "source": [
    "print(\"Data length: \", len(data))"
   ]
  },
  {
   "cell_type": "code",
   "execution_count": 392,
   "id": "focused-integer",
   "metadata": {},
   "outputs": [
    {
     "data": {
      "image/png": "[encoded data removed]",
      "text/plain": [
       "<Figure size 432x288 with 1 Axes>"
      ]
     },
     "metadata": {
      "needs_background": "light"
     },
     "output_type": "display_data"
    }
   ],
   "source": [
    "data['area'].plot(kind='box')\n",
    "plt.show()"
   ]
  },
  {
   "cell_type": "code",
   "execution_count": 393,
   "id": "specific-watch",
   "metadata": {
    "scrolled": true
   },
   "outputs": [
    {
     "data": {
      "image/png": "[encoded data removed]",
      "text/plain": [
       "<Figure size 432x288 with 1 Axes>"
      ]
     },
     "metadata": {
      "needs_background": "light"
     },
     "output_type": "display_data"
    }
   ],
   "source": [
    "data['price'].plot(kind='box')\n",
    "plt.show()"
   ]
  },
  {
   "cell_type": "code",
   "execution_count": 394,
   "id": "flexible-tradition",
   "metadata": {},
   "outputs": [
    {
     "data": {
      "text/plain": [
       "count    82.000000\n",
       "mean      0.986197\n",
       "std       0.629057\n",
       "min       0.300105\n",
       "25%       0.648834\n",
       "50%       0.753703\n",
       "75%       1.077767\n",
       "max       3.856121\n",
       "Name: price, dtype: float64"
      ]
     },
     "execution_count": 394,
     "metadata": {},
     "output_type": "execute_result"
    }
   ],
   "source": [
    "data['price'].describe()"
   ]
  },
  {
   "cell_type": "code",
   "execution_count": 395,
   "id": "available-attention",
   "metadata": {},
   "outputs": [
    {
     "data": {
      "text/plain": [
       "count    82.000000\n",
       "mean      6.808679\n",
       "std       0.835946\n",
       "min       4.836282\n",
       "25%       6.341240\n",
       "50%       6.501289\n",
       "75%       7.073523\n",
       "max       9.461644\n",
       "Name: area, dtype: float64"
      ]
     },
     "execution_count": 395,
     "metadata": {},
     "output_type": "execute_result"
    }
   ],
   "source": [
    "data['area'].describe()"
   ]
  },
  {
   "cell_type": "code",
   "execution_count": 396,
   "id": "deluxe-arthritis",
   "metadata": {},
   "outputs": [
    {
     "name": "stdout",
     "output_type": "stream",
     "text": [
      "Data length:  82\n"
     ]
    }
   ],
   "source": [
    "print(\"Data length: \", len(data))"
   ]
  },
  {
   "cell_type": "code",
   "execution_count": 397,
   "id": "abstract-bermuda",
   "metadata": {},
   "outputs": [
    {
     "data": {
      "image/png": "[encoded data removed]",
      "text/plain": [
       "<Figure size 432x288 with 1 Axes>"
      ]
     },
     "metadata": {
      "needs_background": "light"
     },
     "output_type": "display_data"
    }
   ],
   "source": [
    "plt.scatter(data['area'], data['price'])\n",
    "plt.show()"
   ]
  },
  {
   "cell_type": "code",
   "execution_count": 398,
   "id": "fuzzy-sender",
   "metadata": {},
   "outputs": [],
   "source": [
    "# divide data into train and test:\n",
    "train_data, test_data = train_test_split(data, test_size=0.4)\n",
    "test_data, validate_data = train_test_split(test_data, test_size=0.5)"
   ]
  },
  {
   "cell_type": "code",
   "execution_count": 399,
   "id": "interior-estate",
   "metadata": {},
   "outputs": [
    {
     "name": "stdout",
     "output_type": "stream",
     "text": [
      "\n",
      "Train data length:  49\n",
      "Test data length:  16\n",
      "Validate data length:  17\n"
     ]
    }
   ],
   "source": [
    "# Sort data by area column:\n",
    "train_data = train_data.sort_values(by=['area'])\n",
    "test_data = test_data.sort_values(by=['area'])\n",
    "validate_data = validate_data.sort_values(by=['area'])\n",
    "\n",
    "print(\"\\nTrain data length: \", len(train_data))\n",
    "print(\"Test data length: \", len(test_data))\n",
    "print(\"Validate data length: \", len(validate_data))"
   ]
  },
  {
   "cell_type": "code",
   "execution_count": 400,
   "id": "ranking-madonna",
   "metadata": {},
   "outputs": [],
   "source": [
    "# # convert data into numpy\n",
    "X, Y = convertData(data)\n",
    "X_train, Y_train = convertData(train_data)\n",
    "X_test, Y_test = convertData(test_data)\n",
    "X_validate, Y_validate = convertData(validate_data)"
   ]
  },
  {
   "cell_type": "code",
   "execution_count": 401,
   "id": "funded-insertion",
   "metadata": {},
   "outputs": [],
   "source": [
    "# Local Outlier Factor:\n",
    "# from sklearn.neighbors import LocalOutlierFactor\n",
    "\n",
    "# lof = LocalOutlierFactor(n_neighbors=5, p=2)\n",
    "# predict = lof.fit_predict()\n",
    "# mask = predict != -1\n",
    "# data['price'] = data[price][Y_mask, :]"
   ]
  },
  {
   "cell_type": "code",
   "execution_count": 402,
   "id": "exempt-relation",
   "metadata": {},
   "outputs": [],
   "source": [
    "# scale data:\n",
    "\n",
    "# Standard Scaler:\n",
    "\n",
    "# X = StandardScaler().fit_transform(X)\n",
    "# Y = StandardScaler().fit_transform(Y)\n",
    "\n",
    "# X_train = StandardScaler().fit_transform(X_train)\n",
    "# Y_train = StandardScaler().fit_transform(Y_train)\n",
    "\n",
    "# X_test = StandardScaler().fit_transform(X_test)\n",
    "# Y_test = StandardScaler().fit_transform(Y_test)\n",
    "\n",
    "# X_validate = StandardScaler().fit_transform(X_validate)\n",
    "# Y_validate = StandardScaler().fit_transform(Y_validate)\n",
    "\n",
    "\n",
    "# Quantile Transformer:\n",
    "\n",
    "# X = QuantileTransformer(n_quantiles=len(X_train), output_distribution='uniform').fit_transform(X)\n",
    "# Y = QuantileTransformer(n_quantiles=len(Y_train), output_distribution='uniform').fit_transform(Y)\n",
    "\n",
    "# X_train = QuantileTransformer(n_quantiles=len(X_train), output_distribution='uniform').fit_transform(X_train)\n",
    "# Y_train = QuantileTransformer(n_quantiles=len(Y_train), output_distribution='uniform').fit_transform(Y_train)\n",
    "\n",
    "# X_test = QuantileTransformer(n_quantiles=len(X_test), output_distribution='uniform').fit_transform(X_test)\n",
    "# Y_test = QuantileTransformer(n_quantiles=len(X_test), output_distribution='uniform').fit_transform(Y_test)\n",
    "\n",
    "# X_validate = QuantileTransformer(n_quantiles=len(X_validate), output_distribution='uniform').fit_transform(X_validate)\n",
    "# Y_validate = QuantileTransformer(n_quantiles=len(Y_validate), output_distribution='uniform').fit_transform(Y_validate)\n",
    "\n",
    "# Power Transformer:\n",
    "\n",
    "# X = PowerTransformer(method='yeo-johnson').fit_transform(X)\n",
    "# Y = PowerTransformer(method='yeo-johnson').fit_transform(Y)\n",
    "\n",
    "# X_train = PowerTransformer(method='yeo-johnson').fit_transform(X_train)\n",
    "# Y_train = PowerTransformer(method='yeo-johnson').fit_transform(Y_train)\n",
    "\n",
    "# X_test = PowerTransformer(method='yeo-johnson').fit_transform(X_test)\n",
    "# Y_test = PowerTransformer(method='yeo-johnson').fit_transform(Y_test)\n",
    "\n",
    "# X_validate = PowerTransformer(method='yeo-johnson').fit_transform(X_validate)\n",
    "# Y_validate = PowerTransformer(method='yeo-johnson').fit_transform(Y_validate)\n",
    "\n",
    "# Log Transformer:\n",
    "\n",
    "# X = FunctionTransformer(np.log1p).fit_transform(X)\n",
    "# Y = FunctionTransformer(np.log1p).fit_transform(Y)\n",
    "\n",
    "# X_train = FunctionTransformer(np.log1p).fit_transform(X_train)\n",
    "# Y_train = FunctionTransformer(np.log1p).fit_transform(Y_train)\n",
    "\n",
    "# X_test = FunctionTransformer(np.log1p).fit_transform(X_test)\n",
    "# Y_test = FunctionTransformer(np.log1p).fit_transform(Y_test)\n",
    "\n",
    "# X_validate = FunctionTransformer(np.log1p).fit_transform(X_validate)\n",
    "# Y_validate = FunctionTransformer(np.log1p).fit_transform(Y_validate)"
   ]
  },
  {
   "cell_type": "code",
   "execution_count": 403,
   "id": "palestinian-teaching",
   "metadata": {},
   "outputs": [
    {
     "data": {
      "text/plain": [
       "Text(0.5, 1.0, 'Y_validate')"
      ]
     },
     "execution_count": 403,
     "metadata": {},
     "output_type": "execute_result"
    },
    {
     "data": {
      "image/png": "[encoded data removed]",
      "text/plain": [
       "<Figure size 1080x504 with 8 Axes>"
      ]
     },
     "metadata": {
      "needs_background": "light"
     },
     "output_type": "display_data"
    }
   ],
   "source": [
    "fig, ax = plt.subplots(2, 4, figsize=(15, 7))\n",
    "ax[0][0].plot(X)\n",
    "ax[0][0].set_title('X')\n",
    "ax[0][1].plot(X_train)\n",
    "ax[0][1].set_title('X_train')\n",
    "ax[0][2].plot(X_test)\n",
    "ax[0][2].set_title('X_test')\n",
    "ax[0][3].plot(X_validate)\n",
    "ax[0][3].set_title('X_validate')\n",
    "\n",
    "ax[1][0].plot(Y)\n",
    "ax[1][0].set_title('Y')\n",
    "ax[1][1].plot(Y_train)\n",
    "ax[1][1].set_title('Y_train')\n",
    "ax[1][2].plot(Y_test)\n",
    "ax[1][2].set_title('Y_test')\n",
    "ax[1][3].plot(Y_validate)\n",
    "ax[1][3].set_title('Y_validate')"
   ]
  },
  {
   "cell_type": "code",
   "execution_count": 404,
   "id": "focal-litigation",
   "metadata": {},
   "outputs": [],
   "source": [
    "# find model by using linear regression:\n",
    "linear_model = linearRegressionModel(X_train, Y_train)\n",
    "\n",
    "# find Y by using linear model predict:\n",
    "Y_train_pred = linear_model.predict(X_train)\n",
    "Y_test_pred = linear_model.predict(X_test)\n",
    "\n",
    "# Calculate RMSE on train and test data:\n",
    "train_linear_rmse = np.sqrt(mean_squared_error(Y_train, Y_train_pred))\n",
    "test_linear_rmse = np.sqrt(mean_squared_error(Y_test, Y_test_pred))"
   ]
  },
  {
   "cell_type": "code",
   "execution_count": 405,
   "id": "wanted-fireplace",
   "metadata": {},
   "outputs": [
    {
     "name": "stdout",
     "output_type": "stream",
     "text": [
      "\n",
      "Linear Regression Model: \n"
     ]
    },
    {
     "data": {
      "image/png": "[encoded data removed]",
      "text/plain": [
       "<Figure size 504x288 with 1 Axes>"
      ]
     },
     "metadata": {
      "needs_background": "light"
     },
     "output_type": "display_data"
    }
   ],
   "source": [
    "print(\"\\nLinear Regression Model: \")\n",
    "# Plot linear model:\n",
    "plt.figure(figsize=(7, 4))\n",
    "plt.scatter(X_train, Y_train, marker='o', color='blue', label='train_data')\n",
    "plt.scatter(X_test, Y_test, marker='o', color='red', label='test_data')\n",
    "plt.scatter(X_validate, Y_validate, marker='o', color='green', label='validate_data')\n",
    "plt.plot(X_train, Y_train_pred, color='black', label='train_model')\n",
    "plt.legend(bbox_to_anchor=(1,1), loc=\"upper left\")\n",
    "plt.tight_layout()\n",
    "plt.xlabel('area')\n",
    "plt.ylabel('price')\n",
    "plt.show()"
   ]
  },
  {
   "cell_type": "code",
   "execution_count": 406,
   "id": "impaired-bulletin",
   "metadata": {
    "scrolled": true
   },
   "outputs": [
    {
     "name": "stdout",
     "output_type": "stream",
     "text": [
      "Linear model coefficient: [[0.69920315]]\n",
      "Linear model intercept: [-3.73885086]\n",
      "Linear model rmse on train data: 0.3846647441295013\n",
      "Linear model rmse on test data: 0.26855400579106814\n",
      "\n",
      "\n",
      "\n"
     ]
    }
   ],
   "source": [
    "# Linear Model coefficient and intercept:\n",
    "print(\"Linear model coefficient: {}\".format(linear_model.coef_))\n",
    "print(\"Linear model intercept: {}\".format(linear_model.intercept_))\n",
    "\n",
    "# linear_model rmse:\n",
    "print(\"Linear model rmse on train data: {}\".format(train_linear_rmse))\n",
    "print(\"Linear model rmse on test data: {}\".format(test_linear_rmse))\n",
    "print(\"\\n\\n\")"
   ]
  },
  {
   "cell_type": "code",
   "execution_count": 407,
   "id": "miniature-absence",
   "metadata": {},
   "outputs": [
    {
     "name": "stdout",
     "output_type": "stream",
     "text": [
      "\n",
      "Selected Polynomial Regression with degree = 6 and validate RMSE = 0.37720562477991565\n",
      "Selected Regularized Regression with alpha = 0.02 and validate RMSE = 0.3875858111047739\n",
      "Polynomial Regression cross validation score:  -1.9805763624986361\n",
      "Selected Regularized Regression cross validation score:  -1.3804743869593334\n"
     ]
    }
   ],
   "source": [
    "# find model by using polynomial regression:\n",
    "poly_model, degree, train_rmse, validate_rmse, test_rmse = polynomialRegression(X, Y, X_train, Y_train, X_test, Y_test, X_validate, Y_validate)\n",
    "\n",
    "# transform X and X_test:\n",
    "polynomial_features = PolynomialFeatures(degree=degree)\n",
    "X_train_poly = polynomial_features.fit_transform(X_train)\n",
    "X_test_poly = polynomial_features.fit_transform(X_test)\n",
    "\n",
    "# Try predicting Y\n",
    "Y_train_poly_pred = poly_model.predict(X_train_poly)\n",
    "Y_test_poly_pred = poly_model.predict(X_test_poly)"
   ]
  },
  {
   "cell_type": "code",
   "execution_count": 408,
   "id": "angry-stomach",
   "metadata": {},
   "outputs": [
    {
     "data": {
      "image/png": "[encoded data removed]",
      "text/plain": [
       "<Figure size 504x288 with 1 Axes>"
      ]
     },
     "metadata": {
      "needs_background": "light"
     },
     "output_type": "display_data"
    }
   ],
   "source": [
    "# Plot model:\n",
    "plt.figure(figsize=(7, 4))\n",
    "plt.scatter(X_train, Y_train, marker='o', color='blue', label='train_data')\n",
    "plt.scatter(X_test, Y_test, marker='o', color='red', label='test_data')\n",
    "plt.scatter(X_validate, Y_validate, marker='o', color='green', label='validate_data')\n",
    "plt.plot(X_train, Y_train_poly_pred, color='black', label='train_model')\n",
    "plt.legend(bbox_to_anchor=(1,1), loc=\"upper left\")\n",
    "plt.tight_layout()\n",
    "plt.xlabel('area')\n",
    "plt.ylabel('price')\n",
    "plt.show()"
   ]
  },
  {
   "cell_type": "code",
   "execution_count": 409,
   "id": "biological-hobby",
   "metadata": {},
   "outputs": [
    {
     "name": "stdout",
     "output_type": "stream",
     "text": [
      "Polynomial Regression with degree = 6\n",
      "\n",
      "Polynomial model coefficient:\n",
      "[0.00000000e+00 0.00000000e+00 0.00000000e+00 0.00000000e+00\n",
      " 0.00000000e+00 2.52950573e-05 1.20007914e-06]\n",
      "Polynomial model intercept: [0.41998916]\n",
      "\n",
      "Polynomial Model RMSE on train data: 0.32901879049091515\n",
      "Polynomial Model RMSE on validate data: 0.3875858111047739\n",
      "Polynomial Model RMSE on test data: 0.17777359696780914\n"
     ]
    }
   ],
   "source": [
    "print(\"Polynomial Regression with degree = {}\\n\".format(degree))\n",
    "# Polynomial Model coefficient and intercept:\n",
    "print(\"Polynomial model coefficient:\")\n",
    "print(poly_model.coef_)\n",
    "print(\"Polynomial model intercept: {}\\n\".format(poly_model.intercept_))\n",
    "\n",
    "# poly_model rmse:\n",
    "print(\"Polynomial Model RMSE on train data: {}\".format(train_rmse))\n",
    "print(\"Polynomial Model RMSE on validate data: {}\".format(validate_rmse))\n",
    "print(\"Polynomial Model RMSE on test data: {}\".format(test_rmse))"
   ]
  },
  {
   "cell_type": "code",
   "execution_count": 410,
   "id": "aware-bosnia",
   "metadata": {},
   "outputs": [
    {
     "name": "stdout",
     "output_type": "stream",
     "text": [
      "\n",
      "\n",
      "Linear Model score on train dataset:  0.6594689262553953\n",
      "Linear Model score on test dataset:  0.5665968775696217\n",
      "\n",
      "\n",
      "Poly Model score on train dataset:  0.7508657803814747\n",
      "Poly Model score on test dataset:  0.8100832429297173\n"
     ]
    }
   ],
   "source": [
    "# score the model with test data:\n",
    "\n",
    "# Linear score:\n",
    "print(\"\\n\")\n",
    "print(\"Linear Model score on train dataset: \", linear_model.score(X_train, Y_train))\n",
    "print(\"Linear Model score on test dataset: \", linear_model.score(X_test, Y_test))\n",
    "\n",
    "# Poly score:\n",
    "print(\"\\n\")\n",
    "print(\"Poly Model score on train dataset: \", poly_model.score(X_train_poly, Y_train))\n",
    "print(\"Poly Model score on test dataset: \", poly_model.score(X_test_poly, Y_test))"
   ]
  },
  {
   "cell_type": "code",
   "execution_count": 411,
   "id": "lesser-congo",
   "metadata": {},
   "outputs": [
    {
     "name": "stdout",
     "output_type": "stream",
     "text": [
      "-1.9805763624986361\n",
      "-1.6369168193971937\n"
     ]
    }
   ],
   "source": [
    "# calc cross validation score of linear to compare with poly for best model selection\n",
    "linear_cv = np.mean(cross_val_score(linear_model, X, Y, cv=5))\n",
    "poly_cv = np.mean(cross_val_score(poly_model, X, Y, cv=5))\n",
    "best_model = linear_model if linear_cv > poly_cv else poly_model\n",
    "best_degree = 1 if linear_cv > poly_cv else degree\n",
    "\n",
    "print(linear_cv)\n",
    "print(poly_cv)"
   ]
  },
  {
   "cell_type": "code",
   "execution_count": 412,
   "id": "acute-archives",
   "metadata": {},
   "outputs": [],
   "source": [
    "import unidecode\n",
    "post_type = unidecode.unidecode(post_type.lower().replace(\" \", \"\"))\n",
    "street = unidecode.unidecode(street.lower().replace(\" \", \"\"))\n",
    "ward = unidecode.unidecode(ward.lower().replace(\" \", \"\"))\n",
    "district = unidecode.unidecode(district.lower().replace(\" \", \"\"))\n",
    "model_name = post_type + \"_\" + street + \"_\" + ward + \"_\" + district"
   ]
  },
  {
   "cell_type": "code",
   "execution_count": 413,
   "id": "juvenile-share",
   "metadata": {},
   "outputs": [
    {
     "data": {
      "text/plain": [
       "['trained/bandat_nguyenthiranh_nhuanduc_cuchi.joblib']"
      ]
     },
     "execution_count": 413,
     "metadata": {},
     "output_type": "execute_result"
    }
   ],
   "source": [
    "# Save model after training for later use:\n",
    "from joblib import dump, load\n",
    "\n",
    "dump((best_model, best_degree), 'trained/' + model_name + \".joblib\")"
   ]
  },
  {
   "cell_type": "code",
   "execution_count": 414,
   "id": "surprising-brunswick",
   "metadata": {},
   "outputs": [
    {
     "data": {
      "text/plain": [
       "array([0.47878728])"
      ]
     },
     "execution_count": 414,
     "metadata": {},
     "output_type": "execute_result"
    }
   ],
   "source": [
    "# load model:\n",
    "loaded_model, loaded_degree = load('trained/' + model_name + \".joblib\")\n",
    "\n",
    "test_area = np.array([92.00])\n",
    "test_area = test_area[:, np.newaxis]\n",
    "test_area = FunctionTransformer(np.log1p).fit_transform(test_area)\n",
    "\n",
    "if loaded_degree == 1:\n",
    "    predicted_price = loaded_model.predict(test_area)\n",
    "else:\n",
    "    test_area_poly = PolynomialFeatures(degree=loaded_degree).fit_transform(test_area)\n",
    "    predicted_price = loaded_model.predict(test_area_poly)\n",
    "    \n",
    "FunctionTransformer(np.log1p).inverse_transform(predicted_price)"
   ]
  }
 ],
 "metadata": {
  "kernelspec": {
   "display_name": "Python 3",
   "language": "python",
   "name": "python3"
  },
  "language_info": {
   "codemirror_mode": {
    "name": "ipython",
    "version": 3
   },
   "file_extension": ".py",
   "mimetype": "text/x-python",
   "name": "python",
   "nbconvert_exporter": "python",
   "pygments_lexer": "ipython3",
   "version": "3.8.5"
  }
 },
 "nbformat": 4,
 "nbformat_minor": 5
}
