{
 "cells": [
  {
   "cell_type": "code",
   "execution_count": 31,
   "id": "muslim-louisville",
   "metadata": {},
   "outputs": [],
   "source": [
    "from matplotlib import pyplot as plt\n",
    "import numpy as np\n",
    "import pandas as pd\n",
    "from sklearn.model_selection import train_test_split\n",
    "from sklearn.preprocessing import PowerTransformer, QuantileTransformer, FunctionTransformer\n",
    "from sklearn.metrics import mean_squared_error\n",
    "\n",
    "from sklearn.linear_model import LinearRegression, Ridge, Lasso\n",
    "from sklearn.model_selection import cross_val_score, KFold\n",
    "\n",
    "from models.prepareData import getData, convertData\n",
    "from models.models import linearRegressionModel, PolynomialFeatures, polynomialRegression"
   ]
  },
  {
   "cell_type": "code",
   "execution_count": 32,
   "id": "clean-thinking",
   "metadata": {},
   "outputs": [],
   "source": [
    "# data = getData('Bán căn hộ chung cư', 'Nguyễn Hữu Thọ', 'Phước Kiển', 'Nhà Bè')\n",
    "# data = getData('Bán căn hộ chung cư', 'Nguyễn Hữu Cảnh', '22', 'Bình Thạnh')\n",
    "# data = getData('Bán đất', 'Trần Văn Giàu', 'Lê Minh Xuân', 'Bình Chánh')\n",
    "# data = getData('Bán đất', 'Vườn Lài', 'An Phú Đông', '12')\n",
    "# data = getData('Bán nhà riêng', 'Quốc Lộ 13', 'Hiệp Bình Phước', 'Thủ Đức')\n",
    "# data = getData('Bán nhà riêng', 'Phạm Văn Chiêu', '9', 'Gò Vấp')\n",
    "# data = getData('Bán nhà riêng', 'Nguyễn Văn Quá', 'Đông Hưng Thuận', '12')\n",
    "data = getData('Bán nhà riêng', 'Quốc Lộ 13', 'Hiệp Bình Phước', 'Thủ Đức')"
   ]
  },
  {
   "cell_type": "code",
   "execution_count": 33,
   "id": "closing-stuart",
   "metadata": {},
   "outputs": [
    {
     "name": "stdout",
     "output_type": "stream",
     "text": [
      "Sample data: \n",
      "--------------------------------------------------------\n",
      "       post_type   area  price      street             ward district  \\\n",
      "0  Bán nhà riêng  110.0   5.79  Quốc Lộ 13  Hiệp Bình Phước  Thủ Đức   \n",
      "1  Bán nhà riêng    2.0   2.20  Quốc Lộ 13  Hiệp Bình Phước  Thủ Đức   \n",
      "2  Bán nhà riêng   55.0   7.60  Quốc Lộ 13  Hiệp Bình Phước  Thủ Đức   \n",
      "3  Bán nhà riêng   54.0   5.45  Quốc Lộ 13  Hiệp Bình Phước  Thủ Đức   \n",
      "4  Bán nhà riêng  104.0   9.60  Quốc Lộ 13  Hiệp Bình Phước  Thủ Đức   \n",
      "\n",
      "  posted_date  \n",
      "0  2021-04-13  \n",
      "1  2021-04-14  \n",
      "2  2021-04-14  \n",
      "3  2021-04-14  \n",
      "4  2021-04-16  \n",
      "--------------------------------------------------------\n",
      "Data Length:  205\n"
     ]
    }
   ],
   "source": [
    "print(\"Sample data: \")\n",
    "print(\"--------------------------------------------------------\")\n",
    "print(data.head())\n",
    "print(\"--------------------------------------------------------\")\n",
    "print(\"Data Length: \", len(data))"
   ]
  },
  {
   "cell_type": "code",
   "execution_count": 34,
   "id": "excellent-lightweight",
   "metadata": {},
   "outputs": [],
   "source": [
    "# preporcess data:\n",
    "# sort data in post_date order:\n",
    "data = data.sort_values(by=['posted_date'])\n",
    "\n",
    "# Drop duplicates:    \n",
    "data = data.drop_duplicates(subset='area', keep='last', inplace=False)\n",
    "\n",
    "# remove outlier:\n",
    "# area_upper_bound = data['area'].quantile(0.95)\n",
    "# area_lower_bound = data['area'].quantile(0.05)\n",
    "# price_upper_bound = data['price'].quantile(0.95)\n",
    "# price_lower_bound = data['price'].quantile(0.05)\n",
    "\n",
    "# data = data[\n",
    "#     (data['area'] < area_upper_bound) &\n",
    "#     (data['area'] > area_lower_bound) &\n",
    "#     (data['price'] < price_upper_bound) &\n",
    "#     (data['price'] > price_lower_bound)\n",
    "# ]"
   ]
  },
  {
   "cell_type": "code",
   "execution_count": 35,
   "id": "noble-indication",
   "metadata": {},
   "outputs": [],
   "source": [
    "# divide data into train and test:\n",
    "train_data, test_data = train_test_split(data, test_size=0.2)\n",
    "train_data, validate_data = train_test_split(train_data, test_size=0.2)"
   ]
  },
  {
   "cell_type": "code",
   "execution_count": 36,
   "id": "aggressive-guidance",
   "metadata": {},
   "outputs": [
    {
     "name": "stdout",
     "output_type": "stream",
     "text": [
      "\n",
      "Train data length:  48\n",
      "Test data length:  16\n",
      "Validate data length:  13\n"
     ]
    }
   ],
   "source": [
    "# Sort data by area column:\n",
    "train_data = train_data.sort_values(by=['area'])\n",
    "test_data = test_data.sort_values(by=['area'])\n",
    "validate_data = validate_data.sort_values(by=['area'])\n",
    "\n",
    "print(\"\\nTrain data length: \", len(train_data))\n",
    "print(\"Test data length: \", len(test_data))\n",
    "print(\"Validate data length: \", len(validate_data))"
   ]
  },
  {
   "cell_type": "code",
   "execution_count": 37,
   "id": "ranking-madonna",
   "metadata": {},
   "outputs": [],
   "source": [
    "# convert data into numpy\n",
    "X_train, Y_train = convertData(train_data)\n",
    "X_test, Y_test = convertData(test_data)\n",
    "X_validate, Y_validate = convertData(validate_data)"
   ]
  },
  {
   "cell_type": "code",
   "execution_count": 38,
   "id": "exempt-relation",
   "metadata": {},
   "outputs": [],
   "source": [
    "# scale data:\n",
    "X_train = QuantileTransformer(n_quantiles=len(X_train)-1, output_distribution='uniform').fit_transform(X_train)\n",
    "Y_train = QuantileTransformer(n_quantiles=len(Y_train)-1, output_distribution='uniform').fit_transform(Y_train)\n",
    "\n",
    "X_test = QuantileTransformer(n_quantiles=len(X_test)-1, output_distribution='uniform').fit_transform(X_test)\n",
    "Y_test = QuantileTransformer(n_quantiles=len(X_test)-1, output_distribution='uniform').fit_transform(Y_test)\n",
    "\n",
    "X_validate = QuantileTransformer(n_quantiles=len(X_validate)-1, output_distribution='uniform').fit_transform(X_validate)\n",
    "Y_validate = QuantileTransformer(n_quantiles=len(Y_validate)-1, output_distribution='uniform').fit_transform(Y_validate)\n",
    "\n",
    "# X_train = PowerTransformer(method='yeo-johnson').fit_transform(X_train)\n",
    "# Y_train = PowerTransformer(method='yeo-johnson').fit_transform(Y_train)\n",
    "\n",
    "# X_test = PowerTransformer(method='yeo-johnson').fit_transform(X_test)\n",
    "# Y_test = PowerTransformer(method='yeo-johnson').fit_transform(Y_test)\n",
    "\n",
    "# X_validate = PowerTransformer(method='yeo-johnson').fit_transform(X_validate)\n",
    "# Y_validate = PowerTransformer(method='yeo-johnson').fit_transform(Y_validate)\n",
    "\n",
    "# X_train = FunctionTransformer(np.log1p).fit_transform(X_train)\n",
    "# Y_train = FunctionTransformer(np.log1p).fit_transform(Y_train)\n",
    "\n",
    "# X_test = FunctionTransformer(np.log1p).fit_transform(X_test)\n",
    "# Y_test = FunctionTransformer(np.log1p).fit_transform(Y_test)\n",
    "\n",
    "# X_validate = FunctionTransformer(np.log1p).fit_transform(X_validate)\n",
    "# Y_validate = FunctionTransformer(np.log1p).fit_transform(Y_validate)"
   ]
  },
  {
   "cell_type": "code",
   "execution_count": 39,
   "id": "focal-litigation",
   "metadata": {},
   "outputs": [],
   "source": [
    "# find model by using linear regression:\n",
    "linear_model = linearRegressionModel(X_train, Y_train)\n",
    "\n",
    "# find Y by using linear model predict:\n",
    "Y_train_pred = linear_model.predict(X_train)\n",
    "Y_test_pred = linear_model.predict(X_test)\n",
    "\n",
    "# Calculate RMSE on train and test data:\n",
    "train_linear_rmse = np.sqrt(mean_squared_error(Y_train, Y_train_pred))\n",
    "test_linear_rmse = np.sqrt(mean_squared_error(Y_test, Y_test_pred))"
   ]
  },
  {
   "cell_type": "code",
   "execution_count": 40,
   "id": "wanted-fireplace",
   "metadata": {},
   "outputs": [
    {
     "name": "stdout",
     "output_type": "stream",
     "text": [
      "\n",
      "Linear Regression Model: \n"
     ]
    },
    {
     "data": {
      "image/png": "[encoded data removed]",
      "text/plain": [
       "<Figure size 432x288 with 1 Axes>"
      ]
     },
     "metadata": {
      "needs_background": "light"
     },
     "output_type": "display_data"
    }
   ],
   "source": [
    "print(\"\\nLinear Regression Model: \")\n",
    "# Plot linear model:\n",
    "plt.scatter(X_train, Y_train, marker='o', color='blue', label='train_data')\n",
    "plt.scatter(X_test, Y_test, marker='o', color='red', label='test_data')\n",
    "plt.plot(X_train, Y_train_pred, color='black', label='train_model')\n",
    "plt.legend()\n",
    "plt.tight_layout()\n",
    "plt.xlabel('area')\n",
    "plt.ylabel('price')\n",
    "plt.show()"
   ]
  },
  {
   "cell_type": "code",
   "execution_count": 41,
   "id": "impaired-bulletin",
   "metadata": {},
   "outputs": [
    {
     "name": "stdout",
     "output_type": "stream",
     "text": [
      "Linear model coefficient: [[0.70248974]]\n",
      "Linear model intercept: [0.1488102]\n",
      "Linear model rmse on train data: 0.2115262803082313\n",
      "Linear model rmse on test data: 0.21920122085543742\n",
      "\n",
      "\n",
      "\n"
     ]
    }
   ],
   "source": [
    "# Linear Model coefficient and intercept:\n",
    "print(\"Linear model coefficient: {}\".format(linear_model.coef_))\n",
    "print(\"Linear model intercept: {}\".format(linear_model.intercept_))\n",
    "\n",
    "# linear_model rmse:\n",
    "print(\"Linear model rmse on train data: {}\".format(train_linear_rmse))\n",
    "print(\"Linear model rmse on test data: {}\".format(test_linear_rmse))\n",
    "print(\"\\n\\n\")"
   ]
  },
  {
   "cell_type": "code",
   "execution_count": 42,
   "id": "miniature-absence",
   "metadata": {},
   "outputs": [],
   "source": [
    "# find model by using polynomial regression:\n",
    "poly_model, degree, validate_rmse, test_rmse = polynomialRegression(X_train, Y_train, X_test, Y_test, X_validate, Y_validate)\n",
    "\n",
    "# transform X and X_test:\n",
    "polynomial_features = PolynomialFeatures(degree=degree)\n",
    "X_train_poly = polynomial_features.fit_transform(X_train)\n",
    "X_test_poly = polynomial_features.fit_transform(X_test)\n",
    "\n",
    "# Try predicting Y\n",
    "Y_train_poly_pred = poly_model.predict(X_train_poly)\n",
    "Y_test_poly_pred = poly_model.predict(X_test_poly)"
   ]
  },
  {
   "cell_type": "code",
   "execution_count": 43,
   "id": "angry-stomach",
   "metadata": {},
   "outputs": [
    {
     "data": {
      "image/png": "[encoded data removed]",
      "text/plain": [
       "<Figure size 432x288 with 1 Axes>"
      ]
     },
     "metadata": {
      "needs_background": "light"
     },
     "output_type": "display_data"
    }
   ],
   "source": [
    "# Plot model:\n",
    "plt.scatter(X_train, Y_train, marker='o', color='blue', label='train_data')\n",
    "plt.scatter(X_test, Y_test, marker='o', color='red', label='test_data')\n",
    "plt.plot(X_train, Y_train_poly_pred, color='green', label='train_model')\n",
    "# plt.plot(X_test, Y_test_poly_pred, color='purple', label='test_model')\n",
    "plt.legend()\n",
    "plt.tight_layout()\n",
    "plt.xlabel('area')\n",
    "plt.ylabel('price')\n",
    "plt.show()"
   ]
  },
  {
   "cell_type": "code",
   "execution_count": 44,
   "id": "biological-hobby",
   "metadata": {},
   "outputs": [
    {
     "name": "stdout",
     "output_type": "stream",
     "text": [
      "Polynomial Regression with degree = 4\n",
      "Polynomial model coefficient:\n",
      "[0.         0.35017836 0.         0.         0.28929013]\n",
      "Polynomial model intercept: [0.26503717]\n",
      "Polynomial Model RMSE on validate data: 0.2060320254208543\n",
      "Polynomial Model RMSE on test data: 0.20984961244541822\n"
     ]
    }
   ],
   "source": [
    "print(\"Polynomial Regression with degree = {}\".format(degree))\n",
    "# Polynomial Model coefficient and intercept:\n",
    "print(\"Polynomial model coefficient:\")\n",
    "print(poly_model.coef_)\n",
    "print(\"Polynomial model intercept: {}\".format(poly_model.intercept_))\n",
    "\n",
    "# poly_model rmse:\n",
    "print(\"Polynomial Model RMSE on validate data: {}\".format(validate_rmse))\n",
    "print(\"Polynomial Model RMSE on test data: {}\".format(test_rmse))"
   ]
  },
  {
   "cell_type": "code",
   "execution_count": 45,
   "id": "aware-bosnia",
   "metadata": {},
   "outputs": [
    {
     "name": "stdout",
     "output_type": "stream",
     "text": [
      "\n",
      "\n",
      "Linear Model score on train dataset:  0.49074476973581327\n",
      "Linear Model score on test dataset:  0.5021153794598757\n",
      "\n",
      "\n",
      "Poly Model score on train dataset:  0.5041541041197652\n",
      "Poly Model score on test dataset:  0.5436909135170818\n"
     ]
    }
   ],
   "source": [
    "# score the model with test data:\n",
    "\n",
    "# Linear score:\n",
    "print(\"\\n\")\n",
    "print(\"Linear Model score on train dataset: \", linear_model.score(X_train, Y_train))\n",
    "print(\"Linear Model score on test dataset: \", linear_model.score(X_test, Y_test))\n",
    "\n",
    "# Poly score:\n",
    "print(\"\\n\")\n",
    "print(\"Poly Model score on train dataset: \", poly_model.score(X_train_poly, Y_train))\n",
    "print(\"Poly Model score on test dataset: \", poly_model.score(X_test_poly, Y_test))"
   ]
  }
 ],
 "metadata": {
  "kernelspec": {
   "display_name": "Python 3",
   "language": "python",
   "name": "python3"
  },
  "language_info": {
   "codemirror_mode": {
    "name": "ipython",
    "version": 3
   },
   "file_extension": ".py",
   "mimetype": "text/x-python",
   "name": "python",
   "nbconvert_exporter": "python",
   "pygments_lexer": "ipython3",
   "version": "3.8.5"
  }
 },
 "nbformat": 4,
 "nbformat_minor": 5
}
