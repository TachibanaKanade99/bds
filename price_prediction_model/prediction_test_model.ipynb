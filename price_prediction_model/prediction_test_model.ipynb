{
 "cells": [
  {
   "cell_type": "code",
   "execution_count": 943,
   "id": "muslim-louisville",
   "metadata": {},
   "outputs": [],
   "source": [
    "from matplotlib import pyplot as plt\n",
    "import numpy as np\n",
    "import pandas as pd\n",
    "from sklearn.model_selection import train_test_split\n",
    "from sklearn.preprocessing import PowerTransformer, QuantileTransformer, FunctionTransformer, RobustScaler, StandardScaler\n",
    "from sklearn.metrics import mean_squared_error\n",
    "from sklearn.model_selection import cross_val_score\n",
    "\n",
    "from models.prepareData import getData, convertData, calcMinimumMaximum\n",
    "from models.models import linearRegressionModel, PolynomialFeatures, polynomialRegression"
   ]
  },
  {
   "cell_type": "code",
   "execution_count": 944,
   "id": "clean-thinking",
   "metadata": {},
   "outputs": [],
   "source": [
    "# data = getData('Bán căn hộ chung cư', 'Nguyễn Hữu Thọ', 'Phước Kiển', 'Nhà Bè')\n",
    "# data = getData('Bán căn hộ chung cư', 'Nguyễn Hữu Cảnh', '22', 'Bình Thạnh')\n",
    "data = getData('Bán đất', 'Trần Văn Giàu', 'Lê Minh Xuân', 'Bình Chánh')\n",
    "# data = getData('Bán đất', 'Vườn Lài', 'An Phú Đông', '12')\n",
    "# data = getData('Bán nhà riêng', 'Quốc Lộ 13', 'Hiệp Bình Phước', 'Thủ Đức')\n",
    "# data = getData('Bán nhà riêng', 'Phạm Văn Chiêu', '9', 'Gò Vấp')\n",
    "# data = getData('Bán nhà riêng', 'Nguyễn Văn Quá', 'Đông Hưng Thuận', '12')\n",
    "# data = getData('Bán nhà riêng', 'Quốc Lộ 13', 'Hiệp Bình Phước', 'Thủ Đức')\n",
    "# data = getData('Bán đất', 'Nguyễn Thị Rành', 'Nhuận Đức', 'Củ Chi')"
   ]
  },
  {
   "cell_type": "code",
   "execution_count": 945,
   "id": "mounted-european",
   "metadata": {},
   "outputs": [
    {
     "name": "stdout",
     "output_type": "stream",
     "text": [
      "Data length:  227\n"
     ]
    }
   ],
   "source": [
    "print(\"Data length: \", len(data))"
   ]
  },
  {
   "cell_type": "code",
   "execution_count": 946,
   "id": "excellent-lightweight",
   "metadata": {},
   "outputs": [],
   "source": [
    "# preprocess data:\n",
    "\n",
    "# sort data in post_date order to drop old data has same area:\n",
    "data = data.sort_values(by=['posted_date'])\n",
    "\n",
    "# Drop duplicates:    \n",
    "data = data.drop_duplicates(subset='area', keep='last', inplace=False)\n",
    "\n",
    "# sort data in area order:\n",
    "data = data.sort_values(by=['area'])"
   ]
  },
  {
   "cell_type": "code",
   "execution_count": 947,
   "id": "animated-regulation",
   "metadata": {},
   "outputs": [
    {
     "name": "stdout",
     "output_type": "stream",
     "text": [
      "Data length:  33\n"
     ]
    }
   ],
   "source": [
    "print(\"Data length: \", len(data))"
   ]
  },
  {
   "cell_type": "code",
   "execution_count": 948,
   "id": "legitimate-median",
   "metadata": {},
   "outputs": [],
   "source": [
    "# remove outliers using box-plot:\n",
    "while True:\n",
    "    area_minimum, area_maximum = calcMinimumMaximum(data['area'])\n",
    "    if (data['area'] > area_minimum).all() and (data['area'] < area_maximum).all():\n",
    "        break\n",
    "    else:\n",
    "        data = data[(data['area'] > area_minimum) & (data['area'] < area_maximum)]\n",
    "\n",
    "while True:\n",
    "    price_minimum, price_maximum = calcMinimumMaximum(data['price'])\n",
    "    if (data['price'] > price_minimum).all() and (data['price'] < price_maximum).all():\n",
    "        break\n",
    "    else:\n",
    "        data = data[(data['price'] > price_minimum) & (data['price'] < price_maximum)]"
   ]
  },
  {
   "cell_type": "code",
   "execution_count": 949,
   "id": "median-nicholas",
   "metadata": {},
   "outputs": [
    {
     "name": "stdout",
     "output_type": "stream",
     "text": [
      "Train data length:  26\n"
     ]
    }
   ],
   "source": [
    "print(\"Train data length: \", len(data))"
   ]
  },
  {
   "cell_type": "code",
   "execution_count": 950,
   "id": "focused-integer",
   "metadata": {},
   "outputs": [
    {
     "data": {
      "image/png": "[encoded data removed]",
      "text/plain": [
       "<Figure size 432x288 with 1 Axes>"
      ]
     },
     "metadata": {
      "needs_background": "light"
     },
     "output_type": "display_data"
    }
   ],
   "source": [
    "data['area'].plot(kind='box')\n",
    "plt.show()"
   ]
  },
  {
   "cell_type": "code",
   "execution_count": 951,
   "id": "specific-watch",
   "metadata": {
    "scrolled": true
   },
   "outputs": [
    {
     "data": {
      "image/png": "[encoded data removed]",
      "text/plain": [
       "<Figure size 432x288 with 1 Axes>"
      ]
     },
     "metadata": {
      "needs_background": "light"
     },
     "output_type": "display_data"
    }
   ],
   "source": [
    "data['price'].plot(kind='box')\n",
    "plt.show()"
   ]
  },
  {
   "cell_type": "code",
   "execution_count": 952,
   "id": "large-transcription",
   "metadata": {
    "scrolled": true
   },
   "outputs": [
    {
     "data": {
      "text/html": [
       "<div>\n",
       "<style scoped>\n",
       "    .dataframe tbody tr th:only-of-type {\n",
       "        vertical-align: middle;\n",
       "    }\n",
       "\n",
       "    .dataframe tbody tr th {\n",
       "        vertical-align: top;\n",
       "    }\n",
       "\n",
       "    .dataframe thead th {\n",
       "        text-align: right;\n",
       "    }\n",
       "</style>\n",
       "<table border=\"1\" class=\"dataframe\">\n",
       "  <thead>\n",
       "    <tr style=\"text-align: right;\">\n",
       "      <th></th>\n",
       "      <th>post_type</th>\n",
       "      <th>area</th>\n",
       "      <th>price</th>\n",
       "      <th>street</th>\n",
       "      <th>ward</th>\n",
       "      <th>district</th>\n",
       "      <th>posted_date</th>\n",
       "    </tr>\n",
       "  </thead>\n",
       "  <tbody>\n",
       "    <tr>\n",
       "      <th>121</th>\n",
       "      <td>Bán đất</td>\n",
       "      <td>56.0</td>\n",
       "      <td>1.19840</td>\n",
       "      <td>Trần Văn Giàu</td>\n",
       "      <td>Lê Minh Xuân</td>\n",
       "      <td>Bình Chánh</td>\n",
       "      <td>2021-05-02</td>\n",
       "    </tr>\n",
       "    <tr>\n",
       "      <th>8</th>\n",
       "      <td>Bán đất</td>\n",
       "      <td>75.0</td>\n",
       "      <td>1.40000</td>\n",
       "      <td>Trần Văn Giàu</td>\n",
       "      <td>Lê Minh Xuân</td>\n",
       "      <td>Bình Chánh</td>\n",
       "      <td>2021-03-19</td>\n",
       "    </tr>\n",
       "    <tr>\n",
       "      <th>153</th>\n",
       "      <td>Bán đất</td>\n",
       "      <td>80.0</td>\n",
       "      <td>1.20000</td>\n",
       "      <td>Trần Văn Giàu</td>\n",
       "      <td>Lê Minh Xuân</td>\n",
       "      <td>Bình Chánh</td>\n",
       "      <td>2021-05-21</td>\n",
       "    </tr>\n",
       "    <tr>\n",
       "      <th>106</th>\n",
       "      <td>Bán đất</td>\n",
       "      <td>81.0</td>\n",
       "      <td>1.22000</td>\n",
       "      <td>Trần Văn Giàu</td>\n",
       "      <td>Lê Minh Xuân</td>\n",
       "      <td>Bình Chánh</td>\n",
       "      <td>2021-04-23</td>\n",
       "    </tr>\n",
       "    <tr>\n",
       "      <th>180</th>\n",
       "      <td>Bán đất</td>\n",
       "      <td>84.0</td>\n",
       "      <td>1.30000</td>\n",
       "      <td>Trần Văn Giàu</td>\n",
       "      <td>Lê Minh Xuân</td>\n",
       "      <td>Bình Chánh</td>\n",
       "      <td>2021-04-16</td>\n",
       "    </tr>\n",
       "    <tr>\n",
       "      <th>144</th>\n",
       "      <td>Bán đất</td>\n",
       "      <td>85.0</td>\n",
       "      <td>1.27500</td>\n",
       "      <td>Trần Văn Giàu</td>\n",
       "      <td>Lê Minh Xuân</td>\n",
       "      <td>Bình Chánh</td>\n",
       "      <td>2021-05-13</td>\n",
       "    </tr>\n",
       "    <tr>\n",
       "      <th>212</th>\n",
       "      <td>Bán đất</td>\n",
       "      <td>86.0</td>\n",
       "      <td>1.30000</td>\n",
       "      <td>Trần Văn Giàu</td>\n",
       "      <td>Lê Minh Xuân</td>\n",
       "      <td>Bình Chánh</td>\n",
       "      <td>2021-04-16</td>\n",
       "    </tr>\n",
       "    <tr>\n",
       "      <th>118</th>\n",
       "      <td>Bán đất</td>\n",
       "      <td>90.0</td>\n",
       "      <td>1.35000</td>\n",
       "      <td>Trần Văn Giàu</td>\n",
       "      <td>Lê Minh Xuân</td>\n",
       "      <td>Bình Chánh</td>\n",
       "      <td>2021-05-01</td>\n",
       "    </tr>\n",
       "    <tr>\n",
       "      <th>127</th>\n",
       "      <td>Bán đất</td>\n",
       "      <td>100.0</td>\n",
       "      <td>1.50000</td>\n",
       "      <td>Trần Văn Giàu</td>\n",
       "      <td>Lê Minh Xuân</td>\n",
       "      <td>Bình Chánh</td>\n",
       "      <td>2021-05-07</td>\n",
       "    </tr>\n",
       "    <tr>\n",
       "      <th>136</th>\n",
       "      <td>Bán đất</td>\n",
       "      <td>105.0</td>\n",
       "      <td>1.60000</td>\n",
       "      <td>Trần Văn Giàu</td>\n",
       "      <td>Lê Minh Xuân</td>\n",
       "      <td>Bình Chánh</td>\n",
       "      <td>2021-05-12</td>\n",
       "    </tr>\n",
       "    <tr>\n",
       "      <th>175</th>\n",
       "      <td>Bán đất</td>\n",
       "      <td>114.0</td>\n",
       "      <td>1.80000</td>\n",
       "      <td>Trần Văn Giàu</td>\n",
       "      <td>Lê Minh Xuân</td>\n",
       "      <td>Bình Chánh</td>\n",
       "      <td>2021-04-16</td>\n",
       "    </tr>\n",
       "    <tr>\n",
       "      <th>130</th>\n",
       "      <td>Bán đất</td>\n",
       "      <td>120.0</td>\n",
       "      <td>1.85000</td>\n",
       "      <td>Trần Văn Giàu</td>\n",
       "      <td>Lê Minh Xuân</td>\n",
       "      <td>Bình Chánh</td>\n",
       "      <td>2021-05-07</td>\n",
       "    </tr>\n",
       "    <tr>\n",
       "      <th>110</th>\n",
       "      <td>Bán đất</td>\n",
       "      <td>125.0</td>\n",
       "      <td>1.87500</td>\n",
       "      <td>Trần Văn Giàu</td>\n",
       "      <td>Lê Minh Xuân</td>\n",
       "      <td>Bình Chánh</td>\n",
       "      <td>2021-04-27</td>\n",
       "    </tr>\n",
       "    <tr>\n",
       "      <th>156</th>\n",
       "      <td>Bán đất</td>\n",
       "      <td>130.0</td>\n",
       "      <td>1.95000</td>\n",
       "      <td>Trần Văn Giàu</td>\n",
       "      <td>Lê Minh Xuân</td>\n",
       "      <td>Bình Chánh</td>\n",
       "      <td>2021-05-21</td>\n",
       "    </tr>\n",
       "    <tr>\n",
       "      <th>122</th>\n",
       "      <td>Bán đất</td>\n",
       "      <td>135.8</td>\n",
       "      <td>1.95552</td>\n",
       "      <td>Trần Văn Giàu</td>\n",
       "      <td>Lê Minh Xuân</td>\n",
       "      <td>Bình Chánh</td>\n",
       "      <td>2021-05-02</td>\n",
       "    </tr>\n",
       "    <tr>\n",
       "      <th>179</th>\n",
       "      <td>Bán đất</td>\n",
       "      <td>140.0</td>\n",
       "      <td>1.35000</td>\n",
       "      <td>Trần Văn Giàu</td>\n",
       "      <td>Lê Minh Xuân</td>\n",
       "      <td>Bình Chánh</td>\n",
       "      <td>2021-02-26</td>\n",
       "    </tr>\n",
       "    <tr>\n",
       "      <th>124</th>\n",
       "      <td>Bán đất</td>\n",
       "      <td>140.8</td>\n",
       "      <td>2.54848</td>\n",
       "      <td>Trần Văn Giàu</td>\n",
       "      <td>Lê Minh Xuân</td>\n",
       "      <td>Bình Chánh</td>\n",
       "      <td>2021-05-02</td>\n",
       "    </tr>\n",
       "    <tr>\n",
       "      <th>149</th>\n",
       "      <td>Bán đất</td>\n",
       "      <td>160.0</td>\n",
       "      <td>3.20000</td>\n",
       "      <td>Trần Văn Giàu</td>\n",
       "      <td>Lê Minh Xuân</td>\n",
       "      <td>Bình Chánh</td>\n",
       "      <td>2021-05-19</td>\n",
       "    </tr>\n",
       "    <tr>\n",
       "      <th>194</th>\n",
       "      <td>Bán đất</td>\n",
       "      <td>168.0</td>\n",
       "      <td>3.60000</td>\n",
       "      <td>Trần Văn Giàu</td>\n",
       "      <td>Lê Minh Xuân</td>\n",
       "      <td>Bình Chánh</td>\n",
       "      <td>2021-04-16</td>\n",
       "    </tr>\n",
       "    <tr>\n",
       "      <th>188</th>\n",
       "      <td>Bán đất</td>\n",
       "      <td>175.0</td>\n",
       "      <td>2.62000</td>\n",
       "      <td>Trần Văn Giàu</td>\n",
       "      <td>Lê Minh Xuân</td>\n",
       "      <td>Bình Chánh</td>\n",
       "      <td>2021-04-16</td>\n",
       "    </tr>\n",
       "    <tr>\n",
       "      <th>14</th>\n",
       "      <td>Bán đất</td>\n",
       "      <td>180.0</td>\n",
       "      <td>2.70000</td>\n",
       "      <td>Trần Văn Giàu</td>\n",
       "      <td>Lê Minh Xuân</td>\n",
       "      <td>Bình Chánh</td>\n",
       "      <td>2021-03-30</td>\n",
       "    </tr>\n",
       "    <tr>\n",
       "      <th>137</th>\n",
       "      <td>Bán đất</td>\n",
       "      <td>181.0</td>\n",
       "      <td>2.85000</td>\n",
       "      <td>Trần Văn Giàu</td>\n",
       "      <td>Lê Minh Xuân</td>\n",
       "      <td>Bình Chánh</td>\n",
       "      <td>2021-05-08</td>\n",
       "    </tr>\n",
       "    <tr>\n",
       "      <th>146</th>\n",
       "      <td>Bán đất</td>\n",
       "      <td>200.0</td>\n",
       "      <td>3.00000</td>\n",
       "      <td>Trần Văn Giàu</td>\n",
       "      <td>Lê Minh Xuân</td>\n",
       "      <td>Bình Chánh</td>\n",
       "      <td>2021-05-16</td>\n",
       "    </tr>\n",
       "    <tr>\n",
       "      <th>155</th>\n",
       "      <td>Bán đất</td>\n",
       "      <td>210.0</td>\n",
       "      <td>3.15000</td>\n",
       "      <td>Trần Văn Giàu</td>\n",
       "      <td>Lê Minh Xuân</td>\n",
       "      <td>Bình Chánh</td>\n",
       "      <td>2021-05-21</td>\n",
       "    </tr>\n",
       "    <tr>\n",
       "      <th>5</th>\n",
       "      <td>Bán đất</td>\n",
       "      <td>250.0</td>\n",
       "      <td>3.80000</td>\n",
       "      <td>Trần Văn Giàu</td>\n",
       "      <td>Lê Minh Xuân</td>\n",
       "      <td>Bình Chánh</td>\n",
       "      <td>2021-03-20</td>\n",
       "    </tr>\n",
       "    <tr>\n",
       "      <th>164</th>\n",
       "      <td>Bán đất</td>\n",
       "      <td>260.0</td>\n",
       "      <td>3.90000</td>\n",
       "      <td>Trần Văn Giàu</td>\n",
       "      <td>Lê Minh Xuân</td>\n",
       "      <td>Bình Chánh</td>\n",
       "      <td>2021-04-16</td>\n",
       "    </tr>\n",
       "  </tbody>\n",
       "</table>\n",
       "</div>"
      ],
      "text/plain": [
       "    post_type   area    price         street          ward    district  \\\n",
       "121   Bán đất   56.0  1.19840  Trần Văn Giàu  Lê Minh Xuân  Bình Chánh   \n",
       "8     Bán đất   75.0  1.40000  Trần Văn Giàu  Lê Minh Xuân  Bình Chánh   \n",
       "153   Bán đất   80.0  1.20000  Trần Văn Giàu  Lê Minh Xuân  Bình Chánh   \n",
       "106   Bán đất   81.0  1.22000  Trần Văn Giàu  Lê Minh Xuân  Bình Chánh   \n",
       "180   Bán đất   84.0  1.30000  Trần Văn Giàu  Lê Minh Xuân  Bình Chánh   \n",
       "144   Bán đất   85.0  1.27500  Trần Văn Giàu  Lê Minh Xuân  Bình Chánh   \n",
       "212   Bán đất   86.0  1.30000  Trần Văn Giàu  Lê Minh Xuân  Bình Chánh   \n",
       "118   Bán đất   90.0  1.35000  Trần Văn Giàu  Lê Minh Xuân  Bình Chánh   \n",
       "127   Bán đất  100.0  1.50000  Trần Văn Giàu  Lê Minh Xuân  Bình Chánh   \n",
       "136   Bán đất  105.0  1.60000  Trần Văn Giàu  Lê Minh Xuân  Bình Chánh   \n",
       "175   Bán đất  114.0  1.80000  Trần Văn Giàu  Lê Minh Xuân  Bình Chánh   \n",
       "130   Bán đất  120.0  1.85000  Trần Văn Giàu  Lê Minh Xuân  Bình Chánh   \n",
       "110   Bán đất  125.0  1.87500  Trần Văn Giàu  Lê Minh Xuân  Bình Chánh   \n",
       "156   Bán đất  130.0  1.95000  Trần Văn Giàu  Lê Minh Xuân  Bình Chánh   \n",
       "122   Bán đất  135.8  1.95552  Trần Văn Giàu  Lê Minh Xuân  Bình Chánh   \n",
       "179   Bán đất  140.0  1.35000  Trần Văn Giàu  Lê Minh Xuân  Bình Chánh   \n",
       "124   Bán đất  140.8  2.54848  Trần Văn Giàu  Lê Minh Xuân  Bình Chánh   \n",
       "149   Bán đất  160.0  3.20000  Trần Văn Giàu  Lê Minh Xuân  Bình Chánh   \n",
       "194   Bán đất  168.0  3.60000  Trần Văn Giàu  Lê Minh Xuân  Bình Chánh   \n",
       "188   Bán đất  175.0  2.62000  Trần Văn Giàu  Lê Minh Xuân  Bình Chánh   \n",
       "14    Bán đất  180.0  2.70000  Trần Văn Giàu  Lê Minh Xuân  Bình Chánh   \n",
       "137   Bán đất  181.0  2.85000  Trần Văn Giàu  Lê Minh Xuân  Bình Chánh   \n",
       "146   Bán đất  200.0  3.00000  Trần Văn Giàu  Lê Minh Xuân  Bình Chánh   \n",
       "155   Bán đất  210.0  3.15000  Trần Văn Giàu  Lê Minh Xuân  Bình Chánh   \n",
       "5     Bán đất  250.0  3.80000  Trần Văn Giàu  Lê Minh Xuân  Bình Chánh   \n",
       "164   Bán đất  260.0  3.90000  Trần Văn Giàu  Lê Minh Xuân  Bình Chánh   \n",
       "\n",
       "    posted_date  \n",
       "121  2021-05-02  \n",
       "8    2021-03-19  \n",
       "153  2021-05-21  \n",
       "106  2021-04-23  \n",
       "180  2021-04-16  \n",
       "144  2021-05-13  \n",
       "212  2021-04-16  \n",
       "118  2021-05-01  \n",
       "127  2021-05-07  \n",
       "136  2021-05-12  \n",
       "175  2021-04-16  \n",
       "130  2021-05-07  \n",
       "110  2021-04-27  \n",
       "156  2021-05-21  \n",
       "122  2021-05-02  \n",
       "179  2021-02-26  \n",
       "124  2021-05-02  \n",
       "149  2021-05-19  \n",
       "194  2021-04-16  \n",
       "188  2021-04-16  \n",
       "14   2021-03-30  \n",
       "137  2021-05-08  \n",
       "146  2021-05-16  \n",
       "155  2021-05-21  \n",
       "5    2021-03-20  \n",
       "164  2021-04-16  "
      ]
     },
     "execution_count": 952,
     "metadata": {},
     "output_type": "execute_result"
    }
   ],
   "source": [
    "data"
   ]
  },
  {
   "cell_type": "code",
   "execution_count": 953,
   "id": "flexible-tradition",
   "metadata": {},
   "outputs": [
    {
     "data": {
      "text/plain": [
       "count    26.000000\n",
       "mean      2.134323\n",
       "std       0.887588\n",
       "min       1.198400\n",
       "25%       1.350000\n",
       "50%       1.862500\n",
       "75%       2.812500\n",
       "max       3.900000\n",
       "Name: price, dtype: float64"
      ]
     },
     "execution_count": 953,
     "metadata": {},
     "output_type": "execute_result"
    }
   ],
   "source": [
    "data['price'].describe()"
   ]
  },
  {
   "cell_type": "code",
   "execution_count": 954,
   "id": "available-attention",
   "metadata": {},
   "outputs": [
    {
     "data": {
      "text/plain": [
       "count     26.000000\n",
       "mean     135.830769\n",
       "std       54.560548\n",
       "min       56.000000\n",
       "25%       87.000000\n",
       "50%      127.500000\n",
       "75%      173.250000\n",
       "max      260.000000\n",
       "Name: area, dtype: float64"
      ]
     },
     "execution_count": 954,
     "metadata": {},
     "output_type": "execute_result"
    }
   ],
   "source": [
    "data['area'].describe()"
   ]
  },
  {
   "cell_type": "code",
   "execution_count": 955,
   "id": "equal-grade",
   "metadata": {},
   "outputs": [],
   "source": [
    "area_mean = np.mean(data['area'])\n",
    "area_std = np.std(data['area'])\n",
    "\n",
    "price_mean = np.mean(data['price'])\n",
    "price_std = np.std(data['price'])\n",
    "\n",
    "data = data[~( (data['area'] < area_mean) & (data['price'] > price_mean) )]\n",
    "data = data[~( (data['area'] > area_mean) & (data['price'] < price_mean - price_std) )]"
   ]
  },
  {
   "cell_type": "code",
   "execution_count": 956,
   "id": "civilian-academy",
   "metadata": {
    "scrolled": true
   },
   "outputs": [
    {
     "data": {
      "text/html": [
       "<div>\n",
       "<style scoped>\n",
       "    .dataframe tbody tr th:only-of-type {\n",
       "        vertical-align: middle;\n",
       "    }\n",
       "\n",
       "    .dataframe tbody tr th {\n",
       "        vertical-align: top;\n",
       "    }\n",
       "\n",
       "    .dataframe thead th {\n",
       "        text-align: right;\n",
       "    }\n",
       "</style>\n",
       "<table border=\"1\" class=\"dataframe\">\n",
       "  <thead>\n",
       "    <tr style=\"text-align: right;\">\n",
       "      <th></th>\n",
       "      <th>post_type</th>\n",
       "      <th>area</th>\n",
       "      <th>price</th>\n",
       "      <th>street</th>\n",
       "      <th>ward</th>\n",
       "      <th>district</th>\n",
       "      <th>posted_date</th>\n",
       "    </tr>\n",
       "  </thead>\n",
       "  <tbody>\n",
       "    <tr>\n",
       "      <th>153</th>\n",
       "      <td>Bán đất</td>\n",
       "      <td>80.0</td>\n",
       "      <td>1.200</td>\n",
       "      <td>Trần Văn Giàu</td>\n",
       "      <td>Lê Minh Xuân</td>\n",
       "      <td>Bình Chánh</td>\n",
       "      <td>2021-05-21</td>\n",
       "    </tr>\n",
       "    <tr>\n",
       "      <th>106</th>\n",
       "      <td>Bán đất</td>\n",
       "      <td>81.0</td>\n",
       "      <td>1.220</td>\n",
       "      <td>Trần Văn Giàu</td>\n",
       "      <td>Lê Minh Xuân</td>\n",
       "      <td>Bình Chánh</td>\n",
       "      <td>2021-04-23</td>\n",
       "    </tr>\n",
       "    <tr>\n",
       "      <th>180</th>\n",
       "      <td>Bán đất</td>\n",
       "      <td>84.0</td>\n",
       "      <td>1.300</td>\n",
       "      <td>Trần Văn Giàu</td>\n",
       "      <td>Lê Minh Xuân</td>\n",
       "      <td>Bình Chánh</td>\n",
       "      <td>2021-04-16</td>\n",
       "    </tr>\n",
       "    <tr>\n",
       "      <th>144</th>\n",
       "      <td>Bán đất</td>\n",
       "      <td>85.0</td>\n",
       "      <td>1.275</td>\n",
       "      <td>Trần Văn Giàu</td>\n",
       "      <td>Lê Minh Xuân</td>\n",
       "      <td>Bình Chánh</td>\n",
       "      <td>2021-05-13</td>\n",
       "    </tr>\n",
       "    <tr>\n",
       "      <th>212</th>\n",
       "      <td>Bán đất</td>\n",
       "      <td>86.0</td>\n",
       "      <td>1.300</td>\n",
       "      <td>Trần Văn Giàu</td>\n",
       "      <td>Lê Minh Xuân</td>\n",
       "      <td>Bình Chánh</td>\n",
       "      <td>2021-04-16</td>\n",
       "    </tr>\n",
       "    <tr>\n",
       "      <th>118</th>\n",
       "      <td>Bán đất</td>\n",
       "      <td>90.0</td>\n",
       "      <td>1.350</td>\n",
       "      <td>Trần Văn Giàu</td>\n",
       "      <td>Lê Minh Xuân</td>\n",
       "      <td>Bình Chánh</td>\n",
       "      <td>2021-05-01</td>\n",
       "    </tr>\n",
       "    <tr>\n",
       "      <th>127</th>\n",
       "      <td>Bán đất</td>\n",
       "      <td>100.0</td>\n",
       "      <td>1.500</td>\n",
       "      <td>Trần Văn Giàu</td>\n",
       "      <td>Lê Minh Xuân</td>\n",
       "      <td>Bình Chánh</td>\n",
       "      <td>2021-05-07</td>\n",
       "    </tr>\n",
       "  </tbody>\n",
       "</table>\n",
       "</div>"
      ],
      "text/plain": [
       "    post_type   area  price         street          ward    district  \\\n",
       "153   Bán đất   80.0  1.200  Trần Văn Giàu  Lê Minh Xuân  Bình Chánh   \n",
       "106   Bán đất   81.0  1.220  Trần Văn Giàu  Lê Minh Xuân  Bình Chánh   \n",
       "180   Bán đất   84.0  1.300  Trần Văn Giàu  Lê Minh Xuân  Bình Chánh   \n",
       "144   Bán đất   85.0  1.275  Trần Văn Giàu  Lê Minh Xuân  Bình Chánh   \n",
       "212   Bán đất   86.0  1.300  Trần Văn Giàu  Lê Minh Xuân  Bình Chánh   \n",
       "118   Bán đất   90.0  1.350  Trần Văn Giàu  Lê Minh Xuân  Bình Chánh   \n",
       "127   Bán đất  100.0  1.500  Trần Văn Giàu  Lê Minh Xuân  Bình Chánh   \n",
       "\n",
       "    posted_date  \n",
       "153  2021-05-21  \n",
       "106  2021-04-23  \n",
       "180  2021-04-16  \n",
       "144  2021-05-13  \n",
       "212  2021-04-16  \n",
       "118  2021-05-01  \n",
       "127  2021-05-07  "
      ]
     },
     "execution_count": 956,
     "metadata": {},
     "output_type": "execute_result"
    }
   ],
   "source": [
    "data[(data['area'] <= 100.00) & (data['area'] >= 80.00)]"
   ]
  },
  {
   "cell_type": "code",
   "execution_count": 957,
   "id": "deluxe-arthritis",
   "metadata": {},
   "outputs": [
    {
     "name": "stdout",
     "output_type": "stream",
     "text": [
      "Data length:  26\n"
     ]
    }
   ],
   "source": [
    "print(\"Data length: \", len(data))"
   ]
  },
  {
   "cell_type": "code",
   "execution_count": 958,
   "id": "fuzzy-sender",
   "metadata": {},
   "outputs": [],
   "source": [
    "# divide data into train and test:\n",
    "train_data, test_data = train_test_split(data, test_size=0.4)\n",
    "test_data, validate_data = train_test_split(test_data, test_size=0.5)"
   ]
  },
  {
   "cell_type": "code",
   "execution_count": 959,
   "id": "interior-estate",
   "metadata": {},
   "outputs": [
    {
     "name": "stdout",
     "output_type": "stream",
     "text": [
      "\n",
      "Train data length:  15\n",
      "Test data length:  5\n",
      "Validate data length:  6\n"
     ]
    }
   ],
   "source": [
    "# Sort data by area column:\n",
    "train_data = train_data.sort_values(by=['area'])\n",
    "test_data = test_data.sort_values(by=['area'])\n",
    "validate_data = validate_data.sort_values(by=['area'])\n",
    "\n",
    "print(\"\\nTrain data length: \", len(train_data))\n",
    "print(\"Test data length: \", len(test_data))\n",
    "print(\"Validate data length: \", len(validate_data))"
   ]
  },
  {
   "cell_type": "code",
   "execution_count": 960,
   "id": "ranking-madonna",
   "metadata": {},
   "outputs": [],
   "source": [
    "# # convert data into numpy\n",
    "X, Y = convertData(data)\n",
    "X_train, Y_train = convertData(train_data)\n",
    "X_test, Y_test = convertData(test_data)\n",
    "X_validate, Y_validate = convertData(validate_data)"
   ]
  },
  {
   "cell_type": "code",
   "execution_count": 961,
   "id": "exempt-relation",
   "metadata": {},
   "outputs": [],
   "source": [
    "# scale data:\n",
    "\n",
    "# Standard Scaler:\n",
    "\n",
    "# X = StandardScaler().fit_transform(X)\n",
    "# Y = StandardScaler().fit_transform(Y)\n",
    "\n",
    "# X_train = StandardScaler().fit_transform(X_train)\n",
    "# Y_train = StandardScaler().fit_transform(Y_train)\n",
    "\n",
    "# X_test = StandardScaler().fit_transform(X_test)\n",
    "# Y_test = StandardScaler().fit_transform(Y_test)\n",
    "\n",
    "# X_validate = StandardScaler().fit_transform(X_validate)\n",
    "# Y_validate = StandardScaler().fit_transform(Y_validate)\n",
    "\n",
    "\n",
    "# Quantile Transformer:\n",
    "\n",
    "# X = QuantileTransformer(n_quantiles=len(X_train), output_distribution='uniform').fit_transform(X)\n",
    "# Y = QuantileTransformer(n_quantiles=len(Y_train), output_distribution='uniform').fit_transform(Y)\n",
    "\n",
    "# X_train = QuantileTransformer(n_quantiles=len(X_train), output_distribution='uniform').fit_transform(X_train)\n",
    "# Y_train = QuantileTransformer(n_quantiles=len(Y_train), output_distribution='uniform').fit_transform(Y_train)\n",
    "\n",
    "# X_test = QuantileTransformer(n_quantiles=len(X_test), output_distribution='uniform').fit_transform(X_test)\n",
    "# Y_test = QuantileTransformer(n_quantiles=len(X_test), output_distribution='uniform').fit_transform(Y_test)\n",
    "\n",
    "# X_validate = QuantileTransformer(n_quantiles=len(X_validate), output_distribution='uniform').fit_transform(X_validate)\n",
    "# Y_validate = QuantileTransformer(n_quantiles=len(Y_validate), output_distribution='uniform').fit_transform(Y_validate)\n",
    "\n",
    "# Power Transformer:\n",
    "\n",
    "# X = PowerTransformer(method='yeo-johnson').fit_transform(X)\n",
    "# Y = PowerTransformer(method='yeo-johnson').fit_transform(Y)\n",
    "\n",
    "# X_train = PowerTransformer(method='yeo-johnson').fit_transform(X_train)\n",
    "# Y_train = PowerTransformer(method='yeo-johnson').fit_transform(Y_train)\n",
    "\n",
    "# X_test = PowerTransformer(method='yeo-johnson').fit_transform(X_test)\n",
    "# Y_test = PowerTransformer(method='yeo-johnson').fit_transform(Y_test)\n",
    "\n",
    "# X_validate = PowerTransformer(method='yeo-johnson').fit_transform(X_validate)\n",
    "# Y_validate = PowerTransformer(method='yeo-johnson').fit_transform(Y_validate)\n",
    "\n",
    "# Log Transformer:\n",
    "\n",
    "X = FunctionTransformer(np.log1p).fit_transform(X)\n",
    "Y = FunctionTransformer(np.log1p).fit_transform(Y)\n",
    "\n",
    "X_train = FunctionTransformer(np.log1p).fit_transform(X_train)\n",
    "Y_train = FunctionTransformer(np.log1p).fit_transform(Y_train)\n",
    "\n",
    "X_test = FunctionTransformer(np.log1p).fit_transform(X_test)\n",
    "Y_test = FunctionTransformer(np.log1p).fit_transform(Y_test)\n",
    "\n",
    "X_validate = FunctionTransformer(np.log1p).fit_transform(X_validate)\n",
    "Y_validate = FunctionTransformer(np.log1p).fit_transform(Y_validate)"
   ]
  },
  {
   "cell_type": "code",
   "execution_count": 962,
   "id": "limited-cliff",
   "metadata": {},
   "outputs": [],
   "source": [
    "# # Local Outlier Factor:\n",
    "# from sklearn.neighbors import LocalOutlierFactor\n",
    "\n",
    "# lof = LocalOutlierFactor()\n",
    "# yhat = lof.fit_predict(X_train)\n",
    "# mask = yhat != -1\n",
    "# X_train, Y_train = X_train[mask, :], Y_train[mask]"
   ]
  },
  {
   "cell_type": "code",
   "execution_count": 963,
   "id": "palestinian-teaching",
   "metadata": {},
   "outputs": [
    {
     "data": {
      "text/plain": [
       "Text(0.5, 1.0, 'Y_validate')"
      ]
     },
     "execution_count": 963,
     "metadata": {},
     "output_type": "execute_result"
    },
    {
     "data": {
      "image/png": "[encoded data removed]",
      "text/plain": [
       "<Figure size 1080x504 with 8 Axes>"
      ]
     },
     "metadata": {
      "needs_background": "light"
     },
     "output_type": "display_data"
    }
   ],
   "source": [
    "fig, ax = plt.subplots(2, 4, figsize=(15, 7))\n",
    "ax[0][0].plot(X)\n",
    "ax[0][0].set_title('X')\n",
    "ax[0][1].plot(X_train)\n",
    "ax[0][1].set_title('X_train')\n",
    "ax[0][2].plot(X_test)\n",
    "ax[0][2].set_title('X_test')\n",
    "ax[0][3].plot(X_validate)\n",
    "ax[0][3].set_title('X_validate')\n",
    "\n",
    "ax[1][0].plot(Y)\n",
    "ax[1][0].set_title('Y')\n",
    "ax[1][1].plot(Y_train)\n",
    "ax[1][1].set_title('Y_train')\n",
    "ax[1][2].plot(Y_test)\n",
    "ax[1][2].set_title('Y_test')\n",
    "ax[1][3].plot(Y_validate)\n",
    "ax[1][3].set_title('Y_validate')"
   ]
  },
  {
   "cell_type": "code",
   "execution_count": 964,
   "id": "focal-litigation",
   "metadata": {},
   "outputs": [],
   "source": [
    "# find model by using linear regression:\n",
    "linear_model = linearRegressionModel(X_train, Y_train)\n",
    "\n",
    "# find Y by using linear model predict:\n",
    "Y_train_pred = linear_model.predict(X_train)\n",
    "Y_test_pred = linear_model.predict(X_test)\n",
    "\n",
    "# Calculate RMSE on train and test data:\n",
    "train_linear_rmse = np.sqrt(mean_squared_error(Y_train, Y_train_pred))\n",
    "test_linear_rmse = np.sqrt(mean_squared_error(Y_test, Y_test_pred))"
   ]
  },
  {
   "cell_type": "code",
   "execution_count": 965,
   "id": "wanted-fireplace",
   "metadata": {},
   "outputs": [
    {
     "name": "stdout",
     "output_type": "stream",
     "text": [
      "\n",
      "Linear Regression Model: \n"
     ]
    },
    {
     "data": {
      "image/png": "[encoded data removed]",
      "text/plain": [
       "<Figure size 504x288 with 1 Axes>"
      ]
     },
     "metadata": {
      "needs_background": "light"
     },
     "output_type": "display_data"
    }
   ],
   "source": [
    "print(\"\\nLinear Regression Model: \")\n",
    "# Plot linear model:\n",
    "plt.figure(figsize=(7, 4))\n",
    "plt.scatter(X_train, Y_train, marker='o', color='blue', label='train_data')\n",
    "plt.scatter(X_test, Y_test, marker='o', color='red', label='test_data')\n",
    "plt.scatter(X_validate, Y_validate, marker='o', color='green', label='validate_data')\n",
    "plt.plot(X_train, Y_train_pred, color='black', label='train_model')\n",
    "plt.legend(bbox_to_anchor=(1,1), loc=\"upper left\")\n",
    "plt.tight_layout()\n",
    "plt.xlabel('area')\n",
    "plt.ylabel('price')\n",
    "plt.show()"
   ]
  },
  {
   "cell_type": "code",
   "execution_count": 966,
   "id": "impaired-bulletin",
   "metadata": {
    "scrolled": true
   },
   "outputs": [
    {
     "name": "stdout",
     "output_type": "stream",
     "text": [
      "Linear model coefficient: [[0.65718878]]\n",
      "Linear model intercept: [-2.08867294]\n",
      "Linear model rmse on train data: 0.1026809484720385\n",
      "Linear model rmse on test data: 0.11008831984992905\n",
      "\n",
      "\n",
      "\n"
     ]
    }
   ],
   "source": [
    "# Linear Model coefficient and intercept:\n",
    "print(\"Linear model coefficient: {}\".format(linear_model.coef_))\n",
    "print(\"Linear model intercept: {}\".format(linear_model.intercept_))\n",
    "\n",
    "# linear_model rmse:\n",
    "print(\"Linear model rmse on train data: {}\".format(train_linear_rmse))\n",
    "print(\"Linear model rmse on test data: {}\".format(test_linear_rmse))\n",
    "print(\"\\n\\n\")"
   ]
  },
  {
   "cell_type": "code",
   "execution_count": 967,
   "id": "miniature-absence",
   "metadata": {},
   "outputs": [
    {
     "name": "stdout",
     "output_type": "stream",
     "text": [
      "\n",
      "Selected Polynomial Regression with degree = 5 and validate RMSE = 0.0285792025209071\n"
     ]
    },
    {
     "name": "stderr",
     "output_type": "stream",
     "text": [
      "D:\\Software\\Miniconda3\\lib\\site-packages\\sklearn\\linear_model\\_coordinate_descent.py:530: ConvergenceWarning: Objective did not converge. You might want to increase the number of iterations. Duality gap: 0.011799630674466863, tolerance: 0.0010991917739653302\n",
      "  model = cd_fast.enet_coordinate_descent(\n",
      "D:\\Software\\Miniconda3\\lib\\site-packages\\sklearn\\metrics\\_regression.py:682: UndefinedMetricWarning: R^2 score is not well-defined with less than two samples.\n",
      "  warnings.warn(msg, UndefinedMetricWarning)\n",
      "D:\\Software\\Miniconda3\\lib\\site-packages\\sklearn\\metrics\\_regression.py:682: UndefinedMetricWarning: R^2 score is not well-defined with less than two samples.\n",
      "  warnings.warn(msg, UndefinedMetricWarning)\n",
      "D:\\Software\\Miniconda3\\lib\\site-packages\\sklearn\\metrics\\_regression.py:682: UndefinedMetricWarning: R^2 score is not well-defined with less than two samples.\n",
      "  warnings.warn(msg, UndefinedMetricWarning)\n",
      "D:\\Software\\Miniconda3\\lib\\site-packages\\sklearn\\metrics\\_regression.py:682: UndefinedMetricWarning: R^2 score is not well-defined with less than two samples.\n",
      "  warnings.warn(msg, UndefinedMetricWarning)\n",
      "D:\\Software\\Miniconda3\\lib\\site-packages\\sklearn\\metrics\\_regression.py:682: UndefinedMetricWarning: R^2 score is not well-defined with less than two samples.\n",
      "  warnings.warn(msg, UndefinedMetricWarning)\n",
      "D:\\Software\\Miniconda3\\lib\\site-packages\\sklearn\\metrics\\_regression.py:682: UndefinedMetricWarning: R^2 score is not well-defined with less than two samples.\n",
      "  warnings.warn(msg, UndefinedMetricWarning)\n",
      "D:\\Software\\Miniconda3\\lib\\site-packages\\sklearn\\metrics\\_regression.py:682: UndefinedMetricWarning: R^2 score is not well-defined with less than two samples.\n",
      "  warnings.warn(msg, UndefinedMetricWarning)\n",
      "D:\\Software\\Miniconda3\\lib\\site-packages\\sklearn\\metrics\\_regression.py:682: UndefinedMetricWarning: R^2 score is not well-defined with less than two samples.\n",
      "  warnings.warn(msg, UndefinedMetricWarning)\n",
      "D:\\Software\\Miniconda3\\lib\\site-packages\\sklearn\\metrics\\_regression.py:682: UndefinedMetricWarning: R^2 score is not well-defined with less than two samples.\n",
      "  warnings.warn(msg, UndefinedMetricWarning)\n",
      "D:\\Software\\Miniconda3\\lib\\site-packages\\sklearn\\metrics\\_regression.py:682: UndefinedMetricWarning: R^2 score is not well-defined with less than two samples.\n",
      "  warnings.warn(msg, UndefinedMetricWarning)\n",
      "D:\\Software\\Miniconda3\\lib\\site-packages\\sklearn\\metrics\\_regression.py:682: UndefinedMetricWarning: R^2 score is not well-defined with less than two samples.\n",
      "  warnings.warn(msg, UndefinedMetricWarning)\n",
      "D:\\Software\\Miniconda3\\lib\\site-packages\\sklearn\\metrics\\_regression.py:682: UndefinedMetricWarning: R^2 score is not well-defined with less than two samples.\n",
      "  warnings.warn(msg, UndefinedMetricWarning)\n",
      "D:\\Software\\Miniconda3\\lib\\site-packages\\sklearn\\metrics\\_regression.py:682: UndefinedMetricWarning: R^2 score is not well-defined with less than two samples.\n",
      "  warnings.warn(msg, UndefinedMetricWarning)\n",
      "D:\\Software\\Miniconda3\\lib\\site-packages\\sklearn\\metrics\\_regression.py:682: UndefinedMetricWarning: R^2 score is not well-defined with less than two samples.\n",
      "  warnings.warn(msg, UndefinedMetricWarning)\n",
      "D:\\Software\\Miniconda3\\lib\\site-packages\\sklearn\\metrics\\_regression.py:682: UndefinedMetricWarning: R^2 score is not well-defined with less than two samples.\n",
      "  warnings.warn(msg, UndefinedMetricWarning)\n",
      "D:\\Software\\Miniconda3\\lib\\site-packages\\sklearn\\metrics\\_regression.py:682: UndefinedMetricWarning: R^2 score is not well-defined with less than two samples.\n",
      "  warnings.warn(msg, UndefinedMetricWarning)\n",
      "D:\\Software\\Miniconda3\\lib\\site-packages\\sklearn\\metrics\\_regression.py:682: UndefinedMetricWarning: R^2 score is not well-defined with less than two samples.\n",
      "  warnings.warn(msg, UndefinedMetricWarning)\n",
      "D:\\Software\\Miniconda3\\lib\\site-packages\\sklearn\\metrics\\_regression.py:682: UndefinedMetricWarning: R^2 score is not well-defined with less than two samples.\n",
      "  warnings.warn(msg, UndefinedMetricWarning)\n",
      "D:\\Software\\Miniconda3\\lib\\site-packages\\sklearn\\metrics\\_regression.py:682: UndefinedMetricWarning: R^2 score is not well-defined with less than two samples.\n",
      "  warnings.warn(msg, UndefinedMetricWarning)\n",
      "D:\\Software\\Miniconda3\\lib\\site-packages\\sklearn\\metrics\\_regression.py:682: UndefinedMetricWarning: R^2 score is not well-defined with less than two samples.\n",
      "  warnings.warn(msg, UndefinedMetricWarning)\n",
      "D:\\Software\\Miniconda3\\lib\\site-packages\\sklearn\\metrics\\_regression.py:682: UndefinedMetricWarning: R^2 score is not well-defined with less than two samples.\n",
      "  warnings.warn(msg, UndefinedMetricWarning)\n",
      "D:\\Software\\Miniconda3\\lib\\site-packages\\sklearn\\metrics\\_regression.py:682: UndefinedMetricWarning: R^2 score is not well-defined with less than two samples.\n",
      "  warnings.warn(msg, UndefinedMetricWarning)\n",
      "D:\\Software\\Miniconda3\\lib\\site-packages\\sklearn\\metrics\\_regression.py:682: UndefinedMetricWarning: R^2 score is not well-defined with less than two samples.\n",
      "  warnings.warn(msg, UndefinedMetricWarning)\n",
      "D:\\Software\\Miniconda3\\lib\\site-packages\\sklearn\\metrics\\_regression.py:682: UndefinedMetricWarning: R^2 score is not well-defined with less than two samples.\n",
      "  warnings.warn(msg, UndefinedMetricWarning)\n",
      "D:\\Software\\Miniconda3\\lib\\site-packages\\sklearn\\metrics\\_regression.py:682: UndefinedMetricWarning: R^2 score is not well-defined with less than two samples.\n",
      "  warnings.warn(msg, UndefinedMetricWarning)\n",
      "D:\\Software\\Miniconda3\\lib\\site-packages\\sklearn\\metrics\\_regression.py:682: UndefinedMetricWarning: R^2 score is not well-defined with less than two samples.\n",
      "  warnings.warn(msg, UndefinedMetricWarning)\n",
      "D:\\Software\\Miniconda3\\lib\\site-packages\\sklearn\\metrics\\_regression.py:682: UndefinedMetricWarning: R^2 score is not well-defined with less than two samples.\n",
      "  warnings.warn(msg, UndefinedMetricWarning)\n",
      "D:\\Software\\Miniconda3\\lib\\site-packages\\sklearn\\metrics\\_regression.py:682: UndefinedMetricWarning: R^2 score is not well-defined with less than two samples.\n",
      "  warnings.warn(msg, UndefinedMetricWarning)\n",
      "D:\\Software\\Miniconda3\\lib\\site-packages\\sklearn\\metrics\\_regression.py:682: UndefinedMetricWarning: R^2 score is not well-defined with less than two samples.\n",
      "  warnings.warn(msg, UndefinedMetricWarning)\n",
      "D:\\Software\\Miniconda3\\lib\\site-packages\\sklearn\\metrics\\_regression.py:682: UndefinedMetricWarning: R^2 score is not well-defined with less than two samples.\n",
      "  warnings.warn(msg, UndefinedMetricWarning)\n",
      "D:\\Software\\Miniconda3\\lib\\site-packages\\sklearn\\metrics\\_regression.py:682: UndefinedMetricWarning: R^2 score is not well-defined with less than two samples.\n",
      "  warnings.warn(msg, UndefinedMetricWarning)\n",
      "D:\\Software\\Miniconda3\\lib\\site-packages\\sklearn\\metrics\\_regression.py:682: UndefinedMetricWarning: R^2 score is not well-defined with less than two samples.\n",
      "  warnings.warn(msg, UndefinedMetricWarning)\n",
      "D:\\Software\\Miniconda3\\lib\\site-packages\\sklearn\\metrics\\_regression.py:682: UndefinedMetricWarning: R^2 score is not well-defined with less than two samples.\n",
      "  warnings.warn(msg, UndefinedMetricWarning)\n",
      "D:\\Software\\Miniconda3\\lib\\site-packages\\sklearn\\metrics\\_regression.py:682: UndefinedMetricWarning: R^2 score is not well-defined with less than two samples.\n",
      "  warnings.warn(msg, UndefinedMetricWarning)\n",
      "D:\\Software\\Miniconda3\\lib\\site-packages\\sklearn\\metrics\\_regression.py:682: UndefinedMetricWarning: R^2 score is not well-defined with less than two samples.\n",
      "  warnings.warn(msg, UndefinedMetricWarning)\n",
      "D:\\Software\\Miniconda3\\lib\\site-packages\\sklearn\\metrics\\_regression.py:682: UndefinedMetricWarning: R^2 score is not well-defined with less than two samples.\n",
      "  warnings.warn(msg, UndefinedMetricWarning)\n",
      "D:\\Software\\Miniconda3\\lib\\site-packages\\sklearn\\metrics\\_regression.py:682: UndefinedMetricWarning: R^2 score is not well-defined with less than two samples.\n",
      "  warnings.warn(msg, UndefinedMetricWarning)\n",
      "D:\\Software\\Miniconda3\\lib\\site-packages\\sklearn\\metrics\\_regression.py:682: UndefinedMetricWarning: R^2 score is not well-defined with less than two samples.\n",
      "  warnings.warn(msg, UndefinedMetricWarning)\n",
      "D:\\Software\\Miniconda3\\lib\\site-packages\\sklearn\\metrics\\_regression.py:682: UndefinedMetricWarning: R^2 score is not well-defined with less than two samples.\n",
      "  warnings.warn(msg, UndefinedMetricWarning)\n",
      "D:\\Software\\Miniconda3\\lib\\site-packages\\sklearn\\metrics\\_regression.py:682: UndefinedMetricWarning: R^2 score is not well-defined with less than two samples.\n",
      "  warnings.warn(msg, UndefinedMetricWarning)\n",
      "D:\\Software\\Miniconda3\\lib\\site-packages\\sklearn\\metrics\\_regression.py:682: UndefinedMetricWarning: R^2 score is not well-defined with less than two samples.\n",
      "  warnings.warn(msg, UndefinedMetricWarning)\n",
      "D:\\Software\\Miniconda3\\lib\\site-packages\\sklearn\\metrics\\_regression.py:682: UndefinedMetricWarning: R^2 score is not well-defined with less than two samples.\n",
      "  warnings.warn(msg, UndefinedMetricWarning)\n",
      "D:\\Software\\Miniconda3\\lib\\site-packages\\sklearn\\metrics\\_regression.py:682: UndefinedMetricWarning: R^2 score is not well-defined with less than two samples.\n",
      "  warnings.warn(msg, UndefinedMetricWarning)\n",
      "D:\\Software\\Miniconda3\\lib\\site-packages\\sklearn\\metrics\\_regression.py:682: UndefinedMetricWarning: R^2 score is not well-defined with less than two samples.\n",
      "  warnings.warn(msg, UndefinedMetricWarning)\n",
      "D:\\Software\\Miniconda3\\lib\\site-packages\\sklearn\\metrics\\_regression.py:682: UndefinedMetricWarning: R^2 score is not well-defined with less than two samples.\n",
      "  warnings.warn(msg, UndefinedMetricWarning)\n",
      "D:\\Software\\Miniconda3\\lib\\site-packages\\sklearn\\metrics\\_regression.py:682: UndefinedMetricWarning: R^2 score is not well-defined with less than two samples.\n",
      "  warnings.warn(msg, UndefinedMetricWarning)\n",
      "D:\\Software\\Miniconda3\\lib\\site-packages\\sklearn\\metrics\\_regression.py:682: UndefinedMetricWarning: R^2 score is not well-defined with less than two samples.\n",
      "  warnings.warn(msg, UndefinedMetricWarning)\n",
      "D:\\Software\\Miniconda3\\lib\\site-packages\\sklearn\\metrics\\_regression.py:682: UndefinedMetricWarning: R^2 score is not well-defined with less than two samples.\n",
      "  warnings.warn(msg, UndefinedMetricWarning)\n",
      "D:\\Software\\Miniconda3\\lib\\site-packages\\sklearn\\metrics\\_regression.py:682: UndefinedMetricWarning: R^2 score is not well-defined with less than two samples.\n",
      "  warnings.warn(msg, UndefinedMetricWarning)\n",
      "D:\\Software\\Miniconda3\\lib\\site-packages\\sklearn\\metrics\\_regression.py:682: UndefinedMetricWarning: R^2 score is not well-defined with less than two samples.\n",
      "  warnings.warn(msg, UndefinedMetricWarning)\n",
      "D:\\Software\\Miniconda3\\lib\\site-packages\\sklearn\\metrics\\_regression.py:682: UndefinedMetricWarning: R^2 score is not well-defined with less than two samples.\n",
      "  warnings.warn(msg, UndefinedMetricWarning)\n",
      "D:\\Software\\Miniconda3\\lib\\site-packages\\sklearn\\metrics\\_regression.py:682: UndefinedMetricWarning: R^2 score is not well-defined with less than two samples.\n",
      "  warnings.warn(msg, UndefinedMetricWarning)\n",
      "D:\\Software\\Miniconda3\\lib\\site-packages\\sklearn\\metrics\\_regression.py:682: UndefinedMetricWarning: R^2 score is not well-defined with less than two samples.\n",
      "  warnings.warn(msg, UndefinedMetricWarning)\n",
      "D:\\Software\\Miniconda3\\lib\\site-packages\\sklearn\\metrics\\_regression.py:682: UndefinedMetricWarning: R^2 score is not well-defined with less than two samples.\n",
      "  warnings.warn(msg, UndefinedMetricWarning)\n",
      "D:\\Software\\Miniconda3\\lib\\site-packages\\sklearn\\metrics\\_regression.py:682: UndefinedMetricWarning: R^2 score is not well-defined with less than two samples.\n",
      "  warnings.warn(msg, UndefinedMetricWarning)\n",
      "D:\\Software\\Miniconda3\\lib\\site-packages\\sklearn\\metrics\\_regression.py:682: UndefinedMetricWarning: R^2 score is not well-defined with less than two samples.\n",
      "  warnings.warn(msg, UndefinedMetricWarning)\n",
      "D:\\Software\\Miniconda3\\lib\\site-packages\\sklearn\\metrics\\_regression.py:682: UndefinedMetricWarning: R^2 score is not well-defined with less than two samples.\n",
      "  warnings.warn(msg, UndefinedMetricWarning)\n"
     ]
    },
    {
     "name": "stdout",
     "output_type": "stream",
     "text": [
      "Selected Regularized Regression with alpha = 1e-05 and validate RMSE = 0.051755976924059414\n",
      "Polynomial Regression cross validation score:  -4.248768887036825\n",
      "Selected Regularized Regression cross validation score:  -4.244656936274129\n"
     ]
    },
    {
     "name": "stderr",
     "output_type": "stream",
     "text": [
      "D:\\Software\\Miniconda3\\lib\\site-packages\\sklearn\\metrics\\_regression.py:682: UndefinedMetricWarning: R^2 score is not well-defined with less than two samples.\n",
      "  warnings.warn(msg, UndefinedMetricWarning)\n",
      "D:\\Software\\Miniconda3\\lib\\site-packages\\sklearn\\metrics\\_regression.py:682: UndefinedMetricWarning: R^2 score is not well-defined with less than two samples.\n",
      "  warnings.warn(msg, UndefinedMetricWarning)\n",
      "D:\\Software\\Miniconda3\\lib\\site-packages\\sklearn\\metrics\\_regression.py:682: UndefinedMetricWarning: R^2 score is not well-defined with less than two samples.\n",
      "  warnings.warn(msg, UndefinedMetricWarning)\n",
      "D:\\Software\\Miniconda3\\lib\\site-packages\\sklearn\\metrics\\_regression.py:682: UndefinedMetricWarning: R^2 score is not well-defined with less than two samples.\n",
      "  warnings.warn(msg, UndefinedMetricWarning)\n",
      "D:\\Software\\Miniconda3\\lib\\site-packages\\sklearn\\metrics\\_regression.py:682: UndefinedMetricWarning: R^2 score is not well-defined with less than two samples.\n",
      "  warnings.warn(msg, UndefinedMetricWarning)\n",
      "D:\\Software\\Miniconda3\\lib\\site-packages\\sklearn\\metrics\\_regression.py:682: UndefinedMetricWarning: R^2 score is not well-defined with less than two samples.\n",
      "  warnings.warn(msg, UndefinedMetricWarning)\n",
      "D:\\Software\\Miniconda3\\lib\\site-packages\\sklearn\\metrics\\_regression.py:682: UndefinedMetricWarning: R^2 score is not well-defined with less than two samples.\n",
      "  warnings.warn(msg, UndefinedMetricWarning)\n",
      "D:\\Software\\Miniconda3\\lib\\site-packages\\sklearn\\metrics\\_regression.py:682: UndefinedMetricWarning: R^2 score is not well-defined with less than two samples.\n",
      "  warnings.warn(msg, UndefinedMetricWarning)\n",
      "D:\\Software\\Miniconda3\\lib\\site-packages\\sklearn\\metrics\\_regression.py:682: UndefinedMetricWarning: R^2 score is not well-defined with less than two samples.\n",
      "  warnings.warn(msg, UndefinedMetricWarning)\n",
      "D:\\Software\\Miniconda3\\lib\\site-packages\\sklearn\\metrics\\_regression.py:682: UndefinedMetricWarning: R^2 score is not well-defined with less than two samples.\n",
      "  warnings.warn(msg, UndefinedMetricWarning)\n",
      "D:\\Software\\Miniconda3\\lib\\site-packages\\sklearn\\metrics\\_regression.py:682: UndefinedMetricWarning: R^2 score is not well-defined with less than two samples.\n",
      "  warnings.warn(msg, UndefinedMetricWarning)\n",
      "D:\\Software\\Miniconda3\\lib\\site-packages\\sklearn\\metrics\\_regression.py:682: UndefinedMetricWarning: R^2 score is not well-defined with less than two samples.\n",
      "  warnings.warn(msg, UndefinedMetricWarning)\n",
      "D:\\Software\\Miniconda3\\lib\\site-packages\\sklearn\\metrics\\_regression.py:682: UndefinedMetricWarning: R^2 score is not well-defined with less than two samples.\n",
      "  warnings.warn(msg, UndefinedMetricWarning)\n",
      "D:\\Software\\Miniconda3\\lib\\site-packages\\sklearn\\metrics\\_regression.py:682: UndefinedMetricWarning: R^2 score is not well-defined with less than two samples.\n",
      "  warnings.warn(msg, UndefinedMetricWarning)\n",
      "D:\\Software\\Miniconda3\\lib\\site-packages\\sklearn\\metrics\\_regression.py:682: UndefinedMetricWarning: R^2 score is not well-defined with less than two samples.\n",
      "  warnings.warn(msg, UndefinedMetricWarning)\n",
      "D:\\Software\\Miniconda3\\lib\\site-packages\\sklearn\\metrics\\_regression.py:682: UndefinedMetricWarning: R^2 score is not well-defined with less than two samples.\n",
      "  warnings.warn(msg, UndefinedMetricWarning)\n",
      "D:\\Software\\Miniconda3\\lib\\site-packages\\sklearn\\metrics\\_regression.py:682: UndefinedMetricWarning: R^2 score is not well-defined with less than two samples.\n",
      "  warnings.warn(msg, UndefinedMetricWarning)\n",
      "D:\\Software\\Miniconda3\\lib\\site-packages\\sklearn\\metrics\\_regression.py:682: UndefinedMetricWarning: R^2 score is not well-defined with less than two samples.\n",
      "  warnings.warn(msg, UndefinedMetricWarning)\n",
      "D:\\Software\\Miniconda3\\lib\\site-packages\\sklearn\\metrics\\_regression.py:682: UndefinedMetricWarning: R^2 score is not well-defined with less than two samples.\n",
      "  warnings.warn(msg, UndefinedMetricWarning)\n",
      "D:\\Software\\Miniconda3\\lib\\site-packages\\sklearn\\metrics\\_regression.py:682: UndefinedMetricWarning: R^2 score is not well-defined with less than two samples.\n",
      "  warnings.warn(msg, UndefinedMetricWarning)\n",
      "D:\\Software\\Miniconda3\\lib\\site-packages\\sklearn\\metrics\\_regression.py:682: UndefinedMetricWarning: R^2 score is not well-defined with less than two samples.\n",
      "  warnings.warn(msg, UndefinedMetricWarning)\n",
      "D:\\Software\\Miniconda3\\lib\\site-packages\\sklearn\\metrics\\_regression.py:682: UndefinedMetricWarning: R^2 score is not well-defined with less than two samples.\n",
      "  warnings.warn(msg, UndefinedMetricWarning)\n",
      "D:\\Software\\Miniconda3\\lib\\site-packages\\sklearn\\metrics\\_regression.py:682: UndefinedMetricWarning: R^2 score is not well-defined with less than two samples.\n",
      "  warnings.warn(msg, UndefinedMetricWarning)\n"
     ]
    }
   ],
   "source": [
    "# find model by using polynomial regression:\n",
    "poly_model, degree, train_rmse, validate_rmse, test_rmse = polynomialRegression(X, Y, X_train, Y_train, X_test, Y_test, X_validate, Y_validate)\n",
    "\n",
    "# transform X and X_test:\n",
    "polynomial_features = PolynomialFeatures(degree=degree)\n",
    "X_train_poly = polynomial_features.fit_transform(X_train)\n",
    "X_test_poly = polynomial_features.fit_transform(X_test)\n",
    "\n",
    "# Try predicting Y\n",
    "Y_train_poly_pred = poly_model.predict(X_train_poly)\n",
    "Y_test_poly_pred = poly_model.predict(X_test_poly)"
   ]
  },
  {
   "cell_type": "code",
   "execution_count": 968,
   "id": "angry-stomach",
   "metadata": {},
   "outputs": [
    {
     "data": {
      "image/png": "[encoded data removed]",
      "text/plain": [
       "<Figure size 504x288 with 1 Axes>"
      ]
     },
     "metadata": {
      "needs_background": "light"
     },
     "output_type": "display_data"
    }
   ],
   "source": [
    "# Plot model:\n",
    "plt.figure(figsize=(7, 4))\n",
    "plt.scatter(X_train, Y_train, marker='o', color='blue', label='train_data')\n",
    "plt.scatter(X_test, Y_test, marker='o', color='red', label='test_data')\n",
    "plt.scatter(X_validate, Y_validate, marker='o', color='green', label='validate_data')\n",
    "plt.plot(X_train, Y_train_poly_pred, color='black', label='train_model')\n",
    "plt.legend(bbox_to_anchor=(1,1), loc=\"upper left\")\n",
    "plt.tight_layout()\n",
    "plt.xlabel('area')\n",
    "plt.ylabel('price')\n",
    "plt.show()"
   ]
  },
  {
   "cell_type": "code",
   "execution_count": 969,
   "id": "biological-hobby",
   "metadata": {},
   "outputs": [
    {
     "name": "stdout",
     "output_type": "stream",
     "text": [
      "Polynomial Regression with degree = 5\n",
      "\n",
      "Polynomial model coefficient:\n",
      "[ 0.00000000e+00 -1.79456993e-01  2.10081511e-02  5.28057566e-03\n",
      "  4.18973820e-04  1.03409111e-05]\n",
      "Polynomial model intercept: [0.58953195]\n",
      "\n",
      "Polynomial Model RMSE on train data: 0.09944310966760825\n",
      "Polynomial Model RMSE on validate data: 0.051755976924059414\n",
      "Polynomial Model RMSE on test data: 0.12042044743747166\n"
     ]
    }
   ],
   "source": [
    "print(\"Polynomial Regression with degree = {}\\n\".format(degree))\n",
    "# Polynomial Model coefficient and intercept:\n",
    "print(\"Polynomial model coefficient:\")\n",
    "print(poly_model.coef_)\n",
    "print(\"Polynomial model intercept: {}\\n\".format(poly_model.intercept_))\n",
    "\n",
    "# poly_model rmse:\n",
    "print(\"Polynomial Model RMSE on train data: {}\".format(train_rmse))\n",
    "print(\"Polynomial Model RMSE on validate data: {}\".format(validate_rmse))\n",
    "print(\"Polynomial Model RMSE on test data: {}\".format(test_rmse))"
   ]
  },
  {
   "cell_type": "code",
   "execution_count": 970,
   "id": "aware-bosnia",
   "metadata": {},
   "outputs": [
    {
     "name": "stdout",
     "output_type": "stream",
     "text": [
      "\n",
      "\n",
      "Linear Model score on train dataset:  0.8561209595699271\n",
      "Linear Model score on test dataset:  0.839026055978987\n",
      "\n",
      "\n",
      "Poly Model score on train dataset:  0.8650517731129436\n",
      "Poly Model score on test dataset:  0.8073923330648941\n"
     ]
    }
   ],
   "source": [
    "# score the model with test data:\n",
    "\n",
    "# Linear score:\n",
    "print(\"\\n\")\n",
    "print(\"Linear Model score on train dataset: \", linear_model.score(X_train, Y_train))\n",
    "print(\"Linear Model score on test dataset: \", linear_model.score(X_test, Y_test))\n",
    "\n",
    "# Poly score:\n",
    "print(\"\\n\")\n",
    "print(\"Poly Model score on train dataset: \", poly_model.score(X_train_poly, Y_train))\n",
    "print(\"Poly Model score on test dataset: \", poly_model.score(X_test_poly, Y_test))"
   ]
  },
  {
   "cell_type": "code",
   "execution_count": 971,
   "id": "lesser-congo",
   "metadata": {},
   "outputs": [
    {
     "name": "stdout",
     "output_type": "stream",
     "text": [
      "-4.248768887036825\n",
      "-4.244656936274129\n"
     ]
    }
   ],
   "source": [
    "# calc cross validation score of linear to compare with poly for best model selection\n",
    "linear_cv = np.mean(cross_val_score(linear_model, X, Y, cv=5))\n",
    "poly_cv = np.mean(cross_val_score(poly_model, X, Y, cv=5))\n",
    "best_model = linear_model if linear_cv > poly_cv else poly_model\n",
    "best_degree = 1 if linear_cv > poly_cv else degree\n",
    "\n",
    "print(linear_cv)\n",
    "print(poly_cv)"
   ]
  },
  {
   "cell_type": "code",
   "execution_count": 972,
   "id": "acute-archives",
   "metadata": {},
   "outputs": [],
   "source": [
    "import unidecode\n",
    "street = unidecode.unidecode(data['street'].iloc[0].lower().replace(\" \", \"\"))\n",
    "ward = unidecode.unidecode(data['ward'].iloc[0].lower().replace(\" \", \"\"))\n",
    "district = unidecode.unidecode(data['district'].iloc[0].lower().replace(\" \", \"\"))\n",
    "model_name = street + \"_\" + ward + \"_\" + district"
   ]
  },
  {
   "cell_type": "code",
   "execution_count": 973,
   "id": "juvenile-share",
   "metadata": {},
   "outputs": [
    {
     "data": {
      "text/plain": [
       "['trained/tranvangiau_leminhxuan_binhchanh.joblib']"
      ]
     },
     "execution_count": 973,
     "metadata": {},
     "output_type": "execute_result"
    }
   ],
   "source": [
    "# Save model after training for later use:\n",
    "from joblib import dump, load\n",
    "\n",
    "dump((best_model, best_degree), 'trained/' + model_name + \".joblib\")"
   ]
  },
  {
   "cell_type": "code",
   "execution_count": 974,
   "id": "surprising-brunswick",
   "metadata": {},
   "outputs": [
    {
     "data": {
      "text/plain": [
       "array([0.89607394])"
      ]
     },
     "execution_count": 974,
     "metadata": {},
     "output_type": "execute_result"
    }
   ],
   "source": [
    "# load model:\n",
    "loaded_model, loaded_degree = load('trained/' + model_name + \".joblib\")\n",
    "\n",
    "test_area = np.array([92.00])\n",
    "test_area = test_area[:, np.newaxis]\n",
    "test_area = FunctionTransformer(np.log1p).fit_transform(test_area)\n",
    "\n",
    "if loaded_degree == 1:\n",
    "    predicted_price = loaded_model.predict(test_area)\n",
    "else:\n",
    "    test_area_poly = PolynomialFeatures(degree=loaded_degree).fit_transform(test_area)\n",
    "    predicted_price = loaded_model.predict(test_area_poly)\n",
    "    \n",
    "FunctionTransformer(np.log1p).inverse_transform(predicted_price)"
   ]
  }
 ],
 "metadata": {
  "kernelspec": {
   "display_name": "Python 3",
   "language": "python",
   "name": "python3"
  },
  "language_info": {
   "codemirror_mode": {
    "name": "ipython",
    "version": 3
   },
   "file_extension": ".py",
   "mimetype": "text/x-python",
   "name": "python",
   "nbconvert_exporter": "python",
   "pygments_lexer": "ipython3",
   "version": "3.8.5"
  }
 },
 "nbformat": 4,
 "nbformat_minor": 5
}
