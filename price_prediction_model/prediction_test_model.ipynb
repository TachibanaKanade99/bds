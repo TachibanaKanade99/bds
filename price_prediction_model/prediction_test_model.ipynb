{
 "cells": [
  {
   "cell_type": "code",
   "execution_count": 105,
   "id": "muslim-louisville",
   "metadata": {},
   "outputs": [],
   "source": [
    "from matplotlib import pyplot as plt\n",
    "import numpy as np\n",
    "import pandas as pd\n",
    "from sklearn import linear_model\n",
    "from sklearn.model_selection import train_test_split\n",
    "from sklearn.preprocessing import PowerTransformer, QuantileTransformer, FunctionTransformer, RobustScaler, StandardScaler\n",
    "from sklearn.preprocessing import PolynomialFeatures\n",
    "from sklearn.metrics import mean_squared_error, r2_score\n",
    "from sklearn.model_selection import cross_val_score\n",
    "\n",
    "from models.prepareData import getData, convertData, calcMinimumMaximum\n",
    "from models.models import linearRegressionModel, PolynomialFeatures, lassoRegressionModel, ridgeRegressionModel\n",
    "from models.models import RANSACRegressionModel, PolynomialRegressionModel, polynomialRegression"
   ]
  },
  {
   "cell_type": "code",
   "execution_count": 106,
   "id": "clean-thinking",
   "metadata": {},
   "outputs": [],
   "source": [
    "# data = getData('Bán căn hộ chung cư', 'Nguyễn Hữu Thọ', 'Phước Kiển', 'Nhà Bè')\n",
    "# data = getData('Bán căn hộ chung cư', 'Nguyễn Hữu Cảnh', '22', 'Bình Thạnh')\n",
    "# data = getData('Bán đất', 'Trần Văn Giàu', 'Lê Minh Xuân', 'Bình Chánh')\n",
    "# data = getData('Bán đất', 'Vườn Lài', 'An Phú Đông', '12')\n",
    "# data = getData('Bán nhà riêng', 'Quốc Lộ 13', 'Hiệp Bình Phước', 'Thủ Đức')\n",
    "# data = getData('Bán nhà riêng', 'Phạm Văn Chiêu', '9', 'Gò Vấp')\n",
    "# data = getData('Bán nhà riêng', 'Nguyễn Văn Quá', 'Đông Hưng Thuận', '12')\n",
    "# data = getData('Bán nhà riêng', 'Quốc Lộ 13', 'Hiệp Bình Phước', 'Thủ Đức')\n",
    "# data = getData('Bán đất', 'Nguyễn Thị Rành', 'Nhuận Đức', 'Củ Chi')\n",
    "# data = getData('Bán đất', 'Tôn Đản', '10', '4')\n",
    "# data = getData('Bán căn hộ chung cư', '9A', 'Bình Hưng', 'Bình Chánh')\n",
    "# data = getData('Bán nhà riêng', 'Cao Thắng', '12', '10')\n",
    "data = getData('Bán đất', 'Bà Thiên', 'Nhuận Đức', 'Củ Chi')\n",
    "# data = getData('Bán nhà riêng', 'Số 8', 'Linh Xuân', 'Thủ Đức')\n",
    "# data = getData('Bán đất', 'Bình Mỹ', 'Bình Mỹ', 'Củ Chi')\n",
    "# data = getData('Bán đất', 'Nguyễn Văn Tạo', 'Long Thới', 'Nhà Bè')\n",
    "# data = getData('Bán đất', 'Ngô Chí Quốc', 'Bình Chiểu', 'Thủ Đức')"
   ]
  },
  {
   "cell_type": "code",
   "execution_count": 107,
   "id": "raising-mentor",
   "metadata": {},
   "outputs": [],
   "source": [
    "post_type = data['post_type'].iloc[0]\n",
    "street = data['street'].iloc[0]\n",
    "ward = data['ward'].iloc[0]\n",
    "district = data['district'].iloc[0]"
   ]
  },
  {
   "cell_type": "code",
   "execution_count": 108,
   "id": "mounted-european",
   "metadata": {},
   "outputs": [
    {
     "name": "stdout",
     "output_type": "stream",
     "text": [
      "Data length:  187\n"
     ]
    }
   ],
   "source": [
    "print(\"Data length: \", len(data))"
   ]
  },
  {
   "cell_type": "code",
   "execution_count": 109,
   "id": "patient-valentine",
   "metadata": {
    "scrolled": true
   },
   "outputs": [
    {
     "data": {
      "image/png": "[encoded data removed]",
      "text/plain": [
       "<Figure size 432x288 with 1 Axes>"
      ]
     },
     "metadata": {
      "needs_background": "light"
     },
     "output_type": "display_data"
    }
   ],
   "source": [
    "plt.scatter(data['area'], data['price'])\n",
    "plt.show()"
   ]
  },
  {
   "cell_type": "markdown",
   "id": "twelve-optimum",
   "metadata": {},
   "source": [
    "## Feature Engineering"
   ]
  },
  {
   "cell_type": "markdown",
   "id": "tight-seeker",
   "metadata": {},
   "source": [
    "### Clean data by observing dataset:"
   ]
  },
  {
   "cell_type": "code",
   "execution_count": 110,
   "id": "persistent-badge",
   "metadata": {},
   "outputs": [],
   "source": [
    "data = data[~(data['area'] < 10)]\n",
    "data = data[~(data['price'] > 200)]"
   ]
  },
  {
   "cell_type": "code",
   "execution_count": 111,
   "id": "equal-grade",
   "metadata": {},
   "outputs": [],
   "source": [
    "area_mean = np.mean(data['area'])\n",
    "area_std = np.std(data['area'])\n",
    "\n",
    "price_mean = np.mean(data['price'])\n",
    "price_std = np.std(data['price'])\n",
    "\n",
    "data = data[~( (data['area'] < area_mean) & (data['price'] > price_mean+1.5) )]\n",
    "data = data[~( (data['area'] > area_mean) & (data['price'] < price_mean+1.5) )]"
   ]
  },
  {
   "cell_type": "code",
   "execution_count": 112,
   "id": "valuable-delhi",
   "metadata": {},
   "outputs": [
    {
     "name": "stdout",
     "output_type": "stream",
     "text": [
      "Area mean:  2478.5989247311827\n",
      "Price mean:  6.828126881720429\n"
     ]
    }
   ],
   "source": [
    "print(\"Area mean: \", area_mean)\n",
    "print(\"Price mean: \", price_mean)"
   ]
  },
  {
   "cell_type": "code",
   "execution_count": 113,
   "id": "animated-regulation",
   "metadata": {},
   "outputs": [
    {
     "name": "stdout",
     "output_type": "stream",
     "text": [
      "Data length:  142\n"
     ]
    }
   ],
   "source": [
    "print(\"Data length: \", len(data))"
   ]
  },
  {
   "cell_type": "code",
   "execution_count": 114,
   "id": "immediate-spice",
   "metadata": {
    "scrolled": true
   },
   "outputs": [
    {
     "data": {
      "image/png": "[encoded data removed]",
      "text/plain": [
       "<Figure size 432x288 with 1 Axes>"
      ]
     },
     "metadata": {
      "needs_background": "light"
     },
     "output_type": "display_data"
    }
   ],
   "source": [
    "plt.scatter(data['area'], data['price'])\n",
    "plt.show()"
   ]
  },
  {
   "cell_type": "markdown",
   "id": "acoustic-plain",
   "metadata": {},
   "source": [
    "### Feature Scaling (both area & price)"
   ]
  },
  {
   "cell_type": "code",
   "execution_count": 115,
   "id": "given-oakland",
   "metadata": {},
   "outputs": [],
   "source": [
    "# transform data into log1p\n",
    "data['area'] = (data['area']).transform(np.log1p)\n",
    "data['price'] = (data['price']).transform(np.log1p)"
   ]
  },
  {
   "cell_type": "code",
   "execution_count": 116,
   "id": "radio-reunion",
   "metadata": {
    "scrolled": true
   },
   "outputs": [
    {
     "data": {
      "image/png": "[encoded data removed]",
      "text/plain": [
       "<Figure size 432x288 with 1 Axes>"
      ]
     },
     "metadata": {
      "needs_background": "light"
     },
     "output_type": "display_data"
    }
   ],
   "source": [
    "plt.scatter(data['area'], data['price'])\n",
    "plt.show()"
   ]
  },
  {
   "cell_type": "markdown",
   "id": "organized-theta",
   "metadata": {},
   "source": [
    "### Calculate mean of duplicated data"
   ]
  },
  {
   "cell_type": "code",
   "execution_count": 117,
   "id": "burning-actor",
   "metadata": {},
   "outputs": [],
   "source": [
    "# Instead of drop duplicates try calc and use its mean value:\n",
    "data = data.groupby(['area'], as_index=False).mean()\n",
    "\n",
    "# sort data by area:\n",
    "data = data.sort_values(by=['area'])"
   ]
  },
  {
   "cell_type": "code",
   "execution_count": 118,
   "id": "received-folks",
   "metadata": {},
   "outputs": [
    {
     "name": "stdout",
     "output_type": "stream",
     "text": [
      "Data length:  81\n"
     ]
    }
   ],
   "source": [
    "print(\"Data length: \", len(data))"
   ]
  },
  {
   "cell_type": "code",
   "execution_count": 119,
   "id": "cathedral-credit",
   "metadata": {
    "scrolled": false
   },
   "outputs": [
    {
     "data": {
      "image/png": "[encoded data removed]",
      "text/plain": [
       "<Figure size 432x288 with 1 Axes>"
      ]
     },
     "metadata": {
      "needs_background": "light"
     },
     "output_type": "display_data"
    }
   ],
   "source": [
    "plt.scatter(data['area'], data['price'])\n",
    "plt.show()"
   ]
  },
  {
   "cell_type": "markdown",
   "id": "fatty-walnut",
   "metadata": {},
   "source": [
    "## RANSAC Algorithm in Detecting Outliers\n",
    "- This method is not a good choice if the dataset not follow linear trends\n",
    "- Beside, using a base estimator same with the current model will make this prediction in spoiled data => I assume that it is not a good practice"
   ]
  },
  {
   "cell_type": "code",
   "execution_count": 120,
   "id": "corrected-leather",
   "metadata": {
    "scrolled": false
   },
   "outputs": [],
   "source": [
    "# test_area, test_price = convertData(data)\n",
    "\n",
    "# # find degree by polynomial regression:\n",
    "# run_model, model_name, found_degree, rmse = polynomialRegression(test_area, test_price)\n",
    "\n",
    "# ransac_model = linear_model.RANSACRegressor(base_estimator=PolynomialRegressionModel(degree=found_degree), random_state=0)\n",
    "# ransac_model.fit(test_area, test_price)\n",
    "\n",
    "# inlier_mask = ransac_model.inlier_mask_\n",
    "# outlier_mask = np.logical_not(inlier_mask)"
   ]
  },
  {
   "cell_type": "code",
   "execution_count": 121,
   "id": "binding-toyota",
   "metadata": {},
   "outputs": [],
   "source": [
    "# plt.scatter(data['area'], data['price'], color='blue')\n",
    "# plt.scatter(test_area[outlier_mask], test_price[outlier_mask], color='red')\n",
    "# plt.plot(test_area, ransac_model.predict(test_area))\n",
    "# # run_model.predict(PolynomialFeatures(degree=found_degree).fit_transform(test_area)\n",
    "# plt.show()\n",
    "\n",
    "# outlier_indexes = np.where(outlier_mask==True)\n",
    "# outlier_values = data.iloc[outlier_indexes]\n",
    "# data = data.drop(outlier_values.index)"
   ]
  },
  {
   "cell_type": "markdown",
   "id": "proud-trouble",
   "metadata": {},
   "source": [
    "### Use IQR method to remove outliers"
   ]
  },
  {
   "cell_type": "code",
   "execution_count": 122,
   "id": "together-sally",
   "metadata": {},
   "outputs": [
    {
     "data": {
      "image/png": "[encoded data removed]",
      "text/plain": [
       "<Figure size 432x288 with 1 Axes>"
      ]
     },
     "metadata": {
      "needs_background": "light"
     },
     "output_type": "display_data"
    }
   ],
   "source": [
    "data['area'].plot(kind='box')\n",
    "plt.show()"
   ]
  },
  {
   "cell_type": "code",
   "execution_count": 123,
   "id": "german-spray",
   "metadata": {},
   "outputs": [
    {
     "data": {
      "image/png": "[encoded data removed]",
      "text/plain": [
       "<Figure size 432x288 with 1 Axes>"
      ]
     },
     "metadata": {
      "needs_background": "light"
     },
     "output_type": "display_data"
    }
   ],
   "source": [
    "data['price'].plot(kind='box')\n",
    "plt.show()"
   ]
  },
  {
   "cell_type": "code",
   "execution_count": 124,
   "id": "ongoing-mailing",
   "metadata": {},
   "outputs": [
    {
     "data": {
      "image/png": "[encoded data removed]",
      "text/plain": [
       "<Figure size 432x288 with 1 Axes>"
      ]
     },
     "metadata": {
      "needs_background": "light"
     },
     "output_type": "display_data"
    }
   ],
   "source": [
    "plt.scatter(data['area'][:len(data)//5], data['price'][:len(data)//5], color='blue')\n",
    "plt.scatter(data['area'][len(data)//5:len(data)*2//5], data['price'][len(data)//5:len(data)*2//5], color='red')\n",
    "plt.scatter(data['area'][len(data)*2//5:len(data)*3//5], data['price'][len(data)*2//5:len(data)*3//5], color='green')\n",
    "plt.scatter(data['area'][len(data)*3//5:len(data)*4//5], data['price'][len(data)*3//5:len(data)*4//5], color='black')\n",
    "plt.scatter(data['area'][len(data)*4//5:], data['price'][len(data)*4//5:], color='purple')\n",
    "plt.show()"
   ]
  },
  {
   "cell_type": "code",
   "execution_count": 125,
   "id": "mature-walnut",
   "metadata": {},
   "outputs": [],
   "source": [
    "part_data = data['price'][:len(data)//5]\n",
    "price_minimum, price_maximum = calcMinimumMaximum(part_data)\n",
    "data_1 = data[:len(data)//5][(part_data > price_minimum) & (part_data < price_maximum)]\n",
    "\n",
    "part_data = data['price'][len(data)//5:len(data)*2//5]\n",
    "price_minimum, price_maximum = calcMinimumMaximum(part_data)\n",
    "data_2 = data[len(data)//5:len(data)*2//5][(part_data > price_minimum) & (part_data < price_maximum)]\n",
    "\n",
    "part_data = data['price'][len(data)*2//5:len(data)*3//5]\n",
    "price_minimum, price_maximum = calcMinimumMaximum(part_data)\n",
    "data_3 = data[len(data)*2//5:len(data)*3//5][(part_data > price_minimum) & (part_data < price_maximum)]\n",
    "\n",
    "part_data = data['price'][len(data)*3//5:len(data)*4//5]\n",
    "price_minimum, price_maximum = calcMinimumMaximum(part_data)\n",
    "data_4 = data[len(data)*3//5:len(data)*4//5][(part_data > price_minimum) & (part_data < price_maximum)]\n",
    "\n",
    "part_data = data['price'][len(data)*4//5:]\n",
    "price_minimum, price_maximum = calcMinimumMaximum(part_data)\n",
    "data_5 = data[len(data)*4//5:][(part_data > price_minimum) & (part_data < price_maximum)]\n",
    "\n",
    "data = pd.concat([data_1, data_2, data_3, data_4, data_5], ignore_index=True)"
   ]
  },
  {
   "cell_type": "code",
   "execution_count": 126,
   "id": "wired-morgan",
   "metadata": {},
   "outputs": [
    {
     "name": "stdout",
     "output_type": "stream",
     "text": [
      "Data length:  59\n"
     ]
    }
   ],
   "source": [
    "print(\"Data length: \", len(data))"
   ]
  },
  {
   "cell_type": "code",
   "execution_count": 127,
   "id": "affiliated-corporation",
   "metadata": {},
   "outputs": [
    {
     "data": {
      "image/png": "[encoded data removed]",
      "text/plain": [
       "<Figure size 432x288 with 1 Axes>"
      ]
     },
     "metadata": {
      "needs_background": "light"
     },
     "output_type": "display_data"
    }
   ],
   "source": [
    "plt.scatter(data['area'], data['price'], color='blue')\n",
    "plt.show()"
   ]
  },
  {
   "cell_type": "code",
   "execution_count": 128,
   "id": "focused-integer",
   "metadata": {},
   "outputs": [
    {
     "data": {
      "image/png": "[encoded data removed]",
      "text/plain": [
       "<Figure size 432x288 with 1 Axes>"
      ]
     },
     "metadata": {
      "needs_background": "light"
     },
     "output_type": "display_data"
    }
   ],
   "source": [
    "data['area'].plot(kind='box')\n",
    "plt.show()"
   ]
  },
  {
   "cell_type": "code",
   "execution_count": 129,
   "id": "specific-watch",
   "metadata": {
    "scrolled": true
   },
   "outputs": [
    {
     "data": {
      "image/png": "[encoded data removed]",
      "text/plain": [
       "<Figure size 432x288 with 1 Axes>"
      ]
     },
     "metadata": {
      "needs_background": "light"
     },
     "output_type": "display_data"
    }
   ],
   "source": [
    "data['price'].plot(kind='box')\n",
    "plt.show()"
   ]
  },
  {
   "cell_type": "code",
   "execution_count": 130,
   "id": "promotional-shaft",
   "metadata": {},
   "outputs": [],
   "source": [
    "max_area = data['area'].max()\n",
    "max_price = data['price'].max()"
   ]
  },
  {
   "cell_type": "markdown",
   "id": "imported-worcester",
   "metadata": {},
   "source": [
    "### Use Local Outlier Factor to remove _local outliers_"
   ]
  },
  {
   "cell_type": "code",
   "execution_count": 131,
   "id": "employed-morgan",
   "metadata": {},
   "outputs": [],
   "source": [
    "# from sklearn.neighbors import LocalOutlierFactor\n",
    "\n",
    "# # convert dataframe into numpy array:\n",
    "# X = data.to_numpy()\n",
    "# n_neighbors = 8"
   ]
  },
  {
   "cell_type": "code",
   "execution_count": 132,
   "id": "standard-fantasy",
   "metadata": {},
   "outputs": [],
   "source": [
    "# isNeighbors = LocalOutlierFactor(n_neighbors=n_neighbors, algorithm='brute', metric='euclidean', contamination=0.2).fit_predict(X)\n",
    "\n",
    "# # locate outliers by index:\n",
    "# outlier_indexes = np.where(isNeighbors == -1)\n",
    "# outlier_values = data.iloc[outlier_indexes]\n",
    "\n",
    "# # drop outliers:\n",
    "# data = data.drop(outlier_values.index)\n",
    "\n",
    "# print(\"\\nOutliers detected by Local Outlier Factor with n_neighbors = \", n_neighbors)\n",
    "# # plot outliers removed:\n",
    "# plt.scatter(data['area'], data['price'], color='blue', label='inliers')\n",
    "# plt.scatter(outlier_values['area'], outlier_values['price'], color='red', label='outliers')\n",
    "# plt.legend(bbox_to_anchor=(1,1), loc=\"upper left\")\n",
    "# plt.tight_layout()\n",
    "# plt.xlabel('area')\n",
    "# plt.ylabel('price')\n",
    "# plt.show()"
   ]
  },
  {
   "cell_type": "markdown",
   "id": "auburn-barrier",
   "metadata": {},
   "source": [
    "### Split dataset\n",
    "1. Train dataset: 70%\n",
    "2. Validate dataset: 15%\n",
    "3. Test dataset: 15%"
   ]
  },
  {
   "cell_type": "code",
   "execution_count": 133,
   "id": "fuzzy-sender",
   "metadata": {},
   "outputs": [],
   "source": [
    "# divide data into train and test:\n",
    "train_data, test_data = train_test_split(data, test_size=0.3, random_state=4)\n",
    "test_data, validate_data = train_test_split(test_data, test_size=0.5, random_state=4)"
   ]
  },
  {
   "cell_type": "code",
   "execution_count": 134,
   "id": "interior-estate",
   "metadata": {},
   "outputs": [
    {
     "name": "stdout",
     "output_type": "stream",
     "text": [
      "\n",
      "Train data length:  41\n",
      "Test data length:  9\n",
      "Validate data length:  9\n"
     ]
    }
   ],
   "source": [
    "# Sort data by area column:\n",
    "train_data = train_data.sort_values(by=['area'])\n",
    "test_data = test_data.sort_values(by=['area'])\n",
    "validate_data = validate_data.sort_values(by=['area'])\n",
    "\n",
    "print(\"\\nTrain data length: \", len(train_data))\n",
    "print(\"Test data length: \", len(test_data))\n",
    "print(\"Validate data length: \", len(validate_data))"
   ]
  },
  {
   "cell_type": "markdown",
   "id": "nutritional-motorcycle",
   "metadata": {},
   "source": [
    "### Visualize features relationship"
   ]
  },
  {
   "cell_type": "code",
   "execution_count": 135,
   "id": "ranking-madonna",
   "metadata": {},
   "outputs": [],
   "source": [
    "# # convert data into numpy\n",
    "X, Y = convertData(data)\n",
    "X_train, Y_train = convertData(train_data)\n",
    "X_test, Y_test = convertData(test_data)\n",
    "X_validate, Y_validate = convertData(validate_data)"
   ]
  },
  {
   "cell_type": "code",
   "execution_count": 136,
   "id": "palestinian-teaching",
   "metadata": {
    "scrolled": false
   },
   "outputs": [
    {
     "data": {
      "text/plain": [
       "Text(0.5, 1.0, 'Y_validate')"
      ]
     },
     "execution_count": 136,
     "metadata": {},
     "output_type": "execute_result"
    },
    {
     "data": {
      "image/png": "[encoded data removed]",
      "text/plain": [
       "<Figure size 1080x504 with 8 Axes>"
      ]
     },
     "metadata": {
      "needs_background": "light"
     },
     "output_type": "display_data"
    }
   ],
   "source": [
    "fig, ax = plt.subplots(2, 4, figsize=(15, 7))\n",
    "ax[0][0].plot(X)\n",
    "ax[0][0].set_title('X')\n",
    "ax[0][1].plot(X_train)\n",
    "ax[0][1].set_title('X_train')\n",
    "ax[0][2].plot(X_test)\n",
    "ax[0][2].set_title('X_test')\n",
    "ax[0][3].plot(X_validate)\n",
    "ax[0][3].set_title('X_validate')\n",
    "\n",
    "ax[1][0].plot(Y)\n",
    "ax[1][0].set_title('Y')\n",
    "ax[1][1].plot(Y_train)\n",
    "ax[1][1].set_title('Y_train')\n",
    "ax[1][2].plot(Y_test)\n",
    "ax[1][2].set_title('Y_test')\n",
    "ax[1][3].plot(Y_validate)\n",
    "ax[1][3].set_title('Y_validate')"
   ]
  },
  {
   "cell_type": "markdown",
   "id": "armed-retailer",
   "metadata": {},
   "source": [
    "## Linear Regression Model"
   ]
  },
  {
   "cell_type": "code",
   "execution_count": 137,
   "id": "focal-litigation",
   "metadata": {},
   "outputs": [],
   "source": [
    "# find model by using linear regression:\n",
    "linear_regression_model = linearRegressionModel(X_train, Y_train)\n",
    "\n",
    "# find Y by using linear model predict:\n",
    "Y_train_pred = linear_regression_model.predict(X_train)\n",
    "Y_validate_pred = linear_regression_model.predict(X_validate)\n",
    "Y_test_pred = linear_regression_model.predict(X_test)\n",
    "\n",
    "# Calculate RMSE on train and test data:\n",
    "train_linear_rmse = np.sqrt(mean_squared_error(Y_train, Y_train_pred))\n",
    "validate_linear_rmse = np.sqrt(mean_squared_error(Y_validate, Y_validate_pred))\n",
    "test_linear_rmse = np.sqrt(mean_squared_error(Y_test, Y_test_pred))"
   ]
  },
  {
   "cell_type": "code",
   "execution_count": 138,
   "id": "wanted-fireplace",
   "metadata": {},
   "outputs": [
    {
     "name": "stdout",
     "output_type": "stream",
     "text": [
      "\n",
      "Linear Regression Model: \n"
     ]
    },
    {
     "data": {
      "image/png": "[encoded data removed]",
      "text/plain": [
       "<Figure size 504x288 with 1 Axes>"
      ]
     },
     "metadata": {
      "needs_background": "light"
     },
     "output_type": "display_data"
    }
   ],
   "source": [
    "print(\"\\nLinear Regression Model: \")\n",
    "# Plot linear model:\n",
    "plt.figure(figsize=(7, 4))\n",
    "plt.scatter(X_train, Y_train, marker='o', color='blue', label='train_data')\n",
    "plt.scatter(X_test, Y_test, marker='o', color='red', label='test_data')\n",
    "plt.scatter(X_validate, Y_validate, marker='o', color='green', label='validate_data')\n",
    "plt.plot(X_train, Y_train_pred, color='black', label='train_model')\n",
    "plt.legend(bbox_to_anchor=(1,1), loc=\"upper left\")\n",
    "plt.tight_layout()\n",
    "plt.xlabel('area')\n",
    "plt.ylabel('price')\n",
    "plt.xlim(right=max_area+0.3)\n",
    "plt.ylim(top=max_price+0.3)\n",
    "plt.show()"
   ]
  },
  {
   "cell_type": "code",
   "execution_count": 139,
   "id": "impaired-bulletin",
   "metadata": {
    "scrolled": false
   },
   "outputs": [
    {
     "name": "stdout",
     "output_type": "stream",
     "text": [
      "Linear model coefficient: [[0.54407529]]\n",
      "Linear model intercept: [-2.18637322]\n",
      "Linear model rmse on train data: 0.44954421017697854\n",
      "Linear model rmse on validate data: 0.454510736495489\n",
      "Linear model rmse on test data: 0.4444638035824817\n",
      "\n",
      "\n",
      "\n"
     ]
    }
   ],
   "source": [
    "# Linear Model coefficient and intercept:\n",
    "print(\"Linear model coefficient: {}\".format(linear_regression_model.coef_))\n",
    "print(\"Linear model intercept: {}\".format(linear_regression_model.intercept_))\n",
    "\n",
    "# linear_model rmse:\n",
    "print(\"Linear model rmse on train data: {}\".format(train_linear_rmse))\n",
    "print(\"Linear model rmse on validate data: {}\".format(validate_linear_rmse))\n",
    "print(\"Linear model rmse on test data: {}\".format(test_linear_rmse))\n",
    "print(\"\\n\\n\")"
   ]
  },
  {
   "cell_type": "code",
   "execution_count": 140,
   "id": "valuable-bonus",
   "metadata": {},
   "outputs": [],
   "source": [
    "def calcRMSE(model, X, Y):\n",
    "    return np.sqrt(mean_squared_error(Y, model.predict(X)))\n",
    "\n",
    "def calcCV(model, X, Y, scoring):\n",
    "    return np.mean(cross_val_score(model, X, Y, scoring=scoring, cv=5))"
   ]
  },
  {
   "cell_type": "markdown",
   "id": "lyric-potter",
   "metadata": {},
   "source": [
    "## Polynomial Regression Model"
   ]
  },
  {
   "cell_type": "code",
   "execution_count": 141,
   "id": "diverse-chair",
   "metadata": {},
   "outputs": [],
   "source": [
    "def polynomialTransform(dataset, degree):\n",
    "    polynomial_features = PolynomialFeatures(degree=degree)\n",
    "    dataset_poly = polynomial_features.fit_transform(dataset)\n",
    "    return dataset_poly"
   ]
  },
  {
   "cell_type": "code",
   "execution_count": 142,
   "id": "miniature-absence",
   "metadata": {},
   "outputs": [
    {
     "name": "stdout",
     "output_type": "stream",
     "text": [
      "Polynomial Regression with degree =  58\n",
      "RMSE on validate data:  0.15431850069567074\n",
      "Polynomial model coefficient:\n",
      "[[-1.47781319e-42 -1.25574084e-42  2.41454170e-43 -2.93814745e-44\n",
      "   4.15024037e-45  2.70388891e-44  8.13865326e-42 -1.63593631e-42\n",
      "   2.44320947e-42 -8.60387721e-44  2.46601853e-42 -7.31644043e-44\n",
      "   3.16569608e-42 -5.55988105e-42  1.19446048e-69  1.29621798e-68\n",
      "   8.66127052e-68  5.79375881e-67  3.87817200e-66  2.59644188e-65\n",
      "   1.73780577e-64  1.16217884e-63  7.76184108e-63  5.17416877e-62\n",
      "   3.44077950e-61  2.28118683e-60  1.50691623e-59  9.91207996e-59\n",
      "   6.48776157e-58  4.22246971e-57  2.73050477e-56  1.75290391e-55\n",
      "   1.11611987e-54  7.04137057e-54  4.39644263e-53  2.71321669e-52\n",
      "   1.65260846e-51  9.91804060e-51  5.85330641e-50  3.38918699e-49\n",
      "   1.92007222e-48  1.06079120e-47  5.69208126e-47  2.95151126e-46\n",
      "   1.46944730e-45  6.96551294e-45  3.10842805e-44  1.28551137e-43\n",
      "   4.81412099e-43  1.57416688e-42  4.21640480e-42  8.07800839e-42\n",
      "   6.97728086e-42 -7.19912789e-42  2.27036248e-42 -3.59033287e-43\n",
      "   3.11971756e-44 -1.42904086e-45  2.70918037e-47]]\n",
      "Polynomial model intercept: [0.88404944]\n",
      "\n"
     ]
    }
   ],
   "source": [
    "# degree = 2\n",
    "X_train_poly = polynomialTransform(X_train, 2)\n",
    "selected_poly_model = linearRegressionModel(X_train_poly, Y_train)\n",
    "\n",
    "# calc rmse on validate data:\n",
    "X_validate_poly = polynomialTransform(X_validate, 2)\n",
    "min_poly_rmse = calcRMSE(selected_poly_model, X_validate_poly, Y_validate)\n",
    "\n",
    "# Choose model with specific degree:\n",
    "selected_degree = 2\n",
    "selected_X_train_poly = X_train_poly\n",
    "\n",
    "min_degree = 3\n",
    "max_degree = 100\n",
    "\n",
    "for i in range(min_degree, max_degree+1):\n",
    "    X_train_poly = polynomialTransform(X_train, i)\n",
    "    poly_model = linearRegressionModel(X_train_poly, Y_train)\n",
    "\n",
    "    # calc rmse on validate data:\n",
    "    X_validate_poly = polynomialTransform(X_validate, i)\n",
    "    rmse = calcRMSE(poly_model, X_validate_poly, Y_validate)\n",
    "\n",
    "    # Try to select the model with minimum rmse:\n",
    "    if rmse < min_poly_rmse:\n",
    "        min_poly_rmse = rmse\n",
    "        selected_poly_model = poly_model\n",
    "        selected_X_train_poly = X_train_poly\n",
    "        selected_degree = i\n",
    "        \n",
    "print(\"Polynomial Regression with degree = \", selected_degree)\n",
    "print(\"RMSE on validate data: \", min_poly_rmse)\n",
    "print(\"Polynomial model coefficient:\")\n",
    "print(selected_poly_model.coef_)\n",
    "print(\"Polynomial model intercept: {}\\n\".format(selected_poly_model.intercept_))\n",
    "\n",
    "# Predict Y:\n",
    "Y_train_poly_pred = selected_poly_model.predict(selected_X_train_poly)"
   ]
  },
  {
   "cell_type": "code",
   "execution_count": 143,
   "id": "angry-stomach",
   "metadata": {
    "scrolled": true
   },
   "outputs": [
    {
     "data": {
      "image/png": "[encoded data removed]",
      "text/plain": [
       "<Figure size 504x288 with 1 Axes>"
      ]
     },
     "metadata": {
      "needs_background": "light"
     },
     "output_type": "display_data"
    }
   ],
   "source": [
    "# Plot model:\n",
    "plt.figure(figsize=(7, 4))\n",
    "plt.scatter(X_train, Y_train, marker='o', color='blue', label='train_data')\n",
    "plt.scatter(X_test, Y_test, marker='o', color='red', label='test_data')\n",
    "plt.scatter(X_validate, Y_validate, marker='o', color='green', label='validate_data')\n",
    "plt.plot(X_train, Y_train_poly_pred, color='black', label='train_model')\n",
    "plt.legend(bbox_to_anchor=(1,1), loc=\"upper left\")\n",
    "plt.tight_layout()\n",
    "plt.xlabel('area')\n",
    "plt.ylabel('price')\n",
    "plt.xlim(right=max_area+0.3)\n",
    "plt.ylim(top=max_price+0.3)\n",
    "plt.show()"
   ]
  },
  {
   "cell_type": "markdown",
   "id": "coordinate-professional",
   "metadata": {},
   "source": [
    "### Alpha Hyperparameter"
   ]
  },
  {
   "cell_type": "code",
   "execution_count": 144,
   "id": "convertible-preference",
   "metadata": {},
   "outputs": [],
   "source": [
    "alphas = [0.00001, 0.00003, 0.00005, 0.00008, 0.0001, 0.0003, 0.0005, 0.0008, 0.001, 0.005, 0.01, 0.02, 0.04, 0.06, 0.1, 1.0, 3.0, 5.0, 10.0, 50.0, 100.0]"
   ]
  },
  {
   "cell_type": "code",
   "execution_count": 145,
   "id": "needed-permission",
   "metadata": {},
   "outputs": [],
   "source": [
    "X_validate_poly = polynomialTransform(X_validate, selected_degree)"
   ]
  },
  {
   "cell_type": "code",
   "execution_count": 146,
   "id": "pursuant-quest",
   "metadata": {},
   "outputs": [],
   "source": [
    "# ignore warnings: =))) \n",
    "import warnings"
   ]
  },
  {
   "cell_type": "markdown",
   "id": "timely-letters",
   "metadata": {},
   "source": [
    "## Ridge Regression Model"
   ]
  },
  {
   "cell_type": "code",
   "execution_count": 147,
   "id": "endless-scene",
   "metadata": {},
   "outputs": [
    {
     "name": "stdout",
     "output_type": "stream",
     "text": [
      "Ridge Regression with alpha = 1e-05 and RMSE = 0.382599162786933\n",
      "Ridge Regression coefficient:\n",
      "[[ 0.00000000e+00  1.74569114e-97  2.38535523e-96  2.45665002e-95\n",
      "   2.26158777e-94  1.96374047e-93  1.64730148e-92  1.35215146e-91\n",
      "   1.09424392e-90  8.77205350e-90  6.98777803e-89  5.54288221e-88\n",
      "   4.38436391e-87  3.46153148e-86  2.72959136e-85  2.15066225e-84\n",
      "   1.69354954e-83  1.33299456e-82  1.04876684e-81  8.24777025e-81\n",
      "   6.48286387e-80  5.09236530e-79  3.99697547e-78  3.13422041e-77\n",
      "   2.45488948e-76  1.92021224e-75  1.49963150e-74  1.16905138e-73\n",
      "   9.09461093e-73  7.05854457e-72  5.46381344e-71  4.21680994e-70\n",
      "   3.24357727e-69  2.48568235e-68  1.89696349e-67  1.44096473e-66\n",
      "   1.08890971e-65  8.18100024e-65  6.10648124e-64  4.52474031e-63\n",
      "   3.32510532e-62  2.42073185e-61  1.74360843e-60  1.24059564e-59\n",
      "   8.70285359e-59  6.00510783e-58  4.06373085e-57  2.68678503e-56\n",
      "   1.72701433e-55  1.07206541e-54  6.36766136e-54  3.57037882e-53\n",
      "   1.85104629e-52  8.57305347e-52  3.32725461e-51  9.37811765e-51\n",
      "   1.19285417e-50 -2.94486053e-51  1.66661521e-52]]\n",
      "Ridge Regression intercept:  [1.19771137]\n"
     ]
    }
   ],
   "source": [
    "selected_ridge_alpha = alphas[0]\n",
    "warnings.filterwarnings('ignore')\n",
    "\n",
    "ridge_model = linear_model.Ridge(alpha=selected_ridge_alpha, fit_intercept=True, normalize=False, max_iter=2000, tol=0.001)\n",
    "min_ridge_cv_score = calcCV(ridge_model, selected_X_train_poly, Y_train, 'r2')\n",
    "\n",
    "for alpha in alphas[1:]:\n",
    "    ridge_model = linear_model.Ridge(alpha=alpha, fit_intercept=True, normalize=False, max_iter=2000, tol=0.001)\n",
    "    ridge_cv_score = calcCV(ridge_model, selected_X_train_poly, Y_train, 'r2')\n",
    "\n",
    "    if ridge_cv_score > min_ridge_cv_score:\n",
    "        min_ridge_cv_score = ridge_cv_score\n",
    "        selected_ridge_alpha = alpha\n",
    "        \n",
    "# fit model with selected alpha:\n",
    "ridge_model = ridgeRegressionModel(selected_X_train_poly, Y_train, selected_ridge_alpha)\n",
    "\n",
    "# RMSE:\n",
    "ridge_rmse = calcRMSE(ridge_model, X_validate_poly, Y_validate)\n",
    "\n",
    "print(\"Ridge Regression with alpha = {} and RMSE = {}\".format(selected_ridge_alpha, ridge_rmse))\n",
    "print(\"Ridge Regression coefficient:\")\n",
    "print(ridge_model.coef_)\n",
    "print(\"Ridge Regression intercept: \", ridge_model.intercept_)\n",
    "\n",
    "# Predict Y with Ridge:\n",
    "Y_train_ridge_pred = ridge_model.predict(selected_X_train_poly)"
   ]
  },
  {
   "cell_type": "code",
   "execution_count": 148,
   "id": "golden-muslim",
   "metadata": {},
   "outputs": [
    {
     "data": {
      "image/png": "[encoded data removed]",
      "text/plain": [
       "<Figure size 504x288 with 1 Axes>"
      ]
     },
     "metadata": {
      "needs_background": "light"
     },
     "output_type": "display_data"
    }
   ],
   "source": [
    "# Plot model:\n",
    "plt.figure(figsize=(7, 4))\n",
    "plt.scatter(X_train, Y_train, marker='o', color='blue', label='train_data')\n",
    "plt.scatter(X_test, Y_test, marker='o', color='red', label='test_data')\n",
    "plt.scatter(X_validate, Y_validate, marker='o', color='green', label='validate_data')\n",
    "plt.plot(X_train, Y_train_ridge_pred, color='black', label='train_model')\n",
    "plt.legend(bbox_to_anchor=(1,1), loc=\"upper left\")\n",
    "plt.tight_layout()\n",
    "plt.xlabel('area')\n",
    "plt.ylabel('price')\n",
    "plt.xlim(right=max_area+0.3)\n",
    "plt.ylim(top=max_price+0.3)\n",
    "plt.show()"
   ]
  },
  {
   "cell_type": "markdown",
   "id": "operational-circus",
   "metadata": {},
   "source": [
    "## Lasso Regression Model"
   ]
  },
  {
   "cell_type": "code",
   "execution_count": 149,
   "id": "alpha-poetry",
   "metadata": {},
   "outputs": [
    {
     "name": "stdout",
     "output_type": "stream",
     "text": [
      "Lasso Model with alpha = 0.06 and RMSE = 0.22432199088603683\n",
      "Lasso Regression coefficient:\n",
      "[ 0.00000000e+00 -0.00000000e+00 -5.59361457e-02 -9.89207301e-03\n",
      "  1.26550939e-03  1.03622817e-04  6.16790101e-06  2.68019950e-07\n",
      " -2.08936060e-09 -2.46331609e-09 -4.07334811e-10 -5.07003184e-11\n",
      " -5.51387473e-12 -5.48339175e-13 -5.06476886e-14 -4.34409730e-15\n",
      " -3.40211729e-16 -2.31108985e-17 -1.13331717e-18  7.91548314e-21\n",
      "  1.28405147e-20  2.44791849e-21  3.54493961e-22  4.55568610e-23\n",
      "  5.46590448e-24  6.26540566e-25  6.94708738e-26  7.50610059e-27\n",
      "  7.93915687e-28  8.24396552e-29  8.41878523e-30  8.46207319e-31\n",
      "  8.37221538e-32  8.14732220e-33  7.78507606e-34  7.28261900e-35\n",
      "  6.63647041e-36  5.84246684e-37  4.89571725e-38  3.79056854e-39\n",
      "  2.52057734e-40  1.07848480e-41 -5.43807918e-43 -2.35526525e-43\n",
      " -4.36574541e-44 -6.58603198e-45 -9.02786978e-46 -1.17040055e-46\n",
      " -1.46282336e-47 -1.78154477e-48 -2.12816977e-49 -2.50442532e-50\n",
      " -2.91216729e-51 -3.35338807e-52 -3.83022486e-53 -4.34496865e-54\n",
      " -4.90007390e-55 -5.49816910e-56 -6.14206796e-57]\n",
      "Lasso Regression intercept:  [2.22311854]\n"
     ]
    }
   ],
   "source": [
    "selected_lasso_alpha = alphas[0]\n",
    "warnings.filterwarnings('ignore')\n",
    "\n",
    "lasso_model = linear_model.Lasso(alpha=selected_lasso_alpha, fit_intercept=True, normalize=True, max_iter=2000, tol=0.001)\n",
    "min_lasso_cv_score = calcCV(lasso_model, selected_X_train_poly, Y_train, 'r2')\n",
    "\n",
    "for alpha in alphas[1:]:\n",
    "    lasso_model = linear_model.Lasso(alpha=alpha, fit_intercept=True, normalize=True, max_iter=2000, tol=0.001)\n",
    "    lasso_cv_score = calcCV(lasso_model, selected_X_train_poly, Y_train, 'r2')\n",
    "#     neg_root_mean_squared_error\n",
    "\n",
    "    if lasso_cv_score > min_lasso_cv_score:\n",
    "        min_lasso_cv_score = lasso_cv_score\n",
    "        selected_lasso_alpha = alpha\n",
    "        \n",
    "# Fit model with selected alpha:\n",
    "lasso_model = lassoRegressionModel(selected_X_train_poly, Y_train, selected_lasso_alpha)\n",
    "lasso_rmse = calcRMSE(lasso_model, X_validate_poly, Y_validate)\n",
    "\n",
    "print(\"Lasso Model with alpha = {} and RMSE = {}\".format(selected_lasso_alpha, lasso_rmse))\n",
    "print(\"Lasso Regression coefficient:\")\n",
    "print(lasso_model.coef_)\n",
    "print(\"Lasso Regression intercept: \", lasso_model.intercept_)\n",
    "\n",
    "# Predict Y with Ridge:\n",
    "Y_train_lasso_pred = lasso_model.predict(selected_X_train_poly)"
   ]
  },
  {
   "cell_type": "code",
   "execution_count": 150,
   "id": "consecutive-chamber",
   "metadata": {
    "scrolled": false
   },
   "outputs": [
    {
     "data": {
      "image/png": "[encoded data removed]",
      "text/plain": [
       "<Figure size 504x288 with 1 Axes>"
      ]
     },
     "metadata": {
      "needs_background": "light"
     },
     "output_type": "display_data"
    }
   ],
   "source": [
    "# Plot model:\n",
    "plt.figure(figsize=(7, 4))\n",
    "plt.scatter(X_train, Y_train, marker='o', color='blue', label='train_data')\n",
    "plt.scatter(X_test, Y_test, marker='o', color='red', label='test_data')\n",
    "plt.scatter(X_validate, Y_validate, marker='o', color='green', label='validate_data')\n",
    "plt.plot(X_train, Y_train_lasso_pred, color='black', label='train_model')\n",
    "plt.legend(bbox_to_anchor=(1,1), loc=\"upper left\")\n",
    "plt.tight_layout()\n",
    "plt.xlabel('area')\n",
    "plt.ylabel('price')\n",
    "plt.xlim(right=max_area+0.3)\n",
    "plt.ylim(top=max_price+0.3)\n",
    "plt.show()"
   ]
  },
  {
   "cell_type": "code",
   "execution_count": 151,
   "id": "aware-bosnia",
   "metadata": {},
   "outputs": [
    {
     "name": "stdout",
     "output_type": "stream",
     "text": [
      "\n",
      "\n",
      "Linear Model score on train dataset:  0.7395760627146284\n",
      "Linear Model score on test dataset:  0.6297450673457855\n",
      "\n",
      "\n",
      "Poly Model score on train dataset:  0.8672085244169169\n",
      "Poly Model score on test dataset:  0.661250955395728\n",
      "\n",
      "\n",
      "Ridge Model score on train dataset:  0.6381540458309051\n",
      "Ridge Model score on test dataset:  0.49786180312324424\n",
      "\n",
      "\n",
      "Lasso Model score on train dataset:  0.8955290686263574\n",
      "Lasso Model score on test dataset:  0.7844088611383426\n"
     ]
    }
   ],
   "source": [
    "# score the model with test data:\n",
    "X_test_poly = polynomialTransform(X_test, selected_degree)\n",
    "\n",
    "# Linear score:\n",
    "print(\"\\n\")\n",
    "\n",
    "linear_train_r2_score = linear_regression_model.score(X_train, Y_train)\n",
    "print(\"Linear Model score on train dataset: \", linear_train_r2_score)\n",
    "\n",
    "linear_test_r2_score = linear_regression_model.score(X_test, Y_test)\n",
    "print(\"Linear Model score on test dataset: \", linear_test_r2_score)\n",
    "\n",
    "# Poly score:\n",
    "print(\"\\n\")\n",
    "\n",
    "poly_train_r2_score = selected_poly_model.score(selected_X_train_poly, Y_train)\n",
    "print(\"Poly Model score on train dataset: \", poly_train_r2_score)\n",
    "\n",
    "poly_test_r2_score = selected_poly_model.score(X_test_poly, Y_test)\n",
    "print(\"Poly Model score on test dataset: \", poly_test_r2_score)\n",
    "\n",
    "# Ridge score:\n",
    "print(\"\\n\")\n",
    "\n",
    "ridge_train_r2_score = ridge_model.score(selected_X_train_poly, Y_train)\n",
    "print(\"Ridge Model score on train dataset: \", ridge_train_r2_score)\n",
    "\n",
    "ridge_test_r2_score = ridge_model.score(X_test_poly, Y_test)\n",
    "print(\"Ridge Model score on test dataset: \", ridge_test_r2_score)\n",
    "\n",
    "# Lasso score:\n",
    "print(\"\\n\")\n",
    "\n",
    "lasso_train_r2_score = lasso_model.score(selected_X_train_poly, Y_train)\n",
    "print(\"Lasso Model score on train dataset: \", lasso_train_r2_score)\n",
    "\n",
    "lasso_test_r2_score = lasso_model.score(X_test_poly, Y_test)\n",
    "print(\"Lasso Model score on test dataset: \", lasso_test_r2_score)"
   ]
  },
  {
   "cell_type": "code",
   "execution_count": 152,
   "id": "lesser-congo",
   "metadata": {},
   "outputs": [],
   "source": [
    "# # calc cross validation score of linear to compare with poly for best model selection\n",
    "# linear_cv = np.mean(cross_val_score(linear_model, X, Y, cv=5))\n",
    "# poly_cv = np.mean(cross_val_score(poly_model, X, Y, cv=5))\n",
    "\n",
    "# best_r2_score = linear_test_r2_score if linear_test_r2_score > poly_test_r2_score else poly_test_r2_score\n",
    "# best_model = linear_model if linear_cv > poly_cv else poly_model\n",
    "# best_degree = 1 if linear_cv > poly_cv else degree\n",
    "\n",
    "# print(linear_cv)\n",
    "# print(poly_cv)"
   ]
  },
  {
   "cell_type": "code",
   "execution_count": 153,
   "id": "acute-archives",
   "metadata": {},
   "outputs": [],
   "source": [
    "import unidecode\n",
    "post_type = unidecode.unidecode(post_type.lower().replace(\" \", \"\"))\n",
    "street = unidecode.unidecode(street.lower().replace(\" \", \"\"))\n",
    "ward = unidecode.unidecode(ward.lower().replace(\" \", \"\"))\n",
    "district = unidecode.unidecode(district.lower().replace(\" \", \"\"))\n",
    "model_name = post_type + \"_\" + street + \"_\" + ward + \"_\" + district"
   ]
  },
  {
   "cell_type": "code",
   "execution_count": 154,
   "id": "anonymous-milton",
   "metadata": {},
   "outputs": [
    {
     "data": {
      "text/plain": [
       "'bandat_bathien_nhuanduc_cuchi'"
      ]
     },
     "execution_count": 154,
     "metadata": {},
     "output_type": "execute_result"
    }
   ],
   "source": [
    "model_name"
   ]
  },
  {
   "cell_type": "code",
   "execution_count": 155,
   "id": "juvenile-share",
   "metadata": {},
   "outputs": [],
   "source": [
    "# # Save model after training for later use:\n",
    "# from joblib import dump, load\n",
    "\n",
    "# if best_r2_score > 0.7:\n",
    "#     # Save model:\n",
    "#     dump((best_model, best_degree), 'trained\\\\' + model_name + '.joblib')"
   ]
  },
  {
   "cell_type": "code",
   "execution_count": 156,
   "id": "surprising-brunswick",
   "metadata": {},
   "outputs": [],
   "source": [
    "# try:    \n",
    "#     # load model:\n",
    "#     loaded_model, loaded_degree = load('trained/' + model_name + \".joblib\")\n",
    "\n",
    "#     test_area = np.array([92.00])\n",
    "#     test_area = test_area[:, np.newaxis]\n",
    "#     test_area = FunctionTransformer(np.log1p).fit_transform(test_area)\n",
    "\n",
    "#     if loaded_degree == 1:\n",
    "#         predicted_price = loaded_model.predict(test_area)\n",
    "#     else:\n",
    "#         test_area_poly = PolynomialFeatures(degree=loaded_degree).fit_transform(test_area)\n",
    "#         predicted_price = loaded_model.predict(test_area_poly)\n",
    "\n",
    "#     print(FunctionTransformer(np.log1p).inverse_transform(predicted_price))\n",
    "# except FileNotFoundError:\n",
    "#     print(\"Model not found or trained result is low!\")"
   ]
  }
 ],
 "metadata": {
  "kernelspec": {
   "display_name": "Python 3",
   "language": "python",
   "name": "python3"
  },
  "language_info": {
   "codemirror_mode": {
    "name": "ipython",
    "version": 3
   },
   "file_extension": ".py",
   "mimetype": "text/x-python",
   "name": "python",
   "nbconvert_exporter": "python",
   "pygments_lexer": "ipython3",
   "version": "3.8.5"
  }
 },
 "nbformat": 4,
 "nbformat_minor": 5
}
