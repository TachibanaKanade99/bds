{
 "cells": [
  {
   "cell_type": "code",
   "execution_count": 1,
   "id": "muslim-louisville",
   "metadata": {},
   "outputs": [],
   "source": [
    "from matplotlib import pyplot as plt\n",
    "import numpy as np\n",
    "import pandas as pd\n",
    "from sklearn import linear_model\n",
    "from sklearn.model_selection import train_test_split\n",
    "from sklearn.preprocessing import PowerTransformer, QuantileTransformer, FunctionTransformer, RobustScaler, StandardScaler\n",
    "from sklearn.preprocessing import PolynomialFeatures\n",
    "from sklearn.metrics import mean_squared_error, r2_score\n",
    "from sklearn.model_selection import cross_val_score\n",
    "\n",
    "from models.prepareData import getData, convertData, calcMinimumMaximum\n",
    "from models.models import linearRegressionModel, PolynomialFeatures, lassoRegressionModel, ridgeRegressionModel\n",
    "from models.models import RANSACRegressionModel, PolynomialRegressionModel, polynomialRegression"
   ]
  },
  {
   "cell_type": "code",
   "execution_count": 2,
   "id": "clean-thinking",
   "metadata": {},
   "outputs": [],
   "source": [
    "# data = getData('Bán căn hộ chung cư', 'Nguyễn Hữu Thọ', 'Phước Kiển', 'Nhà Bè')\n",
    "# data = getData('Bán căn hộ chung cư', 'Nguyễn Hữu Cảnh', '22', 'Bình Thạnh')\n",
    "# data = getData('Bán đất', 'Trần Văn Giàu', 'Lê Minh Xuân', 'Bình Chánh')\n",
    "# data = getData('Bán đất', 'Vườn Lài', 'An Phú Đông', '12')\n",
    "# data = getData('Bán nhà riêng', 'Quốc Lộ 13', 'Hiệp Bình Phước', 'Thủ Đức')\n",
    "# data = getData('Bán nhà riêng', 'Phạm Văn Chiêu', '9', 'Gò Vấp')\n",
    "# data = getData('Bán nhà riêng', 'Nguyễn Văn Quá', 'Đông Hưng Thuận', '12')\n",
    "# data = getData('Bán nhà riêng', 'Quốc Lộ 13', 'Hiệp Bình Phước', 'Thủ Đức')\n",
    "# data = getData('Bán đất', 'Nguyễn Thị Rành', 'Nhuận Đức', 'Củ Chi')\n",
    "# data = getData('Bán đất', 'Tôn Đản', '10', '4')\n",
    "# data = getData('Bán căn hộ chung cư', '9A', 'Bình Hưng', 'Bình Chánh')\n",
    "# data = getData('Bán nhà riêng', 'Cao Thắng', '12', '10')\n",
    "data = getData('Bán đất', 'Bà Thiên', 'Nhuận Đức', 'Củ Chi')\n",
    "# data = getData('Bán nhà riêng', 'Số 8', 'Linh Xuân', 'Thủ Đức')\n",
    "# data = getData('Bán đất', 'Bình Mỹ', 'Bình Mỹ', 'Củ Chi')\n",
    "# data = getData('Bán đất', 'Nguyễn Văn Tạo', 'Long Thới', 'Nhà Bè')\n",
    "# data = getData('Bán nhà riêng', 'Lê Đình Cẩn', 'Tân Tạo', 'Bình Tân')\n",
    "# data = getData('Bán đất', 'Hoàng Phan Thái', 'Bình Chánh', 'Bình Chánh')\n",
    "# data = getData('Bán đất', 'Lê Văn Lương', 'Phước Kiển', 'Nhà Bè')"
   ]
  },
  {
   "cell_type": "code",
   "execution_count": 3,
   "id": "raising-mentor",
   "metadata": {},
   "outputs": [],
   "source": [
    "post_type = data['post_type'].iloc[0]\n",
    "street = data['street'].iloc[0]\n",
    "ward = data['ward'].iloc[0]\n",
    "district = data['district'].iloc[0]"
   ]
  },
  {
   "cell_type": "code",
   "execution_count": 4,
   "id": "mounted-european",
   "metadata": {},
   "outputs": [
    {
     "name": "stdout",
     "output_type": "stream",
     "text": [
      "Data length:  187\n"
     ]
    }
   ],
   "source": [
    "print(\"Data length: \", len(data))"
   ]
  },
  {
   "cell_type": "code",
   "execution_count": 5,
   "id": "patient-valentine",
   "metadata": {
    "scrolled": true
   },
   "outputs": [
    {
     "data": {
      "image/png": "[encoded data removed]",
      "text/plain": [
       "<Figure size 432x288 with 1 Axes>"
      ]
     },
     "metadata": {
      "needs_background": "light"
     },
     "output_type": "display_data"
    }
   ],
   "source": [
    "plt.scatter(data['area'], data['price'])\n",
    "plt.show()"
   ]
  },
  {
   "cell_type": "markdown",
   "id": "twelve-optimum",
   "metadata": {},
   "source": [
    "## Feature Engineering"
   ]
  },
  {
   "cell_type": "markdown",
   "id": "tight-seeker",
   "metadata": {},
   "source": [
    "### Clean data by observing dataset:"
   ]
  },
  {
   "cell_type": "code",
   "execution_count": 6,
   "id": "persistent-badge",
   "metadata": {},
   "outputs": [],
   "source": [
    "data = data[~(data['area'] < 10)]\n",
    "data = data[~(data['price'] > 200)]"
   ]
  },
  {
   "cell_type": "code",
   "execution_count": 7,
   "id": "equal-grade",
   "metadata": {},
   "outputs": [],
   "source": [
    "area_mean = np.mean(data['area'])\n",
    "area_std = np.std(data['area'])\n",
    "\n",
    "price_mean = np.mean(data['price'])\n",
    "price_std = np.std(data['price'])\n",
    "\n",
    "data = data[~( (data['area'] < area_mean) & (data['price'] > price_mean+1.5) )]\n",
    "data = data[~( (data['area'] > area_mean) & (data['price'] < price_mean+1.5) )]"
   ]
  },
  {
   "cell_type": "code",
   "execution_count": 8,
   "id": "valuable-delhi",
   "metadata": {},
   "outputs": [
    {
     "name": "stdout",
     "output_type": "stream",
     "text": [
      "Area mean:  2478.5989247311827\n",
      "Price mean:  6.828126881720431\n"
     ]
    }
   ],
   "source": [
    "print(\"Area mean: \", area_mean)\n",
    "print(\"Price mean: \", price_mean)"
   ]
  },
  {
   "cell_type": "code",
   "execution_count": 9,
   "id": "animated-regulation",
   "metadata": {},
   "outputs": [
    {
     "name": "stdout",
     "output_type": "stream",
     "text": [
      "Data length:  142\n"
     ]
    }
   ],
   "source": [
    "print(\"Data length: \", len(data))"
   ]
  },
  {
   "cell_type": "code",
   "execution_count": 10,
   "id": "immediate-spice",
   "metadata": {
    "scrolled": true
   },
   "outputs": [
    {
     "data": {
      "image/png": "[encoded data removed]",
      "text/plain": [
       "<Figure size 432x288 with 1 Axes>"
      ]
     },
     "metadata": {
      "needs_background": "light"
     },
     "output_type": "display_data"
    }
   ],
   "source": [
    "plt.scatter(data['area'], data['price'])\n",
    "plt.show()"
   ]
  },
  {
   "cell_type": "markdown",
   "id": "acoustic-plain",
   "metadata": {},
   "source": [
    "### Feature Scaling (both area & price)"
   ]
  },
  {
   "cell_type": "code",
   "execution_count": 11,
   "id": "given-oakland",
   "metadata": {},
   "outputs": [],
   "source": [
    "# transform data into log1p\n",
    "data['area'] = (data['area']).transform(np.log1p)\n",
    "data['price'] = (data['price']).transform(np.log1p)"
   ]
  },
  {
   "cell_type": "code",
   "execution_count": 12,
   "id": "radio-reunion",
   "metadata": {
    "scrolled": true
   },
   "outputs": [
    {
     "data": {
      "image/png": "[encoded data removed]",
      "text/plain": [
       "<Figure size 432x288 with 1 Axes>"
      ]
     },
     "metadata": {
      "needs_background": "light"
     },
     "output_type": "display_data"
    }
   ],
   "source": [
    "plt.scatter(data['area'], data['price'])\n",
    "plt.show()"
   ]
  },
  {
   "cell_type": "markdown",
   "id": "organized-theta",
   "metadata": {},
   "source": [
    "### Calculate mean of duplicated data"
   ]
  },
  {
   "cell_type": "code",
   "execution_count": 13,
   "id": "burning-actor",
   "metadata": {},
   "outputs": [],
   "source": [
    "# Instead of drop duplicates try calc and use its mean value:\n",
    "data = data.groupby(['area'], as_index=False).mean()\n",
    "\n",
    "# sort data by area:\n",
    "data = data.sort_values(by=['area'])"
   ]
  },
  {
   "cell_type": "code",
   "execution_count": 14,
   "id": "outer-insurance",
   "metadata": {},
   "outputs": [],
   "source": [
    "# area_upper_bound = data['area'].quantile(0.95)\n",
    "# area_lower_bound = data['area'].quantile(0.05)\n",
    "# price_upper_bound = data['price'].quantile(0.95)\n",
    "# price_lower_bound = data['price'].quantile(0.05)\n",
    "\n",
    "# data = data[\n",
    "#     (data['area'] < area_upper_bound) &\n",
    "#     (data['area'] > area_lower_bound) &\n",
    "#     (data['price'] < price_upper_bound) &\n",
    "#     (data['price'] > price_lower_bound)\n",
    "# ]"
   ]
  },
  {
   "cell_type": "code",
   "execution_count": 15,
   "id": "received-folks",
   "metadata": {},
   "outputs": [
    {
     "name": "stdout",
     "output_type": "stream",
     "text": [
      "Data length:  65\n"
     ]
    }
   ],
   "source": [
    "print(\"Data length: \", len(data))"
   ]
  },
  {
   "cell_type": "code",
   "execution_count": 16,
   "id": "cathedral-credit",
   "metadata": {
    "scrolled": false
   },
   "outputs": [
    {
     "data": {
      "image/png": "[encoded data removed]",
      "text/plain": [
       "<Figure size 432x288 with 1 Axes>"
      ]
     },
     "metadata": {
      "needs_background": "light"
     },
     "output_type": "display_data"
    }
   ],
   "source": [
    "plt.scatter(data['area'], data['price'])\n",
    "plt.show()"
   ]
  },
  {
   "cell_type": "markdown",
   "id": "fatty-walnut",
   "metadata": {},
   "source": [
    "## RANSAC Algorithm in Detecting Outliers\n",
    "- This method is not a good choice if the dataset not follow linear trends\n",
    "- Beside, using a base estimator same with the current model will make this prediction in spoiled data => I assume that it is not a good practice"
   ]
  },
  {
   "cell_type": "code",
   "execution_count": 17,
   "id": "corrected-leather",
   "metadata": {
    "scrolled": false
   },
   "outputs": [],
   "source": [
    "# test_area, test_price = convertData(data)\n",
    "\n",
    "# # find degree by polynomial regression:\n",
    "# run_model, model_name, found_degree, rmse = polynomialRegression(test_area, test_price)\n",
    "\n",
    "# ransac_model = linear_model.RANSACRegressor(base_estimator=PolynomialRegressionModel(degree=found_degree), random_state=0)\n",
    "# ransac_model.fit(test_area, test_price)\n",
    "\n",
    "# inlier_mask = ransac_model.inlier_mask_\n",
    "# outlier_mask = np.logical_not(inlier_mask)"
   ]
  },
  {
   "cell_type": "code",
   "execution_count": 18,
   "id": "binding-toyota",
   "metadata": {},
   "outputs": [],
   "source": [
    "# plt.scatter(data['area'], data['price'], color='blue')\n",
    "# plt.scatter(test_area[outlier_mask], test_price[outlier_mask], color='red')\n",
    "# plt.plot(test_area, ransac_model.predict(test_area))\n",
    "# # run_model.predict(PolynomialFeatures(degree=found_degree).fit_transform(test_area)\n",
    "# plt.show()\n",
    "\n",
    "# outlier_indexes = np.where(outlier_mask==True)\n",
    "# outlier_values = data.iloc[outlier_indexes]\n",
    "# data = data.drop(outlier_values.index)"
   ]
  },
  {
   "cell_type": "markdown",
   "id": "proud-trouble",
   "metadata": {},
   "source": [
    "### Use IQR method to remove outliers"
   ]
  },
  {
   "cell_type": "code",
   "execution_count": 19,
   "id": "together-sally",
   "metadata": {},
   "outputs": [
    {
     "data": {
      "image/png": "[encoded data removed]",
      "text/plain": [
       "<Figure size 432x288 with 1 Axes>"
      ]
     },
     "metadata": {
      "needs_background": "light"
     },
     "output_type": "display_data"
    }
   ],
   "source": [
    "data['area'].plot(kind='box')\n",
    "plt.show()"
   ]
  },
  {
   "cell_type": "code",
   "execution_count": 20,
   "id": "german-spray",
   "metadata": {
    "scrolled": false
   },
   "outputs": [
    {
     "data": {
      "image/png": "[encoded data removed]",
      "text/plain": [
       "<Figure size 432x288 with 1 Axes>"
      ]
     },
     "metadata": {
      "needs_background": "light"
     },
     "output_type": "display_data"
    }
   ],
   "source": [
    "data['price'].plot(kind='box')\n",
    "plt.show()"
   ]
  },
  {
   "cell_type": "code",
   "execution_count": 21,
   "id": "measured-vatican",
   "metadata": {},
   "outputs": [
    {
     "data": {
      "text/html": [
       "<div>\n",
       "<style scoped>\n",
       "    .dataframe tbody tr th:only-of-type {\n",
       "        vertical-align: middle;\n",
       "    }\n",
       "\n",
       "    .dataframe tbody tr th {\n",
       "        vertical-align: top;\n",
       "    }\n",
       "\n",
       "    .dataframe thead th {\n",
       "        text-align: right;\n",
       "    }\n",
       "</style>\n",
       "<table border=\"1\" class=\"dataframe\">\n",
       "  <thead>\n",
       "    <tr style=\"text-align: right;\">\n",
       "      <th></th>\n",
       "      <th>area</th>\n",
       "      <th>price</th>\n",
       "    </tr>\n",
       "  </thead>\n",
       "  <tbody>\n",
       "    <tr>\n",
       "      <th>5</th>\n",
       "      <td>4.836282</td>\n",
       "      <td>0.884501</td>\n",
       "    </tr>\n",
       "    <tr>\n",
       "      <th>6</th>\n",
       "      <td>4.850467</td>\n",
       "      <td>0.846469</td>\n",
       "    </tr>\n",
       "    <tr>\n",
       "      <th>7</th>\n",
       "      <td>4.875197</td>\n",
       "      <td>0.896088</td>\n",
       "    </tr>\n",
       "    <tr>\n",
       "      <th>8</th>\n",
       "      <td>4.983607</td>\n",
       "      <td>0.810930</td>\n",
       "    </tr>\n",
       "    <tr>\n",
       "      <th>9</th>\n",
       "      <td>5.081404</td>\n",
       "      <td>1.193922</td>\n",
       "    </tr>\n",
       "    <tr>\n",
       "      <th>...</th>\n",
       "      <td>...</td>\n",
       "      <td>...</td>\n",
       "    </tr>\n",
       "    <tr>\n",
       "      <th>71</th>\n",
       "      <td>8.701845</td>\n",
       "      <td>2.803360</td>\n",
       "    </tr>\n",
       "    <tr>\n",
       "      <th>72</th>\n",
       "      <td>8.702012</td>\n",
       "      <td>2.803360</td>\n",
       "    </tr>\n",
       "    <tr>\n",
       "      <th>73</th>\n",
       "      <td>8.732466</td>\n",
       "      <td>2.459260</td>\n",
       "    </tr>\n",
       "    <tr>\n",
       "      <th>74</th>\n",
       "      <td>8.881975</td>\n",
       "      <td>2.944439</td>\n",
       "    </tr>\n",
       "    <tr>\n",
       "      <th>75</th>\n",
       "      <td>9.047939</td>\n",
       "      <td>3.511545</td>\n",
       "    </tr>\n",
       "  </tbody>\n",
       "</table>\n",
       "<p>65 rows × 2 columns</p>\n",
       "</div>"
      ],
      "text/plain": [
       "        area     price\n",
       "5   4.836282  0.884501\n",
       "6   4.850467  0.846469\n",
       "7   4.875197  0.896088\n",
       "8   4.983607  0.810930\n",
       "9   5.081404  1.193922\n",
       "..       ...       ...\n",
       "71  8.701845  2.803360\n",
       "72  8.702012  2.803360\n",
       "73  8.732466  2.459260\n",
       "74  8.881975  2.944439\n",
       "75  9.047939  3.511545\n",
       "\n",
       "[65 rows x 2 columns]"
      ]
     },
     "execution_count": 21,
     "metadata": {},
     "output_type": "execute_result"
    }
   ],
   "source": [
    "data"
   ]
  },
  {
   "cell_type": "code",
   "execution_count": 22,
   "id": "extended-pound",
   "metadata": {
    "scrolled": true
   },
   "outputs": [
    {
     "name": "stdout",
     "output_type": "stream",
     "text": [
      "Length =  65\n"
     ]
    },
    {
     "ename": "KeyError",
     "evalue": "0",
     "output_type": "error",
     "traceback": [
      "\u001b[1;31m---------------------------------------------------------------------------\u001b[0m",
      "\u001b[1;31mKeyError\u001b[0m                                  Traceback (most recent call last)",
      "\u001b[1;32mD:\\Software\\Miniconda3\\lib\\site-packages\\pandas\\core\\indexes\\base.py\u001b[0m in \u001b[0;36mget_loc\u001b[1;34m(self, key, method, tolerance)\u001b[0m\n\u001b[0;32m   3079\u001b[0m             \u001b[1;32mtry\u001b[0m\u001b[1;33m:\u001b[0m\u001b[1;33m\u001b[0m\u001b[1;33m\u001b[0m\u001b[0m\n\u001b[1;32m-> 3080\u001b[1;33m                 \u001b[1;32mreturn\u001b[0m \u001b[0mself\u001b[0m\u001b[1;33m.\u001b[0m\u001b[0m_engine\u001b[0m\u001b[1;33m.\u001b[0m\u001b[0mget_loc\u001b[0m\u001b[1;33m(\u001b[0m\u001b[0mcasted_key\u001b[0m\u001b[1;33m)\u001b[0m\u001b[1;33m\u001b[0m\u001b[1;33m\u001b[0m\u001b[0m\n\u001b[0m\u001b[0;32m   3081\u001b[0m             \u001b[1;32mexcept\u001b[0m \u001b[0mKeyError\u001b[0m \u001b[1;32mas\u001b[0m \u001b[0merr\u001b[0m\u001b[1;33m:\u001b[0m\u001b[1;33m\u001b[0m\u001b[1;33m\u001b[0m\u001b[0m\n",
      "\u001b[1;32mpandas\\_libs\\index.pyx\u001b[0m in \u001b[0;36mpandas._libs.index.IndexEngine.get_loc\u001b[1;34m()\u001b[0m\n",
      "\u001b[1;32mpandas\\_libs\\index.pyx\u001b[0m in \u001b[0;36mpandas._libs.index.IndexEngine.get_loc\u001b[1;34m()\u001b[0m\n",
      "\u001b[1;32mpandas\\_libs\\hashtable_class_helper.pxi\u001b[0m in \u001b[0;36mpandas._libs.hashtable.Int64HashTable.get_item\u001b[1;34m()\u001b[0m\n",
      "\u001b[1;32mpandas\\_libs\\hashtable_class_helper.pxi\u001b[0m in \u001b[0;36mpandas._libs.hashtable.Int64HashTable.get_item\u001b[1;34m()\u001b[0m\n",
      "\u001b[1;31mKeyError\u001b[0m: 0",
      "\nThe above exception was the direct cause of the following exception:\n",
      "\u001b[1;31mKeyError\u001b[0m                                  Traceback (most recent call last)",
      "\u001b[1;32m<ipython-input-22-bde7d33d3462>\u001b[0m in \u001b[0;36m<module>\u001b[1;34m\u001b[0m\n\u001b[0;32m      1\u001b[0m \u001b[0mprint\u001b[0m\u001b[1;33m(\u001b[0m\u001b[1;34m\"Length = \"\u001b[0m\u001b[1;33m,\u001b[0m \u001b[0mlen\u001b[0m\u001b[1;33m(\u001b[0m\u001b[0mdata\u001b[0m\u001b[1;33m)\u001b[0m\u001b[1;33m)\u001b[0m\u001b[1;33m\u001b[0m\u001b[1;33m\u001b[0m\u001b[0m\n\u001b[0;32m      2\u001b[0m \u001b[0mmax_value\u001b[0m \u001b[1;33m=\u001b[0m \u001b[0mdata\u001b[0m\u001b[1;33m[\u001b[0m\u001b[1;34m'area'\u001b[0m\u001b[1;33m]\u001b[0m\u001b[1;33m[\u001b[0m\u001b[0mlen\u001b[0m\u001b[1;33m(\u001b[0m\u001b[0mdata\u001b[0m\u001b[1;33m)\u001b[0m\u001b[1;33m-\u001b[0m\u001b[1;36m1\u001b[0m\u001b[1;33m]\u001b[0m\u001b[1;33m\u001b[0m\u001b[1;33m\u001b[0m\u001b[0m\n\u001b[1;32m----> 3\u001b[1;33m \u001b[0mmin_value\u001b[0m \u001b[1;33m=\u001b[0m \u001b[0mdata\u001b[0m\u001b[1;33m[\u001b[0m\u001b[1;34m'area'\u001b[0m\u001b[1;33m]\u001b[0m\u001b[1;33m[\u001b[0m\u001b[1;36m0\u001b[0m\u001b[1;33m]\u001b[0m\u001b[1;33m\u001b[0m\u001b[1;33m\u001b[0m\u001b[0m\n\u001b[0m\u001b[0;32m      4\u001b[0m \u001b[1;33m\u001b[0m\u001b[0m\n\u001b[0;32m      5\u001b[0m \u001b[0mprint\u001b[0m\u001b[1;33m(\u001b[0m\u001b[1;34m\"Max: \"\u001b[0m\u001b[1;33m,\u001b[0m \u001b[0mmax_value\u001b[0m\u001b[1;33m)\u001b[0m\u001b[1;33m\u001b[0m\u001b[1;33m\u001b[0m\u001b[0m\n",
      "\u001b[1;32mD:\\Software\\Miniconda3\\lib\\site-packages\\pandas\\core\\series.py\u001b[0m in \u001b[0;36m__getitem__\u001b[1;34m(self, key)\u001b[0m\n\u001b[0;32m    849\u001b[0m \u001b[1;33m\u001b[0m\u001b[0m\n\u001b[0;32m    850\u001b[0m         \u001b[1;32melif\u001b[0m \u001b[0mkey_is_scalar\u001b[0m\u001b[1;33m:\u001b[0m\u001b[1;33m\u001b[0m\u001b[1;33m\u001b[0m\u001b[0m\n\u001b[1;32m--> 851\u001b[1;33m             \u001b[1;32mreturn\u001b[0m \u001b[0mself\u001b[0m\u001b[1;33m.\u001b[0m\u001b[0m_get_value\u001b[0m\u001b[1;33m(\u001b[0m\u001b[0mkey\u001b[0m\u001b[1;33m)\u001b[0m\u001b[1;33m\u001b[0m\u001b[1;33m\u001b[0m\u001b[0m\n\u001b[0m\u001b[0;32m    852\u001b[0m \u001b[1;33m\u001b[0m\u001b[0m\n\u001b[0;32m    853\u001b[0m         \u001b[1;32mif\u001b[0m \u001b[0mis_hashable\u001b[0m\u001b[1;33m(\u001b[0m\u001b[0mkey\u001b[0m\u001b[1;33m)\u001b[0m\u001b[1;33m:\u001b[0m\u001b[1;33m\u001b[0m\u001b[1;33m\u001b[0m\u001b[0m\n",
      "\u001b[1;32mD:\\Software\\Miniconda3\\lib\\site-packages\\pandas\\core\\series.py\u001b[0m in \u001b[0;36m_get_value\u001b[1;34m(self, label, takeable)\u001b[0m\n\u001b[0;32m    957\u001b[0m \u001b[1;33m\u001b[0m\u001b[0m\n\u001b[0;32m    958\u001b[0m         \u001b[1;31m# Similar to Index.get_value, but we do not fall back to positional\u001b[0m\u001b[1;33m\u001b[0m\u001b[1;33m\u001b[0m\u001b[1;33m\u001b[0m\u001b[0m\n\u001b[1;32m--> 959\u001b[1;33m         \u001b[0mloc\u001b[0m \u001b[1;33m=\u001b[0m \u001b[0mself\u001b[0m\u001b[1;33m.\u001b[0m\u001b[0mindex\u001b[0m\u001b[1;33m.\u001b[0m\u001b[0mget_loc\u001b[0m\u001b[1;33m(\u001b[0m\u001b[0mlabel\u001b[0m\u001b[1;33m)\u001b[0m\u001b[1;33m\u001b[0m\u001b[1;33m\u001b[0m\u001b[0m\n\u001b[0m\u001b[0;32m    960\u001b[0m         \u001b[1;32mreturn\u001b[0m \u001b[0mself\u001b[0m\u001b[1;33m.\u001b[0m\u001b[0mindex\u001b[0m\u001b[1;33m.\u001b[0m\u001b[0m_get_values_for_loc\u001b[0m\u001b[1;33m(\u001b[0m\u001b[0mself\u001b[0m\u001b[1;33m,\u001b[0m \u001b[0mloc\u001b[0m\u001b[1;33m,\u001b[0m \u001b[0mlabel\u001b[0m\u001b[1;33m)\u001b[0m\u001b[1;33m\u001b[0m\u001b[1;33m\u001b[0m\u001b[0m\n\u001b[0;32m    961\u001b[0m \u001b[1;33m\u001b[0m\u001b[0m\n",
      "\u001b[1;32mD:\\Software\\Miniconda3\\lib\\site-packages\\pandas\\core\\indexes\\base.py\u001b[0m in \u001b[0;36mget_loc\u001b[1;34m(self, key, method, tolerance)\u001b[0m\n\u001b[0;32m   3080\u001b[0m                 \u001b[1;32mreturn\u001b[0m \u001b[0mself\u001b[0m\u001b[1;33m.\u001b[0m\u001b[0m_engine\u001b[0m\u001b[1;33m.\u001b[0m\u001b[0mget_loc\u001b[0m\u001b[1;33m(\u001b[0m\u001b[0mcasted_key\u001b[0m\u001b[1;33m)\u001b[0m\u001b[1;33m\u001b[0m\u001b[1;33m\u001b[0m\u001b[0m\n\u001b[0;32m   3081\u001b[0m             \u001b[1;32mexcept\u001b[0m \u001b[0mKeyError\u001b[0m \u001b[1;32mas\u001b[0m \u001b[0merr\u001b[0m\u001b[1;33m:\u001b[0m\u001b[1;33m\u001b[0m\u001b[1;33m\u001b[0m\u001b[0m\n\u001b[1;32m-> 3082\u001b[1;33m                 \u001b[1;32mraise\u001b[0m \u001b[0mKeyError\u001b[0m\u001b[1;33m(\u001b[0m\u001b[0mkey\u001b[0m\u001b[1;33m)\u001b[0m \u001b[1;32mfrom\u001b[0m \u001b[0merr\u001b[0m\u001b[1;33m\u001b[0m\u001b[1;33m\u001b[0m\u001b[0m\n\u001b[0m\u001b[0;32m   3083\u001b[0m \u001b[1;33m\u001b[0m\u001b[0m\n\u001b[0;32m   3084\u001b[0m         \u001b[1;32mif\u001b[0m \u001b[0mtolerance\u001b[0m \u001b[1;32mis\u001b[0m \u001b[1;32mnot\u001b[0m \u001b[1;32mNone\u001b[0m\u001b[1;33m:\u001b[0m\u001b[1;33m\u001b[0m\u001b[1;33m\u001b[0m\u001b[0m\n",
      "\u001b[1;31mKeyError\u001b[0m: 0"
     ]
    }
   ],
   "source": [
    "print(\"Length = \", len(data))\n",
    "max_value = data['area'][len(data)-1]\n",
    "min_value = data['area'][0]\n",
    "\n",
    "print(\"Max: \", max_value)\n",
    "print(\"Min: \", min_value)\n",
    "\n",
    "frame_value = (max_value - min_value) / 4\n",
    "print(\"frame_value = \", frame_value)\n",
    "\n",
    "frames_data = [ data[(data['area'] >= i*frame_value+min_value) & (data['area'] <= (i+1)*frame_value+min_value)].copy() for i in range(0, 4)]\n",
    "frames_data[-1] = frames_data[-1].append(data[data['area'] > 4*frame_value+min_value])"
   ]
  },
  {
   "cell_type": "code",
   "execution_count": null,
   "id": "planned-seven",
   "metadata": {
    "scrolled": false
   },
   "outputs": [],
   "source": [
    "colors = ['blue', 'red', 'green', 'black']\n",
    "color_count = 0\n",
    "for x in frames_data:\n",
    "    plt.scatter(x['area'], x['price'], color=colors[color_count])\n",
    "    color_count = color_count + 1\n",
    "plt.show()"
   ]
  },
  {
   "cell_type": "code",
   "execution_count": null,
   "id": "silver-acrylic",
   "metadata": {},
   "outputs": [],
   "source": [
    "outliers = []\n",
    "for i in range(len(frames_data)):\n",
    "    price_minimum, price_maximum = calcMinimumMaximum(frames_data[i]['price'])\n",
    "    print(price_minimum, \" \", price_maximum)\n",
    "    frames_inliers = frames_data[i].where((frames_data[i]['price'] > price_minimum) & (frames_data[i]['price'] < price_maximum))\n",
    "    frames_outliers = frames_data[i].where((frames_data[i]['price'] <= price_minimum) | (frames_data[i]['price'] >= price_maximum))\n",
    "    print(frames_data[i])\n",
    "    frames_data[i] = frames_inliers.dropna()\n",
    "    outliers.append(frames_outliers.dropna())\n",
    "    \n",
    "data = pd.concat(frames_data, ignore_index=True)\n",
    "outliers_data = pd.concat(outliers, ignore_index=True)"
   ]
  },
  {
   "cell_type": "code",
   "execution_count": null,
   "id": "ongoing-mailing",
   "metadata": {},
   "outputs": [],
   "source": [
    "# plt.scatter(data['area'][:len(data)//5], data['price'][:len(data)//5], color='blue')\n",
    "# plt.scatter(data['area'][len(data)//5:len(data)*2//5], data['price'][len(data)//5:len(data)*2//5], color='red')\n",
    "# plt.scatter(data['area'][len(data)*2//5:len(data)*3//5], data['price'][len(data)*2//5:len(data)*3//5], color='green')\n",
    "# plt.scatter(data['area'][len(data)*3//5:len(data)*4//5], data['price'][len(data)*3//5:len(data)*4//5], color='black')\n",
    "# plt.scatter(data['area'][len(data)*4//5:], data['price'][len(data)*4//5:], color='purple')\n",
    "# plt.show()"
   ]
  },
  {
   "cell_type": "code",
   "execution_count": null,
   "id": "mature-walnut",
   "metadata": {},
   "outputs": [],
   "source": [
    "# part_data = data['price'][:len(data)//5]\n",
    "# price_minimum, price_maximum = calcMinimumMaximum(part_data)\n",
    "# data_1 = data[:len(data)//5][(part_data > price_minimum) & (part_data < price_maximum)]\n",
    "\n",
    "# part_data = data['price'][len(data)//5:len(data)*2//5]\n",
    "# price_minimum, price_maximum = calcMinimumMaximum(part_data)\n",
    "# data_2 = data[len(data)//5:len(data)*2//5][(part_data > price_minimum) & (part_data < price_maximum)]\n",
    "\n",
    "# part_data = data['price'][len(data)*2//5:len(data)*3//5]\n",
    "# price_minimum, price_maximum = calcMinimumMaximum(part_data)\n",
    "# data_3 = data[len(data)*2//5:len(data)*3//5][(part_data > price_minimum) & (part_data < price_maximum)]\n",
    "\n",
    "# part_data = data['price'][len(data)*3//5:len(data)*4//5]\n",
    "# price_minimum, price_maximum = calcMinimumMaximum(part_data)\n",
    "# data_4 = data[len(data)*3//5:len(data)*4//5][(part_data > price_minimum) & (part_data < price_maximum)]\n",
    "\n",
    "# part_data = data['price'][len(data)*4//5:]\n",
    "# price_minimum, price_maximum = calcMinimumMaximum(part_data)\n",
    "# data_5 = data[len(data)*4//5:][(part_data > price_minimum) & (part_data < price_maximum)]\n",
    "\n",
    "# data = pd.concat([data_1, data_2, data_3, data_4, data_5], ignore_index=True)"
   ]
  },
  {
   "cell_type": "code",
   "execution_count": null,
   "id": "wired-morgan",
   "metadata": {},
   "outputs": [],
   "source": [
    "print(\"Data length: \", len(data))\n",
    "print(\"Outliers data length: \", len(outliers_data))"
   ]
  },
  {
   "cell_type": "code",
   "execution_count": null,
   "id": "affiliated-corporation",
   "metadata": {},
   "outputs": [],
   "source": [
    "plt.scatter(data['area'], data['price'], color='blue', label='inliers')\n",
    "plt.scatter(outliers_data['area'], outliers_data['price'], color='red', label='outliers')\n",
    "plt.legend(bbox_to_anchor=(1,1), loc=\"upper left\")\n",
    "plt.xlabel('area')\n",
    "plt.ylabel('price')\n",
    "plt.show()"
   ]
  },
  {
   "cell_type": "code",
   "execution_count": null,
   "id": "focused-integer",
   "metadata": {},
   "outputs": [],
   "source": [
    "data['area'].plot(kind='box')\n",
    "plt.show()"
   ]
  },
  {
   "cell_type": "code",
   "execution_count": null,
   "id": "specific-watch",
   "metadata": {
    "scrolled": true
   },
   "outputs": [],
   "source": [
    "data['price'].plot(kind='box')\n",
    "plt.show()"
   ]
  },
  {
   "cell_type": "code",
   "execution_count": null,
   "id": "promotional-shaft",
   "metadata": {},
   "outputs": [],
   "source": [
    "max_area = data['area'].max()\n",
    "max_price = data['price'].max()"
   ]
  },
  {
   "cell_type": "markdown",
   "id": "imported-worcester",
   "metadata": {},
   "source": [
    "### Use Local Outlier Factor to remove _local outliers_"
   ]
  },
  {
   "cell_type": "code",
   "execution_count": null,
   "id": "employed-morgan",
   "metadata": {},
   "outputs": [],
   "source": [
    "# from sklearn.neighbors import LocalOutlierFactor\n",
    "\n",
    "# # convert dataframe into numpy array:\n",
    "# X = data.to_numpy()\n",
    "# n_neighbors = 8"
   ]
  },
  {
   "cell_type": "code",
   "execution_count": null,
   "id": "standard-fantasy",
   "metadata": {},
   "outputs": [],
   "source": [
    "# isNeighbors = LocalOutlierFactor(n_neighbors=n_neighbors, algorithm='brute', metric='euclidean', contamination=0.2).fit_predict(X)\n",
    "\n",
    "# # locate outliers by index:\n",
    "# outlier_indexes = np.where(isNeighbors == -1)\n",
    "# outlier_values = data.iloc[outlier_indexes]\n",
    "\n",
    "# # drop outliers:\n",
    "# data = data.drop(outlier_values.index)\n",
    "\n",
    "# print(\"\\nOutliers detected by Local Outlier Factor with n_neighbors = \", n_neighbors)\n",
    "# # plot outliers removed:\n",
    "# plt.scatter(data['area'], data['price'], color='blue', label='inliers')\n",
    "# plt.scatter(outlier_values['area'], outlier_values['price'], color='red', label='outliers')\n",
    "# plt.legend(bbox_to_anchor=(1,1), loc=\"upper left\")\n",
    "# plt.tight_layout()\n",
    "# plt.xlabel('area')\n",
    "# plt.ylabel('price')\n",
    "# plt.show()"
   ]
  },
  {
   "cell_type": "markdown",
   "id": "auburn-barrier",
   "metadata": {},
   "source": [
    "### Split dataset\n",
    "1. Train dataset: 70%\n",
    "2. Validate dataset: 15%\n",
    "3. Test dataset: 15%"
   ]
  },
  {
   "cell_type": "code",
   "execution_count": null,
   "id": "fuzzy-sender",
   "metadata": {},
   "outputs": [],
   "source": [
    "# divide data into train and test:\n",
    "train_data, test_data = train_test_split(data, test_size=0.3, random_state=4)\n",
    "test_data, validate_data = train_test_split(test_data, test_size=0.5, random_state=4)"
   ]
  },
  {
   "cell_type": "code",
   "execution_count": null,
   "id": "interior-estate",
   "metadata": {},
   "outputs": [],
   "source": [
    "# Sort data by area column:\n",
    "train_data = train_data.sort_values(by=['area'])\n",
    "test_data = test_data.sort_values(by=['area'])\n",
    "validate_data = validate_data.sort_values(by=['area'])\n",
    "\n",
    "print(\"\\nTrain data length: \", len(train_data))\n",
    "print(\"Test data length: \", len(test_data))\n",
    "print(\"Validate data length: \", len(validate_data))"
   ]
  },
  {
   "cell_type": "markdown",
   "id": "nutritional-motorcycle",
   "metadata": {},
   "source": [
    "### Visualize features relationship"
   ]
  },
  {
   "cell_type": "code",
   "execution_count": null,
   "id": "ranking-madonna",
   "metadata": {},
   "outputs": [],
   "source": [
    "# # convert data into numpy\n",
    "X, Y = convertData(data)\n",
    "X_train, Y_train = convertData(train_data)\n",
    "X_test, Y_test = convertData(test_data)\n",
    "X_validate, Y_validate = convertData(validate_data)"
   ]
  },
  {
   "cell_type": "code",
   "execution_count": null,
   "id": "palestinian-teaching",
   "metadata": {
    "scrolled": false
   },
   "outputs": [],
   "source": [
    "fig, ax = plt.subplots(2, 4, figsize=(15, 7))\n",
    "ax[0][0].plot(X)\n",
    "ax[0][0].set_title('X')\n",
    "ax[0][1].plot(X_train)\n",
    "ax[0][1].set_title('X_train')\n",
    "ax[0][2].plot(X_test)\n",
    "ax[0][2].set_title('X_test')\n",
    "ax[0][3].plot(X_validate)\n",
    "ax[0][3].set_title('X_validate')\n",
    "\n",
    "ax[1][0].plot(Y)\n",
    "ax[1][0].set_title('Y')\n",
    "ax[1][1].plot(Y_train)\n",
    "ax[1][1].set_title('Y_train')\n",
    "ax[1][2].plot(Y_test)\n",
    "ax[1][2].set_title('Y_test')\n",
    "ax[1][3].plot(Y_validate)\n",
    "ax[1][3].set_title('Y_validate')"
   ]
  },
  {
   "cell_type": "markdown",
   "id": "armed-retailer",
   "metadata": {},
   "source": [
    "## Linear Regression Model"
   ]
  },
  {
   "cell_type": "code",
   "execution_count": null,
   "id": "focal-litigation",
   "metadata": {},
   "outputs": [],
   "source": [
    "# find model by using linear regression:\n",
    "linear_regression_model = linearRegressionModel(X_train, Y_train)\n",
    "\n",
    "# find Y by using linear model predict:\n",
    "Y_train_pred = linear_regression_model.predict(X_train)\n",
    "Y_validate_pred = linear_regression_model.predict(X_validate)\n",
    "Y_test_pred = linear_regression_model.predict(X_test)\n",
    "\n",
    "# Calculate RMSE on train and test data:\n",
    "train_linear_rmse = np.sqrt(mean_squared_error(Y_train, Y_train_pred))\n",
    "validate_linear_rmse = np.sqrt(mean_squared_error(Y_validate, Y_validate_pred))\n",
    "test_linear_rmse = np.sqrt(mean_squared_error(Y_test, Y_test_pred))"
   ]
  },
  {
   "cell_type": "code",
   "execution_count": null,
   "id": "wanted-fireplace",
   "metadata": {},
   "outputs": [],
   "source": [
    "print(\"\\nLinear Regression Model: \")\n",
    "# Plot linear model:\n",
    "plt.figure(figsize=(7, 4))\n",
    "plt.scatter(X_train, Y_train, marker='o', color='blue', label='train_data')\n",
    "plt.scatter(X_test, Y_test, marker='o', color='red', label='test_data')\n",
    "plt.scatter(X_validate, Y_validate, marker='o', color='green', label='validate_data')\n",
    "plt.plot(X_train, Y_train_pred, color='black', label='train_model')\n",
    "plt.legend(bbox_to_anchor=(1,1), loc=\"upper left\")\n",
    "plt.tight_layout()\n",
    "plt.xlabel('area')\n",
    "plt.ylabel('price')\n",
    "plt.xlim(right=max_area+0.3)\n",
    "plt.ylim(top=max_price+0.3)\n",
    "plt.show()"
   ]
  },
  {
   "cell_type": "code",
   "execution_count": null,
   "id": "impaired-bulletin",
   "metadata": {
    "scrolled": false
   },
   "outputs": [],
   "source": [
    "# Linear Model coefficient and intercept:\n",
    "print(\"Linear model coefficient: {}\".format(linear_regression_model.coef_))\n",
    "print(\"Linear model intercept: {}\".format(linear_regression_model.intercept_))\n",
    "\n",
    "# linear_model rmse:\n",
    "print(\"Linear model rmse on train data: {}\".format(train_linear_rmse))\n",
    "print(\"Linear model rmse on validate data: {}\".format(validate_linear_rmse))\n",
    "print(\"Linear model rmse on test data: {}\".format(test_linear_rmse))\n",
    "print(\"\\n\\n\")"
   ]
  },
  {
   "cell_type": "code",
   "execution_count": null,
   "id": "valuable-bonus",
   "metadata": {},
   "outputs": [],
   "source": [
    "def calcRMSE(model, X, Y):\n",
    "    return np.sqrt(mean_squared_error(Y, model.predict(X)))\n",
    "\n",
    "def calcCV(model, X, Y, scoring):\n",
    "    return np.mean(cross_val_score(model, X, Y, scoring=scoring, cv=5))"
   ]
  },
  {
   "cell_type": "markdown",
   "id": "lyric-potter",
   "metadata": {},
   "source": [
    "## Polynomial Regression Model"
   ]
  },
  {
   "cell_type": "code",
   "execution_count": null,
   "id": "diverse-chair",
   "metadata": {},
   "outputs": [],
   "source": [
    "def polynomialTransform(dataset, degree):\n",
    "    polynomial_features = PolynomialFeatures(degree=degree)\n",
    "    dataset_poly = polynomial_features.fit_transform(dataset)\n",
    "    return dataset_poly"
   ]
  },
  {
   "cell_type": "code",
   "execution_count": null,
   "id": "miniature-absence",
   "metadata": {},
   "outputs": [],
   "source": [
    "# degree = 2\n",
    "X_train_poly = polynomialTransform(X_train, 2)\n",
    "selected_poly_model = linearRegressionModel(X_train_poly, Y_train)\n",
    "\n",
    "# calc rmse on validate data:\n",
    "X_validate_poly = polynomialTransform(X_validate, 2)\n",
    "min_poly_rmse = calcRMSE(selected_poly_model, X_validate_poly, Y_validate)\n",
    "\n",
    "# Choose model with specific degree:\n",
    "selected_degree = 2\n",
    "selected_X_train_poly = X_train_poly\n",
    "\n",
    "min_degree = 3\n",
    "max_degree = 100\n",
    "\n",
    "for i in range(min_degree, max_degree+1):\n",
    "    X_train_poly = polynomialTransform(X_train, i)\n",
    "    poly_model = linearRegressionModel(X_train_poly, Y_train)\n",
    "\n",
    "    # calc rmse on validate data:\n",
    "    X_validate_poly = polynomialTransform(X_validate, i)\n",
    "    rmse = calcRMSE(poly_model, X_validate_poly, Y_validate)\n",
    "\n",
    "    # Try to select the model with minimum rmse:\n",
    "    if rmse < min_poly_rmse:\n",
    "        min_poly_rmse = rmse\n",
    "        selected_poly_model = poly_model\n",
    "        selected_X_train_poly = X_train_poly\n",
    "        selected_degree = i\n",
    "        \n",
    "print(\"Polynomial Regression with degree = \", selected_degree)\n",
    "print(\"RMSE on validate data: \", min_poly_rmse)\n",
    "print(\"Polynomial model coefficient:\")\n",
    "print(selected_poly_model.coef_)\n",
    "print(\"Polynomial model intercept: {}\\n\".format(selected_poly_model.intercept_))\n",
    "\n",
    "# Predict Y:\n",
    "Y_train_poly_pred = selected_poly_model.predict(selected_X_train_poly)"
   ]
  },
  {
   "cell_type": "code",
   "execution_count": null,
   "id": "angry-stomach",
   "metadata": {
    "scrolled": true
   },
   "outputs": [],
   "source": [
    "# Plot model:\n",
    "plt.figure(figsize=(7, 4))\n",
    "plt.scatter(X_train, Y_train, marker='o', color='blue', label='train_data')\n",
    "plt.scatter(X_test, Y_test, marker='o', color='red', label='test_data')\n",
    "plt.scatter(X_validate, Y_validate, marker='o', color='green', label='validate_data')\n",
    "plt.plot(X_train, Y_train_poly_pred, color='black', label='train_model')\n",
    "plt.legend(bbox_to_anchor=(1,1), loc=\"upper left\")\n",
    "plt.tight_layout()\n",
    "plt.xlabel('area')\n",
    "plt.ylabel('price')\n",
    "plt.xlim(right=max_area+0.3)\n",
    "plt.ylim(top=max_price+0.3)\n",
    "plt.show()"
   ]
  },
  {
   "cell_type": "markdown",
   "id": "coordinate-professional",
   "metadata": {},
   "source": [
    "### Alpha Hyperparameter"
   ]
  },
  {
   "cell_type": "code",
   "execution_count": null,
   "id": "convertible-preference",
   "metadata": {},
   "outputs": [],
   "source": [
    "alphas = [0.00001, 0.00003, 0.00005, 0.00008, 0.0001, 0.0003, 0.0005, 0.0008, 0.001, 0.005, 0.01, 0.02, 0.04, 0.06, 0.1, 1.0, 3.0, 5.0, 10.0, 50.0, 100.0]"
   ]
  },
  {
   "cell_type": "code",
   "execution_count": null,
   "id": "needed-permission",
   "metadata": {},
   "outputs": [],
   "source": [
    "X_validate_poly = polynomialTransform(X_validate, selected_degree)"
   ]
  },
  {
   "cell_type": "code",
   "execution_count": null,
   "id": "pursuant-quest",
   "metadata": {},
   "outputs": [],
   "source": [
    "# ignore warnings: =))) \n",
    "import warnings"
   ]
  },
  {
   "cell_type": "markdown",
   "id": "timely-letters",
   "metadata": {},
   "source": [
    "## Ridge Regression Model"
   ]
  },
  {
   "cell_type": "code",
   "execution_count": null,
   "id": "endless-scene",
   "metadata": {},
   "outputs": [],
   "source": [
    "selected_ridge_alpha = alphas[0]\n",
    "warnings.filterwarnings('ignore')\n",
    "\n",
    "ridge_model = linear_model.Ridge(alpha=selected_ridge_alpha, fit_intercept=True, normalize=False, max_iter=2000, tol=0.001)\n",
    "max_ridge_cv_score = calcCV(ridge_model, selected_X_train_poly, Y_train, 'r2')\n",
    "\n",
    "for alpha in alphas[1:]:\n",
    "    ridge_model = linear_model.Ridge(alpha=alpha, fit_intercept=True, normalize=False, max_iter=2000, tol=0.001)\n",
    "    ridge_cv_score = calcCV(ridge_model, selected_X_train_poly, Y_train, 'r2')\n",
    "\n",
    "    if ridge_cv_score > max_ridge_cv_score:\n",
    "        max_ridge_cv_score = ridge_cv_score\n",
    "        selected_ridge_alpha = alpha\n",
    "        \n",
    "# fit model with selected alpha:\n",
    "ridge_model = ridgeRegressionModel(selected_X_train_poly, Y_train, selected_ridge_alpha)\n",
    "\n",
    "# Ridge max CV score:\n",
    "print(\"Ridge max CV score: \", max_ridge_cv_score)\n",
    "\n",
    "# RMSE:\n",
    "ridge_rmse = calcRMSE(ridge_model, X_validate_poly, Y_validate)\n",
    "\n",
    "print(\"Ridge Regression with alpha = {} and RMSE = {}\".format(selected_ridge_alpha, ridge_rmse))\n",
    "print(\"Ridge Regression coefficient:\")\n",
    "print(ridge_model.coef_)\n",
    "print(\"Ridge Regression intercept: \", ridge_model.intercept_)\n",
    "\n",
    "# Predict Y with Ridge:\n",
    "Y_train_ridge_pred = ridge_model.predict(selected_X_train_poly)"
   ]
  },
  {
   "cell_type": "code",
   "execution_count": null,
   "id": "golden-muslim",
   "metadata": {},
   "outputs": [],
   "source": [
    "# Plot model:\n",
    "plt.figure(figsize=(7, 4))\n",
    "plt.scatter(X_train, Y_train, marker='o', color='blue', label='train_data')\n",
    "plt.scatter(X_test, Y_test, marker='o', color='red', label='test_data')\n",
    "plt.scatter(X_validate, Y_validate, marker='o', color='green', label='validate_data')\n",
    "plt.plot(X_train, Y_train_ridge_pred, color='black', label='train_model')\n",
    "plt.legend(bbox_to_anchor=(1,1), loc=\"upper left\")\n",
    "plt.tight_layout()\n",
    "plt.xlabel('area')\n",
    "plt.ylabel('price')\n",
    "plt.xlim(right=max_area+0.3)\n",
    "plt.ylim(top=max_price+0.3)\n",
    "plt.show()"
   ]
  },
  {
   "cell_type": "markdown",
   "id": "operational-circus",
   "metadata": {},
   "source": [
    "## Lasso Regression Model"
   ]
  },
  {
   "cell_type": "code",
   "execution_count": null,
   "id": "alpha-poetry",
   "metadata": {},
   "outputs": [],
   "source": [
    "selected_lasso_alpha = alphas[0]\n",
    "warnings.filterwarnings('ignore')\n",
    "\n",
    "lasso_model = linear_model.Lasso(alpha=selected_lasso_alpha, fit_intercept=True, normalize=True, max_iter=2000, tol=0.001)\n",
    "max_lasso_cv_score = calcCV(lasso_model, selected_X_train_poly, Y_train, 'r2')\n",
    "\n",
    "for alpha in alphas[1:]:\n",
    "    lasso_model = linear_model.Lasso(alpha=alpha, fit_intercept=True, normalize=True, max_iter=2000, tol=0.001)\n",
    "    lasso_cv_score = calcCV(lasso_model, selected_X_train_poly, Y_train, 'r2')\n",
    "#     neg_root_mean_squared_error\n",
    "\n",
    "    if lasso_cv_score > max_lasso_cv_score:\n",
    "        max_lasso_cv_score = lasso_cv_score\n",
    "        selected_lasso_alpha = alpha\n",
    "        \n",
    "# Fit model with selected alpha:\n",
    "lasso_model = lassoRegressionModel(selected_X_train_poly, Y_train, selected_lasso_alpha)\n",
    "\n",
    "# Lasso max CV score:\n",
    "print(\"Lasso max CV score: \", max_lasso_cv_score)\n",
    "\n",
    "# RMSE:\n",
    "lasso_train_rmse = calcRMSE(lasso_model, selected_X_train_poly, Y_train)\n",
    "lasso_validate_rmse = calcRMSE(lasso_model, X_validate_poly, Y_validate)\n",
    "\n",
    "print(\"Lasso Model with alpha = {} and RMSE on validate data = {}\".format(selected_lasso_alpha, lasso_validate_rmse))\n",
    "print(\"Lasso Model train RMSE: \", lasso_train_rmse)\n",
    "print(\"Lasso Regression coefficient:\")\n",
    "print(lasso_model.coef_)\n",
    "print(\"Lasso Regression intercept: \", lasso_model.intercept_)\n",
    "\n",
    "# Predict Y with Ridge:\n",
    "Y_train_lasso_pred = lasso_model.predict(selected_X_train_poly)"
   ]
  },
  {
   "cell_type": "code",
   "execution_count": null,
   "id": "consecutive-chamber",
   "metadata": {
    "scrolled": false
   },
   "outputs": [],
   "source": [
    "# Plot model:\n",
    "plt.figure(figsize=(7, 4))\n",
    "plt.scatter(X_train, Y_train, marker='o', color='blue', label='train_data')\n",
    "plt.scatter(X_test, Y_test, marker='o', color='red', label='test_data')\n",
    "plt.scatter(X_validate, Y_validate, marker='o', color='green', label='validate_data')\n",
    "plt.plot(X_train, Y_train_lasso_pred, color='black', label='train_model')\n",
    "plt.legend(bbox_to_anchor=(1,1), loc=\"upper left\")\n",
    "plt.tight_layout()\n",
    "plt.xlabel('area')\n",
    "plt.ylabel('price')\n",
    "plt.xlim(right=max_area+0.3)\n",
    "plt.ylim(top=max_price+0.3)\n",
    "plt.show()"
   ]
  },
  {
   "cell_type": "code",
   "execution_count": null,
   "id": "aware-bosnia",
   "metadata": {},
   "outputs": [],
   "source": [
    "# score the model with test data:\n",
    "X_test_poly = polynomialTransform(X_test, selected_degree)\n",
    "\n",
    "# Linear score:\n",
    "print(\"\\n\")\n",
    "\n",
    "linear_train_r2_score = linear_regression_model.score(X_train, Y_train)\n",
    "print(\"Linear Model score on train dataset: \", linear_train_r2_score)\n",
    "\n",
    "linear_test_r2_score = linear_regression_model.score(X_test, Y_test)\n",
    "print(\"Linear Model score on test dataset: \", linear_test_r2_score)\n",
    "\n",
    "# Poly score:\n",
    "print(\"\\n\")\n",
    "\n",
    "poly_train_r2_score = selected_poly_model.score(selected_X_train_poly, Y_train)\n",
    "print(\"Poly Model score on train dataset: \", poly_train_r2_score)\n",
    "\n",
    "poly_test_r2_score = selected_poly_model.score(X_test_poly, Y_test)\n",
    "print(\"Poly Model score on test dataset: \", poly_test_r2_score)\n",
    "\n",
    "# Ridge score:\n",
    "print(\"\\n\")\n",
    "\n",
    "ridge_train_r2_score = ridge_model.score(selected_X_train_poly, Y_train)\n",
    "print(\"Ridge Model score on train dataset: \", ridge_train_r2_score)\n",
    "\n",
    "ridge_test_r2_score = ridge_model.score(X_test_poly, Y_test)\n",
    "print(\"Ridge Model score on test dataset: \", ridge_test_r2_score)\n",
    "\n",
    "# Lasso score:\n",
    "print(\"\\n\")\n",
    "\n",
    "lasso_train_r2_score = lasso_model.score(selected_X_train_poly, Y_train)\n",
    "print(\"Lasso Model score on train dataset: \", lasso_train_r2_score)\n",
    "\n",
    "lasso_test_r2_score = lasso_model.score(X_test_poly, Y_test)\n",
    "print(\"Lasso Model score on test dataset: \", lasso_test_r2_score)"
   ]
  },
  {
   "cell_type": "code",
   "execution_count": null,
   "id": "lesser-congo",
   "metadata": {},
   "outputs": [],
   "source": [
    "# # calc cross validation score of linear to compare with poly for best model selection\n",
    "# linear_cv = np.mean(cross_val_score(linear_model, X, Y, cv=5))\n",
    "# poly_cv = np.mean(cross_val_score(poly_model, X, Y, cv=5))\n",
    "\n",
    "# best_r2_score = linear_test_r2_score if linear_test_r2_score > poly_test_r2_score else poly_test_r2_score\n",
    "# best_model = linear_model if linear_cv > poly_cv else poly_model\n",
    "# best_degree = 1 if linear_cv > poly_cv else degree\n",
    "\n",
    "# print(linear_cv)\n",
    "# print(poly_cv)"
   ]
  },
  {
   "cell_type": "code",
   "execution_count": null,
   "id": "acute-archives",
   "metadata": {},
   "outputs": [],
   "source": [
    "import unidecode\n",
    "post_type = unidecode.unidecode(post_type.lower().replace(\" \", \"\"))\n",
    "street = unidecode.unidecode(street.lower().replace(\" \", \"\"))\n",
    "ward = unidecode.unidecode(ward.lower().replace(\" \", \"\"))\n",
    "district = unidecode.unidecode(district.lower().replace(\" \", \"\"))\n",
    "model_name = post_type + \"_\" + street + \"_\" + ward + \"_\" + district"
   ]
  },
  {
   "cell_type": "code",
   "execution_count": null,
   "id": "anonymous-milton",
   "metadata": {},
   "outputs": [],
   "source": [
    "model_name"
   ]
  },
  {
   "cell_type": "code",
   "execution_count": null,
   "id": "juvenile-share",
   "metadata": {},
   "outputs": [],
   "source": [
    "# # Save model after training for later use:\n",
    "# from joblib import dump, load\n",
    "\n",
    "# if best_r2_score > 0.7:\n",
    "#     # Save model:\n",
    "#     dump((best_model, best_degree), 'trained\\\\' + model_name + '.joblib')"
   ]
  },
  {
   "cell_type": "code",
   "execution_count": null,
   "id": "surprising-brunswick",
   "metadata": {},
   "outputs": [],
   "source": [
    "# try:    \n",
    "#     # load model:\n",
    "#     loaded_model, loaded_degree = load('trained/' + model_name + \".joblib\")\n",
    "\n",
    "#     test_area = np.array([92.00])\n",
    "#     test_area = test_area[:, np.newaxis]\n",
    "#     test_area = FunctionTransformer(np.log1p).fit_transform(test_area)\n",
    "\n",
    "#     if loaded_degree == 1:\n",
    "#         predicted_price = loaded_model.predict(test_area)\n",
    "#     else:\n",
    "#         test_area_poly = PolynomialFeatures(degree=loaded_degree).fit_transform(test_area)\n",
    "#         predicted_price = loaded_model.predict(test_area_poly)\n",
    "\n",
    "#     print(FunctionTransformer(np.log1p).inverse_transform(predicted_price))\n",
    "# except FileNotFoundError:\n",
    "#     print(\"Model not found or trained result is low!\")"
   ]
  }
 ],
 "metadata": {
  "kernelspec": {
   "display_name": "Python 3",
   "language": "python",
   "name": "python3"
  },
  "language_info": {
   "codemirror_mode": {
    "name": "ipython",
    "version": 3
   },
   "file_extension": ".py",
   "mimetype": "text/x-python",
   "name": "python",
   "nbconvert_exporter": "python",
   "pygments_lexer": "ipython3",
   "version": "3.8.5"
  }
 },
 "nbformat": 4,
 "nbformat_minor": 5
}
