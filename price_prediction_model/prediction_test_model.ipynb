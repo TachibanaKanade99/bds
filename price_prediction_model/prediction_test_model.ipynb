{
 "cells": [
  {
   "cell_type": "code",
   "execution_count": 232,
   "id": "muslim-louisville",
   "metadata": {},
   "outputs": [],
   "source": [
    "from matplotlib import pyplot as plt\n",
    "import numpy as np\n",
    "import pandas as pd\n",
    "from sklearn import linear_model\n",
    "from sklearn.model_selection import train_test_split\n",
    "from sklearn.preprocessing import PowerTransformer, QuantileTransformer, FunctionTransformer, RobustScaler, StandardScaler\n",
    "from sklearn.preprocessing import PolynomialFeatures\n",
    "from sklearn.metrics import mean_squared_error, r2_score\n",
    "from sklearn.model_selection import cross_val_score\n",
    "\n",
    "from models.prepareData import getData, convertData, calcMinimumMaximum\n",
    "from models.models import linearRegressionModel, PolynomialFeatures, lassoRegressionModel, ridgeRegressionModel\n",
    "from models.models import RANSACRegressionModel, PolynomialRegressionModel, polynomialRegression"
   ]
  },
  {
   "cell_type": "code",
   "execution_count": 233,
   "id": "clean-thinking",
   "metadata": {},
   "outputs": [],
   "source": [
    "# data = getData('Bán căn hộ chung cư', 'Nguyễn Hữu Thọ', 'Phước Kiển', 'Nhà Bè')\n",
    "# data = getData('Bán căn hộ chung cư', 'Nguyễn Hữu Cảnh', '22', 'Bình Thạnh')\n",
    "# data = getData('Bán căn hộ chung cư', 'Bến Vân Đồn', '1', '4')\n",
    "# data = getData('Bán đất', 'Trần Văn Giàu', 'Lê Minh Xuân', 'Bình Chánh')\n",
    "data = getData('Bán đất', 'Vườn Lài', 'An Phú Đông', '12')\n",
    "# data = getData('Bán nhà riêng', 'Quốc Lộ 13', 'Hiệp Bình Phước', 'Thủ Đức')\n",
    "# data = getData('Bán nhà riêng', 'Phạm Văn Chiêu', '9', 'Gò Vấp')\n",
    "# data = getData('Bán nhà riêng', 'Nguyễn Văn Quá', 'Đông Hưng Thuận', '12')\n",
    "# data = getData('Bán nhà riêng', 'Quốc Lộ 13', 'Hiệp Bình Phước', 'Thủ Đức')\n",
    "# data = getData('Bán nhà riêng', '3/2', '14', '10')\n",
    "# data = getData('Bán đất', 'Nguyễn Thị Rành', 'Nhuận Đức', 'Củ Chi')\n",
    "# data = getData('Bán đất', 'Tôn Đản', '10', '4')\n",
    "# data = getData('Bán căn hộ chung cư', '9A', 'Bình Hưng', 'Bình Chánh')\n",
    "# data = getData('Bán nhà riêng', 'Cao Thắng', '12', '10')\n",
    "# data = getData('Bán đất', 'Bà Thiên', 'Nhuận Đức', 'Củ Chi')\n",
    "# data = getData('Bán nhà riêng', 'Số 8', 'Linh Xuân', 'Thủ Đức')\n",
    "# data = getData('Bán đất', 'Bình Mỹ', 'Bình Mỹ', 'Củ Chi')\n",
    "# data = getData('Bán đất', 'Nguyễn Văn Tạo', 'Long Thới', 'Nhà Bè')\n",
    "# data = getData('Bán nhà riêng', 'Lê Đình Cẩn', 'Tân Tạo', 'Bình Tân')\n",
    "# data = getData('Bán đất', 'Hoàng Phan Thái', 'Bình Chánh', 'Bình Chánh')\n",
    "# data = getData('Bán đất', 'Lê Văn Lương', 'Phước Kiển', 'Nhà Bè')"
   ]
  },
  {
   "cell_type": "code",
   "execution_count": 234,
   "id": "raising-mentor",
   "metadata": {},
   "outputs": [],
   "source": [
    "post_type = data['post_type'].iloc[0]\n",
    "street = data['street'].iloc[0]\n",
    "ward = data['ward'].iloc[0]\n",
    "district = data['district'].iloc[0]"
   ]
  },
  {
   "cell_type": "code",
   "execution_count": 235,
   "id": "mounted-european",
   "metadata": {},
   "outputs": [
    {
     "name": "stdout",
     "output_type": "stream",
     "text": [
      "Data length:  302\n"
     ]
    }
   ],
   "source": [
    "print(\"Data length: \", len(data))"
   ]
  },
  {
   "cell_type": "code",
   "execution_count": 236,
   "id": "patient-valentine",
   "metadata": {
    "scrolled": false
   },
   "outputs": [
    {
     "data": {
      "image/png": "[encoded data removed]",
      "text/plain": [
       "<Figure size 432x288 with 1 Axes>"
      ]
     },
     "metadata": {
      "needs_background": "light"
     },
     "output_type": "display_data"
    }
   ],
   "source": [
    "plt.scatter(data['area'], data['price'])\n",
    "plt.show()"
   ]
  },
  {
   "cell_type": "markdown",
   "id": "twelve-optimum",
   "metadata": {},
   "source": [
    "## Feature Engineering"
   ]
  },
  {
   "cell_type": "markdown",
   "id": "tight-seeker",
   "metadata": {},
   "source": [
    "### Clean data by observing dataset:"
   ]
  },
  {
   "cell_type": "code",
   "execution_count": 237,
   "id": "persistent-badge",
   "metadata": {},
   "outputs": [],
   "source": [
    "data = data[~(data['area'] < 10)]\n",
    "data = data[~(data['price'] > 200)]"
   ]
  },
  {
   "cell_type": "code",
   "execution_count": 238,
   "id": "equal-grade",
   "metadata": {},
   "outputs": [],
   "source": [
    "area_mean = np.mean(data['area'])\n",
    "area_std = np.std(data['area'])\n",
    "\n",
    "price_mean = np.mean(data['price'])\n",
    "price_std = np.std(data['price'])\n",
    "\n",
    "data = data[~( (data['area'] < area_mean) & (data['price'] > price_mean+1.5) )]\n",
    "data = data[~( (data['area'] > area_mean) & (data['price'] < price_mean+1.5) )]"
   ]
  },
  {
   "cell_type": "code",
   "execution_count": 239,
   "id": "valuable-delhi",
   "metadata": {},
   "outputs": [],
   "source": [
    "# print(\"Area mean: \", area_mean)\n",
    "# print(\"Price mean: \", price_mean)"
   ]
  },
  {
   "cell_type": "code",
   "execution_count": 240,
   "id": "animated-regulation",
   "metadata": {},
   "outputs": [
    {
     "name": "stdout",
     "output_type": "stream",
     "text": [
      "Data length:  264\n"
     ]
    }
   ],
   "source": [
    "print(\"Data length: \", len(data))"
   ]
  },
  {
   "cell_type": "code",
   "execution_count": 241,
   "id": "immediate-spice",
   "metadata": {
    "scrolled": true
   },
   "outputs": [
    {
     "data": {
      "image/png": "[encoded data removed]",
      "text/plain": [
       "<Figure size 432x288 with 1 Axes>"
      ]
     },
     "metadata": {
      "needs_background": "light"
     },
     "output_type": "display_data"
    }
   ],
   "source": [
    "plt.scatter(data['area'], data['price'])\n",
    "plt.show()"
   ]
  },
  {
   "cell_type": "code",
   "execution_count": 242,
   "id": "cooperative-symposium",
   "metadata": {},
   "outputs": [
    {
     "data": {
      "image/png": "[encoded data removed]",
      "text/plain": [
       "<Figure size 432x288 with 1 Axes>"
      ]
     },
     "metadata": {
      "needs_background": "light"
     },
     "output_type": "display_data"
    }
   ],
   "source": [
    "plt.hist(data['price'])\n",
    "plt.show()"
   ]
  },
  {
   "cell_type": "markdown",
   "id": "acoustic-plain",
   "metadata": {},
   "source": [
    "### Feature Scaling (both area & price)"
   ]
  },
  {
   "cell_type": "code",
   "execution_count": 243,
   "id": "given-oakland",
   "metadata": {},
   "outputs": [],
   "source": [
    "# transform data into log1p\n",
    "data['area'] = (data['area']).transform(np.log1p)\n",
    "data['price'] = (data['price']).transform(np.log1p)"
   ]
  },
  {
   "cell_type": "code",
   "execution_count": 244,
   "id": "radio-reunion",
   "metadata": {
    "scrolled": true
   },
   "outputs": [
    {
     "data": {
      "image/png": "[encoded data removed]",
      "text/plain": [
       "<Figure size 432x288 with 1 Axes>"
      ]
     },
     "metadata": {
      "needs_background": "light"
     },
     "output_type": "display_data"
    }
   ],
   "source": [
    "plt.scatter(data['area'], data['price'])\n",
    "plt.show()"
   ]
  },
  {
   "cell_type": "code",
   "execution_count": 245,
   "id": "joined-microwave",
   "metadata": {},
   "outputs": [
    {
     "data": {
      "image/png": "[encoded data removed]",
      "text/plain": [
       "<Figure size 432x288 with 1 Axes>"
      ]
     },
     "metadata": {
      "needs_background": "light"
     },
     "output_type": "display_data"
    }
   ],
   "source": [
    "plt.hist(data['price'])\n",
    "plt.show()"
   ]
  },
  {
   "cell_type": "markdown",
   "id": "organized-theta",
   "metadata": {},
   "source": [
    "### Calculate mean of duplicated data"
   ]
  },
  {
   "cell_type": "code",
   "execution_count": 246,
   "id": "burning-actor",
   "metadata": {},
   "outputs": [],
   "source": [
    "# Instead of drop duplicates try calc and use its mean value:\n",
    "data = data.groupby(['area'], as_index=False).mean()\n",
    "\n",
    "# sort data by area:\n",
    "data = data.sort_values(by=['area'])"
   ]
  },
  {
   "cell_type": "code",
   "execution_count": 247,
   "id": "received-folks",
   "metadata": {},
   "outputs": [
    {
     "name": "stdout",
     "output_type": "stream",
     "text": [
      "Data length:  144\n"
     ]
    }
   ],
   "source": [
    "print(\"Data length: \", len(data))"
   ]
  },
  {
   "cell_type": "code",
   "execution_count": 248,
   "id": "cathedral-credit",
   "metadata": {
    "scrolled": false
   },
   "outputs": [
    {
     "data": {
      "image/png": "[encoded data removed]",
      "text/plain": [
       "<Figure size 432x288 with 1 Axes>"
      ]
     },
     "metadata": {
      "needs_background": "light"
     },
     "output_type": "display_data"
    }
   ],
   "source": [
    "plt.scatter(data['area'], data['price'])\n",
    "plt.show()"
   ]
  },
  {
   "cell_type": "markdown",
   "id": "fatty-walnut",
   "metadata": {},
   "source": [
    "## RANSAC Algorithm in Detecting Outliers\n",
    "- This method is not a good choice if the dataset not follow linear trends\n",
    "- Beside, using a base estimator same with the current model will make this prediction in spoiled data => I assume that it is not a good practice"
   ]
  },
  {
   "cell_type": "code",
   "execution_count": 249,
   "id": "corrected-leather",
   "metadata": {
    "scrolled": false
   },
   "outputs": [],
   "source": [
    "# test_area, test_price = convertData(data)\n",
    "\n",
    "# # find degree by polynomial regression:\n",
    "# run_model, model_name, found_degree, rmse = polynomialRegression(test_area, test_price)\n",
    "\n",
    "# ransac_model = linear_model.RANSACRegressor(base_estimator=PolynomialRegressionModel(degree=found_degree), random_state=0)\n",
    "# ransac_model.fit(test_area, test_price)\n",
    "\n",
    "# inlier_mask = ransac_model.inlier_mask_\n",
    "# outlier_mask = np.logical_not(inlier_mask)"
   ]
  },
  {
   "cell_type": "code",
   "execution_count": 250,
   "id": "binding-toyota",
   "metadata": {},
   "outputs": [],
   "source": [
    "# plt.scatter(data['area'], data['price'], color='blue')\n",
    "# plt.scatter(test_area[outlier_mask], test_price[outlier_mask], color='red')\n",
    "# plt.plot(test_area, ransac_model.predict(test_area))\n",
    "# # run_model.predict(PolynomialFeatures(degree=found_degree).fit_transform(test_area)\n",
    "# plt.show()\n",
    "\n",
    "# outlier_indexes = np.where(outlier_mask==True)\n",
    "# outlier_values = data.iloc[outlier_indexes]\n",
    "# data = data.drop(outlier_values.index)"
   ]
  },
  {
   "cell_type": "markdown",
   "id": "proud-trouble",
   "metadata": {},
   "source": [
    "### Use IQR method to remove outliers"
   ]
  },
  {
   "cell_type": "code",
   "execution_count": 251,
   "id": "together-sally",
   "metadata": {},
   "outputs": [
    {
     "data": {
      "image/png": "[encoded data removed]",
      "text/plain": [
       "<Figure size 432x288 with 1 Axes>"
      ]
     },
     "metadata": {
      "needs_background": "light"
     },
     "output_type": "display_data"
    }
   ],
   "source": [
    "data['area'].plot(kind='box')\n",
    "plt.show()"
   ]
  },
  {
   "cell_type": "code",
   "execution_count": 252,
   "id": "german-spray",
   "metadata": {
    "scrolled": false
   },
   "outputs": [
    {
     "data": {
      "image/png": "[encoded data removed]",
      "text/plain": [
       "<Figure size 432x288 with 1 Axes>"
      ]
     },
     "metadata": {
      "needs_background": "light"
     },
     "output_type": "display_data"
    }
   ],
   "source": [
    "data['price'].plot(kind='box')\n",
    "plt.show()"
   ]
  },
  {
   "cell_type": "code",
   "execution_count": 253,
   "id": "measured-vatican",
   "metadata": {},
   "outputs": [
    {
     "data": {
      "text/html": [
       "<div>\n",
       "<style scoped>\n",
       "    .dataframe tbody tr th:only-of-type {\n",
       "        vertical-align: middle;\n",
       "    }\n",
       "\n",
       "    .dataframe tbody tr th {\n",
       "        vertical-align: top;\n",
       "    }\n",
       "\n",
       "    .dataframe thead th {\n",
       "        text-align: right;\n",
       "    }\n",
       "</style>\n",
       "<table border=\"1\" class=\"dataframe\">\n",
       "  <thead>\n",
       "    <tr style=\"text-align: right;\">\n",
       "      <th></th>\n",
       "      <th>area</th>\n",
       "      <th>price</th>\n",
       "    </tr>\n",
       "  </thead>\n",
       "  <tbody>\n",
       "    <tr>\n",
       "      <th>8</th>\n",
       "      <td>3.970292</td>\n",
       "      <td>1.389926</td>\n",
       "    </tr>\n",
       "    <tr>\n",
       "      <th>9</th>\n",
       "      <td>3.974058</td>\n",
       "      <td>1.536867</td>\n",
       "    </tr>\n",
       "    <tr>\n",
       "      <th>10</th>\n",
       "      <td>3.981549</td>\n",
       "      <td>1.510722</td>\n",
       "    </tr>\n",
       "    <tr>\n",
       "      <th>11</th>\n",
       "      <td>3.985273</td>\n",
       "      <td>1.492904</td>\n",
       "    </tr>\n",
       "    <tr>\n",
       "      <th>12</th>\n",
       "      <td>3.994524</td>\n",
       "      <td>1.458615</td>\n",
       "    </tr>\n",
       "    <tr>\n",
       "      <th>...</th>\n",
       "      <td>...</td>\n",
       "      <td>...</td>\n",
       "    </tr>\n",
       "    <tr>\n",
       "      <th>131</th>\n",
       "      <td>6.081534</td>\n",
       "      <td>2.582306</td>\n",
       "    </tr>\n",
       "    <tr>\n",
       "      <th>132</th>\n",
       "      <td>6.094698</td>\n",
       "      <td>4.176884</td>\n",
       "    </tr>\n",
       "    <tr>\n",
       "      <th>133</th>\n",
       "      <td>6.238910</td>\n",
       "      <td>3.417727</td>\n",
       "    </tr>\n",
       "    <tr>\n",
       "      <th>134</th>\n",
       "      <td>6.329721</td>\n",
       "      <td>2.670002</td>\n",
       "    </tr>\n",
       "    <tr>\n",
       "      <th>135</th>\n",
       "      <td>6.398595</td>\n",
       "      <td>4.510860</td>\n",
       "    </tr>\n",
       "  </tbody>\n",
       "</table>\n",
       "<p>128 rows × 2 columns</p>\n",
       "</div>"
      ],
      "text/plain": [
       "         area     price\n",
       "8    3.970292  1.389926\n",
       "9    3.974058  1.536867\n",
       "10   3.981549  1.510722\n",
       "11   3.985273  1.492904\n",
       "12   3.994524  1.458615\n",
       "..        ...       ...\n",
       "131  6.081534  2.582306\n",
       "132  6.094698  4.176884\n",
       "133  6.238910  3.417727\n",
       "134  6.329721  2.670002\n",
       "135  6.398595  4.510860\n",
       "\n",
       "[128 rows x 2 columns]"
      ]
     },
     "execution_count": 253,
     "metadata": {},
     "output_type": "execute_result"
    }
   ],
   "source": [
    "# Apply IQR method on area data:\n",
    "area_minimum, area_maximum = calcMinimumMaximum(data['area'])\n",
    "data = data[(data['area'] > area_minimum) & (data['area'] < area_maximum)]\n",
    "data"
   ]
  },
  {
   "cell_type": "code",
   "execution_count": 254,
   "id": "extended-pound",
   "metadata": {
    "scrolled": true
   },
   "outputs": [
    {
     "name": "stdout",
     "output_type": "stream",
     "text": [
      "Length =  128\n",
      "Max:  6.398594934535208\n",
      "Min:  3.970291913552122\n",
      "frame_value =  0.4856606041966171\n"
     ]
    }
   ],
   "source": [
    "print(\"Length = \", len(data))\n",
    "max_value = data['area'].iloc[len(data)-1]\n",
    "min_value = data['area'].iloc[0]\n",
    "\n",
    "print(\"Max: \", max_value)\n",
    "print(\"Min: \", min_value)\n",
    "\n",
    "frame_value = (max_value - min_value) / 5\n",
    "print(\"frame_value = \", frame_value)\n",
    "\n",
    "frames_data = [ data[(data['area'] >= i*frame_value+min_value) & (data['area'] <= (i+1)*frame_value+min_value)].copy() for i in range(0, 5)]\n",
    "frames_data[-1] = frames_data[-1].append(data[data['area'] > 4*frame_value+min_value])"
   ]
  },
  {
   "cell_type": "code",
   "execution_count": 255,
   "id": "planned-seven",
   "metadata": {
    "scrolled": false
   },
   "outputs": [
    {
     "data": {
      "image/png": "[encoded data removed]",
      "text/plain": [
       "<Figure size 432x288 with 1 Axes>"
      ]
     },
     "metadata": {
      "needs_background": "light"
     },
     "output_type": "display_data"
    }
   ],
   "source": [
    "colors = ['blue', 'red', 'green', 'black', 'orange']\n",
    "color_count = 0\n",
    "for x in frames_data:\n",
    "    plt.scatter(x['area'], x['price'], color=colors[color_count])\n",
    "    color_count = color_count + 1\n",
    "plt.show()"
   ]
  },
  {
   "cell_type": "code",
   "execution_count": 256,
   "id": "silver-acrylic",
   "metadata": {
    "scrolled": true
   },
   "outputs": [
    {
     "name": "stdout",
     "output_type": "stream",
     "text": [
      "1.2431070643495707   1.838235029951784\n",
      "        area     price\n",
      "8   3.970292  1.389926\n",
      "9   3.974058  1.536867\n",
      "10  3.981549  1.510722\n",
      "11  3.985273  1.492904\n",
      "12  3.994524  1.458615\n",
      "..       ...       ...\n",
      "66  4.403054  1.629241\n",
      "67  4.415220  1.853352\n",
      "68  4.430817  1.767659\n",
      "69  4.442651  1.435764\n",
      "70  4.454347  1.659076\n",
      "\n",
      "[63 rows x 2 columns]\n",
      "1.052593362662663   2.0616717992921156\n",
      "         area     price\n",
      "71   4.465908  1.722767\n",
      "72   4.472781  1.751198\n",
      "73   4.477337  1.755268\n",
      "74   4.483003  1.704748\n",
      "75   4.489759  1.538189\n",
      "76   4.493121  2.091864\n",
      "77   4.499810  1.435085\n",
      "78   4.510860  1.004124\n",
      "79   4.511958  1.704748\n",
      "80   4.514151  1.829376\n",
      "81   4.526127  1.869338\n",
      "82   4.532599  0.001149\n",
      "83   4.543295  1.470176\n",
      "84   4.553877  1.350667\n",
      "85   4.575741  2.014903\n",
      "86   4.592085  2.054124\n",
      "87   4.615121  1.117805\n",
      "88   4.623992  1.887070\n",
      "89   4.624973  1.902108\n",
      "90   4.629863  2.112635\n",
      "91   4.634729  1.064711\n",
      "92   4.649187  1.840550\n",
      "93   4.670021  1.654029\n",
      "94   4.672829  2.014903\n",
      "95   4.691348  1.840550\n",
      "96   4.700480  1.651117\n",
      "97   4.709530  1.735729\n",
      "98   4.736198  1.644998\n",
      "99   4.737951  2.008536\n",
      "100  4.762174  1.892095\n",
      "101  4.795791  1.995766\n",
      "102  4.834693  1.945910\n",
      "103  4.836282  1.945893\n",
      "104  4.855929  2.014903\n",
      "105  4.875197  1.961502\n",
      "106  4.912655  1.766442\n",
      "107  4.931592  1.829184\n",
      "1.7803664556351244   2.654139946260096\n",
      "         area     price\n",
      "108  4.948760  1.791759\n",
      "109  4.961445  2.116256\n",
      "110  5.017280  2.008192\n",
      "111  5.046646  2.225704\n",
      "112  5.093750  1.981443\n",
      "113  5.129899  2.219203\n",
      "114  5.135210  2.208274\n",
      "115  5.171052  1.988367\n",
      "116  5.247024  2.197225\n",
      "117  5.303305  1.766442\n",
      "118  5.411646  2.557227\n",
      "119  5.419650  2.772589\n",
      "2.5257286443082556   3.6926279276609453\n",
      "         area     price\n",
      "120  5.484797  2.631889\n",
      "121  5.529032  2.890372\n",
      "122  5.568726  2.525729\n",
      "123  5.590987  2.818090\n",
      "124  5.665042  2.525729\n",
      "125  5.713733  2.564949\n",
      "126  5.837730  2.985682\n",
      "127  5.860786  4.073291\n",
      "2.582305555775133   4.51085950651685\n",
      "         area     price\n",
      "128  5.926926  4.328098\n",
      "129  5.951163  2.674149\n",
      "130  5.993961  3.545485\n",
      "131  6.081534  2.582306\n",
      "132  6.094698  4.176884\n",
      "133  6.238910  3.417727\n",
      "134  6.329721  2.670002\n",
      "135  6.398595  4.510860\n",
      "128  5.926926  4.328098\n",
      "129  5.951163  2.674149\n",
      "130  5.993961  3.545485\n",
      "131  6.081534  2.582306\n",
      "132  6.094698  4.176884\n",
      "133  6.238910  3.417727\n",
      "134  6.329721  2.670002\n",
      "135  6.398595  4.510860\n"
     ]
    }
   ],
   "source": [
    "outliers = []\n",
    "for i in range(len(frames_data)):\n",
    "    price_minimum, price_maximum = calcMinimumMaximum(frames_data[i]['price'])\n",
    "    print(price_minimum, \" \", price_maximum)\n",
    "    frames_inliers = frames_data[i].where((frames_data[i]['price'] > price_minimum) & (frames_data[i]['price'] < price_maximum))\n",
    "    frames_outliers = frames_data[i].where((frames_data[i]['price'] <= price_minimum) | (frames_data[i]['price'] >= price_maximum))\n",
    "    print(frames_data[i])\n",
    "    frames_data[i] = frames_inliers.dropna()\n",
    "    outliers.append(frames_outliers.dropna())\n",
    "    \n",
    "data = pd.concat(frames_data, ignore_index=True)\n",
    "outliers_data = pd.concat(outliers, ignore_index=True)"
   ]
  },
  {
   "cell_type": "code",
   "execution_count": 257,
   "id": "ongoing-mailing",
   "metadata": {},
   "outputs": [],
   "source": [
    "# plt.scatter(data['area'][:len(data)//5], data['price'][:len(data)//5], color='blue')\n",
    "# plt.scatter(data['area'][len(data)//5:len(data)*2//5], data['price'][len(data)//5:len(data)*2//5], color='red')\n",
    "# plt.scatter(data['area'][len(data)*2//5:len(data)*3//5], data['price'][len(data)*2//5:len(data)*3//5], color='green')\n",
    "# plt.scatter(data['area'][len(data)*3//5:len(data)*4//5], data['price'][len(data)*3//5:len(data)*4//5], color='black')\n",
    "# plt.scatter(data['area'][len(data)*4//5:], data['price'][len(data)*4//5:], color='purple')\n",
    "# plt.show()"
   ]
  },
  {
   "cell_type": "code",
   "execution_count": 258,
   "id": "mature-walnut",
   "metadata": {},
   "outputs": [],
   "source": [
    "# part_data = data['price'][:len(data)//5]\n",
    "# price_minimum, price_maximum = calcMinimumMaximum(part_data)\n",
    "# data_1 = data[:len(data)//5][(part_data > price_minimum) & (part_data < price_maximum)]\n",
    "\n",
    "# part_data = data['price'][len(data)//5:len(data)*2//5]\n",
    "# price_minimum, price_maximum = calcMinimumMaximum(part_data)\n",
    "# data_2 = data[len(data)//5:len(data)*2//5][(part_data > price_minimum) & (part_data < price_maximum)]\n",
    "\n",
    "# part_data = data['price'][len(data)*2//5:len(data)*3//5]\n",
    "# price_minimum, price_maximum = calcMinimumMaximum(part_data)\n",
    "# data_3 = data[len(data)*2//5:len(data)*3//5][(part_data > price_minimum) & (part_data < price_maximum)]\n",
    "\n",
    "# part_data = data['price'][len(data)*3//5:len(data)*4//5]\n",
    "# price_minimum, price_maximum = calcMinimumMaximum(part_data)\n",
    "# data_4 = data[len(data)*3//5:len(data)*4//5][(part_data > price_minimum) & (part_data < price_maximum)]\n",
    "\n",
    "# part_data = data['price'][len(data)*4//5:]\n",
    "# price_minimum, price_maximum = calcMinimumMaximum(part_data)\n",
    "# data_5 = data[len(data)*4//5:][(part_data > price_minimum) & (part_data < price_maximum)]\n",
    "\n",
    "# data = pd.concat([data_1, data_2, data_3, data_4, data_5], ignore_index=True)"
   ]
  },
  {
   "cell_type": "code",
   "execution_count": 259,
   "id": "wired-morgan",
   "metadata": {},
   "outputs": [
    {
     "name": "stdout",
     "output_type": "stream",
     "text": [
      "Data length:  115\n",
      "Outliers data length:  21\n"
     ]
    }
   ],
   "source": [
    "print(\"Data length: \", len(data))\n",
    "print(\"Outliers data length: \", len(outliers_data))"
   ]
  },
  {
   "cell_type": "code",
   "execution_count": 260,
   "id": "affiliated-corporation",
   "metadata": {},
   "outputs": [
    {
     "data": {
      "image/png": "[encoded data removed]",
      "text/plain": [
       "<Figure size 432x288 with 1 Axes>"
      ]
     },
     "metadata": {
      "needs_background": "light"
     },
     "output_type": "display_data"
    }
   ],
   "source": [
    "plt.scatter(data['area'], data['price'], color='blue', label='inliers')\n",
    "plt.scatter(outliers_data['area'], outliers_data['price'], color='red', label='outliers')\n",
    "plt.legend(bbox_to_anchor=(1,1), loc=\"upper left\")\n",
    "plt.xlabel('area')\n",
    "plt.ylabel('price')\n",
    "plt.show()"
   ]
  },
  {
   "cell_type": "code",
   "execution_count": 261,
   "id": "focused-integer",
   "metadata": {},
   "outputs": [
    {
     "data": {
      "image/png": "[encoded data removed]",
      "text/plain": [
       "<Figure size 432x288 with 1 Axes>"
      ]
     },
     "metadata": {
      "needs_background": "light"
     },
     "output_type": "display_data"
    }
   ],
   "source": [
    "data['area'].plot(kind='box')\n",
    "plt.show()"
   ]
  },
  {
   "cell_type": "code",
   "execution_count": 262,
   "id": "specific-watch",
   "metadata": {
    "scrolled": true
   },
   "outputs": [
    {
     "data": {
      "image/png": "[encoded data removed]",
      "text/plain": [
       "<Figure size 432x288 with 1 Axes>"
      ]
     },
     "metadata": {
      "needs_background": "light"
     },
     "output_type": "display_data"
    }
   ],
   "source": [
    "data['price'].plot(kind='box')\n",
    "plt.show()"
   ]
  },
  {
   "cell_type": "code",
   "execution_count": 263,
   "id": "promotional-shaft",
   "metadata": {},
   "outputs": [],
   "source": [
    "max_area = data['area'].max()\n",
    "max_price = data['price'].max()"
   ]
  },
  {
   "cell_type": "markdown",
   "id": "imported-worcester",
   "metadata": {},
   "source": [
    "### Use Local Outlier Factor to remove _local outliers_"
   ]
  },
  {
   "cell_type": "code",
   "execution_count": 264,
   "id": "employed-morgan",
   "metadata": {},
   "outputs": [],
   "source": [
    "# from sklearn.neighbors import LocalOutlierFactor\n",
    "\n",
    "# # convert dataframe into numpy array:\n",
    "# X = data.to_numpy()\n",
    "# n_neighbors = 8"
   ]
  },
  {
   "cell_type": "code",
   "execution_count": 265,
   "id": "standard-fantasy",
   "metadata": {},
   "outputs": [],
   "source": [
    "# isNeighbors = LocalOutlierFactor(n_neighbors=n_neighbors, algorithm='brute', metric='euclidean', contamination=0.2).fit_predict(X)\n",
    "\n",
    "# # locate outliers by index:\n",
    "# outlier_indexes = np.where(isNeighbors == -1)\n",
    "# outlier_values = data.iloc[outlier_indexes]\n",
    "\n",
    "# # drop outliers:\n",
    "# data = data.drop(outlier_values.index)\n",
    "\n",
    "# print(\"\\nOutliers detected by Local Outlier Factor with n_neighbors = \", n_neighbors)\n",
    "# # plot outliers removed:\n",
    "# plt.scatter(data['area'], data['price'], color='blue', label='inliers')\n",
    "# plt.scatter(outlier_values['area'], outlier_values['price'], color='red', label='outliers')\n",
    "# plt.legend(bbox_to_anchor=(1,1), loc=\"upper left\")\n",
    "# plt.tight_layout()\n",
    "# plt.xlabel('area')\n",
    "# plt.ylabel('price')\n",
    "# plt.show()"
   ]
  },
  {
   "cell_type": "markdown",
   "id": "auburn-barrier",
   "metadata": {},
   "source": [
    "### Split dataset\n",
    "1. Train dataset: 70%\n",
    "2. Validate dataset: 15%\n",
    "3. Test dataset: 15%"
   ]
  },
  {
   "cell_type": "code",
   "execution_count": 266,
   "id": "fuzzy-sender",
   "metadata": {},
   "outputs": [],
   "source": [
    "# divide data into train and test:\n",
    "train_data, test_data = train_test_split(data, test_size=0.3, random_state=4)\n",
    "test_data, validate_data = train_test_split(test_data, test_size=0.5, random_state=4)"
   ]
  },
  {
   "cell_type": "code",
   "execution_count": 267,
   "id": "interior-estate",
   "metadata": {},
   "outputs": [
    {
     "name": "stdout",
     "output_type": "stream",
     "text": [
      "\n",
      "Train data length:  80\n",
      "Test data length:  17\n",
      "Validate data length:  18\n"
     ]
    }
   ],
   "source": [
    "# Sort data by area column:\n",
    "train_data = train_data.sort_values(by=['area'])\n",
    "test_data = test_data.sort_values(by=['area'])\n",
    "validate_data = validate_data.sort_values(by=['area'])\n",
    "\n",
    "print(\"\\nTrain data length: \", len(train_data))\n",
    "print(\"Test data length: \", len(test_data))\n",
    "print(\"Validate data length: \", len(validate_data))"
   ]
  },
  {
   "cell_type": "markdown",
   "id": "nutritional-motorcycle",
   "metadata": {},
   "source": [
    "### Visualize features relationship"
   ]
  },
  {
   "cell_type": "code",
   "execution_count": 268,
   "id": "ranking-madonna",
   "metadata": {},
   "outputs": [],
   "source": [
    "# # convert data into numpy\n",
    "X, Y = convertData(data)\n",
    "X_train, Y_train = convertData(train_data)\n",
    "X_test, Y_test = convertData(test_data)\n",
    "X_validate, Y_validate = convertData(validate_data)"
   ]
  },
  {
   "cell_type": "code",
   "execution_count": 269,
   "id": "palestinian-teaching",
   "metadata": {
    "scrolled": false
   },
   "outputs": [
    {
     "data": {
      "text/plain": [
       "Text(0.5, 1.0, 'Y_validate')"
      ]
     },
     "execution_count": 269,
     "metadata": {},
     "output_type": "execute_result"
    },
    {
     "data": {
      "image/png": "[encoded data removed]",
      "text/plain": [
       "<Figure size 1080x504 with 8 Axes>"
      ]
     },
     "metadata": {
      "needs_background": "light"
     },
     "output_type": "display_data"
    }
   ],
   "source": [
    "fig, ax = plt.subplots(2, 4, figsize=(15, 7))\n",
    "ax[0][0].plot(X)\n",
    "ax[0][0].set_title('X')\n",
    "ax[0][1].plot(X_train)\n",
    "ax[0][1].set_title('X_train')\n",
    "ax[0][2].plot(X_test)\n",
    "ax[0][2].set_title('X_test')\n",
    "ax[0][3].plot(X_validate)\n",
    "ax[0][3].set_title('X_validate')\n",
    "\n",
    "ax[1][0].plot(Y)\n",
    "ax[1][0].set_title('Y')\n",
    "ax[1][1].plot(Y_train)\n",
    "ax[1][1].set_title('Y_train')\n",
    "ax[1][2].plot(Y_test)\n",
    "ax[1][2].set_title('Y_test')\n",
    "ax[1][3].plot(Y_validate)\n",
    "ax[1][3].set_title('Y_validate')"
   ]
  },
  {
   "cell_type": "markdown",
   "id": "armed-retailer",
   "metadata": {},
   "source": [
    "## Linear Regression Model"
   ]
  },
  {
   "cell_type": "code",
   "execution_count": 270,
   "id": "focal-litigation",
   "metadata": {},
   "outputs": [],
   "source": [
    "# find model by using linear regression:\n",
    "linear_regression_model = linearRegressionModel(X_train, Y_train)\n",
    "\n",
    "# find Y by using linear model predict:\n",
    "Y_train_pred = linear_regression_model.predict(X_train)\n",
    "Y_validate_pred = linear_regression_model.predict(X_validate)\n",
    "Y_test_pred = linear_regression_model.predict(X_test)\n",
    "\n",
    "# Calculate RMSE on train and test data:\n",
    "train_linear_rmse = np.sqrt(mean_squared_error(Y_train, Y_train_pred))\n",
    "validate_linear_rmse = np.sqrt(mean_squared_error(Y_validate, Y_validate_pred))\n",
    "test_linear_rmse = np.sqrt(mean_squared_error(Y_test, Y_test_pred))"
   ]
  },
  {
   "cell_type": "code",
   "execution_count": 271,
   "id": "wanted-fireplace",
   "metadata": {},
   "outputs": [
    {
     "name": "stdout",
     "output_type": "stream",
     "text": [
      "\n",
      "Linear Regression Model: \n"
     ]
    },
    {
     "data": {
      "image/png": "[encoded data removed]",
      "text/plain": [
       "<Figure size 504x288 with 1 Axes>"
      ]
     },
     "metadata": {
      "needs_background": "light"
     },
     "output_type": "display_data"
    }
   ],
   "source": [
    "print(\"\\nLinear Regression Model: \")\n",
    "# Plot linear model:\n",
    "plt.figure(figsize=(7, 4))\n",
    "plt.scatter(X_train, Y_train, marker='o', color='blue', label='train_data')\n",
    "plt.scatter(X_test, Y_test, marker='o', color='red', label='test_data')\n",
    "plt.scatter(X_validate, Y_validate, marker='o', color='green', label='validate_data')\n",
    "plt.plot(X_train, Y_train_pred, color='black', label='train_model')\n",
    "plt.legend(bbox_to_anchor=(1,1), loc=\"upper left\")\n",
    "plt.tight_layout()\n",
    "plt.xlabel('area')\n",
    "plt.ylabel('price')\n",
    "plt.xlim(right=max_area+0.3)\n",
    "plt.ylim(top=max_price+0.3)\n",
    "plt.show()"
   ]
  },
  {
   "cell_type": "code",
   "execution_count": 272,
   "id": "impaired-bulletin",
   "metadata": {
    "scrolled": false
   },
   "outputs": [
    {
     "name": "stdout",
     "output_type": "stream",
     "text": [
      "Linear model coefficient: [[0.91406896]]\n",
      "Linear model intercept: [-2.31657494]\n",
      "Linear model rmse on train data: 0.32004611948491307\n",
      "Linear model rmse on validate data: 0.31053686487670945\n",
      "Linear model rmse on test data: 0.2797571123532505\n",
      "\n",
      "\n",
      "\n"
     ]
    }
   ],
   "source": [
    "# Linear Model coefficient and intercept:\n",
    "print(\"Linear model coefficient: {}\".format(linear_regression_model.coef_))\n",
    "print(\"Linear model intercept: {}\".format(linear_regression_model.intercept_))\n",
    "\n",
    "# linear_model rmse:\n",
    "print(\"Linear model rmse on train data: {}\".format(train_linear_rmse))\n",
    "print(\"Linear model rmse on validate data: {}\".format(validate_linear_rmse))\n",
    "print(\"Linear model rmse on test data: {}\".format(test_linear_rmse))\n",
    "print(\"\\n\\n\")"
   ]
  },
  {
   "cell_type": "code",
   "execution_count": 273,
   "id": "valuable-bonus",
   "metadata": {},
   "outputs": [],
   "source": [
    "def calcRMSE(model, X, Y):\n",
    "    return np.sqrt(mean_squared_error(Y, model.predict(X)))\n",
    "\n",
    "def calcCV(model, X, Y, scoring):\n",
    "    return np.mean(cross_val_score(model, X, Y, scoring=scoring, cv=5))"
   ]
  },
  {
   "cell_type": "markdown",
   "id": "lyric-potter",
   "metadata": {},
   "source": [
    "## Polynomial Regression Model"
   ]
  },
  {
   "cell_type": "code",
   "execution_count": 274,
   "id": "diverse-chair",
   "metadata": {},
   "outputs": [],
   "source": [
    "def polynomialTransform(dataset, degree):\n",
    "    polynomial_features = PolynomialFeatures(degree=degree)\n",
    "    dataset_poly = polynomial_features.fit_transform(dataset)\n",
    "    return dataset_poly"
   ]
  },
  {
   "cell_type": "code",
   "execution_count": 275,
   "id": "miniature-absence",
   "metadata": {},
   "outputs": [
    {
     "name": "stdout",
     "output_type": "stream",
     "text": [
      "Polynomial Regression with degree =  42\n",
      "RMSE on validate data:  0.13603036806788768\n",
      "Polynomial model coefficient:\n",
      "[[-5.91106138e-22 -8.50280776e-22  3.30601048e-22  1.29703279e-23\n",
      "  -2.73079255e-23  1.66490421e-24 -6.23215405e-25 -1.48815400e-24\n",
      "  -5.93379871e-23  3.62774745e-33  1.63688356e-32  7.27178816e-32\n",
      "   3.18368511e-31  1.37445669e-30  5.85224694e-30  2.45722192e-29\n",
      "   1.01698076e-28  4.14598609e-28  1.66330864e-27  6.55853230e-27\n",
      "   2.53775645e-26  9.61752225e-26  3.56135463e-25  1.28480814e-24\n",
      "   4.49950584e-24  1.52277841e-23  4.95190507e-23  1.53590873e-22\n",
      "   4.49954380e-22  1.22847399e-21  3.06643196e-21  6.79643588e-21\n",
      "   1.27356010e-20  1.83100385e-20  1.53093190e-20 -3.74752721e-21\n",
      "  -1.82057070e-20  1.41586049e-20 -4.79505795e-21  9.01268101e-22\n",
      "  -9.80381147e-23  5.80708643e-24 -1.45586077e-25]]\n",
      "Polynomial model intercept: [1.52302235]\n",
      "\n"
     ]
    }
   ],
   "source": [
    "# degree = 2\n",
    "X_train_poly = polynomialTransform(X_train, 2)\n",
    "selected_poly_model = linearRegressionModel(X_train_poly, Y_train)\n",
    "\n",
    "# calc rmse on validate data:\n",
    "X_validate_poly = polynomialTransform(X_validate, 2)\n",
    "min_poly_rmse = calcRMSE(selected_poly_model, X_validate_poly, Y_validate)\n",
    "\n",
    "# Choose model with specific degree:\n",
    "selected_degree = 2\n",
    "selected_X_train_poly = X_train_poly\n",
    "\n",
    "min_degree = 3\n",
    "max_degree = 100\n",
    "\n",
    "for i in range(min_degree, max_degree+1):\n",
    "    X_train_poly = polynomialTransform(X_train, i)\n",
    "    poly_model = linearRegressionModel(X_train_poly, Y_train)\n",
    "\n",
    "    # calc rmse on validate data:\n",
    "    X_validate_poly = polynomialTransform(X_validate, i)\n",
    "    rmse = calcRMSE(poly_model, X_validate_poly, Y_validate)\n",
    "\n",
    "    # Try to select the model with minimum rmse:\n",
    "    if rmse < min_poly_rmse:\n",
    "        min_poly_rmse = rmse\n",
    "        selected_poly_model = poly_model\n",
    "        selected_X_train_poly = X_train_poly\n",
    "        selected_degree = i\n",
    "        \n",
    "print(\"Polynomial Regression with degree = \", selected_degree)\n",
    "print(\"RMSE on validate data: \", min_poly_rmse)\n",
    "print(\"Polynomial model coefficient:\")\n",
    "print(selected_poly_model.coef_)\n",
    "print(\"Polynomial model intercept: {}\\n\".format(selected_poly_model.intercept_))\n",
    "\n",
    "# Predict Y:\n",
    "Y_train_poly_pred = selected_poly_model.predict(selected_X_train_poly)"
   ]
  },
  {
   "cell_type": "code",
   "execution_count": 276,
   "id": "angry-stomach",
   "metadata": {
    "scrolled": true
   },
   "outputs": [
    {
     "data": {
      "image/png": "[encoded data removed]",
      "text/plain": [
       "<Figure size 504x288 with 1 Axes>"
      ]
     },
     "metadata": {
      "needs_background": "light"
     },
     "output_type": "display_data"
    }
   ],
   "source": [
    "# Plot model:\n",
    "plt.figure(figsize=(7, 4))\n",
    "plt.scatter(X_train, Y_train, marker='o', color='blue', label='train_data')\n",
    "plt.scatter(X_test, Y_test, marker='o', color='red', label='test_data')\n",
    "plt.scatter(X_validate, Y_validate, marker='o', color='green', label='validate_data')\n",
    "plt.plot(X_train, Y_train_poly_pred, color='black', label='train_model')\n",
    "plt.legend(bbox_to_anchor=(1,1), loc=\"upper left\")\n",
    "plt.tight_layout()\n",
    "plt.xlabel('area')\n",
    "plt.ylabel('price')\n",
    "plt.xlim(right=max_area+0.3)\n",
    "plt.ylim(top=max_price+0.3)\n",
    "plt.show()"
   ]
  },
  {
   "cell_type": "markdown",
   "id": "coordinate-professional",
   "metadata": {},
   "source": [
    "### Alpha Hyperparameter"
   ]
  },
  {
   "cell_type": "code",
   "execution_count": 277,
   "id": "convertible-preference",
   "metadata": {},
   "outputs": [],
   "source": [
    "alphas = [0.00001, 0.00003, 0.00005, 0.00008, 0.0001, 0.0003, 0.0005, 0.0008, 0.001, 0.005, 0.01, 0.02, 0.04, 0.06, 0.1, 1.0, 3.0, 5.0, 10.0, 50.0, 100.0]"
   ]
  },
  {
   "cell_type": "code",
   "execution_count": 278,
   "id": "needed-permission",
   "metadata": {},
   "outputs": [],
   "source": [
    "X_validate_poly = polynomialTransform(X_validate, selected_degree)"
   ]
  },
  {
   "cell_type": "code",
   "execution_count": 279,
   "id": "pursuant-quest",
   "metadata": {},
   "outputs": [],
   "source": [
    "# ignore warnings: =))) \n",
    "import warnings"
   ]
  },
  {
   "cell_type": "markdown",
   "id": "timely-letters",
   "metadata": {},
   "source": [
    "## Ridge Regression Model"
   ]
  },
  {
   "cell_type": "code",
   "execution_count": 280,
   "id": "endless-scene",
   "metadata": {},
   "outputs": [
    {
     "name": "stdout",
     "output_type": "stream",
     "text": [
      "Ridge max CV score:  -3688501865376118.5\n",
      "Ridge Regression with alpha = 1e-05 and RMSE = 0.14374076994857532\n",
      "Ridge Regression coefficient:\n",
      "[[-9.82033219e-20  4.01379973e-19  2.25952080e-19  4.02829808e-19\n",
      "  -6.86092247e-19 -8.79087768e-19 -1.65215115e-19 -5.97757144e-19\n",
      "  -5.69513719e-19 -2.04374023e-19  8.47123639e-19 -1.79983563e-19\n",
      "  -8.39665384e-21 -3.26996261e-19  4.06989491e-19  6.06292252e-19\n",
      "   1.28558092e-18 -7.97683915e-19  4.49265924e-19  4.13821653e-20\n",
      "   3.83192031e-19 -1.95524247e-19  3.04431803e-19  8.23959873e-19\n",
      "  -4.99081088e-19 -8.14506764e-19 -3.50156997e-19  6.42620922e-20\n",
      "   8.72936697e-19 -3.08695182e-19 -6.37096329e-19  9.50044470e-20\n",
      "   5.00909526e-19  6.70675156e-19 -2.62159472e-19 -6.04095283e-19\n",
      "   5.75471289e-19 -2.35618307e-19  5.55764368e-20 -8.10056418e-21\n",
      "   7.24549505e-22 -3.66370798e-23  8.04993154e-25]]\n",
      "Ridge Regression intercept:  [1.42820513]\n"
     ]
    }
   ],
   "source": [
    "selected_ridge_alpha = alphas[0]\n",
    "warnings.filterwarnings('ignore')\n",
    "\n",
    "ridge_model = linear_model.Ridge(alpha=selected_ridge_alpha, fit_intercept=True, normalize=False, max_iter=2000, tol=0.001)\n",
    "max_ridge_cv_score = calcCV(ridge_model, selected_X_train_poly, Y_train, 'r2')\n",
    "\n",
    "for alpha in alphas[1:]:\n",
    "    ridge_model = linear_model.Ridge(alpha=alpha, fit_intercept=True, normalize=False, max_iter=2000, tol=0.001)\n",
    "    ridge_cv_score = calcCV(ridge_model, selected_X_train_poly, Y_train, 'r2')\n",
    "\n",
    "    if ridge_cv_score > max_ridge_cv_score:\n",
    "        max_ridge_cv_score = ridge_cv_score\n",
    "        selected_ridge_alpha = alpha\n",
    "        \n",
    "# fit model with selected alpha:\n",
    "ridge_model = ridgeRegressionModel(selected_X_train_poly, Y_train, selected_ridge_alpha)\n",
    "\n",
    "# Ridge max CV score:\n",
    "print(\"Ridge max CV score: \", max_ridge_cv_score)\n",
    "\n",
    "# RMSE:\n",
    "ridge_rmse = calcRMSE(ridge_model, X_validate_poly, Y_validate)\n",
    "\n",
    "print(\"Ridge Regression with alpha = {} and RMSE = {}\".format(selected_ridge_alpha, ridge_rmse))\n",
    "print(\"Ridge Regression coefficient:\")\n",
    "print(ridge_model.coef_)\n",
    "print(\"Ridge Regression intercept: \", ridge_model.intercept_)\n",
    "\n",
    "# Predict Y with Ridge:\n",
    "Y_train_ridge_pred = ridge_model.predict(selected_X_train_poly)"
   ]
  },
  {
   "cell_type": "code",
   "execution_count": 281,
   "id": "golden-muslim",
   "metadata": {},
   "outputs": [
    {
     "data": {
      "image/png": "[encoded data removed]",
      "text/plain": [
       "<Figure size 504x288 with 1 Axes>"
      ]
     },
     "metadata": {
      "needs_background": "light"
     },
     "output_type": "display_data"
    }
   ],
   "source": [
    "# Plot model:\n",
    "plt.figure(figsize=(7, 4))\n",
    "plt.scatter(X_train, Y_train, marker='o', color='blue', label='train_data')\n",
    "plt.scatter(X_test, Y_test, marker='o', color='red', label='test_data')\n",
    "plt.scatter(X_validate, Y_validate, marker='o', color='green', label='validate_data')\n",
    "plt.plot(X_train, Y_train_ridge_pred, color='black', label='train_model')\n",
    "plt.legend(bbox_to_anchor=(1,1), loc=\"upper left\")\n",
    "plt.tight_layout()\n",
    "plt.xlabel('area')\n",
    "plt.ylabel('price')\n",
    "plt.xlim(right=max_area+0.3)\n",
    "plt.ylim(top=max_price+0.3)\n",
    "plt.show()"
   ]
  },
  {
   "cell_type": "markdown",
   "id": "operational-circus",
   "metadata": {},
   "source": [
    "## Lasso Regression Model"
   ]
  },
  {
   "cell_type": "code",
   "execution_count": 282,
   "id": "alpha-poetry",
   "metadata": {},
   "outputs": [
    {
     "name": "stdout",
     "output_type": "stream",
     "text": [
      "Lasso max CV score:  -0.06894639196772512\n",
      "Lasso Model with alpha = 0.005 and RMSE on validate data = 0.16066031447930965\n",
      "Lasso Model train RMSE:  0.25689558089526043\n",
      "Lasso Regression coefficient:\n",
      "[ 0.00000000e+00 -0.00000000e+00 -0.00000000e+00  8.72585439e-03\n",
      "  1.93092625e-04 -3.82074354e-05 -4.27016985e-06 -4.25556042e-07\n",
      " -3.46930611e-08 -7.84793878e-10  5.72229812e-10  1.93739073e-10\n",
      "  4.57439079e-11  9.38909186e-12  1.78117596e-12  3.20386055e-13\n",
      "  5.53498573e-14  9.25045867e-15  1.50187034e-15  2.37425628e-16\n",
      "  3.65801607e-17  5.49070482e-18  8.01471347e-19  1.13338781e-19\n",
      "  1.54197060e-20  1.99254202e-21  2.38359664e-22  2.48321611e-23\n",
      "  1.81647699e-24 -5.30057286e-26 -6.24261215e-26 -1.83446037e-26\n",
      " -4.21396982e-27 -8.67737259e-28 -1.67802039e-28 -3.11381870e-29\n",
      " -5.61078782e-30 -9.88860749e-31 -1.71277517e-31 -2.92525427e-32\n",
      " -4.93827024e-33 -8.25512567e-34 -1.36842342e-34]\n",
      "Lasso Regression intercept:  [0.95052034]\n"
     ]
    }
   ],
   "source": [
    "selected_lasso_alpha = alphas[0]\n",
    "warnings.filterwarnings('ignore')\n",
    "\n",
    "lasso_model = linear_model.Lasso(alpha=selected_lasso_alpha, fit_intercept=True, normalize=True, max_iter=2000, tol=0.001)\n",
    "max_lasso_cv_score = calcCV(lasso_model, selected_X_train_poly, Y_train, 'r2')\n",
    "\n",
    "for alpha in alphas[1:]:\n",
    "    lasso_model = linear_model.Lasso(alpha=alpha, fit_intercept=True, normalize=True, max_iter=2000, tol=0.001)\n",
    "    lasso_cv_score = calcCV(lasso_model, selected_X_train_poly, Y_train, 'r2')\n",
    "#     neg_root_mean_squared_error\n",
    "\n",
    "    if lasso_cv_score > max_lasso_cv_score:\n",
    "        max_lasso_cv_score = lasso_cv_score\n",
    "        selected_lasso_alpha = alpha\n",
    "        \n",
    "# Fit model with selected alpha:\n",
    "lasso_model = lassoRegressionModel(selected_X_train_poly, Y_train, selected_lasso_alpha)\n",
    "\n",
    "# Lasso max CV score:\n",
    "print(\"Lasso max CV score: \", max_lasso_cv_score)\n",
    "\n",
    "# RMSE:\n",
    "lasso_train_rmse = calcRMSE(lasso_model, selected_X_train_poly, Y_train)\n",
    "lasso_validate_rmse = calcRMSE(lasso_model, X_validate_poly, Y_validate)\n",
    "\n",
    "print(\"Lasso Model with alpha = {} and RMSE on validate data = {}\".format(selected_lasso_alpha, lasso_validate_rmse))\n",
    "print(\"Lasso Model train RMSE: \", lasso_train_rmse)\n",
    "print(\"Lasso Regression coefficient:\")\n",
    "print(lasso_model.coef_)\n",
    "print(\"Lasso Regression intercept: \", lasso_model.intercept_)\n",
    "\n",
    "# Predict Y with Ridge:\n",
    "Y_train_lasso_pred = lasso_model.predict(selected_X_train_poly)"
   ]
  },
  {
   "cell_type": "code",
   "execution_count": 283,
   "id": "consecutive-chamber",
   "metadata": {
    "scrolled": false
   },
   "outputs": [
    {
     "data": {
      "image/png": "[encoded data removed]",
      "text/plain": [
       "<Figure size 504x288 with 1 Axes>"
      ]
     },
     "metadata": {
      "needs_background": "light"
     },
     "output_type": "display_data"
    }
   ],
   "source": [
    "# Plot model:\n",
    "plt.figure(figsize=(7, 4))\n",
    "plt.scatter(X_train, Y_train, marker='o', color='blue', label='train_data')\n",
    "plt.scatter(X_test, Y_test, marker='o', color='red', label='test_data')\n",
    "plt.scatter(X_validate, Y_validate, marker='o', color='green', label='validate_data')\n",
    "plt.plot(X_train, Y_train_lasso_pred, color='black', label='train_model')\n",
    "plt.legend(bbox_to_anchor=(1,1), loc=\"upper left\")\n",
    "plt.tight_layout()\n",
    "plt.xlabel('area')\n",
    "plt.ylabel('price')\n",
    "plt.xlim(right=max_area+0.3)\n",
    "plt.ylim(top=max_price+0.3)\n",
    "plt.show()"
   ]
  },
  {
   "cell_type": "code",
   "execution_count": 284,
   "id": "aware-bosnia",
   "metadata": {},
   "outputs": [
    {
     "name": "stdout",
     "output_type": "stream",
     "text": [
      "\n",
      "\n",
      "Linear Model score on train dataset:  0.776342253809754\n",
      "Linear Model score on test dataset:  0.2096181186408339\n",
      "\n",
      "\n",
      "Poly Model score on train dataset:  0.8588911630183129\n",
      "Poly Model score on test dataset:  0.8425746207583451\n",
      "\n",
      "\n",
      "Ridge Model score on train dataset:  0.8482558480663251\n",
      "Ridge Model score on test dataset:  0.7891092415242785\n",
      "\n",
      "\n",
      "Lasso Model score on train dataset:  0.8558973127076238\n",
      "Lasso Model score on test dataset:  0.824808442171646\n"
     ]
    }
   ],
   "source": [
    "# score the model with test data:\n",
    "X_test_poly = polynomialTransform(X_test, selected_degree)\n",
    "\n",
    "# Linear score:\n",
    "print(\"\\n\")\n",
    "\n",
    "linear_train_r2_score = linear_regression_model.score(X_train, Y_train)\n",
    "print(\"Linear Model score on train dataset: \", linear_train_r2_score)\n",
    "\n",
    "linear_test_r2_score = linear_regression_model.score(X_test, Y_test)\n",
    "print(\"Linear Model score on test dataset: \", linear_test_r2_score)\n",
    "\n",
    "# Poly score:\n",
    "print(\"\\n\")\n",
    "\n",
    "poly_train_r2_score = selected_poly_model.score(selected_X_train_poly, Y_train)\n",
    "print(\"Poly Model score on train dataset: \", poly_train_r2_score)\n",
    "\n",
    "poly_test_r2_score = selected_poly_model.score(X_test_poly, Y_test)\n",
    "print(\"Poly Model score on test dataset: \", poly_test_r2_score)\n",
    "\n",
    "# Ridge score:\n",
    "print(\"\\n\")\n",
    "\n",
    "ridge_train_r2_score = ridge_model.score(selected_X_train_poly, Y_train)\n",
    "print(\"Ridge Model score on train dataset: \", ridge_train_r2_score)\n",
    "\n",
    "ridge_test_r2_score = ridge_model.score(X_test_poly, Y_test)\n",
    "print(\"Ridge Model score on test dataset: \", ridge_test_r2_score)\n",
    "\n",
    "# Lasso score:\n",
    "print(\"\\n\")\n",
    "\n",
    "lasso_train_r2_score = lasso_model.score(selected_X_train_poly, Y_train)\n",
    "print(\"Lasso Model score on train dataset: \", lasso_train_r2_score)\n",
    "\n",
    "lasso_test_r2_score = lasso_model.score(X_test_poly, Y_test)\n",
    "print(\"Lasso Model score on test dataset: \", lasso_test_r2_score)"
   ]
  },
  {
   "cell_type": "code",
   "execution_count": 285,
   "id": "lesser-congo",
   "metadata": {},
   "outputs": [],
   "source": [
    "# # calc cross validation score of linear to compare with poly for best model selection\n",
    "# linear_cv = np.mean(cross_val_score(linear_model, X, Y, cv=5))\n",
    "# poly_cv = np.mean(cross_val_score(poly_model, X, Y, cv=5))\n",
    "\n",
    "# best_r2_score = linear_test_r2_score if linear_test_r2_score > poly_test_r2_score else poly_test_r2_score\n",
    "# best_model = linear_model if linear_cv > poly_cv else poly_model\n",
    "# best_degree = 1 if linear_cv > poly_cv else degree\n",
    "\n",
    "# print(linear_cv)\n",
    "# print(poly_cv)"
   ]
  },
  {
   "cell_type": "code",
   "execution_count": 286,
   "id": "acute-archives",
   "metadata": {},
   "outputs": [],
   "source": [
    "import unidecode\n",
    "post_type = unidecode.unidecode(post_type.lower().replace(\" \", \"\"))\n",
    "street = unidecode.unidecode(street.lower().replace(\" \", \"\"))\n",
    "ward = unidecode.unidecode(ward.lower().replace(\" \", \"\"))\n",
    "district = unidecode.unidecode(district.lower().replace(\" \", \"\"))\n",
    "model_name = post_type + \"_\" + street + \"_\" + ward + \"_\" + district"
   ]
  },
  {
   "cell_type": "code",
   "execution_count": 287,
   "id": "anonymous-milton",
   "metadata": {},
   "outputs": [
    {
     "data": {
      "text/plain": [
       "'bandat_vuonlai_anphudong_12'"
      ]
     },
     "execution_count": 287,
     "metadata": {},
     "output_type": "execute_result"
    }
   ],
   "source": [
    "model_name"
   ]
  },
  {
   "cell_type": "code",
   "execution_count": 288,
   "id": "juvenile-share",
   "metadata": {},
   "outputs": [],
   "source": [
    "# # Save model after training for later use:\n",
    "# from joblib import dump, load\n",
    "\n",
    "# if best_r2_score > 0.7:\n",
    "#     # Save model:\n",
    "#     dump((best_model, best_degree), 'trained\\\\' + model_name + '.joblib')"
   ]
  },
  {
   "cell_type": "code",
   "execution_count": 289,
   "id": "surprising-brunswick",
   "metadata": {},
   "outputs": [],
   "source": [
    "# try:    \n",
    "#     # load model:\n",
    "#     loaded_model, loaded_degree = load('trained/' + model_name + \".joblib\")\n",
    "\n",
    "#     test_area = np.array([92.00])\n",
    "#     test_area = test_area[:, np.newaxis]\n",
    "#     test_area = FunctionTransformer(np.log1p).fit_transform(test_area)\n",
    "\n",
    "#     if loaded_degree == 1:\n",
    "#         predicted_price = loaded_model.predict(test_area)\n",
    "#     else:\n",
    "#         test_area_poly = PolynomialFeatures(degree=loaded_degree).fit_transform(test_area)\n",
    "#         predicted_price = loaded_model.predict(test_area_poly)\n",
    "\n",
    "#     print(FunctionTransformer(np.log1p).inverse_transform(predicted_price))\n",
    "# except FileNotFoundError:\n",
    "#     print(\"Model not found or trained result is low!\")"
   ]
  }
 ],
 "metadata": {
  "kernelspec": {
   "display_name": "Python 3",
   "language": "python",
   "name": "python3"
  },
  "language_info": {
   "codemirror_mode": {
    "name": "ipython",
    "version": 3
   },
   "file_extension": ".py",
   "mimetype": "text/x-python",
   "name": "python",
   "nbconvert_exporter": "python",
   "pygments_lexer": "ipython3",
   "version": "3.8.5"
  }
 },
 "nbformat": 4,
 "nbformat_minor": 5
}
