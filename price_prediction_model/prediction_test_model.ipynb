{
 "cells": [
  {
   "cell_type": "code",
   "execution_count": 225,
   "id": "muslim-louisville",
   "metadata": {},
   "outputs": [],
   "source": [
    "from matplotlib import pyplot as plt\n",
    "import numpy as np\n",
    "import pandas as pd\n",
    "from sklearn.model_selection import train_test_split\n",
    "from sklearn.preprocessing import PowerTransformer, QuantileTransformer, FunctionTransformer, RobustScaler, StandardScaler\n",
    "from sklearn.metrics import mean_squared_error\n",
    "\n",
    "from sklearn.linear_model import LinearRegression, Ridge, Lasso\n",
    "from sklearn.model_selection import cross_val_score\n",
    "\n",
    "from models.prepareData import getData, convertData\n",
    "from models.models import linearRegressionModel, RANSACRegressionModel, PolynomialFeatures, polynomialRegression"
   ]
  },
  {
   "cell_type": "code",
   "execution_count": 226,
   "id": "clean-thinking",
   "metadata": {},
   "outputs": [],
   "source": [
    "# data = getData('Bán căn hộ chung cư', 'Nguyễn Hữu Thọ', 'Phước Kiển', 'Nhà Bè')\n",
    "data = getData('Bán căn hộ chung cư', 'Nguyễn Hữu Cảnh', '22', 'Bình Thạnh')\n",
    "# data = getData('Bán đất', 'Trần Văn Giàu', 'Lê Minh Xuân', 'Bình Chánh')\n",
    "# data = getData('Bán đất', 'Vườn Lài', 'An Phú Đông', '12')\n",
    "# data = getData('Bán nhà riêng', 'Quốc Lộ 13', 'Hiệp Bình Phước', 'Thủ Đức')\n",
    "# data = getData('Bán nhà riêng', 'Phạm Văn Chiêu', '9', 'Gò Vấp')\n",
    "# data = getData('Bán nhà riêng', 'Nguyễn Văn Quá', 'Đông Hưng Thuận', '12')\n",
    "# data = getData('Bán nhà riêng', 'Quốc Lộ 13', 'Hiệp Bình Phước', 'Thủ Đức')\n",
    "# data = getData('Bán đất', 'Nguyễn Thị Rành', 'Nhuận Đức', 'Củ Chi')"
   ]
  },
  {
   "cell_type": "code",
   "execution_count": 227,
   "id": "excellent-lightweight",
   "metadata": {},
   "outputs": [],
   "source": [
    "# preprocess data:\n",
    "\n",
    "# sort data in post_date order to drop old data has same area:\n",
    "data = data.sort_values(by=['posted_date'])\n",
    "\n",
    "# Drop duplicates:    \n",
    "data = data.drop_duplicates(subset='area', keep='last', inplace=False)\n",
    "\n",
    "# sort data in area order:\n",
    "data = data.sort_values(by=['area'])"
   ]
  },
  {
   "cell_type": "code",
   "execution_count": 228,
   "id": "legitimate-median",
   "metadata": {},
   "outputs": [],
   "source": [
    "# remove outlier:\n",
    "\n",
    "# Area:\n",
    "area_q1 = data['area'].quantile(0.25)\n",
    "area_q3 = data['area'].quantile(0.75)\n",
    "area_iqr = area_q3 - area_q1\n",
    "\n",
    "# Minimum and maximum exclude outlier:\n",
    "area_minimum = area_q1 - 1.5 * area_iqr\n",
    "area_maximum = area_q3 + 1.5 * area_iqr\n",
    "\n",
    "data = data[(data['area'] > area_minimum) & (data['area'] < area_maximum)]\n",
    "\n",
    "# Price\n",
    "price_q1 = data['price'].quantile(0.25)\n",
    "price_q3 = data['price'].quantile(0.75)\n",
    "price_iqr = price_q3 - price_q1\n",
    "\n",
    "# Minimum and maximum exclude outlier:\n",
    "price_minimum = price_q1 - 1.5 * price_iqr\n",
    "price_maximum = price_q3 + 1.5 * price_iqr\n",
    "\n",
    "data = data[(data['price'] > price_minimum) & (data['price'] < area_maximum)]"
   ]
  },
  {
   "cell_type": "code",
   "execution_count": 229,
   "id": "acting-temple",
   "metadata": {},
   "outputs": [],
   "source": [
    "data = data[(data['area'] < 200) & (data['area'] > 0) & (data['price'] < 13)]"
   ]
  },
  {
   "cell_type": "code",
   "execution_count": 230,
   "id": "focused-integer",
   "metadata": {},
   "outputs": [
    {
     "data": {
      "image/png": "[encoded data removed]",
      "text/plain": [
       "<Figure size 432x288 with 1 Axes>"
      ]
     },
     "metadata": {
      "needs_background": "light"
     },
     "output_type": "display_data"
    }
   ],
   "source": [
    "data['area'].plot(kind='box')\n",
    "plt.show()"
   ]
  },
  {
   "cell_type": "code",
   "execution_count": 231,
   "id": "specific-watch",
   "metadata": {},
   "outputs": [
    {
     "data": {
      "image/png": "[encoded data removed]",
      "text/plain": [
       "<Figure size 432x288 with 1 Axes>"
      ]
     },
     "metadata": {
      "needs_background": "light"
     },
     "output_type": "display_data"
    }
   ],
   "source": [
    "data['price'].plot(kind='box')\n",
    "plt.show()"
   ]
  },
  {
   "cell_type": "code",
   "execution_count": 232,
   "id": "large-transcription",
   "metadata": {
    "scrolled": true
   },
   "outputs": [
    {
     "data": {
      "text/html": [
       "<div>\n",
       "<style scoped>\n",
       "    .dataframe tbody tr th:only-of-type {\n",
       "        vertical-align: middle;\n",
       "    }\n",
       "\n",
       "    .dataframe tbody tr th {\n",
       "        vertical-align: top;\n",
       "    }\n",
       "\n",
       "    .dataframe thead th {\n",
       "        text-align: right;\n",
       "    }\n",
       "</style>\n",
       "<table border=\"1\" class=\"dataframe\">\n",
       "  <thead>\n",
       "    <tr style=\"text-align: right;\">\n",
       "      <th></th>\n",
       "      <th>post_type</th>\n",
       "      <th>area</th>\n",
       "      <th>price</th>\n",
       "      <th>street</th>\n",
       "      <th>ward</th>\n",
       "      <th>district</th>\n",
       "      <th>posted_date</th>\n",
       "    </tr>\n",
       "  </thead>\n",
       "  <tbody>\n",
       "    <tr>\n",
       "      <th>680</th>\n",
       "      <td>Bán căn hộ chung cư</td>\n",
       "      <td>35.8</td>\n",
       "      <td>1.98</td>\n",
       "      <td>Nguyễn Hữu Cảnh</td>\n",
       "      <td>22</td>\n",
       "      <td>Bình Thạnh</td>\n",
       "      <td>2021-04-28</td>\n",
       "    </tr>\n",
       "    <tr>\n",
       "      <th>735</th>\n",
       "      <td>Bán căn hộ chung cư</td>\n",
       "      <td>36.0</td>\n",
       "      <td>2.80</td>\n",
       "      <td>Nguyễn Hữu Cảnh</td>\n",
       "      <td>22</td>\n",
       "      <td>Bình Thạnh</td>\n",
       "      <td>2021-04-28</td>\n",
       "    </tr>\n",
       "    <tr>\n",
       "      <th>78</th>\n",
       "      <td>Bán căn hộ chung cư</td>\n",
       "      <td>38.0</td>\n",
       "      <td>1.70</td>\n",
       "      <td>Nguyễn Hữu Cảnh</td>\n",
       "      <td>22</td>\n",
       "      <td>Bình Thạnh</td>\n",
       "      <td>2021-05-23</td>\n",
       "    </tr>\n",
       "    <tr>\n",
       "      <th>755</th>\n",
       "      <td>Bán căn hộ chung cư</td>\n",
       "      <td>40.3</td>\n",
       "      <td>2.60</td>\n",
       "      <td>Nguyễn Hữu Cảnh</td>\n",
       "      <td>22</td>\n",
       "      <td>Bình Thạnh</td>\n",
       "      <td>2021-04-28</td>\n",
       "    </tr>\n",
       "    <tr>\n",
       "      <th>746</th>\n",
       "      <td>Bán căn hộ chung cư</td>\n",
       "      <td>40.7</td>\n",
       "      <td>3.30</td>\n",
       "      <td>Nguyễn Hữu Cảnh</td>\n",
       "      <td>22</td>\n",
       "      <td>Bình Thạnh</td>\n",
       "      <td>2021-04-28</td>\n",
       "    </tr>\n",
       "    <tr>\n",
       "      <th>...</th>\n",
       "      <td>...</td>\n",
       "      <td>...</td>\n",
       "      <td>...</td>\n",
       "      <td>...</td>\n",
       "      <td>...</td>\n",
       "      <td>...</td>\n",
       "      <td>...</td>\n",
       "    </tr>\n",
       "    <tr>\n",
       "      <th>794</th>\n",
       "      <td>Bán căn hộ chung cư</td>\n",
       "      <td>158.0</td>\n",
       "      <td>12.00</td>\n",
       "      <td>Nguyễn Hữu Cảnh</td>\n",
       "      <td>22</td>\n",
       "      <td>Bình Thạnh</td>\n",
       "      <td>2021-05-05</td>\n",
       "    </tr>\n",
       "    <tr>\n",
       "      <th>10</th>\n",
       "      <td>Bán căn hộ chung cư</td>\n",
       "      <td>164.0</td>\n",
       "      <td>8.00</td>\n",
       "      <td>Nguyễn Hữu Cảnh</td>\n",
       "      <td>22</td>\n",
       "      <td>Bình Thạnh</td>\n",
       "      <td>2021-05-16</td>\n",
       "    </tr>\n",
       "    <tr>\n",
       "      <th>512</th>\n",
       "      <td>Bán căn hộ chung cư</td>\n",
       "      <td>165.0</td>\n",
       "      <td>6.50</td>\n",
       "      <td>Nguyễn Hữu Cảnh</td>\n",
       "      <td>22</td>\n",
       "      <td>Bình Thạnh</td>\n",
       "      <td>2021-04-03</td>\n",
       "    </tr>\n",
       "    <tr>\n",
       "      <th>838</th>\n",
       "      <td>Bán căn hộ chung cư</td>\n",
       "      <td>170.0</td>\n",
       "      <td>11.36</td>\n",
       "      <td>Nguyễn Hữu Cảnh</td>\n",
       "      <td>22</td>\n",
       "      <td>Bình Thạnh</td>\n",
       "      <td>2021-05-12</td>\n",
       "    </tr>\n",
       "    <tr>\n",
       "      <th>740</th>\n",
       "      <td>Bán căn hộ chung cư</td>\n",
       "      <td>177.7</td>\n",
       "      <td>7.10</td>\n",
       "      <td>Nguyễn Hữu Cảnh</td>\n",
       "      <td>22</td>\n",
       "      <td>Bình Thạnh</td>\n",
       "      <td>2021-04-28</td>\n",
       "    </tr>\n",
       "  </tbody>\n",
       "</table>\n",
       "<p>154 rows × 7 columns</p>\n",
       "</div>"
      ],
      "text/plain": [
       "               post_type   area  price           street ward    district  \\\n",
       "680  Bán căn hộ chung cư   35.8   1.98  Nguyễn Hữu Cảnh   22  Bình Thạnh   \n",
       "735  Bán căn hộ chung cư   36.0   2.80  Nguyễn Hữu Cảnh   22  Bình Thạnh   \n",
       "78   Bán căn hộ chung cư   38.0   1.70  Nguyễn Hữu Cảnh   22  Bình Thạnh   \n",
       "755  Bán căn hộ chung cư   40.3   2.60  Nguyễn Hữu Cảnh   22  Bình Thạnh   \n",
       "746  Bán căn hộ chung cư   40.7   3.30  Nguyễn Hữu Cảnh   22  Bình Thạnh   \n",
       "..                   ...    ...    ...              ...  ...         ...   \n",
       "794  Bán căn hộ chung cư  158.0  12.00  Nguyễn Hữu Cảnh   22  Bình Thạnh   \n",
       "10   Bán căn hộ chung cư  164.0   8.00  Nguyễn Hữu Cảnh   22  Bình Thạnh   \n",
       "512  Bán căn hộ chung cư  165.0   6.50  Nguyễn Hữu Cảnh   22  Bình Thạnh   \n",
       "838  Bán căn hộ chung cư  170.0  11.36  Nguyễn Hữu Cảnh   22  Bình Thạnh   \n",
       "740  Bán căn hộ chung cư  177.7   7.10  Nguyễn Hữu Cảnh   22  Bình Thạnh   \n",
       "\n",
       "    posted_date  \n",
       "680  2021-04-28  \n",
       "735  2021-04-28  \n",
       "78   2021-05-23  \n",
       "755  2021-04-28  \n",
       "746  2021-04-28  \n",
       "..          ...  \n",
       "794  2021-05-05  \n",
       "10   2021-05-16  \n",
       "512  2021-04-03  \n",
       "838  2021-05-12  \n",
       "740  2021-04-28  \n",
       "\n",
       "[154 rows x 7 columns]"
      ]
     },
     "execution_count": 232,
     "metadata": {},
     "output_type": "execute_result"
    }
   ],
   "source": [
    "data"
   ]
  },
  {
   "cell_type": "code",
   "execution_count": 233,
   "id": "australian-prophet",
   "metadata": {},
   "outputs": [],
   "source": [
    "# np.array(data['area'])"
   ]
  },
  {
   "cell_type": "code",
   "execution_count": 234,
   "id": "stopped-width",
   "metadata": {},
   "outputs": [],
   "source": [
    "# np.array(data['price'])"
   ]
  },
  {
   "cell_type": "code",
   "execution_count": 235,
   "id": "handed-alloy",
   "metadata": {},
   "outputs": [],
   "source": [
    "# smooth data:\n",
    "# kernel_size = 10\n",
    "# kernel = np.ones(kernel_size) / kernel_size\n",
    "\n",
    "# data['price'] = np.convolve(np.array(data['price']), kernel, mode='same')\n",
    "# data['price'] = data['price'].rolling(window=2).mean()\n",
    "# data = data.dropna()"
   ]
  },
  {
   "cell_type": "code",
   "execution_count": 236,
   "id": "threaded-celebration",
   "metadata": {},
   "outputs": [],
   "source": [
    "# np.array(data['area'])"
   ]
  },
  {
   "cell_type": "code",
   "execution_count": 237,
   "id": "dominant-sunday",
   "metadata": {},
   "outputs": [],
   "source": [
    "# np.array(data['price'])"
   ]
  },
  {
   "cell_type": "code",
   "execution_count": 238,
   "id": "fuzzy-sender",
   "metadata": {},
   "outputs": [],
   "source": [
    "# divide data into train and test:\n",
    "train_data, test_data = train_test_split(data, test_size=0.2)\n",
    "train_data, validate_data = train_test_split(train_data, test_size=0.2)"
   ]
  },
  {
   "cell_type": "code",
   "execution_count": 239,
   "id": "interior-estate",
   "metadata": {},
   "outputs": [
    {
     "name": "stdout",
     "output_type": "stream",
     "text": [
      "\n",
      "Train data length:  98\n",
      "Test data length:  31\n",
      "Validate data length:  25\n"
     ]
    }
   ],
   "source": [
    "# Sort data by area column:\n",
    "train_data = train_data.sort_values(by=['area'])\n",
    "test_data = test_data.sort_values(by=['area'])\n",
    "validate_data = validate_data.sort_values(by=['area'])\n",
    "\n",
    "print(\"\\nTrain data length: \", len(train_data))\n",
    "print(\"Test data length: \", len(test_data))\n",
    "print(\"Validate data length: \", len(validate_data))"
   ]
  },
  {
   "cell_type": "code",
   "execution_count": 240,
   "id": "tracked-international",
   "metadata": {},
   "outputs": [],
   "source": [
    "# # # sort data by area to perform smoothing data:\n",
    "# # train_data = train_data.sort_values(by=['area'])\n",
    "# # # smooth data:\n",
    "# # kernel_size = 2\n",
    "# # kernel = np.ones(kernel_size) / kernel_size\n",
    "\n",
    "# # # train_data['area'] = np.convolve(np.array(train_data['area']), kernel, mode='same')\n",
    "# # train_data['price'] = np.convolve(np.array(train_data['price']), kernel, mode='same')\n",
    "# train_data['price'] = train_data['price'].rolling(window=5, center=True).mean()\n",
    "\n",
    "# # drop null values:\n",
    "# train_data = train_data.dropna()"
   ]
  },
  {
   "cell_type": "code",
   "execution_count": 241,
   "id": "persistent-course",
   "metadata": {},
   "outputs": [],
   "source": [
    "# # # sort data by area to perform smoothing data:\n",
    "# # test_data = test_data.sort_values(by=['area'])\n",
    "\n",
    "# # # smooth data:\n",
    "# # kernel_size = 1\n",
    "# # kernel = np.ones(kernel_size) / kernel_size\n",
    "\n",
    "# # # test_data['area'] = np.convolve(np.array(test_data['area']), kernel, mode='same')\n",
    "# # test_data['price'] = np.convolve(np.array(test_data['price']), kernel, mode='same')\n",
    "\n",
    "# test_data['price'] = test_data['price'].rolling(window=5, center=True).mean()\n",
    "\n",
    "# # drop null values:\n",
    "# test_data = test_data.dropna()"
   ]
  },
  {
   "cell_type": "code",
   "execution_count": 242,
   "id": "registered-discrimination",
   "metadata": {},
   "outputs": [],
   "source": [
    "# # # sort data by area to perform smoothing data:\n",
    "# # validate_data = validate_data.sort_values(by=['area'])\n",
    "\n",
    "# # # smooth data:\n",
    "# # kernel_size = 1\n",
    "# # kernel = np.ones(kernel_size) / kernel_size\n",
    "\n",
    "# # # validate_data['area'] = np.convolve(np.array(validate_data['area']), kernel, mode='same')\n",
    "# # validate_data['price'] = np.convolve(np.array(validate_data['price']), kernel, mode='same')\n",
    "\n",
    "# validate_data['price'] = validate_data['price'].rolling(window=5, center=True).mean()\n",
    "\n",
    "# # drop null values:\n",
    "# validate_data = validate_data.dropna()"
   ]
  },
  {
   "cell_type": "code",
   "execution_count": 243,
   "id": "ranking-madonna",
   "metadata": {},
   "outputs": [],
   "source": [
    "# # convert data into numpy\n",
    "X, Y = convertData(data)\n",
    "X_train, Y_train = convertData(train_data)\n",
    "X_test, Y_test = convertData(test_data)\n",
    "X_validate, Y_validate = convertData(validate_data)"
   ]
  },
  {
   "cell_type": "code",
   "execution_count": 244,
   "id": "exempt-relation",
   "metadata": {},
   "outputs": [],
   "source": [
    "# scale data:\n",
    "\n",
    "# Standard Scaler:\n",
    "\n",
    "# X = StandardScaler().fit_transform(X)\n",
    "# Y = StandardScaler().fit_transform(Y)\n",
    "\n",
    "# X_train = StandardScaler().fit_transform(X_train)\n",
    "# Y_train = StandardScaler().fit_transform(Y_train)\n",
    "\n",
    "# X_test = StandardScaler().fit_transform(X_test)\n",
    "# Y_test = StandardScaler().fit_transform(Y_test)\n",
    "\n",
    "# X_validate = StandardScaler().fit_transform(X_validate)\n",
    "# Y_validate = StandardScaler().fit_transform(Y_validate)\n",
    "\n",
    "\n",
    "# Quantile Transformer:\n",
    "\n",
    "# X = QuantileTransformer(n_quantiles=len(X_train), output_distribution='uniform').fit_transform(X)\n",
    "# Y = QuantileTransformer(n_quantiles=len(Y_train), output_distribution='uniform').fit_transform(Y)\n",
    "\n",
    "# X_train = QuantileTransformer(n_quantiles=len(X_train), output_distribution='uniform').fit_transform(X_train)\n",
    "# Y_train = QuantileTransformer(n_quantiles=len(Y_train), output_distribution='uniform').fit_transform(Y_train)\n",
    "\n",
    "# X_test = QuantileTransformer(n_quantiles=len(X_test), output_distribution='uniform').fit_transform(X_test)\n",
    "# Y_test = QuantileTransformer(n_quantiles=len(X_test), output_distribution='uniform').fit_transform(Y_test)\n",
    "\n",
    "# X_validate = QuantileTransformer(n_quantiles=len(X_validate), output_distribution='uniform').fit_transform(X_validate)\n",
    "# Y_validate = QuantileTransformer(n_quantiles=len(Y_validate), output_distribution='uniform').fit_transform(Y_validate)\n",
    "\n",
    "# Power Transformer:\n",
    "\n",
    "# X = PowerTransformer(method='yeo-johnson').fit_transform(X)\n",
    "Y = PowerTransformer(method='yeo-johnson').fit_transform(Y)\n",
    "\n",
    "# X_train = PowerTransformer(method='yeo-johnson').fit_transform(X_train)\n",
    "Y_train = PowerTransformer(method='yeo-johnson').fit_transform(Y_train)\n",
    "\n",
    "# X_test = PowerTransformer(method='yeo-johnson').fit_transform(X_test)\n",
    "Y_test = PowerTransformer(method='yeo-johnson').fit_transform(Y_test)\n",
    "\n",
    "# X_validate = PowerTransformer(method='yeo-johnson').fit_transform(X_validate)\n",
    "Y_validate = PowerTransformer(method='yeo-johnson').fit_transform(Y_validate)\n",
    "\n",
    "# Log Transformer:\n",
    "\n",
    "# X = FunctionTransformer(np.log1p).fit_transform(X)\n",
    "# Y = FunctionTransformer(np.log1p).fit_transform(Y)\n",
    "\n",
    "# X_train = FunctionTransformer(np.log1p).fit_transform(X_train)\n",
    "# Y_train = FunctionTransformer(np.log1p).fit_transform(Y_train)\n",
    "\n",
    "# X_test = FunctionTransformer(np.log1p).fit_transform(X_test)\n",
    "# Y_test = FunctionTransformer(np.log1p).fit_transform(Y_test)\n",
    "\n",
    "# X_validate = FunctionTransformer(np.log1p).fit_transform(X_validate)\n",
    "# Y_validate = FunctionTransformer(np.log1p).fit_transform(Y_validate)"
   ]
  },
  {
   "cell_type": "code",
   "execution_count": 245,
   "id": "palestinian-teaching",
   "metadata": {},
   "outputs": [
    {
     "data": {
      "text/plain": [
       "Text(0.5, 1.0, 'Y_validate')"
      ]
     },
     "execution_count": 245,
     "metadata": {},
     "output_type": "execute_result"
    },
    {
     "data": {
      "image/png": "[encoded data removed]",
      "text/plain": [
       "<Figure size 1080x504 with 8 Axes>"
      ]
     },
     "metadata": {
      "needs_background": "light"
     },
     "output_type": "display_data"
    }
   ],
   "source": [
    "fig, ax = plt.subplots(2, 4, figsize=(15, 7))\n",
    "ax[0][0].plot(X)\n",
    "ax[0][0].set_title('X')\n",
    "ax[0][1].plot(X_train)\n",
    "ax[0][1].set_title('X_train')\n",
    "ax[0][2].plot(X_test)\n",
    "ax[0][2].set_title('X_test')\n",
    "ax[0][3].plot(X_validate)\n",
    "ax[0][3].set_title('X_validate')\n",
    "\n",
    "ax[1][0].plot(Y)\n",
    "ax[1][0].set_title('Y')\n",
    "ax[1][1].plot(Y_train)\n",
    "ax[1][1].set_title('Y_train')\n",
    "ax[1][2].plot(Y_test)\n",
    "ax[1][2].set_title('Y_test')\n",
    "ax[1][3].plot(Y_validate)\n",
    "ax[1][3].set_title('Y_validate')"
   ]
  },
  {
   "cell_type": "code",
   "execution_count": 246,
   "id": "focal-litigation",
   "metadata": {},
   "outputs": [],
   "source": [
    "# find model by using linear regression:\n",
    "# linear_model = linearRegressionModel(X_train, Y_train)\n",
    "linear_model = RANSACRegressionModel(X_train, Y_train)\n",
    "\n",
    "# find Y by using linear model predict:\n",
    "Y_train_pred = linear_model.predict(X_train)\n",
    "Y_test_pred = linear_model.predict(X_test)\n",
    "\n",
    "# Calculate RMSE on train and test data:\n",
    "train_linear_rmse = np.sqrt(mean_squared_error(Y_train, Y_train_pred))\n",
    "test_linear_rmse = np.sqrt(mean_squared_error(Y_test, Y_test_pred))"
   ]
  },
  {
   "cell_type": "code",
   "execution_count": 247,
   "id": "wanted-fireplace",
   "metadata": {},
   "outputs": [
    {
     "name": "stdout",
     "output_type": "stream",
     "text": [
      "\n",
      "Linear Regression Model: \n"
     ]
    },
    {
     "data": {
      "image/png": "[encoded data removed]",
      "text/plain": [
       "<Figure size 504x288 with 1 Axes>"
      ]
     },
     "metadata": {
      "needs_background": "light"
     },
     "output_type": "display_data"
    }
   ],
   "source": [
    "print(\"\\nLinear Regression Model: \")\n",
    "# Plot linear model:\n",
    "plt.figure(figsize=(7, 4))\n",
    "plt.scatter(X_train, Y_train, marker='o', color='blue', label='train_data')\n",
    "plt.scatter(X_test, Y_test, marker='o', color='red', label='test_data')\n",
    "plt.scatter(X_validate, Y_validate, marker='o', color='green', label='validate_data')\n",
    "plt.plot(X_train, Y_train_pred, color='black', label='train_model')\n",
    "plt.legend(bbox_to_anchor=(1,1), loc=\"upper left\")\n",
    "plt.tight_layout()\n",
    "plt.xlabel('area')\n",
    "plt.ylabel('price')\n",
    "plt.show()"
   ]
  },
  {
   "cell_type": "code",
   "execution_count": 248,
   "id": "impaired-bulletin",
   "metadata": {
    "scrolled": true
   },
   "outputs": [
    {
     "name": "stdout",
     "output_type": "stream",
     "text": [
      "Linear model rmse on train data: 0.6566206765195931\n",
      "Linear model rmse on test data: 0.7006569824356619\n",
      "\n",
      "\n",
      "\n"
     ]
    }
   ],
   "source": [
    "# Linear Model coefficient and intercept:\n",
    "# print(\"Linear model coefficient: {}\".format(linear_model.coef_))\n",
    "# print(\"Linear model intercept: {}\".format(linear_model.intercept_))\n",
    "\n",
    "# linear_model rmse:\n",
    "print(\"Linear model rmse on train data: {}\".format(train_linear_rmse))\n",
    "print(\"Linear model rmse on test data: {}\".format(test_linear_rmse))\n",
    "print(\"\\n\\n\")"
   ]
  },
  {
   "cell_type": "code",
   "execution_count": 249,
   "id": "miniature-absence",
   "metadata": {},
   "outputs": [
    {
     "name": "stdout",
     "output_type": "stream",
     "text": [
      "\n",
      "Selected Polynomial Regression with degree = 14 and validate RMSE = 0.6614958610926066\n",
      "Selected Regularized Regression with alpha = 1e-05 and validate RMSE = 0.6768700967007124\n",
      "Polynomial Regression cross validation score:  -0.5494612532468895\n",
      "Selected Regularized Regression cross validation score:  -0.5494611336037226\n"
     ]
    }
   ],
   "source": [
    "# find model by using polynomial regression:\n",
    "poly_model, degree, train_rmse, validate_rmse, test_rmse = polynomialRegression(X, Y, X_train, Y_train, X_test, Y_test, X_validate, Y_validate)\n",
    "\n",
    "# transform X and X_test:\n",
    "polynomial_features = PolynomialFeatures(degree=degree)\n",
    "X_train_poly = polynomial_features.fit_transform(X_train)\n",
    "X_test_poly = polynomial_features.fit_transform(X_test)\n",
    "\n",
    "# Try predicting Y\n",
    "Y_train_poly_pred = poly_model.predict(X_train_poly)\n",
    "Y_test_poly_pred = poly_model.predict(X_test_poly)"
   ]
  },
  {
   "cell_type": "code",
   "execution_count": 250,
   "id": "angry-stomach",
   "metadata": {},
   "outputs": [
    {
     "data": {
      "image/png": "[encoded data removed]",
      "text/plain": [
       "<Figure size 504x288 with 1 Axes>"
      ]
     },
     "metadata": {
      "needs_background": "light"
     },
     "output_type": "display_data"
    }
   ],
   "source": [
    "# Plot model:\n",
    "plt.figure(figsize=(7, 4))\n",
    "plt.scatter(X_train, Y_train, marker='o', color='blue', label='train_data')\n",
    "plt.scatter(X_test, Y_test, marker='o', color='red', label='test_data')\n",
    "plt.scatter(X_validate, Y_validate, marker='o', color='green', label='validate_data')\n",
    "plt.plot(X_train, Y_train_poly_pred, color='black', label='train_model')\n",
    "plt.legend(bbox_to_anchor=(1,1), loc=\"upper left\")\n",
    "plt.tight_layout()\n",
    "plt.xlabel('area')\n",
    "plt.ylabel('price')\n",
    "plt.show()"
   ]
  },
  {
   "cell_type": "code",
   "execution_count": 251,
   "id": "biological-hobby",
   "metadata": {},
   "outputs": [
    {
     "name": "stdout",
     "output_type": "stream",
     "text": [
      "Polynomial Regression with degree = 14\n",
      "\n",
      "Polynomial model coefficient:\n",
      "[[ 0.00000000e+00  5.74170726e-02 -2.25437543e-04  3.50286986e-07\n",
      "   8.01676200e-09  9.66140391e-12 -3.15477438e-13 -2.84872328e-15\n",
      "  -1.10132235e-17  1.48200108e-20  5.56956519e-22  4.56809507e-24\n",
      "   2.05456495e-26 -5.81354274e-30 -1.24044456e-30]]\n",
      "Polynomial model intercept: [-3.7653375]\n",
      "\n",
      "Polynomial Model RMSE on train data: 0.541578167211185\n",
      "Polynomial Model RMSE on validate data: 0.6768700967007124\n",
      "Polynomial Model RMSE on test data: 0.6414161143497655\n"
     ]
    }
   ],
   "source": [
    "print(\"Polynomial Regression with degree = {}\\n\".format(degree))\n",
    "# Polynomial Model coefficient and intercept:\n",
    "print(\"Polynomial model coefficient:\")\n",
    "print(poly_model.coef_)\n",
    "print(\"Polynomial model intercept: {}\\n\".format(poly_model.intercept_))\n",
    "\n",
    "# poly_model rmse:\n",
    "print(\"Polynomial Model RMSE on train data: {}\".format(train_rmse))\n",
    "print(\"Polynomial Model RMSE on validate data: {}\".format(validate_rmse))\n",
    "print(\"Polynomial Model RMSE on test data: {}\".format(test_rmse))"
   ]
  },
  {
   "cell_type": "code",
   "execution_count": 252,
   "id": "aware-bosnia",
   "metadata": {},
   "outputs": [
    {
     "name": "stdout",
     "output_type": "stream",
     "text": [
      "\n",
      "\n",
      "Linear Model score on train dataset:  0.5688492871669519\n",
      "Linear Model score on test dataset:  0.5090797929641528\n",
      "\n",
      "\n",
      "Poly Model score on train dataset:  0.7066930888001737\n",
      "Poly Model score on test dataset:  0.5885853682524487\n"
     ]
    }
   ],
   "source": [
    "# score the model with test data:\n",
    "\n",
    "# Linear score:\n",
    "print(\"\\n\")\n",
    "print(\"Linear Model score on train dataset: \", linear_model.score(X_train, Y_train))\n",
    "print(\"Linear Model score on test dataset: \", linear_model.score(X_test, Y_test))\n",
    "\n",
    "# Poly score:\n",
    "print(\"\\n\")\n",
    "print(\"Poly Model score on train dataset: \", poly_model.score(X_train_poly, Y_train))\n",
    "print(\"Poly Model score on test dataset: \", poly_model.score(X_test_poly, Y_test))"
   ]
  }
 ],
 "metadata": {
  "kernelspec": {
   "display_name": "Python 3",
   "language": "python",
   "name": "python3"
  },
  "language_info": {
   "codemirror_mode": {
    "name": "ipython",
    "version": 3
   },
   "file_extension": ".py",
   "mimetype": "text/x-python",
   "name": "python",
   "nbconvert_exporter": "python",
   "pygments_lexer": "ipython3",
   "version": "3.8.5"
  }
 },
 "nbformat": 4,
 "nbformat_minor": 5
}
