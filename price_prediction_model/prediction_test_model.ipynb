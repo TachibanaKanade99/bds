{
 "cells": [
  {
   "cell_type": "code",
   "execution_count": 18,
   "id": "supposed-helicopter",
   "metadata": {
    "scrolled": false
   },
   "outputs": [],
   "source": [
    "from sklearn.model_selection import cross_val_score, KFold\n",
    "from matplotlib import pyplot as plt\n",
    "from sklearn.model_selection import train_test_split\n",
    "from sklearn.linear_model import LinearRegression, Ridge, Lasso\n",
    "\n",
    "from models.prepareData import getData, preprocessData, convertData, scaleData\n",
    "from models.models import linearRegressionModel, PolynomialFeatures, polynomialRegression, ridgeRegressionModel, lassoRegressionModel"
   ]
  },
  {
   "cell_type": "code",
   "execution_count": 19,
   "id": "clean-thinking",
   "metadata": {},
   "outputs": [],
   "source": [
    "# data = getData('Bán đất', 'Vườn Lài', 'An Phú Đông', '12')\n",
    "# data = getData('Bán đất', 'Ngô Chí Quốc', 'Bình Chiểu', 'Thủ Đức')\n",
    "# data = getData('Bán đất', 'Nguyễn Văn Tạo', 'Long Thới', 'Nhà Bè')\n",
    "data = getData('Bán đất', 'Lê Văn Lương', 'Nhơn Đức', 'Nhà Bè')"
   ]
  },
  {
   "cell_type": "code",
   "execution_count": 20,
   "id": "closing-stuart",
   "metadata": {},
   "outputs": [
    {
     "name": "stdout",
     "output_type": "stream",
     "text": [
      "Sample data: \n",
      "--------------------------------------------------------\n",
      "  post_type   area  price        street      ward district posted_date\n",
      "0   Bán đất  127.0   3.80  Lê Văn Lương  Nhơn Đức   Nhà Bè  2021-02-22\n",
      "1   Bán đất   84.0   3.25  Lê Văn Lương  Nhơn Đức   Nhà Bè  2021-02-25\n",
      "2   Bán đất   88.0   2.50  Lê Văn Lương  Nhơn Đức   Nhà Bè  2021-02-25\n",
      "3   Bán đất   98.0   1.40  Lê Văn Lương  Nhơn Đức   Nhà Bè  2021-02-25\n",
      "4   Bán đất   95.0   2.30  Lê Văn Lương  Nhơn Đức   Nhà Bè  2021-02-24\n",
      "--------------------------------------------------------\n",
      "Data Length:  148\n"
     ]
    }
   ],
   "source": [
    "print(\"Sample data: \")\n",
    "print(\"--------------------------------------------------------\")\n",
    "print(data.head())\n",
    "print(\"--------------------------------------------------------\")\n",
    "print(\"Data Length: \", len(data))"
   ]
  },
  {
   "cell_type": "code",
   "execution_count": 21,
   "id": "excellent-lightweight",
   "metadata": {},
   "outputs": [],
   "source": [
    "# preporcess data:\n",
    "data = preprocessData(data)"
   ]
  },
  {
   "cell_type": "code",
   "execution_count": 22,
   "id": "trying-morris",
   "metadata": {},
   "outputs": [],
   "source": [
    "data = scaleData(data)"
   ]
  },
  {
   "cell_type": "code",
   "execution_count": 23,
   "id": "genuine-russell",
   "metadata": {},
   "outputs": [
    {
     "name": "stdout",
     "output_type": "stream",
     "text": [
      "Data after after preprocessing and scaling using log transformation: \n",
      "--------------------------------------------------------\n",
      "   post_type      area     price        street      ward district posted_date\n",
      "27   Bán đất  4.983607  1.432701  Lê Văn Lương  Nhơn Đức   Nhà Bè  2021-02-20\n",
      "25   Bán đất  5.920237  1.791759  Lê Văn Lương  Nhơn Đức   Nhà Bè  2021-02-21\n",
      "24   Bán đất  6.908755  1.945910  Lê Văn Lương  Nhơn Đức   Nhà Bè  2021-02-21\n",
      "0    Bán đất  4.852030  1.568616  Lê Văn Lương  Nhơn Đức   Nhà Bè  2021-02-22\n",
      "17   Bán đất  5.017280  1.744843  Lê Văn Lương  Nhơn Đức   Nhà Bè  2021-02-22\n",
      "--------------------------------------------------------\n",
      "Data Length:  85\n"
     ]
    }
   ],
   "source": [
    "print(\"Data after after preprocessing and scaling using log transformation: \")\n",
    "print(\"--------------------------------------------------------\")\n",
    "print(data.head())\n",
    "print(\"--------------------------------------------------------\")\n",
    "print(\"Data Length: \", len(data))"
   ]
  },
  {
   "cell_type": "code",
   "execution_count": 24,
   "id": "noble-indication",
   "metadata": {},
   "outputs": [],
   "source": [
    "# divide data into train and test:\n",
    "train_data, test_data = train_test_split(data, test_size=0.2)"
   ]
  },
  {
   "cell_type": "code",
   "execution_count": 25,
   "id": "aggressive-guidance",
   "metadata": {},
   "outputs": [
    {
     "name": "stdout",
     "output_type": "stream",
     "text": [
      "\n",
      "Train data length:  68\n",
      "Test data length:  17\n"
     ]
    }
   ],
   "source": [
    "# Sort data by area column:\n",
    "train_data = train_data.sort_values(by=['area'])\n",
    "test_data = test_data.sort_values(by=['area'])\n",
    "\n",
    "print(\"\\nTrain data length: \", len(train_data))\n",
    "print(\"Test data length: \", len(test_data))"
   ]
  },
  {
   "cell_type": "code",
   "execution_count": 26,
   "id": "ranking-madonna",
   "metadata": {},
   "outputs": [],
   "source": [
    "# convert data into numpy\n",
    "X, Y = convertData(data)\n",
    "X_train, Y_train = convertData(train_data)\n",
    "X_test, Y_test = convertData(test_data)"
   ]
  },
  {
   "cell_type": "code",
   "execution_count": 27,
   "id": "focal-litigation",
   "metadata": {},
   "outputs": [],
   "source": [
    "# find model by using linear regression:\n",
    "model, linear_rmse = linearRegressionModel(X_train, Y_train)\n",
    "\n",
    "# find Y by using linear model predict:\n",
    "Y_train_pred = model.predict(X_train)\n",
    "# Y_test_pred = model.predict(X_test)"
   ]
  },
  {
   "cell_type": "code",
   "execution_count": 28,
   "id": "wanted-fireplace",
   "metadata": {},
   "outputs": [
    {
     "name": "stdout",
     "output_type": "stream",
     "text": [
      "\n",
      "Linear Regression Model: \n"
     ]
    },
    {
     "data": {
      "image/png": "[encoded data removed]",
      "text/plain": [
       "<Figure size 432x288 with 1 Axes>"
      ]
     },
     "metadata": {
      "needs_background": "light"
     },
     "output_type": "display_data"
    }
   ],
   "source": [
    "print(\"\\nLinear Regression Model: \")\n",
    "# Plot linear model:\n",
    "plt.scatter(X_train, Y_train, marker='o', color='blue', label='train_data')\n",
    "plt.scatter(X_test, Y_test, marker='o', color='red', label='test_data')\n",
    "plt.plot(X_train, Y_train_pred, color='black', label='train_model')\n",
    "plt.legend()\n",
    "plt.tight_layout()\n",
    "plt.xlabel('area')\n",
    "plt.ylabel('price')\n",
    "plt.show()"
   ]
  },
  {
   "cell_type": "code",
   "execution_count": 29,
   "id": "impaired-bulletin",
   "metadata": {},
   "outputs": [
    {
     "name": "stdout",
     "output_type": "stream",
     "text": [
      "Linear model coefficient: [[0.25129678]]\n",
      "Linear model intercept: [0.23697621]\n",
      "Linear model rmse: 0.3548230707897696\n",
      "\n",
      "\n",
      "\n"
     ]
    }
   ],
   "source": [
    "# Linear Model coefficient and intercept:\n",
    "print(\"Linear model coefficient: {}\".format(model.coef_))\n",
    "print(\"Linear model intercept: {}\".format(model.intercept_))\n",
    "\n",
    "# linear_model rmse:\n",
    "print(\"Linear model rmse: {}\".format(linear_rmse))\n",
    "print(\"\\n\\n\")"
   ]
  },
  {
   "cell_type": "code",
   "execution_count": 30,
   "id": "miniature-absence",
   "metadata": {},
   "outputs": [
    {
     "name": "stderr",
     "output_type": "stream",
     "text": [
      "D:\\Software\\Miniconda3\\lib\\site-packages\\sklearn\\linear_model\\_coordinate_descent.py:530: ConvergenceWarning: Objective did not converge. You might want to increase the number of iterations. Duality gap: 3.7489757783868374, tolerance: 0.02501223002071968\n",
      "  model = cd_fast.enet_coordinate_descent(\n",
      "D:\\Software\\Miniconda3\\lib\\site-packages\\sklearn\\linear_model\\_coordinate_descent.py:530: ConvergenceWarning: Objective did not converge. You might want to increase the number of iterations. Duality gap: 4.1321791566475214, tolerance: 0.02501223002071968\n",
      "  model = cd_fast.enet_coordinate_descent(\n",
      "D:\\Software\\Miniconda3\\lib\\site-packages\\sklearn\\linear_model\\_coordinate_descent.py:530: ConvergenceWarning: Objective did not converge. You might want to increase the number of iterations. Duality gap: 4.128976947827118, tolerance: 0.02501223002071968\n",
      "  model = cd_fast.enet_coordinate_descent(\n",
      "D:\\Software\\Miniconda3\\lib\\site-packages\\sklearn\\linear_model\\_coordinate_descent.py:530: ConvergenceWarning: Objective did not converge. You might want to increase the number of iterations. Duality gap: 4.115532198824643, tolerance: 0.02501223002071968\n",
      "  model = cd_fast.enet_coordinate_descent(\n",
      "D:\\Software\\Miniconda3\\lib\\site-packages\\sklearn\\linear_model\\_coordinate_descent.py:530: ConvergenceWarning: Objective did not converge. You might want to increase the number of iterations. Duality gap: 4.106273852055564, tolerance: 0.02501223002071968\n",
      "  model = cd_fast.enet_coordinate_descent(\n",
      "D:\\Software\\Miniconda3\\lib\\site-packages\\sklearn\\linear_model\\_coordinate_descent.py:530: ConvergenceWarning: Objective did not converge. You might want to increase the number of iterations. Duality gap: 4.106975121298451, tolerance: 0.02501223002071968\n",
      "  model = cd_fast.enet_coordinate_descent(\n",
      "D:\\Software\\Miniconda3\\lib\\site-packages\\sklearn\\linear_model\\_coordinate_descent.py:530: ConvergenceWarning: Objective did not converge. You might want to increase the number of iterations. Duality gap: 4.108003927535583, tolerance: 0.02501223002071968\n",
      "  model = cd_fast.enet_coordinate_descent(\n",
      "D:\\Software\\Miniconda3\\lib\\site-packages\\sklearn\\linear_model\\_coordinate_descent.py:530: ConvergenceWarning: Objective did not converge. You might want to increase the number of iterations. Duality gap: 4.108701319471182, tolerance: 0.02501223002071968\n",
      "  model = cd_fast.enet_coordinate_descent(\n",
      "D:\\Software\\Miniconda3\\lib\\site-packages\\sklearn\\linear_model\\_coordinate_descent.py:530: ConvergenceWarning: Objective did not converge. You might want to increase the number of iterations. Duality gap: 4.106630292594138, tolerance: 0.02501223002071968\n",
      "  model = cd_fast.enet_coordinate_descent(\n",
      "D:\\Software\\Miniconda3\\lib\\site-packages\\sklearn\\linear_model\\_coordinate_descent.py:530: ConvergenceWarning: Objective did not converge. You might want to increase the number of iterations. Duality gap: 4.101491533784145, tolerance: 0.02501223002071968\n",
      "  model = cd_fast.enet_coordinate_descent(\n",
      "D:\\Software\\Miniconda3\\lib\\site-packages\\sklearn\\linear_model\\_coordinate_descent.py:530: ConvergenceWarning: Objective did not converge. You might want to increase the number of iterations. Duality gap: 4.094486034802539, tolerance: 0.02501223002071968\n",
      "  model = cd_fast.enet_coordinate_descent(\n",
      "D:\\Software\\Miniconda3\\lib\\site-packages\\sklearn\\linear_model\\_coordinate_descent.py:530: ConvergenceWarning: Objective did not converge. You might want to increase the number of iterations. Duality gap: 4.087295613851131, tolerance: 0.02501223002071968\n",
      "  model = cd_fast.enet_coordinate_descent(\n",
      "D:\\Software\\Miniconda3\\lib\\site-packages\\sklearn\\linear_model\\_coordinate_descent.py:530: ConvergenceWarning: Objective did not converge. You might want to increase the number of iterations. Duality gap: 4.081256332993221, tolerance: 0.02501223002071968\n",
      "  model = cd_fast.enet_coordinate_descent(\n",
      "D:\\Software\\Miniconda3\\lib\\site-packages\\sklearn\\linear_model\\_coordinate_descent.py:530: ConvergenceWarning: Objective did not converge. You might want to increase the number of iterations. Duality gap: 4.07707755491247, tolerance: 0.02501223002071968\n",
      "  model = cd_fast.enet_coordinate_descent(\n",
      "D:\\Software\\Miniconda3\\lib\\site-packages\\sklearn\\linear_model\\_coordinate_descent.py:530: ConvergenceWarning: Objective did not converge. You might want to increase the number of iterations. Duality gap: 4.074740132650075, tolerance: 0.02501223002071968\n",
      "  model = cd_fast.enet_coordinate_descent(\n",
      "D:\\Software\\Miniconda3\\lib\\site-packages\\sklearn\\linear_model\\_coordinate_descent.py:530: ConvergenceWarning: Objective did not converge. You might want to increase the number of iterations. Duality gap: 4.073835179506439, tolerance: 0.02501223002071968\n",
      "  model = cd_fast.enet_coordinate_descent(\n",
      "D:\\Software\\Miniconda3\\lib\\site-packages\\sklearn\\linear_model\\_coordinate_descent.py:530: ConvergenceWarning: Objective did not converge. You might want to increase the number of iterations. Duality gap: 4.073809053067871, tolerance: 0.02501223002071968\n",
      "  model = cd_fast.enet_coordinate_descent(\n",
      "D:\\Software\\Miniconda3\\lib\\site-packages\\sklearn\\linear_model\\_coordinate_descent.py:530: ConvergenceWarning: Objective did not converge. You might want to increase the number of iterations. Duality gap: 4.074041183134138, tolerance: 0.02501223002071968\n",
      "  model = cd_fast.enet_coordinate_descent(\n",
      "D:\\Software\\Miniconda3\\lib\\site-packages\\sklearn\\linear_model\\_coordinate_descent.py:530: ConvergenceWarning: Objective did not converge. You might want to increase the number of iterations. Duality gap: 4.073854483433616, tolerance: 0.02501223002071968\n",
      "  model = cd_fast.enet_coordinate_descent(\n",
      "D:\\Software\\Miniconda3\\lib\\site-packages\\sklearn\\linear_model\\_coordinate_descent.py:530: ConvergenceWarning: Objective did not converge. You might want to increase the number of iterations. Duality gap: 4.072531105022107, tolerance: 0.02501223002071968\n",
      "  model = cd_fast.enet_coordinate_descent(\n",
      "D:\\Software\\Miniconda3\\lib\\site-packages\\sklearn\\linear_model\\_coordinate_descent.py:530: ConvergenceWarning: Objective did not converge. You might want to increase the number of iterations. Duality gap: 4.069362622569225, tolerance: 0.02501223002071968\n",
      "  model = cd_fast.enet_coordinate_descent(\n",
      "D:\\Software\\Miniconda3\\lib\\site-packages\\sklearn\\linear_model\\_coordinate_descent.py:530: ConvergenceWarning: Objective did not converge. You might want to increase the number of iterations. Duality gap: 4.063727828700157, tolerance: 0.02501223002071968\n",
      "  model = cd_fast.enet_coordinate_descent(\n",
      "D:\\Software\\Miniconda3\\lib\\site-packages\\sklearn\\linear_model\\_coordinate_descent.py:530: ConvergenceWarning: Objective did not converge. You might want to increase the number of iterations. Duality gap: 4.055042034869052, tolerance: 0.02501223002071968\n",
      "  model = cd_fast.enet_coordinate_descent(\n",
      "D:\\Software\\Miniconda3\\lib\\site-packages\\sklearn\\linear_model\\_coordinate_descent.py:530: ConvergenceWarning: Objective did not converge. You might want to increase the number of iterations. Duality gap: 4.042732097774537, tolerance: 0.02501223002071968\n",
      "  model = cd_fast.enet_coordinate_descent(\n",
      "D:\\Software\\Miniconda3\\lib\\site-packages\\sklearn\\linear_model\\_coordinate_descent.py:530: ConvergenceWarning: Objective did not converge. You might want to increase the number of iterations. Duality gap: 4.0265429558204735, tolerance: 0.02501223002071968\n",
      "  model = cd_fast.enet_coordinate_descent(\n",
      "D:\\Software\\Miniconda3\\lib\\site-packages\\sklearn\\linear_model\\_coordinate_descent.py:530: ConvergenceWarning: Objective did not converge. You might want to increase the number of iterations. Duality gap: 4.006962091538207, tolerance: 0.02501223002071968\n",
      "  model = cd_fast.enet_coordinate_descent(\n",
      "D:\\Software\\Miniconda3\\lib\\site-packages\\sklearn\\linear_model\\_coordinate_descent.py:530: ConvergenceWarning: Objective did not converge. You might want to increase the number of iterations. Duality gap: 3.9847844402149324, tolerance: 0.02501223002071968\n",
      "  model = cd_fast.enet_coordinate_descent(\n",
      "D:\\Software\\Miniconda3\\lib\\site-packages\\sklearn\\linear_model\\_coordinate_descent.py:530: ConvergenceWarning: Objective did not converge. You might want to increase the number of iterations. Duality gap: 3.960460044577462, tolerance: 0.02501223002071968\n",
      "  model = cd_fast.enet_coordinate_descent(\n"
     ]
    },
    {
     "name": "stderr",
     "output_type": "stream",
     "text": [
      "D:\\Software\\Miniconda3\\lib\\site-packages\\sklearn\\linear_model\\_coordinate_descent.py:530: ConvergenceWarning: Objective did not converge. You might want to increase the number of iterations. Duality gap: 3.934295814580686, tolerance: 0.02501223002071968\n",
      "  model = cd_fast.enet_coordinate_descent(\n",
      "D:\\Software\\Miniconda3\\lib\\site-packages\\sklearn\\linear_model\\_coordinate_descent.py:530: ConvergenceWarning: Objective did not converge. You might want to increase the number of iterations. Duality gap: 3.9098460798420063, tolerance: 0.02501223002071968\n",
      "  model = cd_fast.enet_coordinate_descent(\n",
      "D:\\Software\\Miniconda3\\lib\\site-packages\\sklearn\\linear_model\\_coordinate_descent.py:530: ConvergenceWarning: Objective did not converge. You might want to increase the number of iterations. Duality gap: 3.8866461792167573, tolerance: 0.02501223002071968\n",
      "  model = cd_fast.enet_coordinate_descent(\n",
      "D:\\Software\\Miniconda3\\lib\\site-packages\\sklearn\\linear_model\\_coordinate_descent.py:530: ConvergenceWarning: Objective did not converge. You might want to increase the number of iterations. Duality gap: 3.8626699289775264, tolerance: 0.02501223002071968\n",
      "  model = cd_fast.enet_coordinate_descent(\n",
      "D:\\Software\\Miniconda3\\lib\\site-packages\\sklearn\\linear_model\\_coordinate_descent.py:530: ConvergenceWarning: Objective did not converge. You might want to increase the number of iterations. Duality gap: 3.838255511359674, tolerance: 0.02501223002071968\n",
      "  model = cd_fast.enet_coordinate_descent(\n",
      "D:\\Software\\Miniconda3\\lib\\site-packages\\sklearn\\linear_model\\_coordinate_descent.py:530: ConvergenceWarning: Objective did not converge. You might want to increase the number of iterations. Duality gap: 3.813701948111454, tolerance: 0.02501223002071968\n",
      "  model = cd_fast.enet_coordinate_descent(\n",
      "D:\\Software\\Miniconda3\\lib\\site-packages\\sklearn\\linear_model\\_coordinate_descent.py:530: ConvergenceWarning: Objective did not converge. You might want to increase the number of iterations. Duality gap: 3.7892651963853714, tolerance: 0.02501223002071968\n",
      "  model = cd_fast.enet_coordinate_descent(\n",
      "D:\\Software\\Miniconda3\\lib\\site-packages\\sklearn\\linear_model\\_coordinate_descent.py:530: ConvergenceWarning: Objective did not converge. You might want to increase the number of iterations. Duality gap: 3.7651576034975127, tolerance: 0.02501223002071968\n",
      "  model = cd_fast.enet_coordinate_descent(\n",
      "D:\\Software\\Miniconda3\\lib\\site-packages\\sklearn\\linear_model\\_coordinate_descent.py:530: ConvergenceWarning: Objective did not converge. You might want to increase the number of iterations. Duality gap: 3.741550921618247, tolerance: 0.02501223002071968\n",
      "  model = cd_fast.enet_coordinate_descent(\n",
      "D:\\Software\\Miniconda3\\lib\\site-packages\\sklearn\\linear_model\\_coordinate_descent.py:530: ConvergenceWarning: Objective did not converge. You might want to increase the number of iterations. Duality gap: 3.718577080408245, tolerance: 0.02501223002071968\n",
      "  model = cd_fast.enet_coordinate_descent(\n",
      "D:\\Software\\Miniconda3\\lib\\site-packages\\sklearn\\linear_model\\_coordinate_descent.py:530: ConvergenceWarning: Objective did not converge. You might want to increase the number of iterations. Duality gap: 3.6963323453521157, tolerance: 0.02501223002071968\n",
      "  model = cd_fast.enet_coordinate_descent(\n",
      "D:\\Software\\Miniconda3\\lib\\site-packages\\sklearn\\linear_model\\_coordinate_descent.py:530: ConvergenceWarning: Objective did not converge. You might want to increase the number of iterations. Duality gap: 3.674887900442774, tolerance: 0.02501223002071968\n",
      "  model = cd_fast.enet_coordinate_descent(\n",
      "D:\\Software\\Miniconda3\\lib\\site-packages\\sklearn\\linear_model\\_coordinate_descent.py:530: ConvergenceWarning: Objective did not converge. You might want to increase the number of iterations. Duality gap: 3.6542876357730085, tolerance: 0.02501223002071968\n",
      "  model = cd_fast.enet_coordinate_descent(\n",
      "D:\\Software\\Miniconda3\\lib\\site-packages\\sklearn\\linear_model\\_coordinate_descent.py:530: ConvergenceWarning: Objective did not converge. You might want to increase the number of iterations. Duality gap: 3.634554913674635, tolerance: 0.02501223002071968\n",
      "  model = cd_fast.enet_coordinate_descent(\n",
      "D:\\Software\\Miniconda3\\lib\\site-packages\\sklearn\\linear_model\\_coordinate_descent.py:530: ConvergenceWarning: Objective did not converge. You might want to increase the number of iterations. Duality gap: 3.6156975392992816, tolerance: 0.02501223002071968\n",
      "  model = cd_fast.enet_coordinate_descent(\n",
      "D:\\Software\\Miniconda3\\lib\\site-packages\\sklearn\\linear_model\\_coordinate_descent.py:530: ConvergenceWarning: Objective did not converge. You might want to increase the number of iterations. Duality gap: 3.597709914172734, tolerance: 0.02501223002071968\n",
      "  model = cd_fast.enet_coordinate_descent(\n"
     ]
    }
   ],
   "source": [
    "# find model by using polynomial regression:\n",
    "poly_model, poly_rmse, degree = polynomialRegression(X_train, Y_train)\n",
    "\n",
    "# transform X and X_test:\n",
    "polynomial_features = PolynomialFeatures(degree=degree)\n",
    "X_poly = polynomial_features.fit_transform(X)\n",
    "X_train_poly = polynomial_features.fit_transform(X_train)\n",
    "X_test_poly = polynomial_features.fit_transform(X_test)\n",
    "\n",
    "# Try predicting Y\n",
    "Y_train_poly_pred = poly_model.predict(X_train_poly)\n",
    "Y_test_poly_pred = poly_model.predict(X_test_poly)"
   ]
  },
  {
   "cell_type": "code",
   "execution_count": 31,
   "id": "angry-stomach",
   "metadata": {},
   "outputs": [
    {
     "data": {
      "image/png": "[encoded data removed]",
      "text/plain": [
       "<Figure size 432x288 with 1 Axes>"
      ]
     },
     "metadata": {
      "needs_background": "light"
     },
     "output_type": "display_data"
    }
   ],
   "source": [
    "# Plot model:\n",
    "plt.scatter(X_train, Y_train, marker='o', color='blue', label='train_data')\n",
    "plt.scatter(X_test, Y_test, marker='o', color='red', label='test_data')\n",
    "plt.plot(X_train, Y_train_poly_pred, color='green', label='train_model')\n",
    "# plt.plot(X_test, Y_test_poly_pred, color='purple', label='test_model')\n",
    "plt.legend()\n",
    "plt.tight_layout()\n",
    "plt.xlabel('area')\n",
    "plt.ylabel('price')\n",
    "plt.show()"
   ]
  },
  {
   "cell_type": "code",
   "execution_count": 32,
   "id": "biological-hobby",
   "metadata": {},
   "outputs": [
    {
     "name": "stdout",
     "output_type": "stream",
     "text": [
      "Polynomial Regression with degree = 50\n",
      "Polynomial model coefficient:\n",
      "[ 0.00000000e+00  0.00000000e+00  0.00000000e+00  0.00000000e+00\n",
      "  6.59932045e-03 -1.25223788e-04 -9.87770085e-05 -6.57020178e-06\n",
      " -3.44495733e-07  7.54889499e-11  3.68152095e-09  7.33213030e-10\n",
      "  1.07026269e-10  1.35290575e-11  1.55554895e-12  1.65343265e-13\n",
      "  1.62239904e-14  1.43856696e-15  1.07804962e-16  5.16813767e-18\n",
      " -2.69244777e-19 -1.30394289e-19 -2.61009902e-20 -4.20838466e-21\n",
      " -6.11563159e-22 -8.34245713e-23 -1.08900312e-23 -1.37457600e-24\n",
      " -1.68776024e-25 -2.02266585e-26 -2.36975832e-27 -2.71462600e-28\n",
      " -3.03640352e-29 -3.30576392e-30 -3.48237109e-31 -3.51165778e-32\n",
      " -3.32076260e-33 -2.81341924e-34 -1.86354259e-35 -3.07195781e-37\n",
      "  2.06745187e-37  5.53265738e-38  1.04367211e-38  1.72234197e-39\n",
      "  2.64561584e-40  3.88479502e-41  5.52985929e-42  7.69407218e-43\n",
      "  1.05196808e-43  1.41849644e-44  1.89129442e-45]\n",
      "Polynomial model intercept: [-0.08254708]\n",
      "Polynomial Model RMSE: 0.30356962357662676\n"
     ]
    }
   ],
   "source": [
    "print(\"Polynomial Regression with degree = {}\".format(degree))\n",
    "# Polynomial Model coefficient and intercept:\n",
    "print(\"Polynomial model coefficient:\")\n",
    "print(poly_model.coef_)\n",
    "print(\"Polynomial model intercept: {}\".format(poly_model.intercept_))\n",
    "\n",
    "# poly_model rmse:\n",
    "print(\"Polynomial Model RMSE: {}\".format(poly_rmse))"
   ]
  },
  {
   "cell_type": "code",
   "execution_count": 33,
   "id": "aware-bosnia",
   "metadata": {},
   "outputs": [
    {
     "name": "stdout",
     "output_type": "stream",
     "text": [
      "\n",
      "\n",
      "Linear Model score on train dataset:  0.31544208738633406\n",
      "Linear Model score on test dataset:  0.013306843991049977\n",
      "\n",
      "\n",
      "Poly Model score on train dataset:  0.4989245575317458\n",
      "Poly Model score on test dataset:  -0.11878715182450672\n"
     ]
    }
   ],
   "source": [
    "# score the model with test data:\n",
    "\n",
    "# Linear score:\n",
    "print(\"\\n\")\n",
    "print(\"Linear Model score on train dataset: \", model.score(X_train, Y_train))\n",
    "print(\"Linear Model score on test dataset: \", model.score(X_test, Y_test))\n",
    "\n",
    "# Poly score:\n",
    "print(\"\\n\")\n",
    "print(\"Poly Model score on train dataset: \", poly_model.score(X_train_poly, Y_train))\n",
    "print(\"Poly Model score on test dataset: \", poly_model.score(X_test_poly, Y_test))"
   ]
  }
 ],
 "metadata": {
  "kernelspec": {
   "display_name": "Python 3",
   "language": "python",
   "name": "python3"
  },
  "language_info": {
   "codemirror_mode": {
    "name": "ipython",
    "version": 3
   },
   "file_extension": ".py",
   "mimetype": "text/x-python",
   "name": "python",
   "nbconvert_exporter": "python",
   "pygments_lexer": "ipython3",
   "version": "3.8.5"
  }
 },
 "nbformat": 4,
 "nbformat_minor": 5
}
