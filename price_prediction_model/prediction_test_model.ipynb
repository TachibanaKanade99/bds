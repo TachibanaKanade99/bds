{
 "cells": [
  {
   "cell_type": "code",
   "execution_count": 22,
   "id": "muslim-louisville",
   "metadata": {},
   "outputs": [],
   "source": [
    "from matplotlib import pyplot as plt\n",
    "import numpy as np\n",
    "import pandas as pd\n",
    "from sklearn.model_selection import train_test_split\n",
    "from sklearn.preprocessing import PowerTransformer, QuantileTransformer, FunctionTransformer, RobustScaler, StandardScaler\n",
    "from sklearn.metrics import mean_squared_error\n",
    "from sklearn.model_selection import cross_val_score\n",
    "\n",
    "from models.prepareData import getData, convertData, calcMinimumMaximum\n",
    "from models.models import linearRegressionModel, PolynomialFeatures, polynomialRegression"
   ]
  },
  {
   "cell_type": "code",
   "execution_count": 23,
   "id": "clean-thinking",
   "metadata": {},
   "outputs": [],
   "source": [
    "# data = getData('Bán căn hộ chung cư', 'Nguyễn Hữu Thọ', 'Phước Kiển', 'Nhà Bè')\n",
    "# data = getData('Bán căn hộ chung cư', 'Nguyễn Hữu Cảnh', '22', 'Bình Thạnh')\n",
    "# data = getData('Bán đất', 'Trần Văn Giàu', 'Lê Minh Xuân', 'Bình Chánh')\n",
    "# data = getData('Bán đất', 'Vườn Lài', 'An Phú Đông', '12')\n",
    "# data = getData('Bán nhà riêng', 'Quốc Lộ 13', 'Hiệp Bình Phước', 'Thủ Đức')\n",
    "# data = getData('Bán nhà riêng', 'Phạm Văn Chiêu', '9', 'Gò Vấp')\n",
    "# data = getData('Bán nhà riêng', 'Nguyễn Văn Quá', 'Đông Hưng Thuận', '12')\n",
    "# data = getData('Bán nhà riêng', 'Quốc Lộ 13', 'Hiệp Bình Phước', 'Thủ Đức')\n",
    "# data = getData('Bán đất', 'Nguyễn Thị Rành', 'Nhuận Đức', 'Củ Chi')\n",
    "# data = getData('Bán đất', 'Tôn Đản', '10', '4')\n",
    "data = getData('Bán căn hộ chung cư', '9A', 'Bình Hưng', 'Bình Chánh')"
   ]
  },
  {
   "cell_type": "code",
   "execution_count": 24,
   "id": "narrative-deviation",
   "metadata": {},
   "outputs": [
    {
     "data": {
      "text/plain": [
       "97"
      ]
     },
     "execution_count": 24,
     "metadata": {},
     "output_type": "execute_result"
    }
   ],
   "source": [
    "len(data)"
   ]
  },
  {
   "cell_type": "code",
   "execution_count": 25,
   "id": "raising-mentor",
   "metadata": {},
   "outputs": [],
   "source": [
    "post_type = data['post_type'].iloc[0]\n",
    "street = data['street'].iloc[0]\n",
    "ward = data['ward'].iloc[0]\n",
    "district = data['district'].iloc[0]"
   ]
  },
  {
   "cell_type": "code",
   "execution_count": 26,
   "id": "mounted-european",
   "metadata": {},
   "outputs": [
    {
     "name": "stdout",
     "output_type": "stream",
     "text": [
      "Data length:  97\n"
     ]
    }
   ],
   "source": [
    "print(\"Data length: \", len(data))"
   ]
  },
  {
   "cell_type": "code",
   "execution_count": 27,
   "id": "patient-valentine",
   "metadata": {
    "scrolled": true
   },
   "outputs": [
    {
     "data": {
      "image/png": "[encoded data removed]",
      "text/plain": [
       "<Figure size 432x288 with 1 Axes>"
      ]
     },
     "metadata": {
      "needs_background": "light"
     },
     "output_type": "display_data"
    }
   ],
   "source": [
    "plt.scatter(data['area'], data['price'])\n",
    "plt.show()"
   ]
  },
  {
   "cell_type": "code",
   "execution_count": 28,
   "id": "persistent-badge",
   "metadata": {},
   "outputs": [],
   "source": [
    "data = data[~(data['area'] < 10)]\n",
    "data = data[~(data['price'] > 200)]"
   ]
  },
  {
   "cell_type": "code",
   "execution_count": 29,
   "id": "animated-regulation",
   "metadata": {},
   "outputs": [
    {
     "name": "stdout",
     "output_type": "stream",
     "text": [
      "Data length:  97\n"
     ]
    }
   ],
   "source": [
    "print(\"Data length: \", len(data))"
   ]
  },
  {
   "cell_type": "code",
   "execution_count": 30,
   "id": "given-oakland",
   "metadata": {},
   "outputs": [],
   "source": [
    "# transform data into log1p\n",
    "data['area'] = (data['area']).transform(np.log1p)\n",
    "data['price'] = (data['price']).transform(np.log1p)"
   ]
  },
  {
   "cell_type": "code",
   "execution_count": 31,
   "id": "burning-actor",
   "metadata": {},
   "outputs": [],
   "source": [
    "# Instead of drop duplicates try calc and use its mean value:\n",
    "data = data.groupby(['area'], as_index=False).mean()\n",
    "\n",
    "# sort data by area:\n",
    "data = data.sort_values(by=['area'])"
   ]
  },
  {
   "cell_type": "code",
   "execution_count": 32,
   "id": "equal-grade",
   "metadata": {},
   "outputs": [],
   "source": [
    "area_mean = np.mean(data['area'])\n",
    "area_std = np.std(data['area'])\n",
    "\n",
    "price_mean = np.mean(data['price'])\n",
    "price_std = np.std(data['price'])\n",
    "\n",
    "data = data[~( (data['area'] < area_mean) & (data['price'] > price_mean) )]\n",
    "data = data[~( (data['area'] > area_mean) & (data['price'] < price_mean - price_std) )]"
   ]
  },
  {
   "cell_type": "code",
   "execution_count": 33,
   "id": "legitimate-median",
   "metadata": {},
   "outputs": [],
   "source": [
    "# # remove outliers using box-plot:\n",
    "# while True:\n",
    "#     area_minimum, area_maximum = calcMinimumMaximum(data['area'])\n",
    "#     if (data['area'] > area_minimum).all() and (data['area'] < area_maximum).all():\n",
    "#         break\n",
    "#     else:\n",
    "#         data = data[(data['area'] > area_minimum) & (data['area'] < area_maximum)]\n",
    "\n",
    "# while True:\n",
    "#     price_minimum, price_maximum = calcMinimumMaximum(data['price'])\n",
    "#     if (data['price'] > price_minimum).all() and (data['price'] < price_maximum).all():\n",
    "#         break\n",
    "#     else:\n",
    "#         data = data[(data['price'] > price_minimum) & (data['price'] < price_maximum)]"
   ]
  },
  {
   "cell_type": "code",
   "execution_count": 34,
   "id": "mature-walnut",
   "metadata": {},
   "outputs": [],
   "source": [
    "# area_minimum, area_maximum = calcMinimumMaximum(data['area'])\n",
    "# data = data[(data['area'] > area_minimum) & (data['area'] < area_maximum)]\n",
    "\n",
    "# price_minimum, price_maximum = calcMinimumMaximum(data['price'])\n",
    "# data = data[(data['price'] > price_minimum) & (data['price'] < price_maximum)]"
   ]
  },
  {
   "cell_type": "code",
   "execution_count": 35,
   "id": "affiliated-corporation",
   "metadata": {},
   "outputs": [],
   "source": [
    "# data = data[(data['area'] > 5.5)]"
   ]
  },
  {
   "cell_type": "code",
   "execution_count": 36,
   "id": "median-nicholas",
   "metadata": {},
   "outputs": [
    {
     "name": "stdout",
     "output_type": "stream",
     "text": [
      "Data length:  33\n"
     ]
    }
   ],
   "source": [
    "print(\"Data length: \", len(data))"
   ]
  },
  {
   "cell_type": "code",
   "execution_count": 37,
   "id": "focused-integer",
   "metadata": {},
   "outputs": [
    {
     "data": {
      "image/png": "[encoded data removed]",
      "text/plain": [
       "<Figure size 432x288 with 1 Axes>"
      ]
     },
     "metadata": {
      "needs_background": "light"
     },
     "output_type": "display_data"
    }
   ],
   "source": [
    "data['area'].plot(kind='box')\n",
    "plt.show()"
   ]
  },
  {
   "cell_type": "code",
   "execution_count": 38,
   "id": "specific-watch",
   "metadata": {
    "scrolled": true
   },
   "outputs": [
    {
     "data": {
      "image/png": "[encoded data removed]",
      "text/plain": [
       "<Figure size 432x288 with 1 Axes>"
      ]
     },
     "metadata": {
      "needs_background": "light"
     },
     "output_type": "display_data"
    }
   ],
   "source": [
    "data['price'].plot(kind='box')\n",
    "plt.show()"
   ]
  },
  {
   "cell_type": "code",
   "execution_count": 39,
   "id": "deluxe-arthritis",
   "metadata": {},
   "outputs": [
    {
     "name": "stdout",
     "output_type": "stream",
     "text": [
      "Data length:  33\n"
     ]
    }
   ],
   "source": [
    "print(\"Data length: \", len(data))"
   ]
  },
  {
   "cell_type": "code",
   "execution_count": 40,
   "id": "abstract-bermuda",
   "metadata": {
    "scrolled": false
   },
   "outputs": [
    {
     "data": {
      "image/png": "[encoded data removed]",
      "text/plain": [
       "<Figure size 432x288 with 1 Axes>"
      ]
     },
     "metadata": {
      "needs_background": "light"
     },
     "output_type": "display_data"
    }
   ],
   "source": [
    "plt.scatter(data['area'], data['price'])\n",
    "plt.show()"
   ]
  },
  {
   "cell_type": "code",
   "execution_count": 41,
   "id": "employed-morgan",
   "metadata": {},
   "outputs": [],
   "source": [
    "from sklearn.neighbors import LocalOutlierFactor\n",
    "\n",
    "# convert dataframe into numpy array:\n",
    "X = data.to_numpy()\n",
    "n_neighbors = 10"
   ]
  },
  {
   "cell_type": "code",
   "execution_count": 42,
   "id": "juvenile-services",
   "metadata": {},
   "outputs": [
    {
     "data": {
      "text/plain": [
       "array([[3.4339872 , 0.95551145],\n",
       "       [3.49650756, 0.95551145],\n",
       "       [3.76120012, 1.09861229],\n",
       "       [3.93182563, 1.27677001],\n",
       "       [4.02535169, 1.35452485],\n",
       "       [4.04129534, 1.37410032],\n",
       "       [4.04305127, 1.34807315],\n",
       "       [4.07753744, 1.37738601],\n",
       "       [4.09434456, 1.36097655],\n",
       "       [4.17438727, 1.41098697],\n",
       "       [4.20469262, 1.45861502],\n",
       "       [4.31748811, 1.18028113],\n",
       "       [4.41884061, 1.32820298],\n",
       "       [4.4308168 , 1.36081956],\n",
       "       [4.4750615 , 1.34651566],\n",
       "       [4.47733681, 1.28093385],\n",
       "       [4.49758498, 1.42551507],\n",
       "       [4.51085951, 1.25276297],\n",
       "       [4.58496748, 1.45861502],\n",
       "       [4.70048037, 1.54756251],\n",
       "       [4.72738782, 1.51512723],\n",
       "       [4.73619845, 1.57177921],\n",
       "       [4.75359019, 1.45753219],\n",
       "       [4.87519732, 1.48160454],\n",
       "       [4.99721227, 1.92861865],\n",
       "       [5.14166356, 1.94591015],\n",
       "       [5.20948615, 1.97408103],\n",
       "       [6.22059017, 1.32175584],\n",
       "       [6.49375384, 1.58923521],\n",
       "       [6.55250789, 1.51512723],\n",
       "       [6.55535689, 1.62924054],\n",
       "       [6.63856779, 1.28093385],\n",
       "       [6.72262979, 1.68174776]])"
      ]
     },
     "execution_count": 42,
     "metadata": {},
     "output_type": "execute_result"
    }
   ],
   "source": [
    "X"
   ]
  },
  {
   "cell_type": "code",
   "execution_count": 43,
   "id": "standard-fantasy",
   "metadata": {},
   "outputs": [
    {
     "name": "stdout",
     "output_type": "stream",
     "text": [
      "\n",
      "Outliers detected by Local Outlier Factor with n_neighbors =  10\n"
     ]
    },
    {
     "data": {
      "image/png": "[encoded data removed]",
      "text/plain": [
       "<Figure size 432x288 with 1 Axes>"
      ]
     },
     "metadata": {
      "needs_background": "light"
     },
     "output_type": "display_data"
    }
   ],
   "source": [
    "isNeighbors = LocalOutlierFactor(n_neighbors=n_neighbors, algorithm='brute', metric='euclidean', contamination=0.2).fit_predict(X)\n",
    "\n",
    "# locate outliers by index:\n",
    "outlier_indexes = np.where(isNeighbors == -1)\n",
    "outlier_values = data.iloc[outlier_indexes]\n",
    "\n",
    "# drop outliers:\n",
    "data = data.drop(outlier_values.index)\n",
    "\n",
    "print(\"\\nOutliers detected by Local Outlier Factor with n_neighbors = \", n_neighbors)\n",
    "# plot outliers removed:\n",
    "plt.scatter(data['area'], data['price'], color='blue', label='inliers')\n",
    "plt.scatter(outlier_values['area'], outlier_values['price'], color='red', label='outliers')\n",
    "plt.legend(bbox_to_anchor=(1,1), loc=\"upper left\")\n",
    "plt.tight_layout()\n",
    "plt.xlabel('area')\n",
    "plt.ylabel('price')\n",
    "plt.show()"
   ]
  },
  {
   "cell_type": "code",
   "execution_count": 44,
   "id": "fuzzy-sender",
   "metadata": {},
   "outputs": [],
   "source": [
    "# divide data into train and test:\n",
    "train_data, test_data = train_test_split(data, test_size=0.3, random_state=4)\n",
    "test_data, validate_data = train_test_split(test_data, test_size=0.5, random_state=4)"
   ]
  },
  {
   "cell_type": "code",
   "execution_count": 45,
   "id": "interior-estate",
   "metadata": {},
   "outputs": [
    {
     "name": "stdout",
     "output_type": "stream",
     "text": [
      "\n",
      "Train data length:  18\n",
      "Test data length:  4\n",
      "Validate data length:  4\n"
     ]
    }
   ],
   "source": [
    "# Sort data by area column:\n",
    "train_data = train_data.sort_values(by=['area'])\n",
    "test_data = test_data.sort_values(by=['area'])\n",
    "validate_data = validate_data.sort_values(by=['area'])\n",
    "\n",
    "print(\"\\nTrain data length: \", len(train_data))\n",
    "print(\"Test data length: \", len(test_data))\n",
    "print(\"Validate data length: \", len(validate_data))"
   ]
  },
  {
   "cell_type": "code",
   "execution_count": 46,
   "id": "ranking-madonna",
   "metadata": {},
   "outputs": [],
   "source": [
    "# # convert data into numpy\n",
    "X, Y = convertData(data)\n",
    "X_train, Y_train = convertData(train_data)\n",
    "X_test, Y_test = convertData(test_data)\n",
    "X_validate, Y_validate = convertData(validate_data)"
   ]
  },
  {
   "cell_type": "code",
   "execution_count": 47,
   "id": "exempt-relation",
   "metadata": {},
   "outputs": [],
   "source": [
    "# scale data:\n",
    "\n",
    "# Standard Scaler:\n",
    "\n",
    "# X = StandardScaler().fit_transform(X)\n",
    "# Y = StandardScaler().fit_transform(Y)\n",
    "\n",
    "# X_train = StandardScaler().fit_transform(X_train)\n",
    "# Y_train = StandardScaler().fit_transform(Y_train)\n",
    "\n",
    "# X_test = StandardScaler().fit_transform(X_test)\n",
    "# Y_test = StandardScaler().fit_transform(Y_test)\n",
    "\n",
    "# X_validate = StandardScaler().fit_transform(X_validate)\n",
    "# Y_validate = StandardScaler().fit_transform(Y_validate)\n",
    "\n",
    "\n",
    "# Quantile Transformer:\n",
    "\n",
    "# X = QuantileTransformer(n_quantiles=len(X_train), output_distribution='uniform').fit_transform(X)\n",
    "# Y = QuantileTransformer(n_quantiles=len(Y_train), output_distribution='uniform').fit_transform(Y)\n",
    "\n",
    "# X_train = QuantileTransformer(n_quantiles=len(X_train), output_distribution='uniform').fit_transform(X_train)\n",
    "# Y_train = QuantileTransformer(n_quantiles=len(Y_train), output_distribution='uniform').fit_transform(Y_train)\n",
    "\n",
    "# X_test = QuantileTransformer(n_quantiles=len(X_test), output_distribution='uniform').fit_transform(X_test)\n",
    "# Y_test = QuantileTransformer(n_quantiles=len(X_test), output_distribution='uniform').fit_transform(Y_test)\n",
    "\n",
    "# X_validate = QuantileTransformer(n_quantiles=len(X_validate), output_distribution='uniform').fit_transform(X_validate)\n",
    "# Y_validate = QuantileTransformer(n_quantiles=len(Y_validate), output_distribution='uniform').fit_transform(Y_validate)\n",
    "\n",
    "# Power Transformer:\n",
    "\n",
    "# X = PowerTransformer(method='yeo-johnson').fit_transform(X)\n",
    "# Y = PowerTransformer(method='yeo-johnson').fit_transform(Y)\n",
    "\n",
    "# X_train = PowerTransformer(method='yeo-johnson').fit_transform(X_train)\n",
    "# Y_train = PowerTransformer(method='yeo-johnson').fit_transform(Y_train)\n",
    "\n",
    "# X_test = PowerTransformer(method='yeo-johnson').fit_transform(X_test)\n",
    "# Y_test = PowerTransformer(method='yeo-johnson').fit_transform(Y_test)\n",
    "\n",
    "# X_validate = PowerTransformer(method='yeo-johnson').fit_transform(X_validate)\n",
    "# Y_validate = PowerTransformer(method='yeo-johnson').fit_transform(Y_validate)\n",
    "\n",
    "# Log Transformer:\n",
    "\n",
    "# X = FunctionTransformer(np.log1p).fit_transform(X)\n",
    "# Y = FunctionTransformer(np.log1p).fit_transform(Y)\n",
    "\n",
    "# X_train = FunctionTransformer(np.log1p).fit_transform(X_train)\n",
    "# Y_train = FunctionTransformer(np.log1p).fit_transform(Y_train)\n",
    "\n",
    "# X_test = FunctionTransformer(np.log1p).fit_transform(X_test)\n",
    "# Y_test = FunctionTransformer(np.log1p).fit_transform(Y_test)\n",
    "\n",
    "# X_validate = FunctionTransformer(np.log1p).fit_transform(X_validate)\n",
    "# Y_validate = FunctionTransformer(np.log1p).fit_transform(Y_validate)"
   ]
  },
  {
   "cell_type": "code",
   "execution_count": 48,
   "id": "palestinian-teaching",
   "metadata": {},
   "outputs": [
    {
     "data": {
      "text/plain": [
       "Text(0.5, 1.0, 'Y_validate')"
      ]
     },
     "execution_count": 48,
     "metadata": {},
     "output_type": "execute_result"
    },
    {
     "data": {
      "image/png": "[encoded data removed]",
      "text/plain": [
       "<Figure size 1080x504 with 8 Axes>"
      ]
     },
     "metadata": {
      "needs_background": "light"
     },
     "output_type": "display_data"
    }
   ],
   "source": [
    "fig, ax = plt.subplots(2, 4, figsize=(15, 7))\n",
    "ax[0][0].plot(X)\n",
    "ax[0][0].set_title('X')\n",
    "ax[0][1].plot(X_train)\n",
    "ax[0][1].set_title('X_train')\n",
    "ax[0][2].plot(X_test)\n",
    "ax[0][2].set_title('X_test')\n",
    "ax[0][3].plot(X_validate)\n",
    "ax[0][3].set_title('X_validate')\n",
    "\n",
    "ax[1][0].plot(Y)\n",
    "ax[1][0].set_title('Y')\n",
    "ax[1][1].plot(Y_train)\n",
    "ax[1][1].set_title('Y_train')\n",
    "ax[1][2].plot(Y_test)\n",
    "ax[1][2].set_title('Y_test')\n",
    "ax[1][3].plot(Y_validate)\n",
    "ax[1][3].set_title('Y_validate')"
   ]
  },
  {
   "cell_type": "code",
   "execution_count": 49,
   "id": "focal-litigation",
   "metadata": {},
   "outputs": [],
   "source": [
    "# find model by using linear regression:\n",
    "linear_model = linearRegressionModel(X_train, Y_train)\n",
    "\n",
    "# find Y by using linear model predict:\n",
    "Y_train_pred = linear_model.predict(X_train)\n",
    "Y_test_pred = linear_model.predict(X_test)\n",
    "\n",
    "# Calculate RMSE on train and test data:\n",
    "train_linear_rmse = np.sqrt(mean_squared_error(Y_train, Y_train_pred))\n",
    "test_linear_rmse = np.sqrt(mean_squared_error(Y_test, Y_test_pred))"
   ]
  },
  {
   "cell_type": "code",
   "execution_count": 50,
   "id": "wanted-fireplace",
   "metadata": {},
   "outputs": [
    {
     "name": "stdout",
     "output_type": "stream",
     "text": [
      "\n",
      "Linear Regression Model: \n"
     ]
    },
    {
     "data": {
      "image/png": "[encoded data removed]",
      "text/plain": [
       "<Figure size 504x288 with 1 Axes>"
      ]
     },
     "metadata": {
      "needs_background": "light"
     },
     "output_type": "display_data"
    }
   ],
   "source": [
    "print(\"\\nLinear Regression Model: \")\n",
    "# Plot linear model:\n",
    "plt.figure(figsize=(7, 4))\n",
    "plt.scatter(X_train, Y_train, marker='o', color='blue', label='train_data')\n",
    "plt.scatter(X_test, Y_test, marker='o', color='red', label='test_data')\n",
    "plt.scatter(X_validate, Y_validate, marker='o', color='green', label='validate_data')\n",
    "plt.plot(X_train, Y_train_pred, color='black', label='train_model')\n",
    "plt.legend(bbox_to_anchor=(1,1), loc=\"upper left\")\n",
    "plt.tight_layout()\n",
    "plt.xlabel('area')\n",
    "plt.ylabel('price')\n",
    "plt.show()"
   ]
  },
  {
   "cell_type": "code",
   "execution_count": 51,
   "id": "impaired-bulletin",
   "metadata": {
    "scrolled": true
   },
   "outputs": [
    {
     "name": "stdout",
     "output_type": "stream",
     "text": [
      "Linear model coefficient: [[0.40716982]]\n",
      "Linear model intercept: [-0.38164335]\n",
      "Linear model rmse on train data: 0.10904107636626685\n",
      "Linear model rmse on test data: 0.09259496416755021\n",
      "\n",
      "\n",
      "\n"
     ]
    }
   ],
   "source": [
    "# Linear Model coefficient and intercept:\n",
    "print(\"Linear model coefficient: {}\".format(linear_model.coef_))\n",
    "print(\"Linear model intercept: {}\".format(linear_model.intercept_))\n",
    "\n",
    "# linear_model rmse:\n",
    "print(\"Linear model rmse on train data: {}\".format(train_linear_rmse))\n",
    "print(\"Linear model rmse on test data: {}\".format(test_linear_rmse))\n",
    "print(\"\\n\\n\")"
   ]
  },
  {
   "cell_type": "code",
   "execution_count": 52,
   "id": "miniature-absence",
   "metadata": {},
   "outputs": [
    {
     "name": "stdout",
     "output_type": "stream",
     "text": [
      "\n",
      "Selected Polynomial Regression with degree = 23 and RMSE = 0.10130181382544276\n",
      "Ridge Regression with alpha = 50.0 and RMSE = 0.3063247611631946\n",
      "Lasso Model with alpha = 0.04 and RMSE = 0.3661384118328237\n",
      "Selected Regularization Model is  Ridge\n"
     ]
    }
   ],
   "source": [
    "# find model by using polynomial regression:\n",
    "poly_model, poly_model_name, degree, validate_rmse = polynomialRegression(X_train, Y_train, X_validate, Y_validate, X_test, Y_test)\n",
    "\n",
    "# transform X and X_test:\n",
    "polynomial_features = PolynomialFeatures(degree=degree)\n",
    "X_train_poly = polynomial_features.fit_transform(X_train)\n",
    "X_test_poly = polynomial_features.fit_transform(X_test)\n",
    "\n",
    "# Try predicting Y\n",
    "Y_train_poly_pred = poly_model.predict(X_train_poly)\n",
    "Y_test_poly_pred = poly_model.predict(X_test_poly)"
   ]
  },
  {
   "cell_type": "code",
   "execution_count": 53,
   "id": "angry-stomach",
   "metadata": {},
   "outputs": [
    {
     "data": {
      "image/png": "[encoded data removed]",
      "text/plain": [
       "<Figure size 504x288 with 1 Axes>"
      ]
     },
     "metadata": {
      "needs_background": "light"
     },
     "output_type": "display_data"
    }
   ],
   "source": [
    "# Plot model:\n",
    "plt.figure(figsize=(7, 4))\n",
    "plt.scatter(X_train, Y_train, marker='o', color='blue', label='train_data')\n",
    "plt.scatter(X_test, Y_test, marker='o', color='red', label='test_data')\n",
    "plt.scatter(X_validate, Y_validate, marker='o', color='green', label='validate_data')\n",
    "plt.plot(X_train, Y_train_poly_pred, color='black', label='train_model')\n",
    "plt.legend(bbox_to_anchor=(1,1), loc=\"upper left\")\n",
    "plt.tight_layout()\n",
    "plt.xlabel('area')\n",
    "plt.ylabel('price')\n",
    "plt.show()"
   ]
  },
  {
   "cell_type": "code",
   "execution_count": 54,
   "id": "biological-hobby",
   "metadata": {},
   "outputs": [
    {
     "name": "stdout",
     "output_type": "stream",
     "text": [
      "Polynomial Regression with degree = 23\n",
      "\n",
      "Polynomial model coefficient:\n",
      "[[0.00000000e+00 5.91970395e-03 6.81389470e-04 1.03468400e-04\n",
      "  1.74976115e-05 3.12609064e-06 5.76473994e-07 1.08395545e-07\n",
      "  2.06349324e-08 3.95934571e-09 7.63509842e-10 1.47685336e-10\n",
      "  2.86171671e-11 5.55014105e-12 1.07676509e-12 2.08891275e-13\n",
      "  4.05143740e-14 7.85487660e-15 1.52227626e-15 2.94899563e-16\n",
      "  5.71079638e-17 1.10556363e-17 2.13974229e-18 4.14053924e-19]]\n",
      "Polynomial model intercept: [1.29417053]\n",
      "\n",
      "Polynomial Model RMSE on validate data: 0.3063247611631946\n"
     ]
    }
   ],
   "source": [
    "print(\"Polynomial Regression with degree = {}\\n\".format(degree))\n",
    "# Polynomial Model coefficient and intercept:\n",
    "print(\"Polynomial model coefficient:\")\n",
    "print(poly_model.coef_)\n",
    "print(\"Polynomial model intercept: {}\\n\".format(poly_model.intercept_))\n",
    "\n",
    "# poly_model rmse:\n",
    "# print(\"Polynomial Model RMSE on train data: {}\".format(train_rmse))\n",
    "print(\"Polynomial Model RMSE on validate data: {}\".format(validate_rmse))\n",
    "# print(\"Polynomial Model RMSE on test data: {}\".format(test_rmse))"
   ]
  },
  {
   "cell_type": "code",
   "execution_count": 55,
   "id": "aware-bosnia",
   "metadata": {},
   "outputs": [
    {
     "name": "stdout",
     "output_type": "stream",
     "text": [
      "\n",
      "\n",
      "Linear Model score on train dataset:  0.6975017128073346\n",
      "Linear Model score on test dataset:  -2.026622464924925\n",
      "\n",
      "\n",
      "Poly Model score on train dataset:  0.3737121757636974\n",
      "Poly Model score on test dataset:  -0.227740987924272\n"
     ]
    }
   ],
   "source": [
    "# score the model with test data:\n",
    "\n",
    "# Linear score:\n",
    "print(\"\\n\")\n",
    "\n",
    "linear_train_r2_score = linear_model.score(X_train, Y_train)\n",
    "print(\"Linear Model score on train dataset: \", linear_train_r2_score)\n",
    "\n",
    "linear_test_r2_score = linear_model.score(X_test, Y_test)\n",
    "print(\"Linear Model score on test dataset: \", linear_test_r2_score)\n",
    "\n",
    "# Poly score:\n",
    "print(\"\\n\")\n",
    "\n",
    "poly_train_r2_score = poly_model.score(X_train_poly, Y_train)\n",
    "print(\"Poly Model score on train dataset: \", poly_train_r2_score)\n",
    "\n",
    "poly_test_r2_score = poly_model.score(X_test_poly, Y_test)\n",
    "print(\"Poly Model score on test dataset: \", poly_test_r2_score)"
   ]
  },
  {
   "cell_type": "code",
   "execution_count": 56,
   "id": "lesser-congo",
   "metadata": {},
   "outputs": [
    {
     "name": "stdout",
     "output_type": "stream",
     "text": [
      "-3.0830162047449337\n",
      "-1.6605400267635377\n"
     ]
    }
   ],
   "source": [
    "# calc cross validation score of linear to compare with poly for best model selection\n",
    "linear_cv = np.mean(cross_val_score(linear_model, X, Y, cv=5))\n",
    "poly_cv = np.mean(cross_val_score(poly_model, X, Y, cv=5))\n",
    "\n",
    "best_r2_score = linear_test_r2_score if linear_test_r2_score > poly_test_r2_score else poly_test_r2_score\n",
    "best_model = linear_model if linear_cv > poly_cv else poly_model\n",
    "best_degree = 1 if linear_cv > poly_cv else degree\n",
    "\n",
    "print(linear_cv)\n",
    "print(poly_cv)"
   ]
  },
  {
   "cell_type": "code",
   "execution_count": 57,
   "id": "acute-archives",
   "metadata": {},
   "outputs": [],
   "source": [
    "import unidecode\n",
    "post_type = unidecode.unidecode(post_type.lower().replace(\" \", \"\"))\n",
    "street = unidecode.unidecode(street.lower().replace(\" \", \"\"))\n",
    "ward = unidecode.unidecode(ward.lower().replace(\" \", \"\"))\n",
    "district = unidecode.unidecode(district.lower().replace(\" \", \"\"))\n",
    "model_name = post_type + \"_\" + street + \"_\" + ward + \"_\" + district"
   ]
  },
  {
   "cell_type": "code",
   "execution_count": 58,
   "id": "anonymous-milton",
   "metadata": {},
   "outputs": [
    {
     "data": {
      "text/plain": [
       "'bancanhochungcu_9a_binhhung_binhchanh'"
      ]
     },
     "execution_count": 58,
     "metadata": {},
     "output_type": "execute_result"
    }
   ],
   "source": [
    "model_name"
   ]
  },
  {
   "cell_type": "code",
   "execution_count": 59,
   "id": "juvenile-share",
   "metadata": {},
   "outputs": [],
   "source": [
    "# Save model after training for later use:\n",
    "from joblib import dump, load\n",
    "\n",
    "if best_r2_score > 0.7:\n",
    "    # Save model:\n",
    "    dump((best_model, best_degree), 'trained\\\\' + model_name + '.joblib')"
   ]
  },
  {
   "cell_type": "code",
   "execution_count": 60,
   "id": "surprising-brunswick",
   "metadata": {},
   "outputs": [
    {
     "name": "stdout",
     "output_type": "stream",
     "text": [
      "Model not found or trained result is low!\n"
     ]
    }
   ],
   "source": [
    "try:    \n",
    "    # load model:\n",
    "    loaded_model, loaded_degree = load('trained/' + model_name + \".joblib\")\n",
    "\n",
    "    test_area = np.array([92.00])\n",
    "    test_area = test_area[:, np.newaxis]\n",
    "    test_area = FunctionTransformer(np.log1p).fit_transform(test_area)\n",
    "\n",
    "    if loaded_degree == 1:\n",
    "        predicted_price = loaded_model.predict(test_area)\n",
    "    else:\n",
    "        test_area_poly = PolynomialFeatures(degree=loaded_degree).fit_transform(test_area)\n",
    "        predicted_price = loaded_model.predict(test_area_poly)\n",
    "\n",
    "    print(FunctionTransformer(np.log1p).inverse_transform(predicted_price))\n",
    "except FileNotFoundError:\n",
    "    print(\"Model not found or trained result is low!\")"
   ]
  }
 ],
 "metadata": {
  "kernelspec": {
   "display_name": "Python 3",
   "language": "python",
   "name": "python3"
  },
  "language_info": {
   "codemirror_mode": {
    "name": "ipython",
    "version": 3
   },
   "file_extension": ".py",
   "mimetype": "text/x-python",
   "name": "python",
   "nbconvert_exporter": "python",
   "pygments_lexer": "ipython3",
   "version": "3.8.5"
  }
 },
 "nbformat": 4,
 "nbformat_minor": 5
}
