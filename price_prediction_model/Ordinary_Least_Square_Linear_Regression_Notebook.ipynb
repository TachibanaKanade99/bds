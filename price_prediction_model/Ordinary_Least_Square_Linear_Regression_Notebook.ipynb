{
 "cells": [
  {
   "cell_type": "code",
   "execution_count": 330,
   "id": "relative-trunk",
   "metadata": {},
   "outputs": [],
   "source": [
    "import numpy as np\n",
    "from scipy.linalg import lstsq\n",
    "import matplotlib.pyplot as plt\n",
    "from sklearn.metrics import mean_squared_error\n",
    "from sklearn import linear_model"
   ]
  },
  {
   "cell_type": "markdown",
   "id": "promotional-screw",
   "metadata": {},
   "source": [
    "# My custom Linear Regression"
   ]
  },
  {
   "cell_type": "code",
   "execution_count": 331,
   "id": "acquired-spain",
   "metadata": {},
   "outputs": [],
   "source": [
    "Y = np.array([651, 762, 853, 1062, 1190, 1293])\n",
    "Y = Y[:, np.newaxis]"
   ]
  },
  {
   "cell_type": "code",
   "execution_count": 332,
   "id": "minor-grave",
   "metadata": {
    "scrolled": true
   },
   "outputs": [
    {
     "data": {
      "text/plain": [
       "array([[ 651],\n",
       "       [ 762],\n",
       "       [ 853],\n",
       "       [1062],\n",
       "       [1190],\n",
       "       [1293]])"
      ]
     },
     "execution_count": 332,
     "metadata": {},
     "output_type": "execute_result"
    }
   ],
   "source": [
    "Y"
   ]
  },
  {
   "cell_type": "code",
   "execution_count": 333,
   "id": "solar-beaver",
   "metadata": {},
   "outputs": [],
   "source": [
    "X = np.array([25, 28, 35, 40, 46, 53])\n",
    "X = X[:, np.newaxis]"
   ]
  },
  {
   "cell_type": "code",
   "execution_count": 334,
   "id": "premium-gossip",
   "metadata": {},
   "outputs": [
    {
     "data": {
      "text/plain": [
       "array([[25],\n",
       "       [28],\n",
       "       [35],\n",
       "       [40],\n",
       "       [46],\n",
       "       [53]])"
      ]
     },
     "execution_count": 334,
     "metadata": {},
     "output_type": "execute_result"
    }
   ],
   "source": [
    "X"
   ]
  },
  {
   "cell_type": "markdown",
   "id": "duplicate-newspaper",
   "metadata": {},
   "source": [
    "## Manipulate X, X_offset, X_scale"
   ]
  },
  {
   "cell_type": "code",
   "execution_count": 335,
   "id": "spectacular-lodging",
   "metadata": {
    "scrolled": true
   },
   "outputs": [],
   "source": [
    "X_mean = np.average(X, axis=0, weights=None)"
   ]
  },
  {
   "cell_type": "code",
   "execution_count": 336,
   "id": "radio-fireplace",
   "metadata": {},
   "outputs": [
    {
     "data": {
      "text/plain": [
       "array([37.83333333])"
      ]
     },
     "execution_count": 336,
     "metadata": {},
     "output_type": "execute_result"
    }
   ],
   "source": [
    "X_mean"
   ]
  },
  {
   "cell_type": "code",
   "execution_count": 337,
   "id": "helpful-guide",
   "metadata": {},
   "outputs": [],
   "source": [
    "_X = X - X_mean"
   ]
  },
  {
   "cell_type": "code",
   "execution_count": 338,
   "id": "closed-tyler",
   "metadata": {},
   "outputs": [
    {
     "data": {
      "text/plain": [
       "array([[-12.83333333],\n",
       "       [ -9.83333333],\n",
       "       [ -2.83333333],\n",
       "       [  2.16666667],\n",
       "       [  8.16666667],\n",
       "       [ 15.16666667]])"
      ]
     },
     "execution_count": 338,
     "metadata": {},
     "output_type": "execute_result"
    }
   ],
   "source": [
    "_X"
   ]
  },
  {
   "cell_type": "code",
   "execution_count": 339,
   "id": "empty-conviction",
   "metadata": {},
   "outputs": [],
   "source": [
    "X_scale = np.ones(_X.shape[1], dtype=X.dtype)"
   ]
  },
  {
   "cell_type": "code",
   "execution_count": 340,
   "id": "medium-privilege",
   "metadata": {},
   "outputs": [
    {
     "data": {
      "text/plain": [
       "array([1])"
      ]
     },
     "execution_count": 340,
     "metadata": {},
     "output_type": "execute_result"
    }
   ],
   "source": [
    "X_scale"
   ]
  },
  {
   "cell_type": "markdown",
   "id": "canadian-trick",
   "metadata": {},
   "source": [
    "## Manipulate Y, Y_offset"
   ]
  },
  {
   "cell_type": "code",
   "execution_count": 341,
   "id": "passing-landing",
   "metadata": {},
   "outputs": [],
   "source": [
    "Y_mean = np.average(Y, axis=0, weights=None)"
   ]
  },
  {
   "cell_type": "code",
   "execution_count": 342,
   "id": "provincial-touch",
   "metadata": {},
   "outputs": [
    {
     "data": {
      "text/plain": [
       "array([968.5])"
      ]
     },
     "execution_count": 342,
     "metadata": {},
     "output_type": "execute_result"
    }
   ],
   "source": [
    "Y_mean"
   ]
  },
  {
   "cell_type": "code",
   "execution_count": 343,
   "id": "distant-victor",
   "metadata": {},
   "outputs": [],
   "source": [
    "_Y = Y - Y_mean"
   ]
  },
  {
   "cell_type": "code",
   "execution_count": 344,
   "id": "divine-tobago",
   "metadata": {},
   "outputs": [
    {
     "data": {
      "text/plain": [
       "array([[-317.5],\n",
       "       [-206.5],\n",
       "       [-115.5],\n",
       "       [  93.5],\n",
       "       [ 221.5],\n",
       "       [ 324.5]])"
      ]
     },
     "execution_count": 344,
     "metadata": {},
     "output_type": "execute_result"
    }
   ],
   "source": [
    "_Y"
   ]
  },
  {
   "cell_type": "markdown",
   "id": "respective-commerce",
   "metadata": {},
   "source": [
    "## Find coefficient"
   ]
  },
  {
   "cell_type": "markdown",
   "id": "fabulous-documentary",
   "metadata": {},
   "source": [
    "### To find coefficient follow structure:\n",
    "        _X = X - X_mean\n",
    "        _Y = Y - Y_mean\n",
    "        coef = np.sum(_X * _Y) / np.sum(np.power(_X, 2))"
   ]
  },
  {
   "cell_type": "code",
   "execution_count": 345,
   "id": "working-graduation",
   "metadata": {},
   "outputs": [
    {
     "data": {
      "text/plain": [
       "23.414014598540145"
      ]
     },
     "execution_count": 345,
     "metadata": {},
     "output_type": "execute_result"
    }
   ],
   "source": [
    "np.sum(_X * _Y) / np.sum(np.power(_X, 2))"
   ]
  },
  {
   "cell_type": "markdown",
   "id": "sunset-habitat",
   "metadata": {},
   "source": [
    "### Or use scipy.linalg.lstsq to find coefficient"
   ]
  },
  {
   "cell_type": "code",
   "execution_count": 346,
   "id": "recognized-ethnic",
   "metadata": {},
   "outputs": [],
   "source": [
    "coef, residues, rank, singular = lstsq(_X, _Y)"
   ]
  },
  {
   "cell_type": "code",
   "execution_count": 347,
   "id": "tamil-contest",
   "metadata": {},
   "outputs": [
    {
     "data": {
      "text/plain": [
       "array([[23.4140146]])"
      ]
     },
     "execution_count": 347,
     "metadata": {},
     "output_type": "execute_result"
    }
   ],
   "source": [
    "coef"
   ]
  },
  {
   "cell_type": "markdown",
   "id": "monthly-trash",
   "metadata": {},
   "source": [
    "## Find intercept"
   ]
  },
  {
   "cell_type": "markdown",
   "id": "direct-seeker",
   "metadata": {},
   "source": [
    "### To find intercept follow structure:   \n",
    "        intercept = Y_mean - coef * X_mean"
   ]
  },
  {
   "cell_type": "code",
   "execution_count": 348,
   "id": "fixed-tiger",
   "metadata": {},
   "outputs": [],
   "source": [
    "coef = coef / X_scale\n",
    "intercept = Y_mean - np.dot(coef.T, X_mean) "
   ]
  },
  {
   "cell_type": "code",
   "execution_count": 349,
   "id": "demographic-lightweight",
   "metadata": {},
   "outputs": [
    {
     "data": {
      "text/plain": [
       "array([82.66978102])"
      ]
     },
     "execution_count": 349,
     "metadata": {},
     "output_type": "execute_result"
    }
   ],
   "source": [
    "intercept"
   ]
  },
  {
   "cell_type": "markdown",
   "id": "satellite-removal",
   "metadata": {},
   "source": [
    "## Plot model"
   ]
  },
  {
   "cell_type": "markdown",
   "id": "therapeutic-blink",
   "metadata": {},
   "source": [
    "### Calculate Y_pred"
   ]
  },
  {
   "cell_type": "code",
   "execution_count": 350,
   "id": "proper-helicopter",
   "metadata": {},
   "outputs": [],
   "source": [
    "Y_pred = intercept + coef * X"
   ]
  },
  {
   "cell_type": "markdown",
   "id": "institutional-antibody",
   "metadata": {},
   "source": [
    "### Plot"
   ]
  },
  {
   "cell_type": "code",
   "execution_count": 351,
   "id": "visible-offering",
   "metadata": {},
   "outputs": [
    {
     "data": {
      "image/png": "[encoded data removed]",
      "text/plain": [
       "<Figure size 432x288 with 1 Axes>"
      ]
     },
     "metadata": {
      "needs_background": "light"
     },
     "output_type": "display_data"
    }
   ],
   "source": [
    "plt.scatter(X, Y, marker='o')\n",
    "plt.plot(X, Y_pred)\n",
    "plt.show()"
   ]
  },
  {
   "cell_type": "markdown",
   "id": "comparable-mongolia",
   "metadata": {},
   "source": [
    "## Calculate Root Mean Squared Error (RMSE)"
   ]
  },
  {
   "cell_type": "code",
   "execution_count": 352,
   "id": "typical-standard",
   "metadata": {},
   "outputs": [
    {
     "data": {
      "text/plain": [
       "34.04283547535291"
      ]
     },
     "execution_count": 352,
     "metadata": {},
     "output_type": "execute_result"
    }
   ],
   "source": [
    "np.sqrt(mean_squared_error(Y, Y_pred))"
   ]
  },
  {
   "cell_type": "markdown",
   "id": "surface-canadian",
   "metadata": {},
   "source": [
    "# Linear Regression using Sklearn"
   ]
  },
  {
   "cell_type": "code",
   "execution_count": 353,
   "id": "infrared-minister",
   "metadata": {},
   "outputs": [
    {
     "data": {
      "text/plain": [
       "LinearRegression()"
      ]
     },
     "execution_count": 353,
     "metadata": {},
     "output_type": "execute_result"
    }
   ],
   "source": [
    "# Using linear regression\n",
    "model = linear_model.LinearRegression()\n",
    "model.fit(X, Y)"
   ]
  },
  {
   "cell_type": "code",
   "execution_count": 354,
   "id": "precious-fitness",
   "metadata": {},
   "outputs": [
    {
     "data": {
      "text/plain": [
       "array([[23.4140146]])"
      ]
     },
     "execution_count": 354,
     "metadata": {},
     "output_type": "execute_result"
    }
   ],
   "source": [
    "model.coef_"
   ]
  },
  {
   "cell_type": "code",
   "execution_count": 355,
   "id": "taken-apple",
   "metadata": {},
   "outputs": [
    {
     "data": {
      "text/plain": [
       "array([82.66978102])"
      ]
     },
     "execution_count": 355,
     "metadata": {},
     "output_type": "execute_result"
    }
   ],
   "source": [
    "model.intercept_"
   ]
  },
  {
   "cell_type": "code",
   "execution_count": 356,
   "id": "appropriate-budget",
   "metadata": {},
   "outputs": [],
   "source": [
    "y = model.predict(X)"
   ]
  },
  {
   "cell_type": "code",
   "execution_count": 357,
   "id": "political-conspiracy",
   "metadata": {},
   "outputs": [
    {
     "data": {
      "text/plain": [
       "array([[ 668.02014599],\n",
       "       [ 738.26218978],\n",
       "       [ 902.16029197],\n",
       "       [1019.23036496],\n",
       "       [1159.71445255],\n",
       "       [1323.61255474]])"
      ]
     },
     "execution_count": 357,
     "metadata": {},
     "output_type": "execute_result"
    }
   ],
   "source": [
    "y"
   ]
  },
  {
   "cell_type": "code",
   "execution_count": 358,
   "id": "casual-bidding",
   "metadata": {
    "scrolled": true
   },
   "outputs": [
    {
     "data": {
      "image/png": "[encoded data removed]",
      "text/plain": [
       "<Figure size 432x288 with 1 Axes>"
      ]
     },
     "metadata": {
      "needs_background": "light"
     },
     "output_type": "display_data"
    }
   ],
   "source": [
    "plt.scatter(X, Y, marker='o')\n",
    "plt.plot(X, y)\n",
    "plt.show()"
   ]
  },
  {
   "cell_type": "code",
   "execution_count": 359,
   "id": "parental-policy",
   "metadata": {},
   "outputs": [
    {
     "data": {
      "text/plain": [
       "34.04283547535291"
      ]
     },
     "execution_count": 359,
     "metadata": {},
     "output_type": "execute_result"
    }
   ],
   "source": [
    "# find RMSE:\n",
    "np.sqrt(mean_squared_error(Y, y))"
   ]
  }
 ],
 "metadata": {
  "kernelspec": {
   "display_name": "Python 3",
   "language": "python",
   "name": "python3"
  },
  "language_info": {
   "codemirror_mode": {
    "name": "ipython",
    "version": 3
   },
   "file_extension": ".py",
   "mimetype": "text/x-python",
   "name": "python",
   "nbconvert_exporter": "python",
   "pygments_lexer": "ipython3",
   "version": "3.8.5"
  }
 },
 "nbformat": 4,
 "nbformat_minor": 5
}
